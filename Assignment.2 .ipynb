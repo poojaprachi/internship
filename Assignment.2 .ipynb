{
 "cells": [
  {
   "cell_type": "code",
   "execution_count": 65,
   "id": "92d78c6e",
   "metadata": {},
   "outputs": [
    {
     "name": "stdout",
     "output_type": "stream",
     "text": [
      "Found a match!\n",
      "No match!\n"
     ]
    }
   ],
   "source": [
    "#RegEx pattern in python program to check that a string contains only a certain set of characters (in this case a-z, A-Z and 0-9).\n",
    "\n",
    "import re\n",
    "\n",
    "def target_data(string):\n",
    "    pattern = '[a-zA-Z0-9]'\n",
    "    if re.search(pattern , string):\n",
    "        return 'Found a match!'\n",
    "        \n",
    "    else:\n",
    "        return 'No match!'\n",
    "\n",
    "print(target_data(\"ABCDEFabcdef123450\")) \n",
    "print(target_data(\"*&%@#!}{\"))"
   ]
  },
  {
   "cell_type": "code",
   "execution_count": 23,
   "id": "bb67e1b1",
   "metadata": {},
   "outputs": [
    {
     "name": "stdout",
     "output_type": "stream",
     "text": [
      "No match!\n",
      "No match!\n",
      "Found a match!\n",
      "No match!\n"
     ]
    }
   ],
   "source": [
    "#RegEx pattern that matches a string that has an a followed by zero or more b's\n",
    "\n",
    "import re\n",
    "\n",
    "def spec_char(data):\n",
    "    pattern = '^a(b*)$'\n",
    "    if re.search(pattern , text):\n",
    "        return 'Found a match!'\n",
    "        \n",
    "    else:\n",
    "        return 'No match!'\n",
    "        \n",
    "print(spec_char('ad'))\n",
    "print(spec_char('ac'))\n",
    "print(spec_char('ab'))\n",
    "print(spec_char('ab0'))"
   ]
  },
  {
   "cell_type": "code",
   "execution_count": 30,
   "id": "46d15952",
   "metadata": {},
   "outputs": [
    {
     "name": "stdout",
     "output_type": "stream",
     "text": [
      "No match found!\n",
      "No match found!\n",
      "No match found!\n",
      "Found a match!\n",
      "Found a match!\n"
     ]
    }
   ],
   "source": [
    "#RegEx pattern that matches a string that has an a followed by one or more b's\n",
    "\n",
    "import re\n",
    "\n",
    "def spec_char(data):\n",
    "    pattern = '^a(0*)$'\n",
    "    if re.search(pattern , data):\n",
    "        return 'Found a match!'\n",
    "    \n",
    "    else:\n",
    "        return 'No match found!'\n",
    "    \n",
    "print(spec_char('ad'))\n",
    "print(spec_char('abbs'))\n",
    "print(spec_char('a0b'))\n",
    "print(spec_char('a0000'))\n",
    "print(spec_char('a0'))"
   ]
  },
  {
   "cell_type": "code",
   "execution_count": 36,
   "id": "573ad900",
   "metadata": {},
   "outputs": [
    {
     "name": "stdout",
     "output_type": "stream",
     "text": [
      "Found a match!\n",
      "No match found!\n",
      "No match found!\n",
      "No match found!\n"
     ]
    }
   ],
   "source": [
    "#RegEx pattern that matches a string that has an a followed by zero or one 'b'.\n",
    "\n",
    "import re\n",
    "\n",
    "def spec_char(data):\n",
    "    pattern = '^a?b'\n",
    "    \n",
    "    if re.search(pattern , data):\n",
    "        return 'Found a match!'\n",
    "    else:\n",
    "        return 'No match found!'\n",
    "    \n",
    "print(spec_char('ab0'))\n",
    "print(spec_char('a000b'))\n",
    "print(spec_char('a00k'))\n",
    "print(spec_char('ap0'))"
   ]
  },
  {
   "cell_type": "code",
   "execution_count": 42,
   "id": "d617a5d0",
   "metadata": {},
   "outputs": [
    {
     "name": "stdout",
     "output_type": "stream",
     "text": [
      "No match found!\n",
      "Found a match!\n",
      "No match found!\n",
      "No match found!\n",
      "Found a match!\n"
     ]
    }
   ],
   "source": [
    "#RegEx pattern in python program that matches a string that has an a followed by three 'b'.\n",
    "\n",
    "import re\n",
    "\n",
    "def spec_char(data):\n",
    "    pattern = '^ab{3}'\n",
    "    \n",
    "    if re.search(pattern , data):\n",
    "        return 'Found a match!'\n",
    "    else:\n",
    "        return 'No match found!'\n",
    "    \n",
    "print(spec_char('ab0'))\n",
    "print(spec_char('abbb'))\n",
    "print(spec_char('abb'))\n",
    "print(spec_char('ab'))\n",
    "print(spec_char('abbb'))"
   ]
  },
  {
   "cell_type": "code",
   "execution_count": 43,
   "id": "5b26d8e7",
   "metadata": {},
   "outputs": [
    {
     "name": "stdout",
     "output_type": "stream",
     "text": [
      "No match found!\n",
      "Found a match!\n",
      "Found a match!\n",
      "No match found!\n",
      "Found a match!\n"
     ]
    }
   ],
   "source": [
    "#RegEx pattern in python program that matches a string that has an a followed by two to three 'b'.\n",
    "\n",
    "import re\n",
    "\n",
    "def spec_char(data):\n",
    "    pattern = '^ab{2,3}'\n",
    "    \n",
    "    if re.search(pattern , data):\n",
    "        return 'Found a match!'\n",
    "    else:\n",
    "        return 'No match found!'\n",
    "    \n",
    "print(spec_char('ab0'))\n",
    "print(spec_char('abbb'))\n",
    "print(spec_char('abb'))\n",
    "print(spec_char('ab'))\n",
    "print(spec_char('abbb'))"
   ]
  },
  {
   "cell_type": "code",
   "execution_count": 45,
   "id": "f85a5f49",
   "metadata": {},
   "outputs": [
    {
     "name": "stdout",
     "output_type": "stream",
     "text": [
      "No match found!\n",
      "Found a match!\n",
      "No match found!\n",
      "No match found!\n",
      "Found a match!\n"
     ]
    }
   ],
   "source": [
    "#Python program that matches a string that has an 'a' followed by anything, ending in 'b'.\n",
    "\n",
    "import re\n",
    "\n",
    "def spec_char(data):\n",
    "    pattern = '^a.*b$'\n",
    "    \n",
    "    if re.search(pattern , data):\n",
    "        return 'Found a match!'\n",
    "    else:\n",
    "        return 'No match found!'\n",
    "    \n",
    "print(spec_char('ab0'))\n",
    "print(spec_char('ahjsdjkjkfddb'))\n",
    "print(spec_char('abdf9'))\n",
    "print(spec_char('abcd'))\n",
    "print(spec_char('a78b'))"
   ]
  },
  {
   "cell_type": "code",
   "execution_count": 46,
   "id": "6104707e",
   "metadata": {},
   "outputs": [
    {
     "name": "stdout",
     "output_type": "stream",
     "text": [
      "Found a match!\n",
      "No match found!\n",
      "Found a match!\n",
      "Found a match!\n",
      "No match found!\n"
     ]
    }
   ],
   "source": [
    "#RegEx pattern in python program that matches a word at the beginning of a string.\n",
    "\n",
    "import re\n",
    "\n",
    "def spec_char(data):\n",
    "    pattern = '^\\w'\n",
    "    \n",
    "    if re.search(pattern , data):\n",
    "        return 'Found a match!'\n",
    "    else:\n",
    "        return 'No match found!'\n",
    "    \n",
    "print(spec_char('ab0'))\n",
    "print(spec_char(' ahjsdjkjkfddb'))\n",
    "print(spec_char('abdf9'))\n",
    "print(spec_char('abcd'))\n",
    "print(spec_char(' a78b'))"
   ]
  },
  {
   "cell_type": "code",
   "execution_count": 48,
   "id": "33e0e0ec",
   "metadata": {},
   "outputs": [
    {
     "name": "stdout",
     "output_type": "stream",
     "text": [
      "Found a match!\n",
      "Found a match!\n",
      "No match found!\n",
      "Found a match!\n",
      "No match found!\n"
     ]
    }
   ],
   "source": [
    "#RegEx pattern in python program that matches a word at the end of a string.\n",
    "\n",
    "import re\n",
    "\n",
    "def spec_char(data):\n",
    "    pattern = '\\w$'\n",
    "    \n",
    "    if re.search(pattern , data):\n",
    "        return 'Found a match!'\n",
    "    else:\n",
    "        return 'No match found!'\n",
    "    \n",
    "print(spec_char('ab0'))\n",
    "print(spec_char('ahjsdjkjkfddb'))\n",
    "print(spec_char('abdf9 '))\n",
    "print(spec_char('abcd'))\n",
    "print(spec_char('a78b '))"
   ]
  },
  {
   "cell_type": "code",
   "execution_count": 62,
   "id": "2544c7f6",
   "metadata": {},
   "outputs": [
    {
     "name": "stdout",
     "output_type": "stream",
     "text": [
      "No match found!\n",
      "No match found!\n",
      "No match found!\n",
      "Found a match!\n",
      "Found a match!\n"
     ]
    }
   ],
   "source": [
    "#RegEx pattern in python program to find all words that are 4 digits long in a string.\n",
    "\n",
    "import re\n",
    "\n",
    "def spec_char(data):\n",
    "    pattern = r'\\b\\w{4}$'\n",
    "    \n",
    "    if re.search(pattern , data):\n",
    "        return 'Found a match!'\n",
    "    else:\n",
    "        return 'No match found!'\n",
    "    \n",
    "print(spec_char('ab0'))\n",
    "print(spec_char('ahjsdjkjkfddb'))\n",
    "print(spec_char('ab'))\n",
    "print(spec_char('abcd'))\n",
    "print(spec_char('a78b'))"
   ]
  },
  {
   "cell_type": "code",
   "execution_count": null,
   "id": "d1654ada",
   "metadata": {},
   "outputs": [],
   "source": []
  }
 ],
 "metadata": {
  "kernelspec": {
   "display_name": "Python 3 (ipykernel)",
   "language": "python",
   "name": "python3"
  },
  "language_info": {
   "codemirror_mode": {
    "name": "ipython",
    "version": 3
   },
   "file_extension": ".py",
   "mimetype": "text/x-python",
   "name": "python",
   "nbconvert_exporter": "python",
   "pygments_lexer": "ipython3",
   "version": "3.10.9"
  }
 },
 "nbformat": 4,
 "nbformat_minor": 5
}
