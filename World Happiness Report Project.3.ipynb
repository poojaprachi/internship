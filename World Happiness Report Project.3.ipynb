{
 "cells": [
  {
   "cell_type": "markdown",
   "id": "a17dd8e0",
   "metadata": {},
   "source": [
    "## World Happiness Report Project\n",
    "\n",
    "\n",
    "#### Project Description\n",
    "The World Happiness Report is a landmark survey of the state of global happiness. The first report was published in 2012, the second in 2013, the third in 2015, and the fourth in the 2016 Update. The World Happiness 2017, which ranks 155 countries by their happiness levels, was released at the United Nations at an event celebrating International Day of Happiness on March 20th. The report continues to gain global recognition as governments, organizations and civil society increasingly use happiness indicators to inform their policy-making decisions. Leading experts across fields – economics, psychology, survey analysis, national statistics, health, public policy and more – describe how measurements of well-being can be used effectively to assess the progress of nations. The reports review the state of happiness in the world today and show how the new science of happiness explains personal and national variations in happiness.\n",
    "\n",
    "\n",
    "#### What is Dystopia?\n",
    "Dystopia is an imaginary country that has the world’s least-happy people. The purpose in establishing Dystopia is to have a benchmark against which all countries can be favorably compared (no country performs more poorly than Dystopia) in terms of each of the six key variables, thus allowing each sub-bar to be of positive width. The lowest scores observed for the six key variables, therefore, characterize Dystopia. Since life would be very unpleasant in a country with the world’s lowest incomes, lowest life expectancy, lowest generosity, most corruption, least freedom and least social support, it is referred to as “Dystopia,” in contrast to Utopia.\n",
    "\n",
    "\n",
    "###### What are the residuals?\n",
    "The residuals, or unexplained components, differ for each country, reflecting the extent to which the six variables either over- or under-explain average life evaluations. These residuals have an average value of approximately zero over the whole set of countries. \n",
    "\n",
    "\n",
    "###### What do the columns succeeding the Happiness Score(like Family, Generosity, etc.) describe?\n",
    "The following columns: GDP per Capita, Family, Life Expectancy, Freedom, Generosity, Trust Government Corruption describe the extent to which these factors contribute in evaluating the happiness in each country.\n",
    "\n",
    "\n",
    "The Dystopia Residual metric actually is the Dystopia Happiness Score(1.85) + the Residual value or the unexplained value for each country.\n",
    "\n",
    "\n",
    "The Dystopia Residual is already provided in the dataset. \n",
    "If you add all these factors up, you get the happiness score so it might be un-reliable to model them to predict Happiness Scores.\n",
    "\n",
    "\n",
    "You need to predict the happiness score considering all the other factors mentioned in the dataset.\n",
    "Dataset Link-\n",
    "https://github.com/FlipRoboTechnologies/ML-Datasets/blob/main/World%20Happiness/happiness_score_dataset.csv\n"
   ]
  },
  {
   "cell_type": "code",
   "execution_count": 1,
   "id": "800a2f2c",
   "metadata": {},
   "outputs": [
    {
     "name": "stdout",
     "output_type": "stream",
     "text": [
      "Defaulting to user installation because normal site-packages is not writeable\n",
      "Requirement already satisfied: bubbly in c:\\users\\pujap\\appdata\\roaming\\python\\python310\\site-packages (1.0.2)\n",
      "Requirement already satisfied: pandas in c:\\programdata\\anaconda3\\lib\\site-packages (from bubbly) (1.5.3)\n",
      "Requirement already satisfied: plotly in c:\\programdata\\anaconda3\\lib\\site-packages (from bubbly) (5.9.0)\n",
      "Requirement already satisfied: python-dateutil>=2.8.1 in c:\\programdata\\anaconda3\\lib\\site-packages (from pandas->bubbly) (2.8.2)\n",
      "Requirement already satisfied: numpy>=1.21.0 in c:\\programdata\\anaconda3\\lib\\site-packages (from pandas->bubbly) (1.23.5)\n",
      "Requirement already satisfied: pytz>=2020.1 in c:\\programdata\\anaconda3\\lib\\site-packages (from pandas->bubbly) (2022.7)\n",
      "Requirement already satisfied: tenacity>=6.2.0 in c:\\programdata\\anaconda3\\lib\\site-packages (from plotly->bubbly) (8.0.1)\n",
      "Requirement already satisfied: six>=1.5 in c:\\programdata\\anaconda3\\lib\\site-packages (from python-dateutil>=2.8.1->pandas->bubbly) (1.16.0)\n"
     ]
    }
   ],
   "source": [
    "!pip install bubbly"
   ]
  },
  {
   "cell_type": "code",
   "execution_count": 2,
   "id": "3c2730f0",
   "metadata": {},
   "outputs": [],
   "source": [
    "import pandas as pd\n",
    "import numpy as np\n",
    "import seaborn as sns\n",
    "import matplotlib.pyplot as plt\n",
    "import warnings\n",
    "warnings.filterwarnings('ignore')"
   ]
  },
  {
   "cell_type": "code",
   "execution_count": 3,
   "id": "e9cc61f2",
   "metadata": {},
   "outputs": [
    {
     "data": {
      "text/html": [
       "        <script type=\"text/javascript\">\n",
       "        window.PlotlyConfig = {MathJaxConfig: 'local'};\n",
       "        if (window.MathJax && window.MathJax.Hub && window.MathJax.Hub.Config) {window.MathJax.Hub.Config({SVG: {font: \"STIX-Web\"}});}\n",
       "        if (typeof require !== 'undefined') {\n",
       "        require.undef(\"plotly\");\n",
       "        requirejs.config({\n",
       "            paths: {\n",
       "                'plotly': ['https://cdn.plot.ly/plotly-2.12.1.min']\n",
       "            }\n",
       "        });\n",
       "        require(['plotly'], function(Plotly) {\n",
       "            window._Plotly = Plotly;\n",
       "        });\n",
       "        }\n",
       "        </script>\n",
       "        "
      ]
     },
     "metadata": {},
     "output_type": "display_data"
    },
    {
     "name": "stdout",
     "output_type": "stream",
     "text": [
      "['Medical Cost Personal Insurance.Project 2-checkpoint.ipynb', 'Red Wine Quality Prediction.Project-1-checkpoint.ipynb', 'World Happiness Report Project.3-checkpoint.ipynb']\n"
     ]
    }
   ],
   "source": [
    "# for some basic operations\n",
    "import numpy as np \n",
    "import pandas as pd\n",
    "\n",
    "# for visualizations\n",
    "import matplotlib.pyplot as plt\n",
    "import seaborn as sns\n",
    "plt.style.use('fivethirtyeight')\n",
    "\n",
    "# for interactive visualizations\n",
    "import plotly.offline as py\n",
    "from plotly.offline import init_notebook_mode, iplot\n",
    "import plotly.graph_objs as go\n",
    "init_notebook_mode(connected = True)\n",
    "from bubbly.bubbly import bubbleplot\n",
    "\n",
    "import os\n",
    "print(os.listdir('.ipynb_checkpoints'))"
   ]
  },
  {
   "cell_type": "code",
   "execution_count": 4,
   "id": "bb8c8e02",
   "metadata": {},
   "outputs": [
    {
     "data": {
      "text/html": [
       "<div>\n",
       "<style scoped>\n",
       "    .dataframe tbody tr th:only-of-type {\n",
       "        vertical-align: middle;\n",
       "    }\n",
       "\n",
       "    .dataframe tbody tr th {\n",
       "        vertical-align: top;\n",
       "    }\n",
       "\n",
       "    .dataframe thead th {\n",
       "        text-align: right;\n",
       "    }\n",
       "</style>\n",
       "<table border=\"1\" class=\"dataframe\">\n",
       "  <thead>\n",
       "    <tr style=\"text-align: right;\">\n",
       "      <th></th>\n",
       "      <th>Country</th>\n",
       "      <th>Region</th>\n",
       "      <th>Happiness Rank</th>\n",
       "      <th>Happiness Score</th>\n",
       "      <th>Standard Error</th>\n",
       "      <th>Economy (GDP per Capita)</th>\n",
       "      <th>Family</th>\n",
       "      <th>Health (Life Expectancy)</th>\n",
       "      <th>Freedom</th>\n",
       "      <th>Trust (Government Corruption)</th>\n",
       "      <th>Generosity</th>\n",
       "      <th>Dystopia Residual</th>\n",
       "    </tr>\n",
       "  </thead>\n",
       "  <tbody>\n",
       "    <tr>\n",
       "      <th>0</th>\n",
       "      <td>Switzerland</td>\n",
       "      <td>Western Europe</td>\n",
       "      <td>1</td>\n",
       "      <td>7.587</td>\n",
       "      <td>0.03411</td>\n",
       "      <td>1.39651</td>\n",
       "      <td>1.34951</td>\n",
       "      <td>0.94143</td>\n",
       "      <td>0.66557</td>\n",
       "      <td>0.41978</td>\n",
       "      <td>0.29678</td>\n",
       "      <td>2.51738</td>\n",
       "    </tr>\n",
       "    <tr>\n",
       "      <th>1</th>\n",
       "      <td>Iceland</td>\n",
       "      <td>Western Europe</td>\n",
       "      <td>2</td>\n",
       "      <td>7.561</td>\n",
       "      <td>0.04884</td>\n",
       "      <td>1.30232</td>\n",
       "      <td>1.40223</td>\n",
       "      <td>0.94784</td>\n",
       "      <td>0.62877</td>\n",
       "      <td>0.14145</td>\n",
       "      <td>0.43630</td>\n",
       "      <td>2.70201</td>\n",
       "    </tr>\n",
       "    <tr>\n",
       "      <th>2</th>\n",
       "      <td>Denmark</td>\n",
       "      <td>Western Europe</td>\n",
       "      <td>3</td>\n",
       "      <td>7.527</td>\n",
       "      <td>0.03328</td>\n",
       "      <td>1.32548</td>\n",
       "      <td>1.36058</td>\n",
       "      <td>0.87464</td>\n",
       "      <td>0.64938</td>\n",
       "      <td>0.48357</td>\n",
       "      <td>0.34139</td>\n",
       "      <td>2.49204</td>\n",
       "    </tr>\n",
       "    <tr>\n",
       "      <th>3</th>\n",
       "      <td>Norway</td>\n",
       "      <td>Western Europe</td>\n",
       "      <td>4</td>\n",
       "      <td>7.522</td>\n",
       "      <td>0.03880</td>\n",
       "      <td>1.45900</td>\n",
       "      <td>1.33095</td>\n",
       "      <td>0.88521</td>\n",
       "      <td>0.66973</td>\n",
       "      <td>0.36503</td>\n",
       "      <td>0.34699</td>\n",
       "      <td>2.46531</td>\n",
       "    </tr>\n",
       "    <tr>\n",
       "      <th>4</th>\n",
       "      <td>Canada</td>\n",
       "      <td>North America</td>\n",
       "      <td>5</td>\n",
       "      <td>7.427</td>\n",
       "      <td>0.03553</td>\n",
       "      <td>1.32629</td>\n",
       "      <td>1.32261</td>\n",
       "      <td>0.90563</td>\n",
       "      <td>0.63297</td>\n",
       "      <td>0.32957</td>\n",
       "      <td>0.45811</td>\n",
       "      <td>2.45176</td>\n",
       "    </tr>\n",
       "    <tr>\n",
       "      <th>...</th>\n",
       "      <td>...</td>\n",
       "      <td>...</td>\n",
       "      <td>...</td>\n",
       "      <td>...</td>\n",
       "      <td>...</td>\n",
       "      <td>...</td>\n",
       "      <td>...</td>\n",
       "      <td>...</td>\n",
       "      <td>...</td>\n",
       "      <td>...</td>\n",
       "      <td>...</td>\n",
       "      <td>...</td>\n",
       "    </tr>\n",
       "    <tr>\n",
       "      <th>153</th>\n",
       "      <td>Rwanda</td>\n",
       "      <td>Sub-Saharan Africa</td>\n",
       "      <td>154</td>\n",
       "      <td>3.465</td>\n",
       "      <td>0.03464</td>\n",
       "      <td>0.22208</td>\n",
       "      <td>0.77370</td>\n",
       "      <td>0.42864</td>\n",
       "      <td>0.59201</td>\n",
       "      <td>0.55191</td>\n",
       "      <td>0.22628</td>\n",
       "      <td>0.67042</td>\n",
       "    </tr>\n",
       "    <tr>\n",
       "      <th>154</th>\n",
       "      <td>Benin</td>\n",
       "      <td>Sub-Saharan Africa</td>\n",
       "      <td>155</td>\n",
       "      <td>3.340</td>\n",
       "      <td>0.03656</td>\n",
       "      <td>0.28665</td>\n",
       "      <td>0.35386</td>\n",
       "      <td>0.31910</td>\n",
       "      <td>0.48450</td>\n",
       "      <td>0.08010</td>\n",
       "      <td>0.18260</td>\n",
       "      <td>1.63328</td>\n",
       "    </tr>\n",
       "    <tr>\n",
       "      <th>155</th>\n",
       "      <td>Syria</td>\n",
       "      <td>Middle East and Northern Africa</td>\n",
       "      <td>156</td>\n",
       "      <td>3.006</td>\n",
       "      <td>0.05015</td>\n",
       "      <td>0.66320</td>\n",
       "      <td>0.47489</td>\n",
       "      <td>0.72193</td>\n",
       "      <td>0.15684</td>\n",
       "      <td>0.18906</td>\n",
       "      <td>0.47179</td>\n",
       "      <td>0.32858</td>\n",
       "    </tr>\n",
       "    <tr>\n",
       "      <th>156</th>\n",
       "      <td>Burundi</td>\n",
       "      <td>Sub-Saharan Africa</td>\n",
       "      <td>157</td>\n",
       "      <td>2.905</td>\n",
       "      <td>0.08658</td>\n",
       "      <td>0.01530</td>\n",
       "      <td>0.41587</td>\n",
       "      <td>0.22396</td>\n",
       "      <td>0.11850</td>\n",
       "      <td>0.10062</td>\n",
       "      <td>0.19727</td>\n",
       "      <td>1.83302</td>\n",
       "    </tr>\n",
       "    <tr>\n",
       "      <th>157</th>\n",
       "      <td>Togo</td>\n",
       "      <td>Sub-Saharan Africa</td>\n",
       "      <td>158</td>\n",
       "      <td>2.839</td>\n",
       "      <td>0.06727</td>\n",
       "      <td>0.20868</td>\n",
       "      <td>0.13995</td>\n",
       "      <td>0.28443</td>\n",
       "      <td>0.36453</td>\n",
       "      <td>0.10731</td>\n",
       "      <td>0.16681</td>\n",
       "      <td>1.56726</td>\n",
       "    </tr>\n",
       "  </tbody>\n",
       "</table>\n",
       "<p>158 rows × 12 columns</p>\n",
       "</div>"
      ],
      "text/plain": [
       "         Country                           Region  Happiness Rank  \\\n",
       "0    Switzerland                   Western Europe               1   \n",
       "1        Iceland                   Western Europe               2   \n",
       "2        Denmark                   Western Europe               3   \n",
       "3         Norway                   Western Europe               4   \n",
       "4         Canada                    North America               5   \n",
       "..           ...                              ...             ...   \n",
       "153       Rwanda               Sub-Saharan Africa             154   \n",
       "154        Benin               Sub-Saharan Africa             155   \n",
       "155        Syria  Middle East and Northern Africa             156   \n",
       "156      Burundi               Sub-Saharan Africa             157   \n",
       "157         Togo               Sub-Saharan Africa             158   \n",
       "\n",
       "     Happiness Score  Standard Error  Economy (GDP per Capita)   Family  \\\n",
       "0              7.587         0.03411                   1.39651  1.34951   \n",
       "1              7.561         0.04884                   1.30232  1.40223   \n",
       "2              7.527         0.03328                   1.32548  1.36058   \n",
       "3              7.522         0.03880                   1.45900  1.33095   \n",
       "4              7.427         0.03553                   1.32629  1.32261   \n",
       "..               ...             ...                       ...      ...   \n",
       "153            3.465         0.03464                   0.22208  0.77370   \n",
       "154            3.340         0.03656                   0.28665  0.35386   \n",
       "155            3.006         0.05015                   0.66320  0.47489   \n",
       "156            2.905         0.08658                   0.01530  0.41587   \n",
       "157            2.839         0.06727                   0.20868  0.13995   \n",
       "\n",
       "     Health (Life Expectancy)  Freedom  Trust (Government Corruption)  \\\n",
       "0                     0.94143  0.66557                        0.41978   \n",
       "1                     0.94784  0.62877                        0.14145   \n",
       "2                     0.87464  0.64938                        0.48357   \n",
       "3                     0.88521  0.66973                        0.36503   \n",
       "4                     0.90563  0.63297                        0.32957   \n",
       "..                        ...      ...                            ...   \n",
       "153                   0.42864  0.59201                        0.55191   \n",
       "154                   0.31910  0.48450                        0.08010   \n",
       "155                   0.72193  0.15684                        0.18906   \n",
       "156                   0.22396  0.11850                        0.10062   \n",
       "157                   0.28443  0.36453                        0.10731   \n",
       "\n",
       "     Generosity  Dystopia Residual  \n",
       "0       0.29678            2.51738  \n",
       "1       0.43630            2.70201  \n",
       "2       0.34139            2.49204  \n",
       "3       0.34699            2.46531  \n",
       "4       0.45811            2.45176  \n",
       "..          ...                ...  \n",
       "153     0.22628            0.67042  \n",
       "154     0.18260            1.63328  \n",
       "155     0.47179            0.32858  \n",
       "156     0.19727            1.83302  \n",
       "157     0.16681            1.56726  \n",
       "\n",
       "[158 rows x 12 columns]"
      ]
     },
     "execution_count": 4,
     "metadata": {},
     "output_type": "execute_result"
    }
   ],
   "source": [
    "df = pd.read_csv('https://raw.githubusercontent.com/FlipRoboTechnologies/ML-Datasets/main/World%20Happiness/happiness_score_dataset.csv')\n",
    "df"
   ]
  },
  {
   "cell_type": "markdown",
   "id": "9eca1943",
   "metadata": {},
   "source": [
    "This dataset contains the report of the state of the global happiness on the basis of various components/indicators. We need to assess the growth of the countries on the basis of the level of hapiness of their citizens."
   ]
  },
  {
   "cell_type": "code",
   "execution_count": 5,
   "id": "da167772",
   "metadata": {},
   "outputs": [
    {
     "data": {
      "text/html": [
       "<div>\n",
       "<style scoped>\n",
       "    .dataframe tbody tr th:only-of-type {\n",
       "        vertical-align: middle;\n",
       "    }\n",
       "\n",
       "    .dataframe tbody tr th {\n",
       "        vertical-align: top;\n",
       "    }\n",
       "\n",
       "    .dataframe thead th {\n",
       "        text-align: right;\n",
       "    }\n",
       "</style>\n",
       "<table border=\"1\" class=\"dataframe\">\n",
       "  <thead>\n",
       "    <tr style=\"text-align: right;\">\n",
       "      <th></th>\n",
       "      <th>Country</th>\n",
       "      <th>Region</th>\n",
       "      <th>Happiness Rank</th>\n",
       "      <th>Happiness Score</th>\n",
       "      <th>Standard Error</th>\n",
       "      <th>Economy (GDP per Capita)</th>\n",
       "      <th>Family</th>\n",
       "      <th>Health (Life Expectancy)</th>\n",
       "      <th>Freedom</th>\n",
       "      <th>Trust (Government Corruption)</th>\n",
       "      <th>Generosity</th>\n",
       "      <th>Dystopia Residual</th>\n",
       "    </tr>\n",
       "  </thead>\n",
       "  <tbody>\n",
       "    <tr>\n",
       "      <th>0</th>\n",
       "      <td>Switzerland</td>\n",
       "      <td>Western Europe</td>\n",
       "      <td>1</td>\n",
       "      <td>7.587</td>\n",
       "      <td>0.03411</td>\n",
       "      <td>1.39651</td>\n",
       "      <td>1.34951</td>\n",
       "      <td>0.94143</td>\n",
       "      <td>0.66557</td>\n",
       "      <td>0.41978</td>\n",
       "      <td>0.29678</td>\n",
       "      <td>2.51738</td>\n",
       "    </tr>\n",
       "    <tr>\n",
       "      <th>1</th>\n",
       "      <td>Iceland</td>\n",
       "      <td>Western Europe</td>\n",
       "      <td>2</td>\n",
       "      <td>7.561</td>\n",
       "      <td>0.04884</td>\n",
       "      <td>1.30232</td>\n",
       "      <td>1.40223</td>\n",
       "      <td>0.94784</td>\n",
       "      <td>0.62877</td>\n",
       "      <td>0.14145</td>\n",
       "      <td>0.43630</td>\n",
       "      <td>2.70201</td>\n",
       "    </tr>\n",
       "    <tr>\n",
       "      <th>2</th>\n",
       "      <td>Denmark</td>\n",
       "      <td>Western Europe</td>\n",
       "      <td>3</td>\n",
       "      <td>7.527</td>\n",
       "      <td>0.03328</td>\n",
       "      <td>1.32548</td>\n",
       "      <td>1.36058</td>\n",
       "      <td>0.87464</td>\n",
       "      <td>0.64938</td>\n",
       "      <td>0.48357</td>\n",
       "      <td>0.34139</td>\n",
       "      <td>2.49204</td>\n",
       "    </tr>\n",
       "    <tr>\n",
       "      <th>3</th>\n",
       "      <td>Norway</td>\n",
       "      <td>Western Europe</td>\n",
       "      <td>4</td>\n",
       "      <td>7.522</td>\n",
       "      <td>0.03880</td>\n",
       "      <td>1.45900</td>\n",
       "      <td>1.33095</td>\n",
       "      <td>0.88521</td>\n",
       "      <td>0.66973</td>\n",
       "      <td>0.36503</td>\n",
       "      <td>0.34699</td>\n",
       "      <td>2.46531</td>\n",
       "    </tr>\n",
       "    <tr>\n",
       "      <th>4</th>\n",
       "      <td>Canada</td>\n",
       "      <td>North America</td>\n",
       "      <td>5</td>\n",
       "      <td>7.427</td>\n",
       "      <td>0.03553</td>\n",
       "      <td>1.32629</td>\n",
       "      <td>1.32261</td>\n",
       "      <td>0.90563</td>\n",
       "      <td>0.63297</td>\n",
       "      <td>0.32957</td>\n",
       "      <td>0.45811</td>\n",
       "      <td>2.45176</td>\n",
       "    </tr>\n",
       "    <tr>\n",
       "      <th>5</th>\n",
       "      <td>Finland</td>\n",
       "      <td>Western Europe</td>\n",
       "      <td>6</td>\n",
       "      <td>7.406</td>\n",
       "      <td>0.03140</td>\n",
       "      <td>1.29025</td>\n",
       "      <td>1.31826</td>\n",
       "      <td>0.88911</td>\n",
       "      <td>0.64169</td>\n",
       "      <td>0.41372</td>\n",
       "      <td>0.23351</td>\n",
       "      <td>2.61955</td>\n",
       "    </tr>\n",
       "    <tr>\n",
       "      <th>6</th>\n",
       "      <td>Netherlands</td>\n",
       "      <td>Western Europe</td>\n",
       "      <td>7</td>\n",
       "      <td>7.378</td>\n",
       "      <td>0.02799</td>\n",
       "      <td>1.32944</td>\n",
       "      <td>1.28017</td>\n",
       "      <td>0.89284</td>\n",
       "      <td>0.61576</td>\n",
       "      <td>0.31814</td>\n",
       "      <td>0.47610</td>\n",
       "      <td>2.46570</td>\n",
       "    </tr>\n",
       "    <tr>\n",
       "      <th>7</th>\n",
       "      <td>Sweden</td>\n",
       "      <td>Western Europe</td>\n",
       "      <td>8</td>\n",
       "      <td>7.364</td>\n",
       "      <td>0.03157</td>\n",
       "      <td>1.33171</td>\n",
       "      <td>1.28907</td>\n",
       "      <td>0.91087</td>\n",
       "      <td>0.65980</td>\n",
       "      <td>0.43844</td>\n",
       "      <td>0.36262</td>\n",
       "      <td>2.37119</td>\n",
       "    </tr>\n",
       "    <tr>\n",
       "      <th>8</th>\n",
       "      <td>New Zealand</td>\n",
       "      <td>Australia and New Zealand</td>\n",
       "      <td>9</td>\n",
       "      <td>7.286</td>\n",
       "      <td>0.03371</td>\n",
       "      <td>1.25018</td>\n",
       "      <td>1.31967</td>\n",
       "      <td>0.90837</td>\n",
       "      <td>0.63938</td>\n",
       "      <td>0.42922</td>\n",
       "      <td>0.47501</td>\n",
       "      <td>2.26425</td>\n",
       "    </tr>\n",
       "    <tr>\n",
       "      <th>9</th>\n",
       "      <td>Australia</td>\n",
       "      <td>Australia and New Zealand</td>\n",
       "      <td>10</td>\n",
       "      <td>7.284</td>\n",
       "      <td>0.04083</td>\n",
       "      <td>1.33358</td>\n",
       "      <td>1.30923</td>\n",
       "      <td>0.93156</td>\n",
       "      <td>0.65124</td>\n",
       "      <td>0.35637</td>\n",
       "      <td>0.43562</td>\n",
       "      <td>2.26646</td>\n",
       "    </tr>\n",
       "    <tr>\n",
       "      <th>10</th>\n",
       "      <td>Israel</td>\n",
       "      <td>Middle East and Northern Africa</td>\n",
       "      <td>11</td>\n",
       "      <td>7.278</td>\n",
       "      <td>0.03470</td>\n",
       "      <td>1.22857</td>\n",
       "      <td>1.22393</td>\n",
       "      <td>0.91387</td>\n",
       "      <td>0.41319</td>\n",
       "      <td>0.07785</td>\n",
       "      <td>0.33172</td>\n",
       "      <td>3.08854</td>\n",
       "    </tr>\n",
       "    <tr>\n",
       "      <th>11</th>\n",
       "      <td>Costa Rica</td>\n",
       "      <td>Latin America and Caribbean</td>\n",
       "      <td>12</td>\n",
       "      <td>7.226</td>\n",
       "      <td>0.04454</td>\n",
       "      <td>0.95578</td>\n",
       "      <td>1.23788</td>\n",
       "      <td>0.86027</td>\n",
       "      <td>0.63376</td>\n",
       "      <td>0.10583</td>\n",
       "      <td>0.25497</td>\n",
       "      <td>3.17728</td>\n",
       "    </tr>\n",
       "    <tr>\n",
       "      <th>12</th>\n",
       "      <td>Austria</td>\n",
       "      <td>Western Europe</td>\n",
       "      <td>13</td>\n",
       "      <td>7.200</td>\n",
       "      <td>0.03751</td>\n",
       "      <td>1.33723</td>\n",
       "      <td>1.29704</td>\n",
       "      <td>0.89042</td>\n",
       "      <td>0.62433</td>\n",
       "      <td>0.18676</td>\n",
       "      <td>0.33088</td>\n",
       "      <td>2.53320</td>\n",
       "    </tr>\n",
       "    <tr>\n",
       "      <th>13</th>\n",
       "      <td>Mexico</td>\n",
       "      <td>Latin America and Caribbean</td>\n",
       "      <td>14</td>\n",
       "      <td>7.187</td>\n",
       "      <td>0.04176</td>\n",
       "      <td>1.02054</td>\n",
       "      <td>0.91451</td>\n",
       "      <td>0.81444</td>\n",
       "      <td>0.48181</td>\n",
       "      <td>0.21312</td>\n",
       "      <td>0.14074</td>\n",
       "      <td>3.60214</td>\n",
       "    </tr>\n",
       "    <tr>\n",
       "      <th>14</th>\n",
       "      <td>United States</td>\n",
       "      <td>North America</td>\n",
       "      <td>15</td>\n",
       "      <td>7.119</td>\n",
       "      <td>0.03839</td>\n",
       "      <td>1.39451</td>\n",
       "      <td>1.24711</td>\n",
       "      <td>0.86179</td>\n",
       "      <td>0.54604</td>\n",
       "      <td>0.15890</td>\n",
       "      <td>0.40105</td>\n",
       "      <td>2.51011</td>\n",
       "    </tr>\n",
       "    <tr>\n",
       "      <th>15</th>\n",
       "      <td>Brazil</td>\n",
       "      <td>Latin America and Caribbean</td>\n",
       "      <td>16</td>\n",
       "      <td>6.983</td>\n",
       "      <td>0.04076</td>\n",
       "      <td>0.98124</td>\n",
       "      <td>1.23287</td>\n",
       "      <td>0.69702</td>\n",
       "      <td>0.49049</td>\n",
       "      <td>0.17521</td>\n",
       "      <td>0.14574</td>\n",
       "      <td>3.26001</td>\n",
       "    </tr>\n",
       "    <tr>\n",
       "      <th>16</th>\n",
       "      <td>Luxembourg</td>\n",
       "      <td>Western Europe</td>\n",
       "      <td>17</td>\n",
       "      <td>6.946</td>\n",
       "      <td>0.03499</td>\n",
       "      <td>1.56391</td>\n",
       "      <td>1.21963</td>\n",
       "      <td>0.91894</td>\n",
       "      <td>0.61583</td>\n",
       "      <td>0.37798</td>\n",
       "      <td>0.28034</td>\n",
       "      <td>1.96961</td>\n",
       "    </tr>\n",
       "    <tr>\n",
       "      <th>17</th>\n",
       "      <td>Ireland</td>\n",
       "      <td>Western Europe</td>\n",
       "      <td>18</td>\n",
       "      <td>6.940</td>\n",
       "      <td>0.03676</td>\n",
       "      <td>1.33596</td>\n",
       "      <td>1.36948</td>\n",
       "      <td>0.89533</td>\n",
       "      <td>0.61777</td>\n",
       "      <td>0.28703</td>\n",
       "      <td>0.45901</td>\n",
       "      <td>1.97570</td>\n",
       "    </tr>\n",
       "    <tr>\n",
       "      <th>18</th>\n",
       "      <td>Belgium</td>\n",
       "      <td>Western Europe</td>\n",
       "      <td>19</td>\n",
       "      <td>6.937</td>\n",
       "      <td>0.03595</td>\n",
       "      <td>1.30782</td>\n",
       "      <td>1.28566</td>\n",
       "      <td>0.89667</td>\n",
       "      <td>0.58450</td>\n",
       "      <td>0.22540</td>\n",
       "      <td>0.22250</td>\n",
       "      <td>2.41484</td>\n",
       "    </tr>\n",
       "    <tr>\n",
       "      <th>19</th>\n",
       "      <td>United Arab Emirates</td>\n",
       "      <td>Middle East and Northern Africa</td>\n",
       "      <td>20</td>\n",
       "      <td>6.901</td>\n",
       "      <td>0.03729</td>\n",
       "      <td>1.42727</td>\n",
       "      <td>1.12575</td>\n",
       "      <td>0.80925</td>\n",
       "      <td>0.64157</td>\n",
       "      <td>0.38583</td>\n",
       "      <td>0.26428</td>\n",
       "      <td>2.24743</td>\n",
       "    </tr>\n",
       "  </tbody>\n",
       "</table>\n",
       "</div>"
      ],
      "text/plain": [
       "                 Country                           Region  Happiness Rank  \\\n",
       "0            Switzerland                   Western Europe               1   \n",
       "1                Iceland                   Western Europe               2   \n",
       "2                Denmark                   Western Europe               3   \n",
       "3                 Norway                   Western Europe               4   \n",
       "4                 Canada                    North America               5   \n",
       "5                Finland                   Western Europe               6   \n",
       "6            Netherlands                   Western Europe               7   \n",
       "7                 Sweden                   Western Europe               8   \n",
       "8            New Zealand        Australia and New Zealand               9   \n",
       "9              Australia        Australia and New Zealand              10   \n",
       "10                Israel  Middle East and Northern Africa              11   \n",
       "11            Costa Rica      Latin America and Caribbean              12   \n",
       "12               Austria                   Western Europe              13   \n",
       "13                Mexico      Latin America and Caribbean              14   \n",
       "14         United States                    North America              15   \n",
       "15                Brazil      Latin America and Caribbean              16   \n",
       "16            Luxembourg                   Western Europe              17   \n",
       "17               Ireland                   Western Europe              18   \n",
       "18               Belgium                   Western Europe              19   \n",
       "19  United Arab Emirates  Middle East and Northern Africa              20   \n",
       "\n",
       "    Happiness Score  Standard Error  Economy (GDP per Capita)   Family  \\\n",
       "0             7.587         0.03411                   1.39651  1.34951   \n",
       "1             7.561         0.04884                   1.30232  1.40223   \n",
       "2             7.527         0.03328                   1.32548  1.36058   \n",
       "3             7.522         0.03880                   1.45900  1.33095   \n",
       "4             7.427         0.03553                   1.32629  1.32261   \n",
       "5             7.406         0.03140                   1.29025  1.31826   \n",
       "6             7.378         0.02799                   1.32944  1.28017   \n",
       "7             7.364         0.03157                   1.33171  1.28907   \n",
       "8             7.286         0.03371                   1.25018  1.31967   \n",
       "9             7.284         0.04083                   1.33358  1.30923   \n",
       "10            7.278         0.03470                   1.22857  1.22393   \n",
       "11            7.226         0.04454                   0.95578  1.23788   \n",
       "12            7.200         0.03751                   1.33723  1.29704   \n",
       "13            7.187         0.04176                   1.02054  0.91451   \n",
       "14            7.119         0.03839                   1.39451  1.24711   \n",
       "15            6.983         0.04076                   0.98124  1.23287   \n",
       "16            6.946         0.03499                   1.56391  1.21963   \n",
       "17            6.940         0.03676                   1.33596  1.36948   \n",
       "18            6.937         0.03595                   1.30782  1.28566   \n",
       "19            6.901         0.03729                   1.42727  1.12575   \n",
       "\n",
       "    Health (Life Expectancy)  Freedom  Trust (Government Corruption)  \\\n",
       "0                    0.94143  0.66557                        0.41978   \n",
       "1                    0.94784  0.62877                        0.14145   \n",
       "2                    0.87464  0.64938                        0.48357   \n",
       "3                    0.88521  0.66973                        0.36503   \n",
       "4                    0.90563  0.63297                        0.32957   \n",
       "5                    0.88911  0.64169                        0.41372   \n",
       "6                    0.89284  0.61576                        0.31814   \n",
       "7                    0.91087  0.65980                        0.43844   \n",
       "8                    0.90837  0.63938                        0.42922   \n",
       "9                    0.93156  0.65124                        0.35637   \n",
       "10                   0.91387  0.41319                        0.07785   \n",
       "11                   0.86027  0.63376                        0.10583   \n",
       "12                   0.89042  0.62433                        0.18676   \n",
       "13                   0.81444  0.48181                        0.21312   \n",
       "14                   0.86179  0.54604                        0.15890   \n",
       "15                   0.69702  0.49049                        0.17521   \n",
       "16                   0.91894  0.61583                        0.37798   \n",
       "17                   0.89533  0.61777                        0.28703   \n",
       "18                   0.89667  0.58450                        0.22540   \n",
       "19                   0.80925  0.64157                        0.38583   \n",
       "\n",
       "    Generosity  Dystopia Residual  \n",
       "0      0.29678            2.51738  \n",
       "1      0.43630            2.70201  \n",
       "2      0.34139            2.49204  \n",
       "3      0.34699            2.46531  \n",
       "4      0.45811            2.45176  \n",
       "5      0.23351            2.61955  \n",
       "6      0.47610            2.46570  \n",
       "7      0.36262            2.37119  \n",
       "8      0.47501            2.26425  \n",
       "9      0.43562            2.26646  \n",
       "10     0.33172            3.08854  \n",
       "11     0.25497            3.17728  \n",
       "12     0.33088            2.53320  \n",
       "13     0.14074            3.60214  \n",
       "14     0.40105            2.51011  \n",
       "15     0.14574            3.26001  \n",
       "16     0.28034            1.96961  \n",
       "17     0.45901            1.97570  \n",
       "18     0.22250            2.41484  \n",
       "19     0.26428            2.24743  "
      ]
     },
     "execution_count": 5,
     "metadata": {},
     "output_type": "execute_result"
    }
   ],
   "source": [
    "df.head(20)"
   ]
  },
  {
   "cell_type": "code",
   "execution_count": 6,
   "id": "d224e402",
   "metadata": {},
   "outputs": [
    {
     "data": {
      "text/html": [
       "<div>\n",
       "<style scoped>\n",
       "    .dataframe tbody tr th:only-of-type {\n",
       "        vertical-align: middle;\n",
       "    }\n",
       "\n",
       "    .dataframe tbody tr th {\n",
       "        vertical-align: top;\n",
       "    }\n",
       "\n",
       "    .dataframe thead th {\n",
       "        text-align: right;\n",
       "    }\n",
       "</style>\n",
       "<table border=\"1\" class=\"dataframe\">\n",
       "  <thead>\n",
       "    <tr style=\"text-align: right;\">\n",
       "      <th></th>\n",
       "      <th>Country</th>\n",
       "      <th>Region</th>\n",
       "      <th>Happiness Rank</th>\n",
       "      <th>Happiness Score</th>\n",
       "      <th>Standard Error</th>\n",
       "      <th>Economy (GDP per Capita)</th>\n",
       "      <th>Family</th>\n",
       "      <th>Health (Life Expectancy)</th>\n",
       "      <th>Freedom</th>\n",
       "      <th>Trust (Government Corruption)</th>\n",
       "      <th>Generosity</th>\n",
       "      <th>Dystopia Residual</th>\n",
       "    </tr>\n",
       "  </thead>\n",
       "  <tbody>\n",
       "    <tr>\n",
       "      <th>138</th>\n",
       "      <td>Congo (Brazzaville)</td>\n",
       "      <td>Sub-Saharan Africa</td>\n",
       "      <td>139</td>\n",
       "      <td>3.989</td>\n",
       "      <td>0.06682</td>\n",
       "      <td>0.67866</td>\n",
       "      <td>0.66290</td>\n",
       "      <td>0.31051</td>\n",
       "      <td>0.41466</td>\n",
       "      <td>0.11686</td>\n",
       "      <td>0.12388</td>\n",
       "      <td>1.68135</td>\n",
       "    </tr>\n",
       "    <tr>\n",
       "      <th>139</th>\n",
       "      <td>Comoros</td>\n",
       "      <td>Sub-Saharan Africa</td>\n",
       "      <td>140</td>\n",
       "      <td>3.956</td>\n",
       "      <td>0.04797</td>\n",
       "      <td>0.23906</td>\n",
       "      <td>0.79273</td>\n",
       "      <td>0.36315</td>\n",
       "      <td>0.22917</td>\n",
       "      <td>0.19900</td>\n",
       "      <td>0.17441</td>\n",
       "      <td>1.95812</td>\n",
       "    </tr>\n",
       "    <tr>\n",
       "      <th>140</th>\n",
       "      <td>Uganda</td>\n",
       "      <td>Sub-Saharan Africa</td>\n",
       "      <td>141</td>\n",
       "      <td>3.931</td>\n",
       "      <td>0.04317</td>\n",
       "      <td>0.21102</td>\n",
       "      <td>1.13299</td>\n",
       "      <td>0.33861</td>\n",
       "      <td>0.45727</td>\n",
       "      <td>0.07267</td>\n",
       "      <td>0.29066</td>\n",
       "      <td>1.42766</td>\n",
       "    </tr>\n",
       "    <tr>\n",
       "      <th>141</th>\n",
       "      <td>Senegal</td>\n",
       "      <td>Sub-Saharan Africa</td>\n",
       "      <td>142</td>\n",
       "      <td>3.904</td>\n",
       "      <td>0.03608</td>\n",
       "      <td>0.36498</td>\n",
       "      <td>0.97619</td>\n",
       "      <td>0.43540</td>\n",
       "      <td>0.36772</td>\n",
       "      <td>0.10713</td>\n",
       "      <td>0.20843</td>\n",
       "      <td>1.44395</td>\n",
       "    </tr>\n",
       "    <tr>\n",
       "      <th>142</th>\n",
       "      <td>Gabon</td>\n",
       "      <td>Sub-Saharan Africa</td>\n",
       "      <td>143</td>\n",
       "      <td>3.896</td>\n",
       "      <td>0.04547</td>\n",
       "      <td>1.06024</td>\n",
       "      <td>0.90528</td>\n",
       "      <td>0.43372</td>\n",
       "      <td>0.31914</td>\n",
       "      <td>0.11091</td>\n",
       "      <td>0.06822</td>\n",
       "      <td>0.99895</td>\n",
       "    </tr>\n",
       "    <tr>\n",
       "      <th>143</th>\n",
       "      <td>Niger</td>\n",
       "      <td>Sub-Saharan Africa</td>\n",
       "      <td>144</td>\n",
       "      <td>3.845</td>\n",
       "      <td>0.03602</td>\n",
       "      <td>0.06940</td>\n",
       "      <td>0.77265</td>\n",
       "      <td>0.29707</td>\n",
       "      <td>0.47692</td>\n",
       "      <td>0.15639</td>\n",
       "      <td>0.19387</td>\n",
       "      <td>1.87877</td>\n",
       "    </tr>\n",
       "    <tr>\n",
       "      <th>144</th>\n",
       "      <td>Cambodia</td>\n",
       "      <td>Southeastern Asia</td>\n",
       "      <td>145</td>\n",
       "      <td>3.819</td>\n",
       "      <td>0.05069</td>\n",
       "      <td>0.46038</td>\n",
       "      <td>0.62736</td>\n",
       "      <td>0.61114</td>\n",
       "      <td>0.66246</td>\n",
       "      <td>0.07247</td>\n",
       "      <td>0.40359</td>\n",
       "      <td>0.98195</td>\n",
       "    </tr>\n",
       "    <tr>\n",
       "      <th>145</th>\n",
       "      <td>Tanzania</td>\n",
       "      <td>Sub-Saharan Africa</td>\n",
       "      <td>146</td>\n",
       "      <td>3.781</td>\n",
       "      <td>0.05061</td>\n",
       "      <td>0.28520</td>\n",
       "      <td>1.00268</td>\n",
       "      <td>0.38215</td>\n",
       "      <td>0.32878</td>\n",
       "      <td>0.05747</td>\n",
       "      <td>0.34377</td>\n",
       "      <td>1.38079</td>\n",
       "    </tr>\n",
       "    <tr>\n",
       "      <th>146</th>\n",
       "      <td>Madagascar</td>\n",
       "      <td>Sub-Saharan Africa</td>\n",
       "      <td>147</td>\n",
       "      <td>3.681</td>\n",
       "      <td>0.03633</td>\n",
       "      <td>0.20824</td>\n",
       "      <td>0.66801</td>\n",
       "      <td>0.46721</td>\n",
       "      <td>0.19184</td>\n",
       "      <td>0.08124</td>\n",
       "      <td>0.21333</td>\n",
       "      <td>1.85100</td>\n",
       "    </tr>\n",
       "    <tr>\n",
       "      <th>147</th>\n",
       "      <td>Central African Republic</td>\n",
       "      <td>Sub-Saharan Africa</td>\n",
       "      <td>148</td>\n",
       "      <td>3.678</td>\n",
       "      <td>0.06112</td>\n",
       "      <td>0.07850</td>\n",
       "      <td>0.00000</td>\n",
       "      <td>0.06699</td>\n",
       "      <td>0.48879</td>\n",
       "      <td>0.08289</td>\n",
       "      <td>0.23835</td>\n",
       "      <td>2.72230</td>\n",
       "    </tr>\n",
       "    <tr>\n",
       "      <th>148</th>\n",
       "      <td>Chad</td>\n",
       "      <td>Sub-Saharan Africa</td>\n",
       "      <td>149</td>\n",
       "      <td>3.667</td>\n",
       "      <td>0.03830</td>\n",
       "      <td>0.34193</td>\n",
       "      <td>0.76062</td>\n",
       "      <td>0.15010</td>\n",
       "      <td>0.23501</td>\n",
       "      <td>0.05269</td>\n",
       "      <td>0.18386</td>\n",
       "      <td>1.94296</td>\n",
       "    </tr>\n",
       "    <tr>\n",
       "      <th>149</th>\n",
       "      <td>Guinea</td>\n",
       "      <td>Sub-Saharan Africa</td>\n",
       "      <td>150</td>\n",
       "      <td>3.656</td>\n",
       "      <td>0.03590</td>\n",
       "      <td>0.17417</td>\n",
       "      <td>0.46475</td>\n",
       "      <td>0.24009</td>\n",
       "      <td>0.37725</td>\n",
       "      <td>0.12139</td>\n",
       "      <td>0.28657</td>\n",
       "      <td>1.99172</td>\n",
       "    </tr>\n",
       "    <tr>\n",
       "      <th>150</th>\n",
       "      <td>Ivory Coast</td>\n",
       "      <td>Sub-Saharan Africa</td>\n",
       "      <td>151</td>\n",
       "      <td>3.655</td>\n",
       "      <td>0.05141</td>\n",
       "      <td>0.46534</td>\n",
       "      <td>0.77115</td>\n",
       "      <td>0.15185</td>\n",
       "      <td>0.46866</td>\n",
       "      <td>0.17922</td>\n",
       "      <td>0.20165</td>\n",
       "      <td>1.41723</td>\n",
       "    </tr>\n",
       "    <tr>\n",
       "      <th>151</th>\n",
       "      <td>Burkina Faso</td>\n",
       "      <td>Sub-Saharan Africa</td>\n",
       "      <td>152</td>\n",
       "      <td>3.587</td>\n",
       "      <td>0.04324</td>\n",
       "      <td>0.25812</td>\n",
       "      <td>0.85188</td>\n",
       "      <td>0.27125</td>\n",
       "      <td>0.39493</td>\n",
       "      <td>0.12832</td>\n",
       "      <td>0.21747</td>\n",
       "      <td>1.46494</td>\n",
       "    </tr>\n",
       "    <tr>\n",
       "      <th>152</th>\n",
       "      <td>Afghanistan</td>\n",
       "      <td>Southern Asia</td>\n",
       "      <td>153</td>\n",
       "      <td>3.575</td>\n",
       "      <td>0.03084</td>\n",
       "      <td>0.31982</td>\n",
       "      <td>0.30285</td>\n",
       "      <td>0.30335</td>\n",
       "      <td>0.23414</td>\n",
       "      <td>0.09719</td>\n",
       "      <td>0.36510</td>\n",
       "      <td>1.95210</td>\n",
       "    </tr>\n",
       "    <tr>\n",
       "      <th>153</th>\n",
       "      <td>Rwanda</td>\n",
       "      <td>Sub-Saharan Africa</td>\n",
       "      <td>154</td>\n",
       "      <td>3.465</td>\n",
       "      <td>0.03464</td>\n",
       "      <td>0.22208</td>\n",
       "      <td>0.77370</td>\n",
       "      <td>0.42864</td>\n",
       "      <td>0.59201</td>\n",
       "      <td>0.55191</td>\n",
       "      <td>0.22628</td>\n",
       "      <td>0.67042</td>\n",
       "    </tr>\n",
       "    <tr>\n",
       "      <th>154</th>\n",
       "      <td>Benin</td>\n",
       "      <td>Sub-Saharan Africa</td>\n",
       "      <td>155</td>\n",
       "      <td>3.340</td>\n",
       "      <td>0.03656</td>\n",
       "      <td>0.28665</td>\n",
       "      <td>0.35386</td>\n",
       "      <td>0.31910</td>\n",
       "      <td>0.48450</td>\n",
       "      <td>0.08010</td>\n",
       "      <td>0.18260</td>\n",
       "      <td>1.63328</td>\n",
       "    </tr>\n",
       "    <tr>\n",
       "      <th>155</th>\n",
       "      <td>Syria</td>\n",
       "      <td>Middle East and Northern Africa</td>\n",
       "      <td>156</td>\n",
       "      <td>3.006</td>\n",
       "      <td>0.05015</td>\n",
       "      <td>0.66320</td>\n",
       "      <td>0.47489</td>\n",
       "      <td>0.72193</td>\n",
       "      <td>0.15684</td>\n",
       "      <td>0.18906</td>\n",
       "      <td>0.47179</td>\n",
       "      <td>0.32858</td>\n",
       "    </tr>\n",
       "    <tr>\n",
       "      <th>156</th>\n",
       "      <td>Burundi</td>\n",
       "      <td>Sub-Saharan Africa</td>\n",
       "      <td>157</td>\n",
       "      <td>2.905</td>\n",
       "      <td>0.08658</td>\n",
       "      <td>0.01530</td>\n",
       "      <td>0.41587</td>\n",
       "      <td>0.22396</td>\n",
       "      <td>0.11850</td>\n",
       "      <td>0.10062</td>\n",
       "      <td>0.19727</td>\n",
       "      <td>1.83302</td>\n",
       "    </tr>\n",
       "    <tr>\n",
       "      <th>157</th>\n",
       "      <td>Togo</td>\n",
       "      <td>Sub-Saharan Africa</td>\n",
       "      <td>158</td>\n",
       "      <td>2.839</td>\n",
       "      <td>0.06727</td>\n",
       "      <td>0.20868</td>\n",
       "      <td>0.13995</td>\n",
       "      <td>0.28443</td>\n",
       "      <td>0.36453</td>\n",
       "      <td>0.10731</td>\n",
       "      <td>0.16681</td>\n",
       "      <td>1.56726</td>\n",
       "    </tr>\n",
       "  </tbody>\n",
       "</table>\n",
       "</div>"
      ],
      "text/plain": [
       "                      Country                           Region  \\\n",
       "138       Congo (Brazzaville)               Sub-Saharan Africa   \n",
       "139                   Comoros               Sub-Saharan Africa   \n",
       "140                    Uganda               Sub-Saharan Africa   \n",
       "141                   Senegal               Sub-Saharan Africa   \n",
       "142                     Gabon               Sub-Saharan Africa   \n",
       "143                     Niger               Sub-Saharan Africa   \n",
       "144                  Cambodia                Southeastern Asia   \n",
       "145                  Tanzania               Sub-Saharan Africa   \n",
       "146                Madagascar               Sub-Saharan Africa   \n",
       "147  Central African Republic               Sub-Saharan Africa   \n",
       "148                      Chad               Sub-Saharan Africa   \n",
       "149                    Guinea               Sub-Saharan Africa   \n",
       "150               Ivory Coast               Sub-Saharan Africa   \n",
       "151              Burkina Faso               Sub-Saharan Africa   \n",
       "152               Afghanistan                    Southern Asia   \n",
       "153                    Rwanda               Sub-Saharan Africa   \n",
       "154                     Benin               Sub-Saharan Africa   \n",
       "155                     Syria  Middle East and Northern Africa   \n",
       "156                   Burundi               Sub-Saharan Africa   \n",
       "157                      Togo               Sub-Saharan Africa   \n",
       "\n",
       "     Happiness Rank  Happiness Score  Standard Error  \\\n",
       "138             139            3.989         0.06682   \n",
       "139             140            3.956         0.04797   \n",
       "140             141            3.931         0.04317   \n",
       "141             142            3.904         0.03608   \n",
       "142             143            3.896         0.04547   \n",
       "143             144            3.845         0.03602   \n",
       "144             145            3.819         0.05069   \n",
       "145             146            3.781         0.05061   \n",
       "146             147            3.681         0.03633   \n",
       "147             148            3.678         0.06112   \n",
       "148             149            3.667         0.03830   \n",
       "149             150            3.656         0.03590   \n",
       "150             151            3.655         0.05141   \n",
       "151             152            3.587         0.04324   \n",
       "152             153            3.575         0.03084   \n",
       "153             154            3.465         0.03464   \n",
       "154             155            3.340         0.03656   \n",
       "155             156            3.006         0.05015   \n",
       "156             157            2.905         0.08658   \n",
       "157             158            2.839         0.06727   \n",
       "\n",
       "     Economy (GDP per Capita)   Family  Health (Life Expectancy)  Freedom  \\\n",
       "138                   0.67866  0.66290                   0.31051  0.41466   \n",
       "139                   0.23906  0.79273                   0.36315  0.22917   \n",
       "140                   0.21102  1.13299                   0.33861  0.45727   \n",
       "141                   0.36498  0.97619                   0.43540  0.36772   \n",
       "142                   1.06024  0.90528                   0.43372  0.31914   \n",
       "143                   0.06940  0.77265                   0.29707  0.47692   \n",
       "144                   0.46038  0.62736                   0.61114  0.66246   \n",
       "145                   0.28520  1.00268                   0.38215  0.32878   \n",
       "146                   0.20824  0.66801                   0.46721  0.19184   \n",
       "147                   0.07850  0.00000                   0.06699  0.48879   \n",
       "148                   0.34193  0.76062                   0.15010  0.23501   \n",
       "149                   0.17417  0.46475                   0.24009  0.37725   \n",
       "150                   0.46534  0.77115                   0.15185  0.46866   \n",
       "151                   0.25812  0.85188                   0.27125  0.39493   \n",
       "152                   0.31982  0.30285                   0.30335  0.23414   \n",
       "153                   0.22208  0.77370                   0.42864  0.59201   \n",
       "154                   0.28665  0.35386                   0.31910  0.48450   \n",
       "155                   0.66320  0.47489                   0.72193  0.15684   \n",
       "156                   0.01530  0.41587                   0.22396  0.11850   \n",
       "157                   0.20868  0.13995                   0.28443  0.36453   \n",
       "\n",
       "     Trust (Government Corruption)  Generosity  Dystopia Residual  \n",
       "138                        0.11686     0.12388            1.68135  \n",
       "139                        0.19900     0.17441            1.95812  \n",
       "140                        0.07267     0.29066            1.42766  \n",
       "141                        0.10713     0.20843            1.44395  \n",
       "142                        0.11091     0.06822            0.99895  \n",
       "143                        0.15639     0.19387            1.87877  \n",
       "144                        0.07247     0.40359            0.98195  \n",
       "145                        0.05747     0.34377            1.38079  \n",
       "146                        0.08124     0.21333            1.85100  \n",
       "147                        0.08289     0.23835            2.72230  \n",
       "148                        0.05269     0.18386            1.94296  \n",
       "149                        0.12139     0.28657            1.99172  \n",
       "150                        0.17922     0.20165            1.41723  \n",
       "151                        0.12832     0.21747            1.46494  \n",
       "152                        0.09719     0.36510            1.95210  \n",
       "153                        0.55191     0.22628            0.67042  \n",
       "154                        0.08010     0.18260            1.63328  \n",
       "155                        0.18906     0.47179            0.32858  \n",
       "156                        0.10062     0.19727            1.83302  \n",
       "157                        0.10731     0.16681            1.56726  "
      ]
     },
     "execution_count": 6,
     "metadata": {},
     "output_type": "execute_result"
    }
   ],
   "source": [
    "df.tail(20)"
   ]
  },
  {
   "cell_type": "code",
   "execution_count": 7,
   "id": "a5754eeb",
   "metadata": {},
   "outputs": [
    {
     "data": {
      "text/plain": [
       "(158, 12)"
      ]
     },
     "execution_count": 7,
     "metadata": {},
     "output_type": "execute_result"
    }
   ],
   "source": [
    "df.shape"
   ]
  },
  {
   "cell_type": "code",
   "execution_count": 8,
   "id": "6df4d105",
   "metadata": {},
   "outputs": [
    {
     "data": {
      "text/plain": [
       "Index(['Country', 'Region', 'Happiness Rank', 'Happiness Score',\n",
       "       'Standard Error', 'Economy (GDP per Capita)', 'Family',\n",
       "       'Health (Life Expectancy)', 'Freedom', 'Trust (Government Corruption)',\n",
       "       'Generosity', 'Dystopia Residual'],\n",
       "      dtype='object')"
      ]
     },
     "execution_count": 8,
     "metadata": {},
     "output_type": "execute_result"
    }
   ],
   "source": [
    "df.columns"
   ]
  },
  {
   "cell_type": "code",
   "execution_count": 9,
   "id": "79529b2b",
   "metadata": {},
   "outputs": [
    {
     "data": {
      "text/plain": [
       "['Country',\n",
       " 'Region',\n",
       " 'Happiness Rank',\n",
       " 'Happiness Score',\n",
       " 'Standard Error',\n",
       " 'Economy (GDP per Capita)',\n",
       " 'Family',\n",
       " 'Health (Life Expectancy)',\n",
       " 'Freedom',\n",
       " 'Trust (Government Corruption)',\n",
       " 'Generosity',\n",
       " 'Dystopia Residual']"
      ]
     },
     "execution_count": 9,
     "metadata": {},
     "output_type": "execute_result"
    }
   ],
   "source": [
    "df.columns.tolist()"
   ]
  },
  {
   "cell_type": "code",
   "execution_count": 10,
   "id": "a71ce2dd",
   "metadata": {},
   "outputs": [
    {
     "data": {
      "text/plain": [
       "Country                           object\n",
       "Region                            object\n",
       "Happiness Rank                     int64\n",
       "Happiness Score                  float64\n",
       "Standard Error                   float64\n",
       "Economy (GDP per Capita)         float64\n",
       "Family                           float64\n",
       "Health (Life Expectancy)         float64\n",
       "Freedom                          float64\n",
       "Trust (Government Corruption)    float64\n",
       "Generosity                       float64\n",
       "Dystopia Residual                float64\n",
       "dtype: object"
      ]
     },
     "execution_count": 10,
     "metadata": {},
     "output_type": "execute_result"
    }
   ],
   "source": [
    "df.dtypes"
   ]
  },
  {
   "cell_type": "code",
   "execution_count": 11,
   "id": "99834f2f",
   "metadata": {},
   "outputs": [
    {
     "data": {
      "text/plain": [
       "Country                          0\n",
       "Region                           0\n",
       "Happiness Rank                   0\n",
       "Happiness Score                  0\n",
       "Standard Error                   0\n",
       "Economy (GDP per Capita)         0\n",
       "Family                           0\n",
       "Health (Life Expectancy)         0\n",
       "Freedom                          0\n",
       "Trust (Government Corruption)    0\n",
       "Generosity                       0\n",
       "Dystopia Residual                0\n",
       "dtype: int64"
      ]
     },
     "execution_count": 11,
     "metadata": {},
     "output_type": "execute_result"
    }
   ],
   "source": [
    "df.isnull().sum()"
   ]
  },
  {
   "cell_type": "code",
   "execution_count": 12,
   "id": "cea9434d",
   "metadata": {},
   "outputs": [
    {
     "data": {
      "text/plain": [
       "0"
      ]
     },
     "execution_count": 12,
     "metadata": {},
     "output_type": "execute_result"
    }
   ],
   "source": [
    "df.isnull().sum().sum()"
   ]
  },
  {
   "cell_type": "code",
   "execution_count": 13,
   "id": "23837f00",
   "metadata": {},
   "outputs": [
    {
     "name": "stdout",
     "output_type": "stream",
     "text": [
      "<class 'pandas.core.frame.DataFrame'>\n",
      "RangeIndex: 158 entries, 0 to 157\n",
      "Data columns (total 12 columns):\n",
      " #   Column                         Non-Null Count  Dtype  \n",
      "---  ------                         --------------  -----  \n",
      " 0   Country                        158 non-null    object \n",
      " 1   Region                         158 non-null    object \n",
      " 2   Happiness Rank                 158 non-null    int64  \n",
      " 3   Happiness Score                158 non-null    float64\n",
      " 4   Standard Error                 158 non-null    float64\n",
      " 5   Economy (GDP per Capita)       158 non-null    float64\n",
      " 6   Family                         158 non-null    float64\n",
      " 7   Health (Life Expectancy)       158 non-null    float64\n",
      " 8   Freedom                        158 non-null    float64\n",
      " 9   Trust (Government Corruption)  158 non-null    float64\n",
      " 10  Generosity                     158 non-null    float64\n",
      " 11  Dystopia Residual              158 non-null    float64\n",
      "dtypes: float64(9), int64(1), object(2)\n",
      "memory usage: 14.9+ KB\n"
     ]
    }
   ],
   "source": [
    "df.info()"
   ]
  },
  {
   "cell_type": "code",
   "execution_count": 14,
   "id": "ec8e5930",
   "metadata": {},
   "outputs": [
    {
     "data": {
      "text/plain": [
       "Country                          0\n",
       "Region                           0\n",
       "Happiness Rank                   0\n",
       "Happiness Score                  0\n",
       "Standard Error                   0\n",
       "Economy (GDP per Capita)         0\n",
       "Family                           0\n",
       "Health (Life Expectancy)         0\n",
       "Freedom                          0\n",
       "Trust (Government Corruption)    0\n",
       "Generosity                       0\n",
       "Dystopia Residual                0\n",
       "dtype: int64"
      ]
     },
     "execution_count": 14,
     "metadata": {},
     "output_type": "execute_result"
    }
   ],
   "source": [
    "df.isnull().sum()"
   ]
  },
  {
   "cell_type": "code",
   "execution_count": 15,
   "id": "33668717",
   "metadata": {},
   "outputs": [
    {
     "data": {
      "text/plain": [
       "0"
      ]
     },
     "execution_count": 15,
     "metadata": {},
     "output_type": "execute_result"
    }
   ],
   "source": [
    "df.isnull().sum().sum()"
   ]
  },
  {
   "cell_type": "code",
   "execution_count": 16,
   "id": "c285f6f8",
   "metadata": {},
   "outputs": [
    {
     "name": "stdout",
     "output_type": "stream",
     "text": [
      "<class 'pandas.core.frame.DataFrame'>\n",
      "RangeIndex: 158 entries, 0 to 157\n",
      "Data columns (total 12 columns):\n",
      " #   Column                         Non-Null Count  Dtype  \n",
      "---  ------                         --------------  -----  \n",
      " 0   Country                        158 non-null    object \n",
      " 1   Region                         158 non-null    object \n",
      " 2   Happiness Rank                 158 non-null    int64  \n",
      " 3   Happiness Score                158 non-null    float64\n",
      " 4   Standard Error                 158 non-null    float64\n",
      " 5   Economy (GDP per Capita)       158 non-null    float64\n",
      " 6   Family                         158 non-null    float64\n",
      " 7   Health (Life Expectancy)       158 non-null    float64\n",
      " 8   Freedom                        158 non-null    float64\n",
      " 9   Trust (Government Corruption)  158 non-null    float64\n",
      " 10  Generosity                     158 non-null    float64\n",
      " 11  Dystopia Residual              158 non-null    float64\n",
      "dtypes: float64(9), int64(1), object(2)\n",
      "memory usage: 14.9+ KB\n"
     ]
    }
   ],
   "source": [
    "df.info()"
   ]
  },
  {
   "cell_type": "code",
   "execution_count": 17,
   "id": "6285ec79",
   "metadata": {},
   "outputs": [
    {
     "data": {
      "text/html": [
       "<div>\n",
       "<style scoped>\n",
       "    .dataframe tbody tr th:only-of-type {\n",
       "        vertical-align: middle;\n",
       "    }\n",
       "\n",
       "    .dataframe tbody tr th {\n",
       "        vertical-align: top;\n",
       "    }\n",
       "\n",
       "    .dataframe thead th {\n",
       "        text-align: right;\n",
       "    }\n",
       "</style>\n",
       "<table border=\"1\" class=\"dataframe\">\n",
       "  <thead>\n",
       "    <tr style=\"text-align: right;\">\n",
       "      <th></th>\n",
       "      <th>Country</th>\n",
       "      <th>Generosity</th>\n",
       "    </tr>\n",
       "  </thead>\n",
       "  <tbody>\n",
       "    <tr>\n",
       "      <th>128</th>\n",
       "      <td>Myanmar</td>\n",
       "      <td>0.79588</td>\n",
       "    </tr>\n",
       "    <tr>\n",
       "      <th>33</th>\n",
       "      <td>Thailand</td>\n",
       "      <td>0.57630</td>\n",
       "    </tr>\n",
       "    <tr>\n",
       "      <th>20</th>\n",
       "      <td>United Kingdom</td>\n",
       "      <td>0.51912</td>\n",
       "    </tr>\n",
       "    <tr>\n",
       "      <th>36</th>\n",
       "      <td>Malta</td>\n",
       "      <td>0.51752</td>\n",
       "    </tr>\n",
       "    <tr>\n",
       "      <th>73</th>\n",
       "      <td>Indonesia</td>\n",
       "      <td>0.51535</td>\n",
       "    </tr>\n",
       "    <tr>\n",
       "      <th>90</th>\n",
       "      <td>Somaliland region</td>\n",
       "      <td>0.50318</td>\n",
       "    </tr>\n",
       "    <tr>\n",
       "      <th>78</th>\n",
       "      <td>Bhutan</td>\n",
       "      <td>0.47998</td>\n",
       "    </tr>\n",
       "    <tr>\n",
       "      <th>6</th>\n",
       "      <td>Netherlands</td>\n",
       "      <td>0.47610</td>\n",
       "    </tr>\n",
       "    <tr>\n",
       "      <th>8</th>\n",
       "      <td>New Zealand</td>\n",
       "      <td>0.47501</td>\n",
       "    </tr>\n",
       "    <tr>\n",
       "      <th>155</th>\n",
       "      <td>Syria</td>\n",
       "      <td>0.47179</td>\n",
       "    </tr>\n",
       "  </tbody>\n",
       "</table>\n",
       "</div>"
      ],
      "text/plain": [
       "               Country  Generosity\n",
       "128            Myanmar     0.79588\n",
       "33            Thailand     0.57630\n",
       "20      United Kingdom     0.51912\n",
       "36               Malta     0.51752\n",
       "73           Indonesia     0.51535\n",
       "90   Somaliland region     0.50318\n",
       "78              Bhutan     0.47998\n",
       "6          Netherlands     0.47610\n",
       "8          New Zealand     0.47501\n",
       "155              Syria     0.47179"
      ]
     },
     "execution_count": 17,
     "metadata": {},
     "output_type": "execute_result"
    }
   ],
   "source": [
    "#top 10 most generos countries\n",
    "\n",
    "df[['Country', 'Generosity']].sort_values(by = 'Generosity',\n",
    "                                                 ascending = False).head(10)"
   ]
  },
  {
   "cell_type": "code",
   "execution_count": 18,
   "id": "cd7e7903",
   "metadata": {},
   "outputs": [
    {
     "data": {
      "application/vnd.plotly.v1+json": {
       "config": {
        "linkText": "Export to plot.ly",
        "plotlyServerURL": "https://plot.ly",
        "scrollzoom": true,
        "showLink": false
       },
       "data": [
        {
         "marker": {
          "size": [
           1.39651,
           1.30232,
           1.32548,
           1.459,
           1.29025,
           1.32944,
           1.33171,
           1.33723,
           1.56391,
           1.33596,
           1.30782,
           1.26637,
           1.32792,
           1.27778,
           1.23011,
           1.2074,
           1.25114,
           1.20806,
           1.20813,
           1.15991,
           1.15406
          ],
          "sizemode": "area",
          "sizeref": 0.00052825625
         },
         "mode": "markers",
         "name": "Western Europe",
         "text": [
          "Switzerland",
          "Iceland",
          "Denmark",
          "Norway",
          "Finland",
          "Netherlands",
          "Sweden",
          "Austria",
          "Luxembourg",
          "Ireland",
          "Belgium",
          "United Kingdom",
          "Germany",
          "France",
          "Spain",
          "Malta",
          "Italy",
          "North Cyprus",
          "Cyprus",
          "Portugal",
          "Greece"
         ],
         "type": "scatter",
         "x": [
          7.587,
          7.561,
          7.527,
          7.522,
          7.406,
          7.378,
          7.364,
          7.2,
          6.946,
          6.94,
          6.937,
          6.867,
          6.75,
          6.575,
          6.329,
          6.302,
          5.948,
          5.695,
          5.689,
          5.102,
          4.857
         ],
         "y": [
          0.29678,
          0.4363,
          0.34139,
          0.34699,
          0.23351,
          0.4761,
          0.36262,
          0.33088,
          0.28034,
          0.45901,
          0.2225,
          0.51912,
          0.28214,
          0.12332,
          0.18227,
          0.51752,
          0.22823,
          0.26169,
          0.30638,
          0.13719,
          0
         ]
        },
        {
         "marker": {
          "size": [
           1.32629,
           1.39451
          ],
          "sizemode": "area",
          "sizeref": 0.00052825625
         },
         "mode": "markers",
         "name": "North America",
         "text": [
          "Canada",
          "United States"
         ],
         "type": "scatter",
         "x": [
          7.427,
          7.119
         ],
         "y": [
          0.45811,
          0.40105
         ]
        },
        {
         "marker": {
          "size": [
           1.25018,
           1.33358
          ],
          "sizemode": "area",
          "sizeref": 0.00052825625
         },
         "mode": "markers",
         "name": "Australia and New Zealand",
         "text": [
          "New Zealand",
          "Australia"
         ],
         "type": "scatter",
         "x": [
          7.286,
          7.284
         ],
         "y": [
          0.47501,
          0.43562
         ]
        },
        {
         "marker": {
          "size": [
           1.22857,
           1.42727,
           1.36011,
           1.69042,
           1.39541,
           1.55422,
           1.32376,
           1.13145,
           0.93929,
           1.06098,
           0.90198,
           0.73479,
           1.02564,
           0.88113,
           0.59867,
           1.0088,
           0.98549,
           0.8818,
           0.54649,
           0.6632
          ],
          "sizemode": "area",
          "sizeref": 0.00052825625
         },
         "mode": "markers",
         "name": "Middle East and Northern Africa",
         "text": [
          "Israel",
          "United Arab Emirates",
          "Oman",
          "Qatar",
          "Saudi Arabia",
          "Kuwait",
          "Bahrain",
          "Libya",
          "Algeria",
          "Turkey",
          "Jordan",
          "Morocco",
          "Lebanon",
          "Tunisia",
          "Palestinian Territories",
          "Iran",
          "Iraq",
          "Egypt",
          "Yemen",
          "Syria"
         ],
         "type": "scatter",
         "x": [
          7.278,
          6.901,
          6.853,
          6.611,
          6.411,
          6.295,
          5.96,
          5.754,
          5.605,
          5.332,
          5.192,
          5.013,
          4.839,
          4.739,
          4.715,
          4.686,
          4.677,
          4.194,
          4.077,
          3.006
         ],
         "y": [
          0.33172,
          0.26428,
          0.21542,
          0.32573,
          0.13706,
          0.16228,
          0.17362,
          0.18295,
          0.07822,
          0.12253,
          0.11053,
          0.07172,
          0.21854,
          0.06431,
          0.11251,
          0.38086,
          0.17922,
          0.11291,
          0.09131,
          0.47179
         ]
        },
        {
         "marker": {
          "size": [
           0.95578,
           1.02054,
           0.98124,
           1.04424,
           1.06353,
           1.10715,
           1.05351,
           1.06166,
           0.91861,
           0.99534,
           1.21183,
           0.76454,
           0.74553,
           0.86402,
           0.68133,
           0.75985,
           0.59325,
           0.90019,
           0.81038,
           0.89537,
           0.59532,
           0.26673
          ],
          "sizemode": "area",
          "sizeref": 0.00052825625
         },
         "mode": "markers",
         "name": "Latin America and Caribbean",
         "text": [
          "Costa Rica",
          "Mexico",
          "Brazil",
          "Venezuela",
          "Panama",
          "Chile",
          "Argentina",
          "Uruguay",
          "Colombia",
          "Suriname",
          "Trinidad and Tobago",
          "El Salvador",
          "Guatemala",
          "Ecuador",
          "Bolivia",
          "Paraguay",
          "Nicaragua",
          "Peru",
          "Jamaica",
          "Dominican Republic",
          "Honduras",
          "Haiti"
         ],
         "type": "scatter",
         "x": [
          7.226,
          7.187,
          6.983,
          6.81,
          6.786,
          6.67,
          6.574,
          6.485,
          6.477,
          6.269,
          6.168,
          6.13,
          6.123,
          5.975,
          5.89,
          5.878,
          5.828,
          5.824,
          5.709,
          4.885,
          4.788,
          4.518
         ],
         "y": [
          0.25497,
          0.14074,
          0.14574,
          0.05841,
          0.24434,
          0.33363,
          0.11451,
          0.2324,
          0.18401,
          0.16991,
          0.31844,
          0.10692,
          0.27489,
          0.11541,
          0.20536,
          0.3424,
          0.27815,
          0.14982,
          0.2123,
          0.21684,
          0.23027,
          0.46187
         ]
        },
        {
         "marker": {
          "size": [
           1.52186,
           0.9669,
           1.12486,
           0.82827,
           0.63216,
           0.70532,
           0.59066,
           0.27108,
           0.46038
          ],
          "sizemode": "area",
          "sizeref": 0.00052825625
         },
         "mode": "markers",
         "name": "Southeastern Asia",
         "text": [
          "Singapore",
          "Thailand",
          "Malaysia",
          "Indonesia",
          "Vietnam",
          "Philippines",
          "Laos",
          "Myanmar",
          "Cambodia"
         ],
         "type": "scatter",
         "x": [
          6.798,
          6.455,
          5.77,
          5.399,
          5.36,
          5.073,
          4.876,
          4.307,
          3.819
         ],
         "y": [
          0.31105,
          0.5763,
          0.33075,
          0.51535,
          0.1686,
          0.24991,
          0.42192,
          0.79588,
          0.40359
         ]
        },
        {
         "marker": {
          "size": [
           1.17898,
           0.63244,
           1.16891,
           0.59448,
           1.12254,
           1.18498,
           1.14723,
           1.03192,
           1.12555,
           1.08254,
           1.13764,
           0.80148,
           0.95847,
           1.15174,
           0.47428,
           1.02389,
           0.97438,
           1.04345,
           0.92053,
           1.11312,
           0.91851,
           0.87867,
           0.83223,
           1.12094,
           0.39047,
           0.79907,
           0.76821,
           0.7419,
           1.01216
          ],
          "sizemode": "area",
          "sizeref": 0.00052825625
         },
         "mode": "markers",
         "name": "Central and Eastern Europe",
         "text": [
          "Czech Republic",
          "Uzbekistan",
          "Slovakia",
          "Moldova",
          "Kazakhstan",
          "Slovenia",
          "Lithuania",
          "Belarus",
          "Poland",
          "Croatia",
          "Russia",
          "Kosovo",
          "Turkmenistan",
          "Estonia",
          "Kyrgyzstan",
          "Azerbaijan",
          "Montenegro",
          "Romania",
          "Serbia",
          "Latvia",
          "Macedonia",
          "Albania",
          "Bosnia and Herzegovina",
          "Hungary",
          "Tajikistan",
          "Ukraine",
          "Armenia",
          "Georgia",
          "Bulgaria"
         ],
         "type": "scatter",
         "x": [
          6.505,
          6.003,
          5.995,
          5.889,
          5.855,
          5.848,
          5.833,
          5.813,
          5.791,
          5.759,
          5.716,
          5.589,
          5.548,
          5.429,
          5.286,
          5.212,
          5.192,
          5.124,
          5.123,
          5.098,
          5.007,
          4.959,
          4.949,
          4.8,
          4.786,
          4.681,
          4.35,
          4.297,
          4.218
         ],
         "y": [
          0.10686,
          0.22837,
          0.16893,
          0.20951,
          0.11827,
          0.25328,
          0.02641,
          0.11046,
          0.16759,
          0.05444,
          0.00199,
          0.2831,
          0.16979,
          0.0868,
          0.3003,
          0.07799,
          0.1614,
          0.13748,
          0.19231,
          0.18226,
          0.22359,
          0.14272,
          0.24808,
          0.128,
          0.22974,
          0.15275,
          0.07855,
          0.05547,
          0.11921
         ]
        },
        {
         "marker": {
          "size": [
           1.29098,
           1.27074,
           1.24461,
           1.38604,
           0.89012,
           0.82819
          ],
          "sizemode": "area",
          "sizeref": 0.00052825625
         },
         "mode": "markers",
         "name": "Eastern Asia",
         "text": [
          "Taiwan",
          "Japan",
          "South Korea",
          "Hong Kong",
          "China",
          "Mongolia"
         ],
         "type": "scatter",
         "x": [
          6.298,
          5.987,
          5.984,
          5.474,
          5.14,
          4.874
         ],
         "y": [
          0.25376,
          0.10705,
          0.18557,
          0.39478,
          0.08185,
          0.3323
         ]
        },
        {
         "marker": {
          "size": [
           1.00761,
           0.65435,
           0.47038,
           0.18847,
           0.08308,
           0.37545,
           0.71206,
           0.92049,
           0.54558,
           0.271,
           0.0712,
           0.52107,
           0,
           0.19073,
           0.33024,
           0.45407,
           0.36471,
           0.44025,
           0.99355,
           0.01604,
           0.4225,
           0.75778,
           0.26074,
           0.67866,
           0.23906,
           0.21102,
           0.36498,
           1.06024,
           0.0694,
           0.2852,
           0.20824,
           0.0785,
           0.34193,
           0.17417,
           0.46534,
           0.25812,
           0.22208,
           0.28665,
           0.0153,
           0.20868
          ],
          "sizemode": "area",
          "sizeref": 0.00052825625
         },
         "mode": "markers",
         "name": "Sub-Saharan Africa",
         "text": [
          "Mauritius",
          "Nigeria",
          "Zambia",
          "Somaliland region",
          "Mozambique",
          "Lesotho",
          "Swaziland",
          "South Africa",
          "Ghana",
          "Zimbabwe",
          "Liberia",
          "Sudan",
          "Congo (Kinshasa)",
          "Ethiopia",
          "Sierra Leone",
          "Mauritania",
          "Kenya",
          "Djibouti",
          "Botswana",
          "Malawi",
          "Cameroon",
          "Angola",
          "Mali",
          "Congo (Brazzaville)",
          "Comoros",
          "Uganda",
          "Senegal",
          "Gabon",
          "Niger",
          "Tanzania",
          "Madagascar",
          "Central African Republic",
          "Chad",
          "Guinea",
          "Ivory Coast",
          "Burkina Faso",
          "Rwanda",
          "Benin",
          "Burundi",
          "Togo"
         ],
         "type": "scatter",
         "x": [
          5.477,
          5.268,
          5.129,
          5.057,
          4.971,
          4.898,
          4.867,
          4.642,
          4.633,
          4.61,
          4.571,
          4.55,
          4.517,
          4.512,
          4.507,
          4.436,
          4.419,
          4.369,
          4.332,
          4.292,
          4.252,
          4.033,
          3.995,
          3.989,
          3.956,
          3.931,
          3.904,
          3.896,
          3.845,
          3.781,
          3.681,
          3.678,
          3.667,
          3.656,
          3.655,
          3.587,
          3.465,
          3.34,
          2.905,
          2.839
         ],
         "y": [
          0.37744,
          0.27233,
          0.19591,
          0.50318,
          0.22269,
          0.16388,
          0.18259,
          0.11973,
          0.23087,
          0.18987,
          0.24362,
          0.19062,
          0.24834,
          0.24325,
          0.21488,
          0.219,
          0.37542,
          0.18093,
          0.10461,
          0.33128,
          0.20618,
          0.12344,
          0.18798,
          0.12388,
          0.17441,
          0.29066,
          0.20843,
          0.06822,
          0.19387,
          0.34377,
          0.21333,
          0.23835,
          0.18386,
          0.28657,
          0.20165,
          0.21747,
          0.22628,
          0.1826,
          0.19727,
          0.16681
         ]
        },
        {
         "marker": {
          "size": [
           0.77042,
           0.59543,
           0.39753,
           0.64499,
           0.35997,
           0.83524,
           0.31982
          ],
          "sizemode": "area",
          "sizeref": 0.00052825625
         },
         "mode": "markers",
         "name": "Southern Asia",
         "text": [
          "Bhutan",
          "Pakistan",
          "Bangladesh",
          "India",
          "Nepal",
          "Sri Lanka",
          "Afghanistan"
         ],
         "type": "scatter",
         "x": [
          5.253,
          5.194,
          4.694,
          4.565,
          4.514,
          4.271,
          3.575
         ],
         "y": [
          0.47998,
          0.33671,
          0.21222,
          0.26475,
          0.32296,
          0.40828,
          0.3651
         ]
        }
       ],
       "layout": {
        "height": 650,
        "hovermode": "closest",
        "margin": {
         "b": 50,
         "pad": 5,
         "t": 50
        },
        "showlegend": true,
        "template": {
         "data": {
          "bar": [
           {
            "error_x": {
             "color": "#2a3f5f"
            },
            "error_y": {
             "color": "#2a3f5f"
            },
            "marker": {
             "line": {
              "color": "#E5ECF6",
              "width": 0.5
             },
             "pattern": {
              "fillmode": "overlay",
              "size": 10,
              "solidity": 0.2
             }
            },
            "type": "bar"
           }
          ],
          "barpolar": [
           {
            "marker": {
             "line": {
              "color": "#E5ECF6",
              "width": 0.5
             },
             "pattern": {
              "fillmode": "overlay",
              "size": 10,
              "solidity": 0.2
             }
            },
            "type": "barpolar"
           }
          ],
          "carpet": [
           {
            "aaxis": {
             "endlinecolor": "#2a3f5f",
             "gridcolor": "white",
             "linecolor": "white",
             "minorgridcolor": "white",
             "startlinecolor": "#2a3f5f"
            },
            "baxis": {
             "endlinecolor": "#2a3f5f",
             "gridcolor": "white",
             "linecolor": "white",
             "minorgridcolor": "white",
             "startlinecolor": "#2a3f5f"
            },
            "type": "carpet"
           }
          ],
          "choropleth": [
           {
            "colorbar": {
             "outlinewidth": 0,
             "ticks": ""
            },
            "type": "choropleth"
           }
          ],
          "contour": [
           {
            "colorbar": {
             "outlinewidth": 0,
             "ticks": ""
            },
            "colorscale": [
             [
              0,
              "#0d0887"
             ],
             [
              0.1111111111111111,
              "#46039f"
             ],
             [
              0.2222222222222222,
              "#7201a8"
             ],
             [
              0.3333333333333333,
              "#9c179e"
             ],
             [
              0.4444444444444444,
              "#bd3786"
             ],
             [
              0.5555555555555556,
              "#d8576b"
             ],
             [
              0.6666666666666666,
              "#ed7953"
             ],
             [
              0.7777777777777778,
              "#fb9f3a"
             ],
             [
              0.8888888888888888,
              "#fdca26"
             ],
             [
              1,
              "#f0f921"
             ]
            ],
            "type": "contour"
           }
          ],
          "contourcarpet": [
           {
            "colorbar": {
             "outlinewidth": 0,
             "ticks": ""
            },
            "type": "contourcarpet"
           }
          ],
          "heatmap": [
           {
            "colorbar": {
             "outlinewidth": 0,
             "ticks": ""
            },
            "colorscale": [
             [
              0,
              "#0d0887"
             ],
             [
              0.1111111111111111,
              "#46039f"
             ],
             [
              0.2222222222222222,
              "#7201a8"
             ],
             [
              0.3333333333333333,
              "#9c179e"
             ],
             [
              0.4444444444444444,
              "#bd3786"
             ],
             [
              0.5555555555555556,
              "#d8576b"
             ],
             [
              0.6666666666666666,
              "#ed7953"
             ],
             [
              0.7777777777777778,
              "#fb9f3a"
             ],
             [
              0.8888888888888888,
              "#fdca26"
             ],
             [
              1,
              "#f0f921"
             ]
            ],
            "type": "heatmap"
           }
          ],
          "heatmapgl": [
           {
            "colorbar": {
             "outlinewidth": 0,
             "ticks": ""
            },
            "colorscale": [
             [
              0,
              "#0d0887"
             ],
             [
              0.1111111111111111,
              "#46039f"
             ],
             [
              0.2222222222222222,
              "#7201a8"
             ],
             [
              0.3333333333333333,
              "#9c179e"
             ],
             [
              0.4444444444444444,
              "#bd3786"
             ],
             [
              0.5555555555555556,
              "#d8576b"
             ],
             [
              0.6666666666666666,
              "#ed7953"
             ],
             [
              0.7777777777777778,
              "#fb9f3a"
             ],
             [
              0.8888888888888888,
              "#fdca26"
             ],
             [
              1,
              "#f0f921"
             ]
            ],
            "type": "heatmapgl"
           }
          ],
          "histogram": [
           {
            "marker": {
             "pattern": {
              "fillmode": "overlay",
              "size": 10,
              "solidity": 0.2
             }
            },
            "type": "histogram"
           }
          ],
          "histogram2d": [
           {
            "colorbar": {
             "outlinewidth": 0,
             "ticks": ""
            },
            "colorscale": [
             [
              0,
              "#0d0887"
             ],
             [
              0.1111111111111111,
              "#46039f"
             ],
             [
              0.2222222222222222,
              "#7201a8"
             ],
             [
              0.3333333333333333,
              "#9c179e"
             ],
             [
              0.4444444444444444,
              "#bd3786"
             ],
             [
              0.5555555555555556,
              "#d8576b"
             ],
             [
              0.6666666666666666,
              "#ed7953"
             ],
             [
              0.7777777777777778,
              "#fb9f3a"
             ],
             [
              0.8888888888888888,
              "#fdca26"
             ],
             [
              1,
              "#f0f921"
             ]
            ],
            "type": "histogram2d"
           }
          ],
          "histogram2dcontour": [
           {
            "colorbar": {
             "outlinewidth": 0,
             "ticks": ""
            },
            "colorscale": [
             [
              0,
              "#0d0887"
             ],
             [
              0.1111111111111111,
              "#46039f"
             ],
             [
              0.2222222222222222,
              "#7201a8"
             ],
             [
              0.3333333333333333,
              "#9c179e"
             ],
             [
              0.4444444444444444,
              "#bd3786"
             ],
             [
              0.5555555555555556,
              "#d8576b"
             ],
             [
              0.6666666666666666,
              "#ed7953"
             ],
             [
              0.7777777777777778,
              "#fb9f3a"
             ],
             [
              0.8888888888888888,
              "#fdca26"
             ],
             [
              1,
              "#f0f921"
             ]
            ],
            "type": "histogram2dcontour"
           }
          ],
          "mesh3d": [
           {
            "colorbar": {
             "outlinewidth": 0,
             "ticks": ""
            },
            "type": "mesh3d"
           }
          ],
          "parcoords": [
           {
            "line": {
             "colorbar": {
              "outlinewidth": 0,
              "ticks": ""
             }
            },
            "type": "parcoords"
           }
          ],
          "pie": [
           {
            "automargin": true,
            "type": "pie"
           }
          ],
          "scatter": [
           {
            "fillpattern": {
             "fillmode": "overlay",
             "size": 10,
             "solidity": 0.2
            },
            "type": "scatter"
           }
          ],
          "scatter3d": [
           {
            "line": {
             "colorbar": {
              "outlinewidth": 0,
              "ticks": ""
             }
            },
            "marker": {
             "colorbar": {
              "outlinewidth": 0,
              "ticks": ""
             }
            },
            "type": "scatter3d"
           }
          ],
          "scattercarpet": [
           {
            "marker": {
             "colorbar": {
              "outlinewidth": 0,
              "ticks": ""
             }
            },
            "type": "scattercarpet"
           }
          ],
          "scattergeo": [
           {
            "marker": {
             "colorbar": {
              "outlinewidth": 0,
              "ticks": ""
             }
            },
            "type": "scattergeo"
           }
          ],
          "scattergl": [
           {
            "marker": {
             "colorbar": {
              "outlinewidth": 0,
              "ticks": ""
             }
            },
            "type": "scattergl"
           }
          ],
          "scattermapbox": [
           {
            "marker": {
             "colorbar": {
              "outlinewidth": 0,
              "ticks": ""
             }
            },
            "type": "scattermapbox"
           }
          ],
          "scatterpolar": [
           {
            "marker": {
             "colorbar": {
              "outlinewidth": 0,
              "ticks": ""
             }
            },
            "type": "scatterpolar"
           }
          ],
          "scatterpolargl": [
           {
            "marker": {
             "colorbar": {
              "outlinewidth": 0,
              "ticks": ""
             }
            },
            "type": "scatterpolargl"
           }
          ],
          "scatterternary": [
           {
            "marker": {
             "colorbar": {
              "outlinewidth": 0,
              "ticks": ""
             }
            },
            "type": "scatterternary"
           }
          ],
          "surface": [
           {
            "colorbar": {
             "outlinewidth": 0,
             "ticks": ""
            },
            "colorscale": [
             [
              0,
              "#0d0887"
             ],
             [
              0.1111111111111111,
              "#46039f"
             ],
             [
              0.2222222222222222,
              "#7201a8"
             ],
             [
              0.3333333333333333,
              "#9c179e"
             ],
             [
              0.4444444444444444,
              "#bd3786"
             ],
             [
              0.5555555555555556,
              "#d8576b"
             ],
             [
              0.6666666666666666,
              "#ed7953"
             ],
             [
              0.7777777777777778,
              "#fb9f3a"
             ],
             [
              0.8888888888888888,
              "#fdca26"
             ],
             [
              1,
              "#f0f921"
             ]
            ],
            "type": "surface"
           }
          ],
          "table": [
           {
            "cells": {
             "fill": {
              "color": "#EBF0F8"
             },
             "line": {
              "color": "white"
             }
            },
            "header": {
             "fill": {
              "color": "#C8D4E3"
             },
             "line": {
              "color": "white"
             }
            },
            "type": "table"
           }
          ]
         },
         "layout": {
          "annotationdefaults": {
           "arrowcolor": "#2a3f5f",
           "arrowhead": 0,
           "arrowwidth": 1
          },
          "autotypenumbers": "strict",
          "coloraxis": {
           "colorbar": {
            "outlinewidth": 0,
            "ticks": ""
           }
          },
          "colorscale": {
           "diverging": [
            [
             0,
             "#8e0152"
            ],
            [
             0.1,
             "#c51b7d"
            ],
            [
             0.2,
             "#de77ae"
            ],
            [
             0.3,
             "#f1b6da"
            ],
            [
             0.4,
             "#fde0ef"
            ],
            [
             0.5,
             "#f7f7f7"
            ],
            [
             0.6,
             "#e6f5d0"
            ],
            [
             0.7,
             "#b8e186"
            ],
            [
             0.8,
             "#7fbc41"
            ],
            [
             0.9,
             "#4d9221"
            ],
            [
             1,
             "#276419"
            ]
           ],
           "sequential": [
            [
             0,
             "#0d0887"
            ],
            [
             0.1111111111111111,
             "#46039f"
            ],
            [
             0.2222222222222222,
             "#7201a8"
            ],
            [
             0.3333333333333333,
             "#9c179e"
            ],
            [
             0.4444444444444444,
             "#bd3786"
            ],
            [
             0.5555555555555556,
             "#d8576b"
            ],
            [
             0.6666666666666666,
             "#ed7953"
            ],
            [
             0.7777777777777778,
             "#fb9f3a"
            ],
            [
             0.8888888888888888,
             "#fdca26"
            ],
            [
             1,
             "#f0f921"
            ]
           ],
           "sequentialminus": [
            [
             0,
             "#0d0887"
            ],
            [
             0.1111111111111111,
             "#46039f"
            ],
            [
             0.2222222222222222,
             "#7201a8"
            ],
            [
             0.3333333333333333,
             "#9c179e"
            ],
            [
             0.4444444444444444,
             "#bd3786"
            ],
            [
             0.5555555555555556,
             "#d8576b"
            ],
            [
             0.6666666666666666,
             "#ed7953"
            ],
            [
             0.7777777777777778,
             "#fb9f3a"
            ],
            [
             0.8888888888888888,
             "#fdca26"
            ],
            [
             1,
             "#f0f921"
            ]
           ]
          },
          "colorway": [
           "#636efa",
           "#EF553B",
           "#00cc96",
           "#ab63fa",
           "#FFA15A",
           "#19d3f3",
           "#FF6692",
           "#B6E880",
           "#FF97FF",
           "#FECB52"
          ],
          "font": {
           "color": "#2a3f5f"
          },
          "geo": {
           "bgcolor": "white",
           "lakecolor": "white",
           "landcolor": "#E5ECF6",
           "showlakes": true,
           "showland": true,
           "subunitcolor": "white"
          },
          "hoverlabel": {
           "align": "left"
          },
          "hovermode": "closest",
          "mapbox": {
           "style": "light"
          },
          "paper_bgcolor": "white",
          "plot_bgcolor": "#E5ECF6",
          "polar": {
           "angularaxis": {
            "gridcolor": "white",
            "linecolor": "white",
            "ticks": ""
           },
           "bgcolor": "#E5ECF6",
           "radialaxis": {
            "gridcolor": "white",
            "linecolor": "white",
            "ticks": ""
           }
          },
          "scene": {
           "xaxis": {
            "backgroundcolor": "#E5ECF6",
            "gridcolor": "white",
            "gridwidth": 2,
            "linecolor": "white",
            "showbackground": true,
            "ticks": "",
            "zerolinecolor": "white"
           },
           "yaxis": {
            "backgroundcolor": "#E5ECF6",
            "gridcolor": "white",
            "gridwidth": 2,
            "linecolor": "white",
            "showbackground": true,
            "ticks": "",
            "zerolinecolor": "white"
           },
           "zaxis": {
            "backgroundcolor": "#E5ECF6",
            "gridcolor": "white",
            "gridwidth": 2,
            "linecolor": "white",
            "showbackground": true,
            "ticks": "",
            "zerolinecolor": "white"
           }
          },
          "shapedefaults": {
           "line": {
            "color": "#2a3f5f"
           }
          },
          "ternary": {
           "aaxis": {
            "gridcolor": "white",
            "linecolor": "white",
            "ticks": ""
           },
           "baxis": {
            "gridcolor": "white",
            "linecolor": "white",
            "ticks": ""
           },
           "bgcolor": "#E5ECF6",
           "caxis": {
            "gridcolor": "white",
            "linecolor": "white",
            "ticks": ""
           }
          },
          "title": {
           "x": 0.05
          },
          "xaxis": {
           "automargin": true,
           "gridcolor": "white",
           "linecolor": "white",
           "ticks": "",
           "title": {
            "standoff": 15
           },
           "zerolinecolor": "white",
           "zerolinewidth": 2
          },
          "yaxis": {
           "automargin": true,
           "gridcolor": "white",
           "linecolor": "white",
           "ticks": "",
           "title": {
            "standoff": 15
           },
           "zerolinecolor": "white",
           "zerolinewidth": 2
          }
         }
        },
        "title": {
         "text": "Happiness vs Generosity vs Economy"
        },
        "xaxis": {
         "autorange": false,
         "range": [
          1.9872999999999998,
          10.621799999999999
         ],
         "title": {
          "text": "Happiness Score"
         }
        },
        "yaxis": {
         "autorange": false,
         "range": [
          0,
          1.114232
         ],
         "title": {
          "text": "Generosity"
         }
        }
       }
      },
      "text/html": [
       "<div>                            <div id=\"c7edf535-188b-4c32-970f-a3b1818ac3f6\" class=\"plotly-graph-div\" style=\"height:650px; width:100%;\"></div>            <script type=\"text/javascript\">                require([\"plotly\"], function(Plotly) {                    window.PLOTLYENV=window.PLOTLYENV || {};                                    if (document.getElementById(\"c7edf535-188b-4c32-970f-a3b1818ac3f6\")) {                    Plotly.newPlot(                        \"c7edf535-188b-4c32-970f-a3b1818ac3f6\",                        [{\"marker\":{\"size\":[1.39651,1.30232,1.32548,1.459,1.29025,1.32944,1.33171,1.33723,1.56391,1.33596,1.30782,1.26637,1.32792,1.27778,1.23011,1.2074,1.25114,1.20806,1.20813,1.15991,1.15406],\"sizemode\":\"area\",\"sizeref\":0.00052825625},\"mode\":\"markers\",\"name\":\"Western Europe\",\"text\":[\"Switzerland\",\"Iceland\",\"Denmark\",\"Norway\",\"Finland\",\"Netherlands\",\"Sweden\",\"Austria\",\"Luxembourg\",\"Ireland\",\"Belgium\",\"United Kingdom\",\"Germany\",\"France\",\"Spain\",\"Malta\",\"Italy\",\"North Cyprus\",\"Cyprus\",\"Portugal\",\"Greece\"],\"x\":[7.587,7.561,7.527,7.522,7.406,7.378,7.364,7.2,6.946,6.94,6.937,6.867,6.75,6.575,6.329,6.302,5.948,5.695,5.689,5.102,4.857],\"y\":[0.29678,0.4363,0.34139,0.34699,0.23351,0.4761,0.36262,0.33088,0.28034,0.45901,0.2225,0.51912,0.28214,0.12332,0.18227,0.51752,0.22823,0.26169,0.30638,0.13719,0.0],\"type\":\"scatter\"},{\"marker\":{\"size\":[1.32629,1.39451],\"sizemode\":\"area\",\"sizeref\":0.00052825625},\"mode\":\"markers\",\"name\":\"North America\",\"text\":[\"Canada\",\"United States\"],\"x\":[7.427,7.119],\"y\":[0.45811,0.40105],\"type\":\"scatter\"},{\"marker\":{\"size\":[1.25018,1.33358],\"sizemode\":\"area\",\"sizeref\":0.00052825625},\"mode\":\"markers\",\"name\":\"Australia and New Zealand\",\"text\":[\"New Zealand\",\"Australia\"],\"x\":[7.286,7.284],\"y\":[0.47501,0.43562],\"type\":\"scatter\"},{\"marker\":{\"size\":[1.22857,1.42727,1.36011,1.69042,1.39541,1.55422,1.32376,1.13145,0.93929,1.06098,0.90198,0.73479,1.02564,0.88113,0.59867,1.0088,0.98549,0.8818,0.54649,0.6632],\"sizemode\":\"area\",\"sizeref\":0.00052825625},\"mode\":\"markers\",\"name\":\"Middle East and Northern Africa\",\"text\":[\"Israel\",\"United Arab Emirates\",\"Oman\",\"Qatar\",\"Saudi Arabia\",\"Kuwait\",\"Bahrain\",\"Libya\",\"Algeria\",\"Turkey\",\"Jordan\",\"Morocco\",\"Lebanon\",\"Tunisia\",\"Palestinian Territories\",\"Iran\",\"Iraq\",\"Egypt\",\"Yemen\",\"Syria\"],\"x\":[7.278,6.901,6.853,6.611,6.411,6.295,5.96,5.754,5.605,5.332,5.192,5.013,4.839,4.739,4.715,4.686,4.677,4.194,4.077,3.006],\"y\":[0.33172,0.26428,0.21542,0.32573,0.13706,0.16228,0.17362,0.18295,0.07822,0.12253,0.11053,0.07172,0.21854,0.06431,0.11251,0.38086,0.17922,0.11291,0.09131,0.47179],\"type\":\"scatter\"},{\"marker\":{\"size\":[0.95578,1.02054,0.98124,1.04424,1.06353,1.10715,1.05351,1.06166,0.91861,0.99534,1.21183,0.76454,0.74553,0.86402,0.68133,0.75985,0.59325,0.90019,0.81038,0.89537,0.59532,0.26673],\"sizemode\":\"area\",\"sizeref\":0.00052825625},\"mode\":\"markers\",\"name\":\"Latin America and Caribbean\",\"text\":[\"Costa Rica\",\"Mexico\",\"Brazil\",\"Venezuela\",\"Panama\",\"Chile\",\"Argentina\",\"Uruguay\",\"Colombia\",\"Suriname\",\"Trinidad and Tobago\",\"El Salvador\",\"Guatemala\",\"Ecuador\",\"Bolivia\",\"Paraguay\",\"Nicaragua\",\"Peru\",\"Jamaica\",\"Dominican Republic\",\"Honduras\",\"Haiti\"],\"x\":[7.226,7.187,6.983,6.81,6.786,6.67,6.574,6.485,6.477,6.269,6.168,6.13,6.123,5.975,5.89,5.878,5.828,5.824,5.709,4.885,4.788,4.518],\"y\":[0.25497,0.14074,0.14574,0.05841,0.24434,0.33363,0.11451,0.2324,0.18401,0.16991,0.31844,0.10692,0.27489,0.11541,0.20536,0.3424,0.27815,0.14982,0.2123,0.21684,0.23027,0.46187],\"type\":\"scatter\"},{\"marker\":{\"size\":[1.52186,0.9669,1.12486,0.82827,0.63216,0.70532,0.59066,0.27108,0.46038],\"sizemode\":\"area\",\"sizeref\":0.00052825625},\"mode\":\"markers\",\"name\":\"Southeastern Asia\",\"text\":[\"Singapore\",\"Thailand\",\"Malaysia\",\"Indonesia\",\"Vietnam\",\"Philippines\",\"Laos\",\"Myanmar\",\"Cambodia\"],\"x\":[6.798,6.455,5.77,5.399,5.36,5.073,4.876,4.307,3.819],\"y\":[0.31105,0.5763,0.33075,0.51535,0.1686,0.24991,0.42192,0.79588,0.40359],\"type\":\"scatter\"},{\"marker\":{\"size\":[1.17898,0.63244,1.16891,0.59448,1.12254,1.18498,1.14723,1.03192,1.12555,1.08254,1.13764,0.80148,0.95847,1.15174,0.47428,1.02389,0.97438,1.04345,0.92053,1.11312,0.91851,0.87867,0.83223,1.12094,0.39047,0.79907,0.76821,0.7419,1.01216],\"sizemode\":\"area\",\"sizeref\":0.00052825625},\"mode\":\"markers\",\"name\":\"Central and Eastern Europe\",\"text\":[\"Czech Republic\",\"Uzbekistan\",\"Slovakia\",\"Moldova\",\"Kazakhstan\",\"Slovenia\",\"Lithuania\",\"Belarus\",\"Poland\",\"Croatia\",\"Russia\",\"Kosovo\",\"Turkmenistan\",\"Estonia\",\"Kyrgyzstan\",\"Azerbaijan\",\"Montenegro\",\"Romania\",\"Serbia\",\"Latvia\",\"Macedonia\",\"Albania\",\"Bosnia and Herzegovina\",\"Hungary\",\"Tajikistan\",\"Ukraine\",\"Armenia\",\"Georgia\",\"Bulgaria\"],\"x\":[6.505,6.003,5.995,5.889,5.855,5.848,5.833,5.813,5.791,5.759,5.716,5.589,5.548,5.429,5.286,5.212,5.192,5.124,5.123,5.098,5.007,4.959,4.949,4.8,4.786,4.681,4.35,4.297,4.218],\"y\":[0.10686,0.22837,0.16893,0.20951,0.11827,0.25328,0.02641,0.11046,0.16759,0.05444,0.00199,0.2831,0.16979,0.0868,0.3003,0.07799,0.1614,0.13748,0.19231,0.18226,0.22359,0.14272,0.24808,0.128,0.22974,0.15275,0.07855,0.05547,0.11921],\"type\":\"scatter\"},{\"marker\":{\"size\":[1.29098,1.27074,1.24461,1.38604,0.89012,0.82819],\"sizemode\":\"area\",\"sizeref\":0.00052825625},\"mode\":\"markers\",\"name\":\"Eastern Asia\",\"text\":[\"Taiwan\",\"Japan\",\"South Korea\",\"Hong Kong\",\"China\",\"Mongolia\"],\"x\":[6.298,5.987,5.984,5.474,5.14,4.874],\"y\":[0.25376,0.10705,0.18557,0.39478,0.08185,0.3323],\"type\":\"scatter\"},{\"marker\":{\"size\":[1.00761,0.65435,0.47038,0.18847,0.08308,0.37545,0.71206,0.92049,0.54558,0.271,0.0712,0.52107,0.0,0.19073,0.33024,0.45407,0.36471,0.44025,0.99355,0.01604,0.4225,0.75778,0.26074,0.67866,0.23906,0.21102,0.36498,1.06024,0.0694,0.2852,0.20824,0.0785,0.34193,0.17417,0.46534,0.25812,0.22208,0.28665,0.0153,0.20868],\"sizemode\":\"area\",\"sizeref\":0.00052825625},\"mode\":\"markers\",\"name\":\"Sub-Saharan Africa\",\"text\":[\"Mauritius\",\"Nigeria\",\"Zambia\",\"Somaliland region\",\"Mozambique\",\"Lesotho\",\"Swaziland\",\"South Africa\",\"Ghana\",\"Zimbabwe\",\"Liberia\",\"Sudan\",\"Congo (Kinshasa)\",\"Ethiopia\",\"Sierra Leone\",\"Mauritania\",\"Kenya\",\"Djibouti\",\"Botswana\",\"Malawi\",\"Cameroon\",\"Angola\",\"Mali\",\"Congo (Brazzaville)\",\"Comoros\",\"Uganda\",\"Senegal\",\"Gabon\",\"Niger\",\"Tanzania\",\"Madagascar\",\"Central African Republic\",\"Chad\",\"Guinea\",\"Ivory Coast\",\"Burkina Faso\",\"Rwanda\",\"Benin\",\"Burundi\",\"Togo\"],\"x\":[5.477,5.268,5.129,5.057,4.971,4.898,4.867,4.642,4.633,4.61,4.571,4.55,4.517,4.512,4.507,4.436,4.419,4.369,4.332,4.292,4.252,4.033,3.995,3.989,3.956,3.931,3.904,3.896,3.845,3.781,3.681,3.678,3.667,3.656,3.655,3.587,3.465,3.34,2.905,2.839],\"y\":[0.37744,0.27233,0.19591,0.50318,0.22269,0.16388,0.18259,0.11973,0.23087,0.18987,0.24362,0.19062,0.24834,0.24325,0.21488,0.219,0.37542,0.18093,0.10461,0.33128,0.20618,0.12344,0.18798,0.12388,0.17441,0.29066,0.20843,0.06822,0.19387,0.34377,0.21333,0.23835,0.18386,0.28657,0.20165,0.21747,0.22628,0.1826,0.19727,0.16681],\"type\":\"scatter\"},{\"marker\":{\"size\":[0.77042,0.59543,0.39753,0.64499,0.35997,0.83524,0.31982],\"sizemode\":\"area\",\"sizeref\":0.00052825625},\"mode\":\"markers\",\"name\":\"Southern Asia\",\"text\":[\"Bhutan\",\"Pakistan\",\"Bangladesh\",\"India\",\"Nepal\",\"Sri Lanka\",\"Afghanistan\"],\"x\":[5.253,5.194,4.694,4.565,4.514,4.271,3.575],\"y\":[0.47998,0.33671,0.21222,0.26475,0.32296,0.40828,0.3651],\"type\":\"scatter\"}],                        {\"height\":650,\"hovermode\":\"closest\",\"margin\":{\"b\":50,\"pad\":5,\"t\":50},\"showlegend\":true,\"template\":{\"data\":{\"barpolar\":[{\"marker\":{\"line\":{\"color\":\"#E5ECF6\",\"width\":0.5},\"pattern\":{\"fillmode\":\"overlay\",\"size\":10,\"solidity\":0.2}},\"type\":\"barpolar\"}],\"bar\":[{\"error_x\":{\"color\":\"#2a3f5f\"},\"error_y\":{\"color\":\"#2a3f5f\"},\"marker\":{\"line\":{\"color\":\"#E5ECF6\",\"width\":0.5},\"pattern\":{\"fillmode\":\"overlay\",\"size\":10,\"solidity\":0.2}},\"type\":\"bar\"}],\"carpet\":[{\"aaxis\":{\"endlinecolor\":\"#2a3f5f\",\"gridcolor\":\"white\",\"linecolor\":\"white\",\"minorgridcolor\":\"white\",\"startlinecolor\":\"#2a3f5f\"},\"baxis\":{\"endlinecolor\":\"#2a3f5f\",\"gridcolor\":\"white\",\"linecolor\":\"white\",\"minorgridcolor\":\"white\",\"startlinecolor\":\"#2a3f5f\"},\"type\":\"carpet\"}],\"choropleth\":[{\"colorbar\":{\"outlinewidth\":0,\"ticks\":\"\"},\"type\":\"choropleth\"}],\"contourcarpet\":[{\"colorbar\":{\"outlinewidth\":0,\"ticks\":\"\"},\"type\":\"contourcarpet\"}],\"contour\":[{\"colorbar\":{\"outlinewidth\":0,\"ticks\":\"\"},\"colorscale\":[[0.0,\"#0d0887\"],[0.1111111111111111,\"#46039f\"],[0.2222222222222222,\"#7201a8\"],[0.3333333333333333,\"#9c179e\"],[0.4444444444444444,\"#bd3786\"],[0.5555555555555556,\"#d8576b\"],[0.6666666666666666,\"#ed7953\"],[0.7777777777777778,\"#fb9f3a\"],[0.8888888888888888,\"#fdca26\"],[1.0,\"#f0f921\"]],\"type\":\"contour\"}],\"heatmapgl\":[{\"colorbar\":{\"outlinewidth\":0,\"ticks\":\"\"},\"colorscale\":[[0.0,\"#0d0887\"],[0.1111111111111111,\"#46039f\"],[0.2222222222222222,\"#7201a8\"],[0.3333333333333333,\"#9c179e\"],[0.4444444444444444,\"#bd3786\"],[0.5555555555555556,\"#d8576b\"],[0.6666666666666666,\"#ed7953\"],[0.7777777777777778,\"#fb9f3a\"],[0.8888888888888888,\"#fdca26\"],[1.0,\"#f0f921\"]],\"type\":\"heatmapgl\"}],\"heatmap\":[{\"colorbar\":{\"outlinewidth\":0,\"ticks\":\"\"},\"colorscale\":[[0.0,\"#0d0887\"],[0.1111111111111111,\"#46039f\"],[0.2222222222222222,\"#7201a8\"],[0.3333333333333333,\"#9c179e\"],[0.4444444444444444,\"#bd3786\"],[0.5555555555555556,\"#d8576b\"],[0.6666666666666666,\"#ed7953\"],[0.7777777777777778,\"#fb9f3a\"],[0.8888888888888888,\"#fdca26\"],[1.0,\"#f0f921\"]],\"type\":\"heatmap\"}],\"histogram2dcontour\":[{\"colorbar\":{\"outlinewidth\":0,\"ticks\":\"\"},\"colorscale\":[[0.0,\"#0d0887\"],[0.1111111111111111,\"#46039f\"],[0.2222222222222222,\"#7201a8\"],[0.3333333333333333,\"#9c179e\"],[0.4444444444444444,\"#bd3786\"],[0.5555555555555556,\"#d8576b\"],[0.6666666666666666,\"#ed7953\"],[0.7777777777777778,\"#fb9f3a\"],[0.8888888888888888,\"#fdca26\"],[1.0,\"#f0f921\"]],\"type\":\"histogram2dcontour\"}],\"histogram2d\":[{\"colorbar\":{\"outlinewidth\":0,\"ticks\":\"\"},\"colorscale\":[[0.0,\"#0d0887\"],[0.1111111111111111,\"#46039f\"],[0.2222222222222222,\"#7201a8\"],[0.3333333333333333,\"#9c179e\"],[0.4444444444444444,\"#bd3786\"],[0.5555555555555556,\"#d8576b\"],[0.6666666666666666,\"#ed7953\"],[0.7777777777777778,\"#fb9f3a\"],[0.8888888888888888,\"#fdca26\"],[1.0,\"#f0f921\"]],\"type\":\"histogram2d\"}],\"histogram\":[{\"marker\":{\"pattern\":{\"fillmode\":\"overlay\",\"size\":10,\"solidity\":0.2}},\"type\":\"histogram\"}],\"mesh3d\":[{\"colorbar\":{\"outlinewidth\":0,\"ticks\":\"\"},\"type\":\"mesh3d\"}],\"parcoords\":[{\"line\":{\"colorbar\":{\"outlinewidth\":0,\"ticks\":\"\"}},\"type\":\"parcoords\"}],\"pie\":[{\"automargin\":true,\"type\":\"pie\"}],\"scatter3d\":[{\"line\":{\"colorbar\":{\"outlinewidth\":0,\"ticks\":\"\"}},\"marker\":{\"colorbar\":{\"outlinewidth\":0,\"ticks\":\"\"}},\"type\":\"scatter3d\"}],\"scattercarpet\":[{\"marker\":{\"colorbar\":{\"outlinewidth\":0,\"ticks\":\"\"}},\"type\":\"scattercarpet\"}],\"scattergeo\":[{\"marker\":{\"colorbar\":{\"outlinewidth\":0,\"ticks\":\"\"}},\"type\":\"scattergeo\"}],\"scattergl\":[{\"marker\":{\"colorbar\":{\"outlinewidth\":0,\"ticks\":\"\"}},\"type\":\"scattergl\"}],\"scattermapbox\":[{\"marker\":{\"colorbar\":{\"outlinewidth\":0,\"ticks\":\"\"}},\"type\":\"scattermapbox\"}],\"scatterpolargl\":[{\"marker\":{\"colorbar\":{\"outlinewidth\":0,\"ticks\":\"\"}},\"type\":\"scatterpolargl\"}],\"scatterpolar\":[{\"marker\":{\"colorbar\":{\"outlinewidth\":0,\"ticks\":\"\"}},\"type\":\"scatterpolar\"}],\"scatter\":[{\"fillpattern\":{\"fillmode\":\"overlay\",\"size\":10,\"solidity\":0.2},\"type\":\"scatter\"}],\"scatterternary\":[{\"marker\":{\"colorbar\":{\"outlinewidth\":0,\"ticks\":\"\"}},\"type\":\"scatterternary\"}],\"surface\":[{\"colorbar\":{\"outlinewidth\":0,\"ticks\":\"\"},\"colorscale\":[[0.0,\"#0d0887\"],[0.1111111111111111,\"#46039f\"],[0.2222222222222222,\"#7201a8\"],[0.3333333333333333,\"#9c179e\"],[0.4444444444444444,\"#bd3786\"],[0.5555555555555556,\"#d8576b\"],[0.6666666666666666,\"#ed7953\"],[0.7777777777777778,\"#fb9f3a\"],[0.8888888888888888,\"#fdca26\"],[1.0,\"#f0f921\"]],\"type\":\"surface\"}],\"table\":[{\"cells\":{\"fill\":{\"color\":\"#EBF0F8\"},\"line\":{\"color\":\"white\"}},\"header\":{\"fill\":{\"color\":\"#C8D4E3\"},\"line\":{\"color\":\"white\"}},\"type\":\"table\"}]},\"layout\":{\"annotationdefaults\":{\"arrowcolor\":\"#2a3f5f\",\"arrowhead\":0,\"arrowwidth\":1},\"autotypenumbers\":\"strict\",\"coloraxis\":{\"colorbar\":{\"outlinewidth\":0,\"ticks\":\"\"}},\"colorscale\":{\"diverging\":[[0,\"#8e0152\"],[0.1,\"#c51b7d\"],[0.2,\"#de77ae\"],[0.3,\"#f1b6da\"],[0.4,\"#fde0ef\"],[0.5,\"#f7f7f7\"],[0.6,\"#e6f5d0\"],[0.7,\"#b8e186\"],[0.8,\"#7fbc41\"],[0.9,\"#4d9221\"],[1,\"#276419\"]],\"sequential\":[[0.0,\"#0d0887\"],[0.1111111111111111,\"#46039f\"],[0.2222222222222222,\"#7201a8\"],[0.3333333333333333,\"#9c179e\"],[0.4444444444444444,\"#bd3786\"],[0.5555555555555556,\"#d8576b\"],[0.6666666666666666,\"#ed7953\"],[0.7777777777777778,\"#fb9f3a\"],[0.8888888888888888,\"#fdca26\"],[1.0,\"#f0f921\"]],\"sequentialminus\":[[0.0,\"#0d0887\"],[0.1111111111111111,\"#46039f\"],[0.2222222222222222,\"#7201a8\"],[0.3333333333333333,\"#9c179e\"],[0.4444444444444444,\"#bd3786\"],[0.5555555555555556,\"#d8576b\"],[0.6666666666666666,\"#ed7953\"],[0.7777777777777778,\"#fb9f3a\"],[0.8888888888888888,\"#fdca26\"],[1.0,\"#f0f921\"]]},\"colorway\":[\"#636efa\",\"#EF553B\",\"#00cc96\",\"#ab63fa\",\"#FFA15A\",\"#19d3f3\",\"#FF6692\",\"#B6E880\",\"#FF97FF\",\"#FECB52\"],\"font\":{\"color\":\"#2a3f5f\"},\"geo\":{\"bgcolor\":\"white\",\"lakecolor\":\"white\",\"landcolor\":\"#E5ECF6\",\"showlakes\":true,\"showland\":true,\"subunitcolor\":\"white\"},\"hoverlabel\":{\"align\":\"left\"},\"hovermode\":\"closest\",\"mapbox\":{\"style\":\"light\"},\"paper_bgcolor\":\"white\",\"plot_bgcolor\":\"#E5ECF6\",\"polar\":{\"angularaxis\":{\"gridcolor\":\"white\",\"linecolor\":\"white\",\"ticks\":\"\"},\"bgcolor\":\"#E5ECF6\",\"radialaxis\":{\"gridcolor\":\"white\",\"linecolor\":\"white\",\"ticks\":\"\"}},\"scene\":{\"xaxis\":{\"backgroundcolor\":\"#E5ECF6\",\"gridcolor\":\"white\",\"gridwidth\":2,\"linecolor\":\"white\",\"showbackground\":true,\"ticks\":\"\",\"zerolinecolor\":\"white\"},\"yaxis\":{\"backgroundcolor\":\"#E5ECF6\",\"gridcolor\":\"white\",\"gridwidth\":2,\"linecolor\":\"white\",\"showbackground\":true,\"ticks\":\"\",\"zerolinecolor\":\"white\"},\"zaxis\":{\"backgroundcolor\":\"#E5ECF6\",\"gridcolor\":\"white\",\"gridwidth\":2,\"linecolor\":\"white\",\"showbackground\":true,\"ticks\":\"\",\"zerolinecolor\":\"white\"}},\"shapedefaults\":{\"line\":{\"color\":\"#2a3f5f\"}},\"ternary\":{\"aaxis\":{\"gridcolor\":\"white\",\"linecolor\":\"white\",\"ticks\":\"\"},\"baxis\":{\"gridcolor\":\"white\",\"linecolor\":\"white\",\"ticks\":\"\"},\"bgcolor\":\"#E5ECF6\",\"caxis\":{\"gridcolor\":\"white\",\"linecolor\":\"white\",\"ticks\":\"\"}},\"title\":{\"x\":0.05},\"xaxis\":{\"automargin\":true,\"gridcolor\":\"white\",\"linecolor\":\"white\",\"ticks\":\"\",\"title\":{\"standoff\":15},\"zerolinecolor\":\"white\",\"zerolinewidth\":2},\"yaxis\":{\"automargin\":true,\"gridcolor\":\"white\",\"linecolor\":\"white\",\"ticks\":\"\",\"title\":{\"standoff\":15},\"zerolinecolor\":\"white\",\"zerolinewidth\":2}}},\"title\":{\"text\":\"Happiness vs Generosity vs Economy\"},\"xaxis\":{\"autorange\":false,\"range\":[1.9872999999999998,10.621799999999999],\"title\":{\"text\":\"Happiness Score\"}},\"yaxis\":{\"autorange\":false,\"range\":[0.0,1.114232],\"title\":{\"text\":\"Generosity\"}}},                        {\"scrollzoom\": true, \"responsive\": true}                    ).then(function(){\n",
       "                            \n",
       "var gd = document.getElementById('c7edf535-188b-4c32-970f-a3b1818ac3f6');\n",
       "var x = new MutationObserver(function (mutations, observer) {{\n",
       "        var display = window.getComputedStyle(gd).display;\n",
       "        if (!display || display === 'none') {{\n",
       "            console.log([gd, 'removed!']);\n",
       "            Plotly.purge(gd);\n",
       "            observer.disconnect();\n",
       "        }}\n",
       "}});\n",
       "\n",
       "// Listen for the removal of the full notebook cells\n",
       "var notebookContainer = gd.closest('#notebook-container');\n",
       "if (notebookContainer) {{\n",
       "    x.observe(notebookContainer, {childList: true});\n",
       "}}\n",
       "\n",
       "// Listen for the clearing of the current output cell\n",
       "var outputEl = gd.closest('.output');\n",
       "if (outputEl) {{\n",
       "    x.observe(outputEl, {childList: true});\n",
       "}}\n",
       "\n",
       "                        })                };                });            </script>        </div>"
      ]
     },
     "metadata": {},
     "output_type": "display_data"
    }
   ],
   "source": [
    "import warnings\n",
    "warnings.filterwarnings('ignore')\n",
    "\n",
    "figure = bubbleplot(dataset = df, x_column = 'Happiness Score', y_column = 'Generosity', \n",
    "    bubble_column = 'Country', size_column = 'Economy (GDP per Capita)', color_column = 'Region', \n",
    "    x_title = \"Happiness Score\", y_title = \"Generosity\", title = 'Happiness vs Generosity vs Economy',\n",
    "    x_logscale = False, scale_bubble = 1, height = 650)\n",
    "\n",
    "py.iplot(figure, config={'scrollzoom': True})"
   ]
  },
  {
   "cell_type": "markdown",
   "id": "e9f36483",
   "metadata": {},
   "source": [
    "This plot above shows the relationship between different levels of generosity versus happiness scores in different countries, dividing the countries accordingly."
   ]
  },
  {
   "cell_type": "code",
   "execution_count": 19,
   "id": "64506821",
   "metadata": {},
   "outputs": [
    {
     "data": {
      "application/vnd.plotly.v1+json": {
       "config": {
        "linkText": "Export to plot.ly",
        "plotlyServerURL": "https://plot.ly",
        "scrollzoom": true,
        "showLink": false
       },
       "data": [
        {
         "marker": {
          "size": [
           1.39651,
           1.30232,
           1.32548,
           1.459,
           1.29025,
           1.32944,
           1.33171,
           1.33723,
           1.56391,
           1.33596,
           1.30782,
           1.26637,
           1.32792,
           1.27778,
           1.23011,
           1.2074,
           1.25114,
           1.20806,
           1.20813,
           1.15991,
           1.15406
          ],
          "sizemode": "area",
          "sizeref": 0.00052825625
         },
         "mode": "markers",
         "name": "Western Europe",
         "text": [
          "Switzerland",
          "Iceland",
          "Denmark",
          "Norway",
          "Finland",
          "Netherlands",
          "Sweden",
          "Austria",
          "Luxembourg",
          "Ireland",
          "Belgium",
          "United Kingdom",
          "Germany",
          "France",
          "Spain",
          "Malta",
          "Italy",
          "North Cyprus",
          "Cyprus",
          "Portugal",
          "Greece"
         ],
         "type": "scatter",
         "x": [
          7.587,
          7.561,
          7.527,
          7.522,
          7.406,
          7.378,
          7.364,
          7.2,
          6.946,
          6.94,
          6.937,
          6.867,
          6.75,
          6.575,
          6.329,
          6.302,
          5.948,
          5.695,
          5.689,
          5.102,
          4.857
         ],
         "y": [
          0.41978,
          0.14145,
          0.48357,
          0.36503,
          0.41372,
          0.31814,
          0.43844,
          0.18676,
          0.37798,
          0.28703,
          0.2254,
          0.32067,
          0.21843,
          0.20646,
          0.06398,
          0.13586,
          0.02901,
          0.1428,
          0.06146,
          0.01078,
          0.01397
         ]
        },
        {
         "marker": {
          "size": [
           1.32629,
           1.39451
          ],
          "sizemode": "area",
          "sizeref": 0.00052825625
         },
         "mode": "markers",
         "name": "North America",
         "text": [
          "Canada",
          "United States"
         ],
         "type": "scatter",
         "x": [
          7.427,
          7.119
         ],
         "y": [
          0.32957,
          0.1589
         ]
        },
        {
         "marker": {
          "size": [
           1.25018,
           1.33358
          ],
          "sizemode": "area",
          "sizeref": 0.00052825625
         },
         "mode": "markers",
         "name": "Australia and New Zealand",
         "text": [
          "New Zealand",
          "Australia"
         ],
         "type": "scatter",
         "x": [
          7.286,
          7.284
         ],
         "y": [
          0.42922,
          0.35637
         ]
        },
        {
         "marker": {
          "size": [
           1.22857,
           1.42727,
           1.36011,
           1.69042,
           1.39541,
           1.55422,
           1.32376,
           1.13145,
           0.93929,
           1.06098,
           0.90198,
           0.73479,
           1.02564,
           0.88113,
           0.59867,
           1.0088,
           0.98549,
           0.8818,
           0.54649,
           0.6632
          ],
          "sizemode": "area",
          "sizeref": 0.00052825625
         },
         "mode": "markers",
         "name": "Middle East and Northern Africa",
         "text": [
          "Israel",
          "United Arab Emirates",
          "Oman",
          "Qatar",
          "Saudi Arabia",
          "Kuwait",
          "Bahrain",
          "Libya",
          "Algeria",
          "Turkey",
          "Jordan",
          "Morocco",
          "Lebanon",
          "Tunisia",
          "Palestinian Territories",
          "Iran",
          "Iraq",
          "Egypt",
          "Yemen",
          "Syria"
         ],
         "type": "scatter",
         "x": [
          7.278,
          6.901,
          6.853,
          6.611,
          6.411,
          6.295,
          5.96,
          5.754,
          5.605,
          5.332,
          5.192,
          5.013,
          4.839,
          4.739,
          4.715,
          4.686,
          4.677,
          4.194,
          4.077,
          3.006
         ],
         "y": [
          0.07785,
          0.38583,
          0.32524,
          0.52208,
          0.32524,
          0.25609,
          0.306,
          0.11023,
          0.17383,
          0.15746,
          0.14293,
          0.08546,
          0.04582,
          0.06358,
          0.12905,
          0.05863,
          0.13788,
          0.06324,
          0.07854,
          0.18906
         ]
        },
        {
         "marker": {
          "size": [
           0.95578,
           1.02054,
           0.98124,
           1.04424,
           1.06353,
           1.10715,
           1.05351,
           1.06166,
           0.91861,
           0.99534,
           1.21183,
           0.76454,
           0.74553,
           0.86402,
           0.68133,
           0.75985,
           0.59325,
           0.90019,
           0.81038,
           0.89537,
           0.59532,
           0.26673
          ],
          "sizemode": "area",
          "sizeref": 0.00052825625
         },
         "mode": "markers",
         "name": "Latin America and Caribbean",
         "text": [
          "Costa Rica",
          "Mexico",
          "Brazil",
          "Venezuela",
          "Panama",
          "Chile",
          "Argentina",
          "Uruguay",
          "Colombia",
          "Suriname",
          "Trinidad and Tobago",
          "El Salvador",
          "Guatemala",
          "Ecuador",
          "Bolivia",
          "Paraguay",
          "Nicaragua",
          "Peru",
          "Jamaica",
          "Dominican Republic",
          "Honduras",
          "Haiti"
         ],
         "type": "scatter",
         "x": [
          7.226,
          7.187,
          6.983,
          6.81,
          6.786,
          6.67,
          6.574,
          6.485,
          6.477,
          6.269,
          6.168,
          6.13,
          6.123,
          5.975,
          5.89,
          5.878,
          5.828,
          5.824,
          5.709,
          4.885,
          4.788,
          4.518
         ],
         "y": [
          0.10583,
          0.21312,
          0.17521,
          0.11069,
          0.0927,
          0.12869,
          0.08484,
          0.24558,
          0.0512,
          0.13633,
          0.0114,
          0.11776,
          0.09472,
          0.1809,
          0.088,
          0.08242,
          0.19317,
          0.05989,
          0.02299,
          0.14234,
          0.06825,
          0.17175
         ]
        },
        {
         "marker": {
          "size": [
           1.52186,
           0.9669,
           1.12486,
           0.82827,
           0.63216,
           0.70532,
           0.59066,
           0.27108,
           0.46038
          ],
          "sizemode": "area",
          "sizeref": 0.00052825625
         },
         "mode": "markers",
         "name": "Southeastern Asia",
         "text": [
          "Singapore",
          "Thailand",
          "Malaysia",
          "Indonesia",
          "Vietnam",
          "Philippines",
          "Laos",
          "Myanmar",
          "Cambodia"
         ],
         "type": "scatter",
         "x": [
          6.798,
          6.455,
          5.77,
          5.399,
          5.36,
          5.073,
          4.876,
          4.307,
          3.819
         ],
         "y": [
          0.4921,
          0.03187,
          0.10501,
          0,
          0.10441,
          0.12279,
          0.24249,
          0.19034,
          0.07247
         ]
        },
        {
         "marker": {
          "size": [
           1.17898,
           0.63244,
           1.16891,
           0.59448,
           1.12254,
           1.18498,
           1.14723,
           1.03192,
           1.12555,
           1.08254,
           1.13764,
           0.80148,
           0.95847,
           1.15174,
           0.47428,
           1.02389,
           0.97438,
           1.04345,
           0.92053,
           1.11312,
           0.91851,
           0.87867,
           0.83223,
           1.12094,
           0.39047,
           0.79907,
           0.76821,
           0.7419,
           1.01216
          ],
          "sizemode": "area",
          "sizeref": 0.00052825625
         },
         "mode": "markers",
         "name": "Central and Eastern Europe",
         "text": [
          "Czech Republic",
          "Uzbekistan",
          "Slovakia",
          "Moldova",
          "Kazakhstan",
          "Slovenia",
          "Lithuania",
          "Belarus",
          "Poland",
          "Croatia",
          "Russia",
          "Kosovo",
          "Turkmenistan",
          "Estonia",
          "Kyrgyzstan",
          "Azerbaijan",
          "Montenegro",
          "Romania",
          "Serbia",
          "Latvia",
          "Macedonia",
          "Albania",
          "Bosnia and Herzegovina",
          "Hungary",
          "Tajikistan",
          "Ukraine",
          "Armenia",
          "Georgia",
          "Bulgaria"
         ],
         "type": "scatter",
         "x": [
          6.505,
          6.003,
          5.995,
          5.889,
          5.855,
          5.848,
          5.833,
          5.813,
          5.791,
          5.759,
          5.716,
          5.589,
          5.548,
          5.429,
          5.286,
          5.212,
          5.192,
          5.124,
          5.123,
          5.098,
          5.007,
          4.959,
          4.949,
          4.8,
          4.786,
          4.681,
          4.35,
          4.297,
          4.218
         ],
         "y": [
          0.02652,
          0.30826,
          0.03431,
          0.01615,
          0.08454,
          0.03787,
          0.01031,
          0.1909,
          0.04212,
          0.0243,
          0.03005,
          0.04741,
          0.30844,
          0.15184,
          0.04232,
          0.16065,
          0.14296,
          0.00649,
          0.02617,
          0.06332,
          0.05327,
          0.06413,
          0.00227,
          0.02758,
          0.15072,
          0.02961,
          0.039,
          0.38331,
          0.00872
         ]
        },
        {
         "marker": {
          "size": [
           1.29098,
           1.27074,
           1.24461,
           1.38604,
           0.89012,
           0.82819
          ],
          "sizemode": "area",
          "sizeref": 0.00052825625
         },
         "mode": "markers",
         "name": "Eastern Asia",
         "text": [
          "Taiwan",
          "Japan",
          "South Korea",
          "Hong Kong",
          "China",
          "Mongolia"
         ],
         "type": "scatter",
         "x": [
          6.298,
          5.987,
          5.984,
          5.474,
          5.14,
          4.874
         ],
         "y": [
          0.08129,
          0.1806,
          0.07857,
          0.37124,
          0.02781,
          0.02666
         ]
        },
        {
         "marker": {
          "size": [
           1.00761,
           0.65435,
           0.47038,
           0.18847,
           0.08308,
           0.37545,
           0.71206,
           0.92049,
           0.54558,
           0.271,
           0.0712,
           0.52107,
           0,
           0.19073,
           0.33024,
           0.45407,
           0.36471,
           0.44025,
           0.99355,
           0.01604,
           0.4225,
           0.75778,
           0.26074,
           0.67866,
           0.23906,
           0.21102,
           0.36498,
           1.06024,
           0.0694,
           0.2852,
           0.20824,
           0.0785,
           0.34193,
           0.17417,
           0.46534,
           0.25812,
           0.22208,
           0.28665,
           0.0153,
           0.20868
          ],
          "sizemode": "area",
          "sizeref": 0.00052825625
         },
         "mode": "markers",
         "name": "Sub-Saharan Africa",
         "text": [
          "Mauritius",
          "Nigeria",
          "Zambia",
          "Somaliland region",
          "Mozambique",
          "Lesotho",
          "Swaziland",
          "South Africa",
          "Ghana",
          "Zimbabwe",
          "Liberia",
          "Sudan",
          "Congo (Kinshasa)",
          "Ethiopia",
          "Sierra Leone",
          "Mauritania",
          "Kenya",
          "Djibouti",
          "Botswana",
          "Malawi",
          "Cameroon",
          "Angola",
          "Mali",
          "Congo (Brazzaville)",
          "Comoros",
          "Uganda",
          "Senegal",
          "Gabon",
          "Niger",
          "Tanzania",
          "Madagascar",
          "Central African Republic",
          "Chad",
          "Guinea",
          "Ivory Coast",
          "Burkina Faso",
          "Rwanda",
          "Benin",
          "Burundi",
          "Togo"
         ],
         "type": "scatter",
         "x": [
          5.477,
          5.268,
          5.129,
          5.057,
          4.971,
          4.898,
          4.867,
          4.642,
          4.633,
          4.61,
          4.571,
          4.55,
          4.517,
          4.512,
          4.507,
          4.436,
          4.419,
          4.369,
          4.332,
          4.292,
          4.252,
          4.033,
          3.995,
          3.989,
          3.956,
          3.931,
          3.904,
          3.896,
          3.845,
          3.781,
          3.681,
          3.678,
          3.667,
          3.656,
          3.655,
          3.587,
          3.465,
          3.34,
          2.905,
          2.839
         ],
         "y": [
          0.07521,
          0.0403,
          0.12468,
          0.39928,
          0.15603,
          0.12504,
          0.0306,
          0.08884,
          0.04355,
          0.08079,
          0.06232,
          0.1466,
          0.07625,
          0.15048,
          0.08786,
          0.17461,
          0.05839,
          0.28105,
          0.12474,
          0.06977,
          0.05786,
          0.07122,
          0.12352,
          0.11686,
          0.199,
          0.07267,
          0.10713,
          0.11091,
          0.15639,
          0.05747,
          0.08124,
          0.08289,
          0.05269,
          0.12139,
          0.17922,
          0.12832,
          0.55191,
          0.0801,
          0.10062,
          0.10731
         ]
        },
        {
         "marker": {
          "size": [
           0.77042,
           0.59543,
           0.39753,
           0.64499,
           0.35997,
           0.83524,
           0.31982
          ],
          "sizemode": "area",
          "sizeref": 0.00052825625
         },
         "mode": "markers",
         "name": "Southern Asia",
         "text": [
          "Bhutan",
          "Pakistan",
          "Bangladesh",
          "India",
          "Nepal",
          "Sri Lanka",
          "Afghanistan"
         ],
         "type": "scatter",
         "x": [
          5.253,
          5.194,
          4.694,
          4.565,
          4.514,
          4.271,
          3.575
         ],
         "y": [
          0.15445,
          0.10464,
          0.12569,
          0.08492,
          0.05907,
          0.09179,
          0.09719
         ]
        }
       ],
       "layout": {
        "height": 650,
        "hovermode": "closest",
        "margin": {
         "b": 50,
         "pad": 5,
         "t": 50
        },
        "showlegend": true,
        "template": {
         "data": {
          "bar": [
           {
            "error_x": {
             "color": "#2a3f5f"
            },
            "error_y": {
             "color": "#2a3f5f"
            },
            "marker": {
             "line": {
              "color": "#E5ECF6",
              "width": 0.5
             },
             "pattern": {
              "fillmode": "overlay",
              "size": 10,
              "solidity": 0.2
             }
            },
            "type": "bar"
           }
          ],
          "barpolar": [
           {
            "marker": {
             "line": {
              "color": "#E5ECF6",
              "width": 0.5
             },
             "pattern": {
              "fillmode": "overlay",
              "size": 10,
              "solidity": 0.2
             }
            },
            "type": "barpolar"
           }
          ],
          "carpet": [
           {
            "aaxis": {
             "endlinecolor": "#2a3f5f",
             "gridcolor": "white",
             "linecolor": "white",
             "minorgridcolor": "white",
             "startlinecolor": "#2a3f5f"
            },
            "baxis": {
             "endlinecolor": "#2a3f5f",
             "gridcolor": "white",
             "linecolor": "white",
             "minorgridcolor": "white",
             "startlinecolor": "#2a3f5f"
            },
            "type": "carpet"
           }
          ],
          "choropleth": [
           {
            "colorbar": {
             "outlinewidth": 0,
             "ticks": ""
            },
            "type": "choropleth"
           }
          ],
          "contour": [
           {
            "colorbar": {
             "outlinewidth": 0,
             "ticks": ""
            },
            "colorscale": [
             [
              0,
              "#0d0887"
             ],
             [
              0.1111111111111111,
              "#46039f"
             ],
             [
              0.2222222222222222,
              "#7201a8"
             ],
             [
              0.3333333333333333,
              "#9c179e"
             ],
             [
              0.4444444444444444,
              "#bd3786"
             ],
             [
              0.5555555555555556,
              "#d8576b"
             ],
             [
              0.6666666666666666,
              "#ed7953"
             ],
             [
              0.7777777777777778,
              "#fb9f3a"
             ],
             [
              0.8888888888888888,
              "#fdca26"
             ],
             [
              1,
              "#f0f921"
             ]
            ],
            "type": "contour"
           }
          ],
          "contourcarpet": [
           {
            "colorbar": {
             "outlinewidth": 0,
             "ticks": ""
            },
            "type": "contourcarpet"
           }
          ],
          "heatmap": [
           {
            "colorbar": {
             "outlinewidth": 0,
             "ticks": ""
            },
            "colorscale": [
             [
              0,
              "#0d0887"
             ],
             [
              0.1111111111111111,
              "#46039f"
             ],
             [
              0.2222222222222222,
              "#7201a8"
             ],
             [
              0.3333333333333333,
              "#9c179e"
             ],
             [
              0.4444444444444444,
              "#bd3786"
             ],
             [
              0.5555555555555556,
              "#d8576b"
             ],
             [
              0.6666666666666666,
              "#ed7953"
             ],
             [
              0.7777777777777778,
              "#fb9f3a"
             ],
             [
              0.8888888888888888,
              "#fdca26"
             ],
             [
              1,
              "#f0f921"
             ]
            ],
            "type": "heatmap"
           }
          ],
          "heatmapgl": [
           {
            "colorbar": {
             "outlinewidth": 0,
             "ticks": ""
            },
            "colorscale": [
             [
              0,
              "#0d0887"
             ],
             [
              0.1111111111111111,
              "#46039f"
             ],
             [
              0.2222222222222222,
              "#7201a8"
             ],
             [
              0.3333333333333333,
              "#9c179e"
             ],
             [
              0.4444444444444444,
              "#bd3786"
             ],
             [
              0.5555555555555556,
              "#d8576b"
             ],
             [
              0.6666666666666666,
              "#ed7953"
             ],
             [
              0.7777777777777778,
              "#fb9f3a"
             ],
             [
              0.8888888888888888,
              "#fdca26"
             ],
             [
              1,
              "#f0f921"
             ]
            ],
            "type": "heatmapgl"
           }
          ],
          "histogram": [
           {
            "marker": {
             "pattern": {
              "fillmode": "overlay",
              "size": 10,
              "solidity": 0.2
             }
            },
            "type": "histogram"
           }
          ],
          "histogram2d": [
           {
            "colorbar": {
             "outlinewidth": 0,
             "ticks": ""
            },
            "colorscale": [
             [
              0,
              "#0d0887"
             ],
             [
              0.1111111111111111,
              "#46039f"
             ],
             [
              0.2222222222222222,
              "#7201a8"
             ],
             [
              0.3333333333333333,
              "#9c179e"
             ],
             [
              0.4444444444444444,
              "#bd3786"
             ],
             [
              0.5555555555555556,
              "#d8576b"
             ],
             [
              0.6666666666666666,
              "#ed7953"
             ],
             [
              0.7777777777777778,
              "#fb9f3a"
             ],
             [
              0.8888888888888888,
              "#fdca26"
             ],
             [
              1,
              "#f0f921"
             ]
            ],
            "type": "histogram2d"
           }
          ],
          "histogram2dcontour": [
           {
            "colorbar": {
             "outlinewidth": 0,
             "ticks": ""
            },
            "colorscale": [
             [
              0,
              "#0d0887"
             ],
             [
              0.1111111111111111,
              "#46039f"
             ],
             [
              0.2222222222222222,
              "#7201a8"
             ],
             [
              0.3333333333333333,
              "#9c179e"
             ],
             [
              0.4444444444444444,
              "#bd3786"
             ],
             [
              0.5555555555555556,
              "#d8576b"
             ],
             [
              0.6666666666666666,
              "#ed7953"
             ],
             [
              0.7777777777777778,
              "#fb9f3a"
             ],
             [
              0.8888888888888888,
              "#fdca26"
             ],
             [
              1,
              "#f0f921"
             ]
            ],
            "type": "histogram2dcontour"
           }
          ],
          "mesh3d": [
           {
            "colorbar": {
             "outlinewidth": 0,
             "ticks": ""
            },
            "type": "mesh3d"
           }
          ],
          "parcoords": [
           {
            "line": {
             "colorbar": {
              "outlinewidth": 0,
              "ticks": ""
             }
            },
            "type": "parcoords"
           }
          ],
          "pie": [
           {
            "automargin": true,
            "type": "pie"
           }
          ],
          "scatter": [
           {
            "fillpattern": {
             "fillmode": "overlay",
             "size": 10,
             "solidity": 0.2
            },
            "type": "scatter"
           }
          ],
          "scatter3d": [
           {
            "line": {
             "colorbar": {
              "outlinewidth": 0,
              "ticks": ""
             }
            },
            "marker": {
             "colorbar": {
              "outlinewidth": 0,
              "ticks": ""
             }
            },
            "type": "scatter3d"
           }
          ],
          "scattercarpet": [
           {
            "marker": {
             "colorbar": {
              "outlinewidth": 0,
              "ticks": ""
             }
            },
            "type": "scattercarpet"
           }
          ],
          "scattergeo": [
           {
            "marker": {
             "colorbar": {
              "outlinewidth": 0,
              "ticks": ""
             }
            },
            "type": "scattergeo"
           }
          ],
          "scattergl": [
           {
            "marker": {
             "colorbar": {
              "outlinewidth": 0,
              "ticks": ""
             }
            },
            "type": "scattergl"
           }
          ],
          "scattermapbox": [
           {
            "marker": {
             "colorbar": {
              "outlinewidth": 0,
              "ticks": ""
             }
            },
            "type": "scattermapbox"
           }
          ],
          "scatterpolar": [
           {
            "marker": {
             "colorbar": {
              "outlinewidth": 0,
              "ticks": ""
             }
            },
            "type": "scatterpolar"
           }
          ],
          "scatterpolargl": [
           {
            "marker": {
             "colorbar": {
              "outlinewidth": 0,
              "ticks": ""
             }
            },
            "type": "scatterpolargl"
           }
          ],
          "scatterternary": [
           {
            "marker": {
             "colorbar": {
              "outlinewidth": 0,
              "ticks": ""
             }
            },
            "type": "scatterternary"
           }
          ],
          "surface": [
           {
            "colorbar": {
             "outlinewidth": 0,
             "ticks": ""
            },
            "colorscale": [
             [
              0,
              "#0d0887"
             ],
             [
              0.1111111111111111,
              "#46039f"
             ],
             [
              0.2222222222222222,
              "#7201a8"
             ],
             [
              0.3333333333333333,
              "#9c179e"
             ],
             [
              0.4444444444444444,
              "#bd3786"
             ],
             [
              0.5555555555555556,
              "#d8576b"
             ],
             [
              0.6666666666666666,
              "#ed7953"
             ],
             [
              0.7777777777777778,
              "#fb9f3a"
             ],
             [
              0.8888888888888888,
              "#fdca26"
             ],
             [
              1,
              "#f0f921"
             ]
            ],
            "type": "surface"
           }
          ],
          "table": [
           {
            "cells": {
             "fill": {
              "color": "#EBF0F8"
             },
             "line": {
              "color": "white"
             }
            },
            "header": {
             "fill": {
              "color": "#C8D4E3"
             },
             "line": {
              "color": "white"
             }
            },
            "type": "table"
           }
          ]
         },
         "layout": {
          "annotationdefaults": {
           "arrowcolor": "#2a3f5f",
           "arrowhead": 0,
           "arrowwidth": 1
          },
          "autotypenumbers": "strict",
          "coloraxis": {
           "colorbar": {
            "outlinewidth": 0,
            "ticks": ""
           }
          },
          "colorscale": {
           "diverging": [
            [
             0,
             "#8e0152"
            ],
            [
             0.1,
             "#c51b7d"
            ],
            [
             0.2,
             "#de77ae"
            ],
            [
             0.3,
             "#f1b6da"
            ],
            [
             0.4,
             "#fde0ef"
            ],
            [
             0.5,
             "#f7f7f7"
            ],
            [
             0.6,
             "#e6f5d0"
            ],
            [
             0.7,
             "#b8e186"
            ],
            [
             0.8,
             "#7fbc41"
            ],
            [
             0.9,
             "#4d9221"
            ],
            [
             1,
             "#276419"
            ]
           ],
           "sequential": [
            [
             0,
             "#0d0887"
            ],
            [
             0.1111111111111111,
             "#46039f"
            ],
            [
             0.2222222222222222,
             "#7201a8"
            ],
            [
             0.3333333333333333,
             "#9c179e"
            ],
            [
             0.4444444444444444,
             "#bd3786"
            ],
            [
             0.5555555555555556,
             "#d8576b"
            ],
            [
             0.6666666666666666,
             "#ed7953"
            ],
            [
             0.7777777777777778,
             "#fb9f3a"
            ],
            [
             0.8888888888888888,
             "#fdca26"
            ],
            [
             1,
             "#f0f921"
            ]
           ],
           "sequentialminus": [
            [
             0,
             "#0d0887"
            ],
            [
             0.1111111111111111,
             "#46039f"
            ],
            [
             0.2222222222222222,
             "#7201a8"
            ],
            [
             0.3333333333333333,
             "#9c179e"
            ],
            [
             0.4444444444444444,
             "#bd3786"
            ],
            [
             0.5555555555555556,
             "#d8576b"
            ],
            [
             0.6666666666666666,
             "#ed7953"
            ],
            [
             0.7777777777777778,
             "#fb9f3a"
            ],
            [
             0.8888888888888888,
             "#fdca26"
            ],
            [
             1,
             "#f0f921"
            ]
           ]
          },
          "colorway": [
           "#636efa",
           "#EF553B",
           "#00cc96",
           "#ab63fa",
           "#FFA15A",
           "#19d3f3",
           "#FF6692",
           "#B6E880",
           "#FF97FF",
           "#FECB52"
          ],
          "font": {
           "color": "#2a3f5f"
          },
          "geo": {
           "bgcolor": "white",
           "lakecolor": "white",
           "landcolor": "#E5ECF6",
           "showlakes": true,
           "showland": true,
           "subunitcolor": "white"
          },
          "hoverlabel": {
           "align": "left"
          },
          "hovermode": "closest",
          "mapbox": {
           "style": "light"
          },
          "paper_bgcolor": "white",
          "plot_bgcolor": "#E5ECF6",
          "polar": {
           "angularaxis": {
            "gridcolor": "white",
            "linecolor": "white",
            "ticks": ""
           },
           "bgcolor": "#E5ECF6",
           "radialaxis": {
            "gridcolor": "white",
            "linecolor": "white",
            "ticks": ""
           }
          },
          "scene": {
           "xaxis": {
            "backgroundcolor": "#E5ECF6",
            "gridcolor": "white",
            "gridwidth": 2,
            "linecolor": "white",
            "showbackground": true,
            "ticks": "",
            "zerolinecolor": "white"
           },
           "yaxis": {
            "backgroundcolor": "#E5ECF6",
            "gridcolor": "white",
            "gridwidth": 2,
            "linecolor": "white",
            "showbackground": true,
            "ticks": "",
            "zerolinecolor": "white"
           },
           "zaxis": {
            "backgroundcolor": "#E5ECF6",
            "gridcolor": "white",
            "gridwidth": 2,
            "linecolor": "white",
            "showbackground": true,
            "ticks": "",
            "zerolinecolor": "white"
           }
          },
          "shapedefaults": {
           "line": {
            "color": "#2a3f5f"
           }
          },
          "ternary": {
           "aaxis": {
            "gridcolor": "white",
            "linecolor": "white",
            "ticks": ""
           },
           "baxis": {
            "gridcolor": "white",
            "linecolor": "white",
            "ticks": ""
           },
           "bgcolor": "#E5ECF6",
           "caxis": {
            "gridcolor": "white",
            "linecolor": "white",
            "ticks": ""
           }
          },
          "title": {
           "x": 0.05
          },
          "xaxis": {
           "automargin": true,
           "gridcolor": "white",
           "linecolor": "white",
           "ticks": "",
           "title": {
            "standoff": 15
           },
           "zerolinecolor": "white",
           "zerolinewidth": 2
          },
          "yaxis": {
           "automargin": true,
           "gridcolor": "white",
           "linecolor": "white",
           "ticks": "",
           "title": {
            "standoff": 15
           },
           "zerolinecolor": "white",
           "zerolinewidth": 2
          }
         }
        },
        "title": {
         "text": "Happiness vs Trust vs Economy"
        },
        "xaxis": {
         "autorange": false,
         "range": [
          1.9872999999999998,
          10.621799999999999
         ],
         "title": {
          "text": "Happiness Score"
         }
        },
        "yaxis": {
         "autorange": false,
         "range": [
          0,
          0.772674
         ],
         "title": {
          "text": "Trust"
         }
        }
       }
      },
      "text/html": [
       "<div>                            <div id=\"22dc91ac-5d58-414e-a018-4acf78caeaf7\" class=\"plotly-graph-div\" style=\"height:650px; width:100%;\"></div>            <script type=\"text/javascript\">                require([\"plotly\"], function(Plotly) {                    window.PLOTLYENV=window.PLOTLYENV || {};                                    if (document.getElementById(\"22dc91ac-5d58-414e-a018-4acf78caeaf7\")) {                    Plotly.newPlot(                        \"22dc91ac-5d58-414e-a018-4acf78caeaf7\",                        [{\"marker\":{\"size\":[1.39651,1.30232,1.32548,1.459,1.29025,1.32944,1.33171,1.33723,1.56391,1.33596,1.30782,1.26637,1.32792,1.27778,1.23011,1.2074,1.25114,1.20806,1.20813,1.15991,1.15406],\"sizemode\":\"area\",\"sizeref\":0.00052825625},\"mode\":\"markers\",\"name\":\"Western Europe\",\"text\":[\"Switzerland\",\"Iceland\",\"Denmark\",\"Norway\",\"Finland\",\"Netherlands\",\"Sweden\",\"Austria\",\"Luxembourg\",\"Ireland\",\"Belgium\",\"United Kingdom\",\"Germany\",\"France\",\"Spain\",\"Malta\",\"Italy\",\"North Cyprus\",\"Cyprus\",\"Portugal\",\"Greece\"],\"x\":[7.587,7.561,7.527,7.522,7.406,7.378,7.364,7.2,6.946,6.94,6.937,6.867,6.75,6.575,6.329,6.302,5.948,5.695,5.689,5.102,4.857],\"y\":[0.41978,0.14145,0.48357,0.36503,0.41372,0.31814,0.43844,0.18676,0.37798,0.28703,0.2254,0.32067,0.21843,0.20646,0.06398,0.13586,0.02901,0.1428,0.06146,0.01078,0.01397],\"type\":\"scatter\"},{\"marker\":{\"size\":[1.32629,1.39451],\"sizemode\":\"area\",\"sizeref\":0.00052825625},\"mode\":\"markers\",\"name\":\"North America\",\"text\":[\"Canada\",\"United States\"],\"x\":[7.427,7.119],\"y\":[0.32957,0.1589],\"type\":\"scatter\"},{\"marker\":{\"size\":[1.25018,1.33358],\"sizemode\":\"area\",\"sizeref\":0.00052825625},\"mode\":\"markers\",\"name\":\"Australia and New Zealand\",\"text\":[\"New Zealand\",\"Australia\"],\"x\":[7.286,7.284],\"y\":[0.42922,0.35637],\"type\":\"scatter\"},{\"marker\":{\"size\":[1.22857,1.42727,1.36011,1.69042,1.39541,1.55422,1.32376,1.13145,0.93929,1.06098,0.90198,0.73479,1.02564,0.88113,0.59867,1.0088,0.98549,0.8818,0.54649,0.6632],\"sizemode\":\"area\",\"sizeref\":0.00052825625},\"mode\":\"markers\",\"name\":\"Middle East and Northern Africa\",\"text\":[\"Israel\",\"United Arab Emirates\",\"Oman\",\"Qatar\",\"Saudi Arabia\",\"Kuwait\",\"Bahrain\",\"Libya\",\"Algeria\",\"Turkey\",\"Jordan\",\"Morocco\",\"Lebanon\",\"Tunisia\",\"Palestinian Territories\",\"Iran\",\"Iraq\",\"Egypt\",\"Yemen\",\"Syria\"],\"x\":[7.278,6.901,6.853,6.611,6.411,6.295,5.96,5.754,5.605,5.332,5.192,5.013,4.839,4.739,4.715,4.686,4.677,4.194,4.077,3.006],\"y\":[0.07785,0.38583,0.32524,0.52208,0.32524,0.25609,0.306,0.11023,0.17383,0.15746,0.14293,0.08546,0.04582,0.06358,0.12905,0.05863,0.13788,0.06324,0.07854,0.18906],\"type\":\"scatter\"},{\"marker\":{\"size\":[0.95578,1.02054,0.98124,1.04424,1.06353,1.10715,1.05351,1.06166,0.91861,0.99534,1.21183,0.76454,0.74553,0.86402,0.68133,0.75985,0.59325,0.90019,0.81038,0.89537,0.59532,0.26673],\"sizemode\":\"area\",\"sizeref\":0.00052825625},\"mode\":\"markers\",\"name\":\"Latin America and Caribbean\",\"text\":[\"Costa Rica\",\"Mexico\",\"Brazil\",\"Venezuela\",\"Panama\",\"Chile\",\"Argentina\",\"Uruguay\",\"Colombia\",\"Suriname\",\"Trinidad and Tobago\",\"El Salvador\",\"Guatemala\",\"Ecuador\",\"Bolivia\",\"Paraguay\",\"Nicaragua\",\"Peru\",\"Jamaica\",\"Dominican Republic\",\"Honduras\",\"Haiti\"],\"x\":[7.226,7.187,6.983,6.81,6.786,6.67,6.574,6.485,6.477,6.269,6.168,6.13,6.123,5.975,5.89,5.878,5.828,5.824,5.709,4.885,4.788,4.518],\"y\":[0.10583,0.21312,0.17521,0.11069,0.0927,0.12869,0.08484,0.24558,0.0512,0.13633,0.0114,0.11776,0.09472,0.1809,0.088,0.08242,0.19317,0.05989,0.02299,0.14234,0.06825,0.17175],\"type\":\"scatter\"},{\"marker\":{\"size\":[1.52186,0.9669,1.12486,0.82827,0.63216,0.70532,0.59066,0.27108,0.46038],\"sizemode\":\"area\",\"sizeref\":0.00052825625},\"mode\":\"markers\",\"name\":\"Southeastern Asia\",\"text\":[\"Singapore\",\"Thailand\",\"Malaysia\",\"Indonesia\",\"Vietnam\",\"Philippines\",\"Laos\",\"Myanmar\",\"Cambodia\"],\"x\":[6.798,6.455,5.77,5.399,5.36,5.073,4.876,4.307,3.819],\"y\":[0.4921,0.03187,0.10501,0.0,0.10441,0.12279,0.24249,0.19034,0.07247],\"type\":\"scatter\"},{\"marker\":{\"size\":[1.17898,0.63244,1.16891,0.59448,1.12254,1.18498,1.14723,1.03192,1.12555,1.08254,1.13764,0.80148,0.95847,1.15174,0.47428,1.02389,0.97438,1.04345,0.92053,1.11312,0.91851,0.87867,0.83223,1.12094,0.39047,0.79907,0.76821,0.7419,1.01216],\"sizemode\":\"area\",\"sizeref\":0.00052825625},\"mode\":\"markers\",\"name\":\"Central and Eastern Europe\",\"text\":[\"Czech Republic\",\"Uzbekistan\",\"Slovakia\",\"Moldova\",\"Kazakhstan\",\"Slovenia\",\"Lithuania\",\"Belarus\",\"Poland\",\"Croatia\",\"Russia\",\"Kosovo\",\"Turkmenistan\",\"Estonia\",\"Kyrgyzstan\",\"Azerbaijan\",\"Montenegro\",\"Romania\",\"Serbia\",\"Latvia\",\"Macedonia\",\"Albania\",\"Bosnia and Herzegovina\",\"Hungary\",\"Tajikistan\",\"Ukraine\",\"Armenia\",\"Georgia\",\"Bulgaria\"],\"x\":[6.505,6.003,5.995,5.889,5.855,5.848,5.833,5.813,5.791,5.759,5.716,5.589,5.548,5.429,5.286,5.212,5.192,5.124,5.123,5.098,5.007,4.959,4.949,4.8,4.786,4.681,4.35,4.297,4.218],\"y\":[0.02652,0.30826,0.03431,0.01615,0.08454,0.03787,0.01031,0.1909,0.04212,0.0243,0.03005,0.04741,0.30844,0.15184,0.04232,0.16065,0.14296,0.00649,0.02617,0.06332,0.05327,0.06413,0.00227,0.02758,0.15072,0.02961,0.039,0.38331,0.00872],\"type\":\"scatter\"},{\"marker\":{\"size\":[1.29098,1.27074,1.24461,1.38604,0.89012,0.82819],\"sizemode\":\"area\",\"sizeref\":0.00052825625},\"mode\":\"markers\",\"name\":\"Eastern Asia\",\"text\":[\"Taiwan\",\"Japan\",\"South Korea\",\"Hong Kong\",\"China\",\"Mongolia\"],\"x\":[6.298,5.987,5.984,5.474,5.14,4.874],\"y\":[0.08129,0.1806,0.07857,0.37124,0.02781,0.02666],\"type\":\"scatter\"},{\"marker\":{\"size\":[1.00761,0.65435,0.47038,0.18847,0.08308,0.37545,0.71206,0.92049,0.54558,0.271,0.0712,0.52107,0.0,0.19073,0.33024,0.45407,0.36471,0.44025,0.99355,0.01604,0.4225,0.75778,0.26074,0.67866,0.23906,0.21102,0.36498,1.06024,0.0694,0.2852,0.20824,0.0785,0.34193,0.17417,0.46534,0.25812,0.22208,0.28665,0.0153,0.20868],\"sizemode\":\"area\",\"sizeref\":0.00052825625},\"mode\":\"markers\",\"name\":\"Sub-Saharan Africa\",\"text\":[\"Mauritius\",\"Nigeria\",\"Zambia\",\"Somaliland region\",\"Mozambique\",\"Lesotho\",\"Swaziland\",\"South Africa\",\"Ghana\",\"Zimbabwe\",\"Liberia\",\"Sudan\",\"Congo (Kinshasa)\",\"Ethiopia\",\"Sierra Leone\",\"Mauritania\",\"Kenya\",\"Djibouti\",\"Botswana\",\"Malawi\",\"Cameroon\",\"Angola\",\"Mali\",\"Congo (Brazzaville)\",\"Comoros\",\"Uganda\",\"Senegal\",\"Gabon\",\"Niger\",\"Tanzania\",\"Madagascar\",\"Central African Republic\",\"Chad\",\"Guinea\",\"Ivory Coast\",\"Burkina Faso\",\"Rwanda\",\"Benin\",\"Burundi\",\"Togo\"],\"x\":[5.477,5.268,5.129,5.057,4.971,4.898,4.867,4.642,4.633,4.61,4.571,4.55,4.517,4.512,4.507,4.436,4.419,4.369,4.332,4.292,4.252,4.033,3.995,3.989,3.956,3.931,3.904,3.896,3.845,3.781,3.681,3.678,3.667,3.656,3.655,3.587,3.465,3.34,2.905,2.839],\"y\":[0.07521,0.0403,0.12468,0.39928,0.15603,0.12504,0.0306,0.08884,0.04355,0.08079,0.06232,0.1466,0.07625,0.15048,0.08786,0.17461,0.05839,0.28105,0.12474,0.06977,0.05786,0.07122,0.12352,0.11686,0.199,0.07267,0.10713,0.11091,0.15639,0.05747,0.08124,0.08289,0.05269,0.12139,0.17922,0.12832,0.55191,0.0801,0.10062,0.10731],\"type\":\"scatter\"},{\"marker\":{\"size\":[0.77042,0.59543,0.39753,0.64499,0.35997,0.83524,0.31982],\"sizemode\":\"area\",\"sizeref\":0.00052825625},\"mode\":\"markers\",\"name\":\"Southern Asia\",\"text\":[\"Bhutan\",\"Pakistan\",\"Bangladesh\",\"India\",\"Nepal\",\"Sri Lanka\",\"Afghanistan\"],\"x\":[5.253,5.194,4.694,4.565,4.514,4.271,3.575],\"y\":[0.15445,0.10464,0.12569,0.08492,0.05907,0.09179,0.09719],\"type\":\"scatter\"}],                        {\"height\":650,\"hovermode\":\"closest\",\"margin\":{\"b\":50,\"pad\":5,\"t\":50},\"showlegend\":true,\"template\":{\"data\":{\"barpolar\":[{\"marker\":{\"line\":{\"color\":\"#E5ECF6\",\"width\":0.5},\"pattern\":{\"fillmode\":\"overlay\",\"size\":10,\"solidity\":0.2}},\"type\":\"barpolar\"}],\"bar\":[{\"error_x\":{\"color\":\"#2a3f5f\"},\"error_y\":{\"color\":\"#2a3f5f\"},\"marker\":{\"line\":{\"color\":\"#E5ECF6\",\"width\":0.5},\"pattern\":{\"fillmode\":\"overlay\",\"size\":10,\"solidity\":0.2}},\"type\":\"bar\"}],\"carpet\":[{\"aaxis\":{\"endlinecolor\":\"#2a3f5f\",\"gridcolor\":\"white\",\"linecolor\":\"white\",\"minorgridcolor\":\"white\",\"startlinecolor\":\"#2a3f5f\"},\"baxis\":{\"endlinecolor\":\"#2a3f5f\",\"gridcolor\":\"white\",\"linecolor\":\"white\",\"minorgridcolor\":\"white\",\"startlinecolor\":\"#2a3f5f\"},\"type\":\"carpet\"}],\"choropleth\":[{\"colorbar\":{\"outlinewidth\":0,\"ticks\":\"\"},\"type\":\"choropleth\"}],\"contourcarpet\":[{\"colorbar\":{\"outlinewidth\":0,\"ticks\":\"\"},\"type\":\"contourcarpet\"}],\"contour\":[{\"colorbar\":{\"outlinewidth\":0,\"ticks\":\"\"},\"colorscale\":[[0.0,\"#0d0887\"],[0.1111111111111111,\"#46039f\"],[0.2222222222222222,\"#7201a8\"],[0.3333333333333333,\"#9c179e\"],[0.4444444444444444,\"#bd3786\"],[0.5555555555555556,\"#d8576b\"],[0.6666666666666666,\"#ed7953\"],[0.7777777777777778,\"#fb9f3a\"],[0.8888888888888888,\"#fdca26\"],[1.0,\"#f0f921\"]],\"type\":\"contour\"}],\"heatmapgl\":[{\"colorbar\":{\"outlinewidth\":0,\"ticks\":\"\"},\"colorscale\":[[0.0,\"#0d0887\"],[0.1111111111111111,\"#46039f\"],[0.2222222222222222,\"#7201a8\"],[0.3333333333333333,\"#9c179e\"],[0.4444444444444444,\"#bd3786\"],[0.5555555555555556,\"#d8576b\"],[0.6666666666666666,\"#ed7953\"],[0.7777777777777778,\"#fb9f3a\"],[0.8888888888888888,\"#fdca26\"],[1.0,\"#f0f921\"]],\"type\":\"heatmapgl\"}],\"heatmap\":[{\"colorbar\":{\"outlinewidth\":0,\"ticks\":\"\"},\"colorscale\":[[0.0,\"#0d0887\"],[0.1111111111111111,\"#46039f\"],[0.2222222222222222,\"#7201a8\"],[0.3333333333333333,\"#9c179e\"],[0.4444444444444444,\"#bd3786\"],[0.5555555555555556,\"#d8576b\"],[0.6666666666666666,\"#ed7953\"],[0.7777777777777778,\"#fb9f3a\"],[0.8888888888888888,\"#fdca26\"],[1.0,\"#f0f921\"]],\"type\":\"heatmap\"}],\"histogram2dcontour\":[{\"colorbar\":{\"outlinewidth\":0,\"ticks\":\"\"},\"colorscale\":[[0.0,\"#0d0887\"],[0.1111111111111111,\"#46039f\"],[0.2222222222222222,\"#7201a8\"],[0.3333333333333333,\"#9c179e\"],[0.4444444444444444,\"#bd3786\"],[0.5555555555555556,\"#d8576b\"],[0.6666666666666666,\"#ed7953\"],[0.7777777777777778,\"#fb9f3a\"],[0.8888888888888888,\"#fdca26\"],[1.0,\"#f0f921\"]],\"type\":\"histogram2dcontour\"}],\"histogram2d\":[{\"colorbar\":{\"outlinewidth\":0,\"ticks\":\"\"},\"colorscale\":[[0.0,\"#0d0887\"],[0.1111111111111111,\"#46039f\"],[0.2222222222222222,\"#7201a8\"],[0.3333333333333333,\"#9c179e\"],[0.4444444444444444,\"#bd3786\"],[0.5555555555555556,\"#d8576b\"],[0.6666666666666666,\"#ed7953\"],[0.7777777777777778,\"#fb9f3a\"],[0.8888888888888888,\"#fdca26\"],[1.0,\"#f0f921\"]],\"type\":\"histogram2d\"}],\"histogram\":[{\"marker\":{\"pattern\":{\"fillmode\":\"overlay\",\"size\":10,\"solidity\":0.2}},\"type\":\"histogram\"}],\"mesh3d\":[{\"colorbar\":{\"outlinewidth\":0,\"ticks\":\"\"},\"type\":\"mesh3d\"}],\"parcoords\":[{\"line\":{\"colorbar\":{\"outlinewidth\":0,\"ticks\":\"\"}},\"type\":\"parcoords\"}],\"pie\":[{\"automargin\":true,\"type\":\"pie\"}],\"scatter3d\":[{\"line\":{\"colorbar\":{\"outlinewidth\":0,\"ticks\":\"\"}},\"marker\":{\"colorbar\":{\"outlinewidth\":0,\"ticks\":\"\"}},\"type\":\"scatter3d\"}],\"scattercarpet\":[{\"marker\":{\"colorbar\":{\"outlinewidth\":0,\"ticks\":\"\"}},\"type\":\"scattercarpet\"}],\"scattergeo\":[{\"marker\":{\"colorbar\":{\"outlinewidth\":0,\"ticks\":\"\"}},\"type\":\"scattergeo\"}],\"scattergl\":[{\"marker\":{\"colorbar\":{\"outlinewidth\":0,\"ticks\":\"\"}},\"type\":\"scattergl\"}],\"scattermapbox\":[{\"marker\":{\"colorbar\":{\"outlinewidth\":0,\"ticks\":\"\"}},\"type\":\"scattermapbox\"}],\"scatterpolargl\":[{\"marker\":{\"colorbar\":{\"outlinewidth\":0,\"ticks\":\"\"}},\"type\":\"scatterpolargl\"}],\"scatterpolar\":[{\"marker\":{\"colorbar\":{\"outlinewidth\":0,\"ticks\":\"\"}},\"type\":\"scatterpolar\"}],\"scatter\":[{\"fillpattern\":{\"fillmode\":\"overlay\",\"size\":10,\"solidity\":0.2},\"type\":\"scatter\"}],\"scatterternary\":[{\"marker\":{\"colorbar\":{\"outlinewidth\":0,\"ticks\":\"\"}},\"type\":\"scatterternary\"}],\"surface\":[{\"colorbar\":{\"outlinewidth\":0,\"ticks\":\"\"},\"colorscale\":[[0.0,\"#0d0887\"],[0.1111111111111111,\"#46039f\"],[0.2222222222222222,\"#7201a8\"],[0.3333333333333333,\"#9c179e\"],[0.4444444444444444,\"#bd3786\"],[0.5555555555555556,\"#d8576b\"],[0.6666666666666666,\"#ed7953\"],[0.7777777777777778,\"#fb9f3a\"],[0.8888888888888888,\"#fdca26\"],[1.0,\"#f0f921\"]],\"type\":\"surface\"}],\"table\":[{\"cells\":{\"fill\":{\"color\":\"#EBF0F8\"},\"line\":{\"color\":\"white\"}},\"header\":{\"fill\":{\"color\":\"#C8D4E3\"},\"line\":{\"color\":\"white\"}},\"type\":\"table\"}]},\"layout\":{\"annotationdefaults\":{\"arrowcolor\":\"#2a3f5f\",\"arrowhead\":0,\"arrowwidth\":1},\"autotypenumbers\":\"strict\",\"coloraxis\":{\"colorbar\":{\"outlinewidth\":0,\"ticks\":\"\"}},\"colorscale\":{\"diverging\":[[0,\"#8e0152\"],[0.1,\"#c51b7d\"],[0.2,\"#de77ae\"],[0.3,\"#f1b6da\"],[0.4,\"#fde0ef\"],[0.5,\"#f7f7f7\"],[0.6,\"#e6f5d0\"],[0.7,\"#b8e186\"],[0.8,\"#7fbc41\"],[0.9,\"#4d9221\"],[1,\"#276419\"]],\"sequential\":[[0.0,\"#0d0887\"],[0.1111111111111111,\"#46039f\"],[0.2222222222222222,\"#7201a8\"],[0.3333333333333333,\"#9c179e\"],[0.4444444444444444,\"#bd3786\"],[0.5555555555555556,\"#d8576b\"],[0.6666666666666666,\"#ed7953\"],[0.7777777777777778,\"#fb9f3a\"],[0.8888888888888888,\"#fdca26\"],[1.0,\"#f0f921\"]],\"sequentialminus\":[[0.0,\"#0d0887\"],[0.1111111111111111,\"#46039f\"],[0.2222222222222222,\"#7201a8\"],[0.3333333333333333,\"#9c179e\"],[0.4444444444444444,\"#bd3786\"],[0.5555555555555556,\"#d8576b\"],[0.6666666666666666,\"#ed7953\"],[0.7777777777777778,\"#fb9f3a\"],[0.8888888888888888,\"#fdca26\"],[1.0,\"#f0f921\"]]},\"colorway\":[\"#636efa\",\"#EF553B\",\"#00cc96\",\"#ab63fa\",\"#FFA15A\",\"#19d3f3\",\"#FF6692\",\"#B6E880\",\"#FF97FF\",\"#FECB52\"],\"font\":{\"color\":\"#2a3f5f\"},\"geo\":{\"bgcolor\":\"white\",\"lakecolor\":\"white\",\"landcolor\":\"#E5ECF6\",\"showlakes\":true,\"showland\":true,\"subunitcolor\":\"white\"},\"hoverlabel\":{\"align\":\"left\"},\"hovermode\":\"closest\",\"mapbox\":{\"style\":\"light\"},\"paper_bgcolor\":\"white\",\"plot_bgcolor\":\"#E5ECF6\",\"polar\":{\"angularaxis\":{\"gridcolor\":\"white\",\"linecolor\":\"white\",\"ticks\":\"\"},\"bgcolor\":\"#E5ECF6\",\"radialaxis\":{\"gridcolor\":\"white\",\"linecolor\":\"white\",\"ticks\":\"\"}},\"scene\":{\"xaxis\":{\"backgroundcolor\":\"#E5ECF6\",\"gridcolor\":\"white\",\"gridwidth\":2,\"linecolor\":\"white\",\"showbackground\":true,\"ticks\":\"\",\"zerolinecolor\":\"white\"},\"yaxis\":{\"backgroundcolor\":\"#E5ECF6\",\"gridcolor\":\"white\",\"gridwidth\":2,\"linecolor\":\"white\",\"showbackground\":true,\"ticks\":\"\",\"zerolinecolor\":\"white\"},\"zaxis\":{\"backgroundcolor\":\"#E5ECF6\",\"gridcolor\":\"white\",\"gridwidth\":2,\"linecolor\":\"white\",\"showbackground\":true,\"ticks\":\"\",\"zerolinecolor\":\"white\"}},\"shapedefaults\":{\"line\":{\"color\":\"#2a3f5f\"}},\"ternary\":{\"aaxis\":{\"gridcolor\":\"white\",\"linecolor\":\"white\",\"ticks\":\"\"},\"baxis\":{\"gridcolor\":\"white\",\"linecolor\":\"white\",\"ticks\":\"\"},\"bgcolor\":\"#E5ECF6\",\"caxis\":{\"gridcolor\":\"white\",\"linecolor\":\"white\",\"ticks\":\"\"}},\"title\":{\"x\":0.05},\"xaxis\":{\"automargin\":true,\"gridcolor\":\"white\",\"linecolor\":\"white\",\"ticks\":\"\",\"title\":{\"standoff\":15},\"zerolinecolor\":\"white\",\"zerolinewidth\":2},\"yaxis\":{\"automargin\":true,\"gridcolor\":\"white\",\"linecolor\":\"white\",\"ticks\":\"\",\"title\":{\"standoff\":15},\"zerolinecolor\":\"white\",\"zerolinewidth\":2}}},\"title\":{\"text\":\"Happiness vs Trust vs Economy\"},\"xaxis\":{\"autorange\":false,\"range\":[1.9872999999999998,10.621799999999999],\"title\":{\"text\":\"Happiness Score\"}},\"yaxis\":{\"autorange\":false,\"range\":[0.0,0.772674],\"title\":{\"text\":\"Trust\"}}},                        {\"scrollzoom\": true, \"responsive\": true}                    ).then(function(){\n",
       "                            \n",
       "var gd = document.getElementById('22dc91ac-5d58-414e-a018-4acf78caeaf7');\n",
       "var x = new MutationObserver(function (mutations, observer) {{\n",
       "        var display = window.getComputedStyle(gd).display;\n",
       "        if (!display || display === 'none') {{\n",
       "            console.log([gd, 'removed!']);\n",
       "            Plotly.purge(gd);\n",
       "            observer.disconnect();\n",
       "        }}\n",
       "}});\n",
       "\n",
       "// Listen for the removal of the full notebook cells\n",
       "var notebookContainer = gd.closest('#notebook-container');\n",
       "if (notebookContainer) {{\n",
       "    x.observe(notebookContainer, {childList: true});\n",
       "}}\n",
       "\n",
       "// Listen for the clearing of the current output cell\n",
       "var outputEl = gd.closest('.output');\n",
       "if (outputEl) {{\n",
       "    x.observe(outputEl, {childList: true});\n",
       "}}\n",
       "\n",
       "                        })                };                });            </script>        </div>"
      ]
     },
     "metadata": {},
     "output_type": "display_data"
    }
   ],
   "source": [
    "import warnings\n",
    "warnings.filterwarnings('ignore')\n",
    "\n",
    "figure = bubbleplot(dataset = df, x_column = 'Happiness Score', y_column = 'Trust (Government Corruption)', \n",
    "    bubble_column = 'Country', size_column = 'Economy (GDP per Capita)', color_column = 'Region', \n",
    "    x_title = \"Happiness Score\", y_title = \"Trust\", title = 'Happiness vs Trust vs Economy',\n",
    "    x_logscale = False, scale_bubble = 1, height = 650)\n",
    "\n",
    "py.iplot(figure, config={'scrollzoom': True})"
   ]
  },
  {
   "cell_type": "markdown",
   "id": "0cb92dbc",
   "metadata": {},
   "source": [
    "This plot above shows the relationship between different levels of trust versus happiness scores in different countries, dividing the countries accordingly."
   ]
  },
  {
   "cell_type": "code",
   "execution_count": 20,
   "id": "771a6024",
   "metadata": {},
   "outputs": [
    {
     "data": {
      "application/vnd.plotly.v1+json": {
       "config": {
        "linkText": "Export to plot.ly",
        "plotlyServerURL": "https://plot.ly",
        "scrollzoom": true,
        "showLink": false
       },
       "data": [
        {
         "marker": {
          "size": [
           1.39651,
           1.30232,
           1.32548,
           1.459,
           1.29025,
           1.32944,
           1.33171,
           1.33723,
           1.56391,
           1.33596,
           1.30782,
           1.26637,
           1.32792,
           1.27778,
           1.23011,
           1.2074,
           1.25114,
           1.20806,
           1.20813,
           1.15991,
           1.15406
          ],
          "sizemode": "area",
          "sizeref": 0.00052825625
         },
         "mode": "markers",
         "name": "Western Europe",
         "text": [
          "Switzerland",
          "Iceland",
          "Denmark",
          "Norway",
          "Finland",
          "Netherlands",
          "Sweden",
          "Austria",
          "Luxembourg",
          "Ireland",
          "Belgium",
          "United Kingdom",
          "Germany",
          "France",
          "Spain",
          "Malta",
          "Italy",
          "North Cyprus",
          "Cyprus",
          "Portugal",
          "Greece"
         ],
         "type": "scatter",
         "x": [
          7.587,
          7.561,
          7.527,
          7.522,
          7.406,
          7.378,
          7.364,
          7.2,
          6.946,
          6.94,
          6.937,
          6.867,
          6.75,
          6.575,
          6.329,
          6.302,
          5.948,
          5.695,
          5.689,
          5.102,
          4.857
         ],
         "y": [
          0.94143,
          0.94784,
          0.87464,
          0.88521,
          0.88911,
          0.89284,
          0.91087,
          0.89042,
          0.91894,
          0.89533,
          0.89667,
          0.90943,
          0.89186,
          0.94579,
          0.95562,
          0.88721,
          0.95446,
          0.92356,
          0.92356,
          0.87519,
          0.88213
         ]
        },
        {
         "marker": {
          "size": [
           1.32629,
           1.39451
          ],
          "sizemode": "area",
          "sizeref": 0.00052825625
         },
         "mode": "markers",
         "name": "North America",
         "text": [
          "Canada",
          "United States"
         ],
         "type": "scatter",
         "x": [
          7.427,
          7.119
         ],
         "y": [
          0.90563,
          0.86179
         ]
        },
        {
         "marker": {
          "size": [
           1.25018,
           1.33358
          ],
          "sizemode": "area",
          "sizeref": 0.00052825625
         },
         "mode": "markers",
         "name": "Australia and New Zealand",
         "text": [
          "New Zealand",
          "Australia"
         ],
         "type": "scatter",
         "x": [
          7.286,
          7.284
         ],
         "y": [
          0.90837,
          0.93156
         ]
        },
        {
         "marker": {
          "size": [
           1.22857,
           1.42727,
           1.36011,
           1.69042,
           1.39541,
           1.55422,
           1.32376,
           1.13145,
           0.93929,
           1.06098,
           0.90198,
           0.73479,
           1.02564,
           0.88113,
           0.59867,
           1.0088,
           0.98549,
           0.8818,
           0.54649,
           0.6632
          ],
          "sizemode": "area",
          "sizeref": 0.00052825625
         },
         "mode": "markers",
         "name": "Middle East and Northern Africa",
         "text": [
          "Israel",
          "United Arab Emirates",
          "Oman",
          "Qatar",
          "Saudi Arabia",
          "Kuwait",
          "Bahrain",
          "Libya",
          "Algeria",
          "Turkey",
          "Jordan",
          "Morocco",
          "Lebanon",
          "Tunisia",
          "Palestinian Territories",
          "Iran",
          "Iraq",
          "Egypt",
          "Yemen",
          "Syria"
         ],
         "type": "scatter",
         "x": [
          7.278,
          6.901,
          6.853,
          6.611,
          6.411,
          6.295,
          5.96,
          5.754,
          5.605,
          5.332,
          5.192,
          5.013,
          4.839,
          4.739,
          4.715,
          4.686,
          4.677,
          4.194,
          4.077,
          3.006
         ],
         "y": [
          0.91387,
          0.80925,
          0.76276,
          0.79733,
          0.72025,
          0.72492,
          0.74716,
          0.7038,
          0.61766,
          0.73172,
          0.69639,
          0.60954,
          0.83947,
          0.73793,
          0.66015,
          0.69805,
          0.60237,
          0.61712,
          0.40064,
          0.72193
         ]
        },
        {
         "marker": {
          "size": [
           0.95578,
           1.02054,
           0.98124,
           1.04424,
           1.06353,
           1.10715,
           1.05351,
           1.06166,
           0.91861,
           0.99534,
           1.21183,
           0.76454,
           0.74553,
           0.86402,
           0.68133,
           0.75985,
           0.59325,
           0.90019,
           0.81038,
           0.89537,
           0.59532,
           0.26673
          ],
          "sizemode": "area",
          "sizeref": 0.00052825625
         },
         "mode": "markers",
         "name": "Latin America and Caribbean",
         "text": [
          "Costa Rica",
          "Mexico",
          "Brazil",
          "Venezuela",
          "Panama",
          "Chile",
          "Argentina",
          "Uruguay",
          "Colombia",
          "Suriname",
          "Trinidad and Tobago",
          "El Salvador",
          "Guatemala",
          "Ecuador",
          "Bolivia",
          "Paraguay",
          "Nicaragua",
          "Peru",
          "Jamaica",
          "Dominican Republic",
          "Honduras",
          "Haiti"
         ],
         "type": "scatter",
         "x": [
          7.226,
          7.187,
          6.983,
          6.81,
          6.786,
          6.67,
          6.574,
          6.485,
          6.477,
          6.269,
          6.168,
          6.13,
          6.123,
          5.975,
          5.89,
          5.878,
          5.828,
          5.824,
          5.709,
          4.885,
          4.788,
          4.518
         ],
         "y": [
          0.86027,
          0.81444,
          0.69702,
          0.72052,
          0.79661,
          0.85857,
          0.78723,
          0.8116,
          0.69077,
          0.6082,
          0.61483,
          0.67737,
          0.64425,
          0.79075,
          0.5392,
          0.66098,
          0.74314,
          0.73017,
          0.68741,
          0.66825,
          0.6951,
          0.38847
         ]
        },
        {
         "marker": {
          "size": [
           1.52186,
           0.9669,
           1.12486,
           0.82827,
           0.63216,
           0.70532,
           0.59066,
           0.27108,
           0.46038
          ],
          "sizemode": "area",
          "sizeref": 0.00052825625
         },
         "mode": "markers",
         "name": "Southeastern Asia",
         "text": [
          "Singapore",
          "Thailand",
          "Malaysia",
          "Indonesia",
          "Vietnam",
          "Philippines",
          "Laos",
          "Myanmar",
          "Cambodia"
         ],
         "type": "scatter",
         "x": [
          6.798,
          6.455,
          5.77,
          5.399,
          5.36,
          5.073,
          4.876,
          4.307,
          3.819
         ],
         "y": [
          1.02525,
          0.7385,
          0.72394,
          0.63793,
          0.74676,
          0.58114,
          0.54909,
          0.48246,
          0.61114
         ]
        },
        {
         "marker": {
          "size": [
           1.17898,
           0.63244,
           1.16891,
           0.59448,
           1.12254,
           1.18498,
           1.14723,
           1.03192,
           1.12555,
           1.08254,
           1.13764,
           0.80148,
           0.95847,
           1.15174,
           0.47428,
           1.02389,
           0.97438,
           1.04345,
           0.92053,
           1.11312,
           0.91851,
           0.87867,
           0.83223,
           1.12094,
           0.39047,
           0.79907,
           0.76821,
           0.7419,
           1.01216
          ],
          "sizemode": "area",
          "sizeref": 0.00052825625
         },
         "mode": "markers",
         "name": "Central and Eastern Europe",
         "text": [
          "Czech Republic",
          "Uzbekistan",
          "Slovakia",
          "Moldova",
          "Kazakhstan",
          "Slovenia",
          "Lithuania",
          "Belarus",
          "Poland",
          "Croatia",
          "Russia",
          "Kosovo",
          "Turkmenistan",
          "Estonia",
          "Kyrgyzstan",
          "Azerbaijan",
          "Montenegro",
          "Romania",
          "Serbia",
          "Latvia",
          "Macedonia",
          "Albania",
          "Bosnia and Herzegovina",
          "Hungary",
          "Tajikistan",
          "Ukraine",
          "Armenia",
          "Georgia",
          "Bulgaria"
         ],
         "type": "scatter",
         "x": [
          6.505,
          6.003,
          5.995,
          5.889,
          5.855,
          5.848,
          5.833,
          5.813,
          5.791,
          5.759,
          5.716,
          5.589,
          5.548,
          5.429,
          5.286,
          5.212,
          5.192,
          5.124,
          5.123,
          5.098,
          5.007,
          4.959,
          4.949,
          4.8,
          4.786,
          4.681,
          4.35,
          4.297,
          4.218
         ],
         "y": [
          0.84483,
          0.59772,
          0.78902,
          0.61826,
          0.64368,
          0.87337,
          0.73128,
          0.73608,
          0.77903,
          0.78805,
          0.66926,
          0.63132,
          0.53886,
          0.77361,
          0.65088,
          0.64045,
          0.72521,
          0.7689,
          0.74836,
          0.72437,
          0.73545,
          0.81325,
          0.79081,
          0.75905,
          0.57379,
          0.6739,
          0.7299,
          0.72926,
          0.76649
         ]
        },
        {
         "marker": {
          "size": [
           1.29098,
           1.27074,
           1.24461,
           1.38604,
           0.89012,
           0.82819
          ],
          "sizemode": "area",
          "sizeref": 0.00052825625
         },
         "mode": "markers",
         "name": "Eastern Asia",
         "text": [
          "Taiwan",
          "Japan",
          "South Korea",
          "Hong Kong",
          "China",
          "Mongolia"
         ],
         "type": "scatter",
         "x": [
          6.298,
          5.987,
          5.984,
          5.474,
          5.14,
          4.874
         ],
         "y": [
          0.8753,
          0.99111,
          0.96538,
          1.01328,
          0.81658,
          0.60268
         ]
        },
        {
         "marker": {
          "size": [
           1.00761,
           0.65435,
           0.47038,
           0.18847,
           0.08308,
           0.37545,
           0.71206,
           0.92049,
           0.54558,
           0.271,
           0.0712,
           0.52107,
           0,
           0.19073,
           0.33024,
           0.45407,
           0.36471,
           0.44025,
           0.99355,
           0.01604,
           0.4225,
           0.75778,
           0.26074,
           0.67866,
           0.23906,
           0.21102,
           0.36498,
           1.06024,
           0.0694,
           0.2852,
           0.20824,
           0.0785,
           0.34193,
           0.17417,
           0.46534,
           0.25812,
           0.22208,
           0.28665,
           0.0153,
           0.20868
          ],
          "sizemode": "area",
          "sizeref": 0.00052825625
         },
         "mode": "markers",
         "name": "Sub-Saharan Africa",
         "text": [
          "Mauritius",
          "Nigeria",
          "Zambia",
          "Somaliland region",
          "Mozambique",
          "Lesotho",
          "Swaziland",
          "South Africa",
          "Ghana",
          "Zimbabwe",
          "Liberia",
          "Sudan",
          "Congo (Kinshasa)",
          "Ethiopia",
          "Sierra Leone",
          "Mauritania",
          "Kenya",
          "Djibouti",
          "Botswana",
          "Malawi",
          "Cameroon",
          "Angola",
          "Mali",
          "Congo (Brazzaville)",
          "Comoros",
          "Uganda",
          "Senegal",
          "Gabon",
          "Niger",
          "Tanzania",
          "Madagascar",
          "Central African Republic",
          "Chad",
          "Guinea",
          "Ivory Coast",
          "Burkina Faso",
          "Rwanda",
          "Benin",
          "Burundi",
          "Togo"
         ],
         "type": "scatter",
         "x": [
          5.477,
          5.268,
          5.129,
          5.057,
          4.971,
          4.898,
          4.867,
          4.642,
          4.633,
          4.61,
          4.571,
          4.55,
          4.517,
          4.512,
          4.507,
          4.436,
          4.419,
          4.369,
          4.332,
          4.292,
          4.252,
          4.033,
          3.995,
          3.989,
          3.956,
          3.931,
          3.904,
          3.896,
          3.845,
          3.781,
          3.681,
          3.678,
          3.667,
          3.656,
          3.655,
          3.587,
          3.465,
          3.34,
          2.905,
          2.839
         ],
         "y": [
          0.7095,
          0.16007,
          0.29924,
          0.43873,
          0.09131,
          0.07612,
          0.07566,
          0.27688,
          0.40132,
          0.33475,
          0.34201,
          0.36878,
          0.09806,
          0.44055,
          0,
          0.35874,
          0.41435,
          0.36291,
          0.04776,
          0.22562,
          0.23402,
          0.16683,
          0.20583,
          0.31051,
          0.36315,
          0.33861,
          0.4354,
          0.43372,
          0.29707,
          0.38215,
          0.46721,
          0.06699,
          0.1501,
          0.24009,
          0.15185,
          0.27125,
          0.42864,
          0.3191,
          0.22396,
          0.28443
         ]
        },
        {
         "marker": {
          "size": [
           0.77042,
           0.59543,
           0.39753,
           0.64499,
           0.35997,
           0.83524,
           0.31982
          ],
          "sizemode": "area",
          "sizeref": 0.00052825625
         },
         "mode": "markers",
         "name": "Southern Asia",
         "text": [
          "Bhutan",
          "Pakistan",
          "Bangladesh",
          "India",
          "Nepal",
          "Sri Lanka",
          "Afghanistan"
         ],
         "type": "scatter",
         "x": [
          5.253,
          5.194,
          4.694,
          4.565,
          4.514,
          4.271,
          3.575
         ],
         "y": [
          0.57407,
          0.51466,
          0.60164,
          0.51529,
          0.56874,
          0.70806,
          0.30335
         ]
        }
       ],
       "layout": {
        "height": 650,
        "hovermode": "closest",
        "margin": {
         "b": 50,
         "pad": 5,
         "t": 50
        },
        "showlegend": true,
        "template": {
         "data": {
          "bar": [
           {
            "error_x": {
             "color": "#2a3f5f"
            },
            "error_y": {
             "color": "#2a3f5f"
            },
            "marker": {
             "line": {
              "color": "#E5ECF6",
              "width": 0.5
             },
             "pattern": {
              "fillmode": "overlay",
              "size": 10,
              "solidity": 0.2
             }
            },
            "type": "bar"
           }
          ],
          "barpolar": [
           {
            "marker": {
             "line": {
              "color": "#E5ECF6",
              "width": 0.5
             },
             "pattern": {
              "fillmode": "overlay",
              "size": 10,
              "solidity": 0.2
             }
            },
            "type": "barpolar"
           }
          ],
          "carpet": [
           {
            "aaxis": {
             "endlinecolor": "#2a3f5f",
             "gridcolor": "white",
             "linecolor": "white",
             "minorgridcolor": "white",
             "startlinecolor": "#2a3f5f"
            },
            "baxis": {
             "endlinecolor": "#2a3f5f",
             "gridcolor": "white",
             "linecolor": "white",
             "minorgridcolor": "white",
             "startlinecolor": "#2a3f5f"
            },
            "type": "carpet"
           }
          ],
          "choropleth": [
           {
            "colorbar": {
             "outlinewidth": 0,
             "ticks": ""
            },
            "type": "choropleth"
           }
          ],
          "contour": [
           {
            "colorbar": {
             "outlinewidth": 0,
             "ticks": ""
            },
            "colorscale": [
             [
              0,
              "#0d0887"
             ],
             [
              0.1111111111111111,
              "#46039f"
             ],
             [
              0.2222222222222222,
              "#7201a8"
             ],
             [
              0.3333333333333333,
              "#9c179e"
             ],
             [
              0.4444444444444444,
              "#bd3786"
             ],
             [
              0.5555555555555556,
              "#d8576b"
             ],
             [
              0.6666666666666666,
              "#ed7953"
             ],
             [
              0.7777777777777778,
              "#fb9f3a"
             ],
             [
              0.8888888888888888,
              "#fdca26"
             ],
             [
              1,
              "#f0f921"
             ]
            ],
            "type": "contour"
           }
          ],
          "contourcarpet": [
           {
            "colorbar": {
             "outlinewidth": 0,
             "ticks": ""
            },
            "type": "contourcarpet"
           }
          ],
          "heatmap": [
           {
            "colorbar": {
             "outlinewidth": 0,
             "ticks": ""
            },
            "colorscale": [
             [
              0,
              "#0d0887"
             ],
             [
              0.1111111111111111,
              "#46039f"
             ],
             [
              0.2222222222222222,
              "#7201a8"
             ],
             [
              0.3333333333333333,
              "#9c179e"
             ],
             [
              0.4444444444444444,
              "#bd3786"
             ],
             [
              0.5555555555555556,
              "#d8576b"
             ],
             [
              0.6666666666666666,
              "#ed7953"
             ],
             [
              0.7777777777777778,
              "#fb9f3a"
             ],
             [
              0.8888888888888888,
              "#fdca26"
             ],
             [
              1,
              "#f0f921"
             ]
            ],
            "type": "heatmap"
           }
          ],
          "heatmapgl": [
           {
            "colorbar": {
             "outlinewidth": 0,
             "ticks": ""
            },
            "colorscale": [
             [
              0,
              "#0d0887"
             ],
             [
              0.1111111111111111,
              "#46039f"
             ],
             [
              0.2222222222222222,
              "#7201a8"
             ],
             [
              0.3333333333333333,
              "#9c179e"
             ],
             [
              0.4444444444444444,
              "#bd3786"
             ],
             [
              0.5555555555555556,
              "#d8576b"
             ],
             [
              0.6666666666666666,
              "#ed7953"
             ],
             [
              0.7777777777777778,
              "#fb9f3a"
             ],
             [
              0.8888888888888888,
              "#fdca26"
             ],
             [
              1,
              "#f0f921"
             ]
            ],
            "type": "heatmapgl"
           }
          ],
          "histogram": [
           {
            "marker": {
             "pattern": {
              "fillmode": "overlay",
              "size": 10,
              "solidity": 0.2
             }
            },
            "type": "histogram"
           }
          ],
          "histogram2d": [
           {
            "colorbar": {
             "outlinewidth": 0,
             "ticks": ""
            },
            "colorscale": [
             [
              0,
              "#0d0887"
             ],
             [
              0.1111111111111111,
              "#46039f"
             ],
             [
              0.2222222222222222,
              "#7201a8"
             ],
             [
              0.3333333333333333,
              "#9c179e"
             ],
             [
              0.4444444444444444,
              "#bd3786"
             ],
             [
              0.5555555555555556,
              "#d8576b"
             ],
             [
              0.6666666666666666,
              "#ed7953"
             ],
             [
              0.7777777777777778,
              "#fb9f3a"
             ],
             [
              0.8888888888888888,
              "#fdca26"
             ],
             [
              1,
              "#f0f921"
             ]
            ],
            "type": "histogram2d"
           }
          ],
          "histogram2dcontour": [
           {
            "colorbar": {
             "outlinewidth": 0,
             "ticks": ""
            },
            "colorscale": [
             [
              0,
              "#0d0887"
             ],
             [
              0.1111111111111111,
              "#46039f"
             ],
             [
              0.2222222222222222,
              "#7201a8"
             ],
             [
              0.3333333333333333,
              "#9c179e"
             ],
             [
              0.4444444444444444,
              "#bd3786"
             ],
             [
              0.5555555555555556,
              "#d8576b"
             ],
             [
              0.6666666666666666,
              "#ed7953"
             ],
             [
              0.7777777777777778,
              "#fb9f3a"
             ],
             [
              0.8888888888888888,
              "#fdca26"
             ],
             [
              1,
              "#f0f921"
             ]
            ],
            "type": "histogram2dcontour"
           }
          ],
          "mesh3d": [
           {
            "colorbar": {
             "outlinewidth": 0,
             "ticks": ""
            },
            "type": "mesh3d"
           }
          ],
          "parcoords": [
           {
            "line": {
             "colorbar": {
              "outlinewidth": 0,
              "ticks": ""
             }
            },
            "type": "parcoords"
           }
          ],
          "pie": [
           {
            "automargin": true,
            "type": "pie"
           }
          ],
          "scatter": [
           {
            "fillpattern": {
             "fillmode": "overlay",
             "size": 10,
             "solidity": 0.2
            },
            "type": "scatter"
           }
          ],
          "scatter3d": [
           {
            "line": {
             "colorbar": {
              "outlinewidth": 0,
              "ticks": ""
             }
            },
            "marker": {
             "colorbar": {
              "outlinewidth": 0,
              "ticks": ""
             }
            },
            "type": "scatter3d"
           }
          ],
          "scattercarpet": [
           {
            "marker": {
             "colorbar": {
              "outlinewidth": 0,
              "ticks": ""
             }
            },
            "type": "scattercarpet"
           }
          ],
          "scattergeo": [
           {
            "marker": {
             "colorbar": {
              "outlinewidth": 0,
              "ticks": ""
             }
            },
            "type": "scattergeo"
           }
          ],
          "scattergl": [
           {
            "marker": {
             "colorbar": {
              "outlinewidth": 0,
              "ticks": ""
             }
            },
            "type": "scattergl"
           }
          ],
          "scattermapbox": [
           {
            "marker": {
             "colorbar": {
              "outlinewidth": 0,
              "ticks": ""
             }
            },
            "type": "scattermapbox"
           }
          ],
          "scatterpolar": [
           {
            "marker": {
             "colorbar": {
              "outlinewidth": 0,
              "ticks": ""
             }
            },
            "type": "scatterpolar"
           }
          ],
          "scatterpolargl": [
           {
            "marker": {
             "colorbar": {
              "outlinewidth": 0,
              "ticks": ""
             }
            },
            "type": "scatterpolargl"
           }
          ],
          "scatterternary": [
           {
            "marker": {
             "colorbar": {
              "outlinewidth": 0,
              "ticks": ""
             }
            },
            "type": "scatterternary"
           }
          ],
          "surface": [
           {
            "colorbar": {
             "outlinewidth": 0,
             "ticks": ""
            },
            "colorscale": [
             [
              0,
              "#0d0887"
             ],
             [
              0.1111111111111111,
              "#46039f"
             ],
             [
              0.2222222222222222,
              "#7201a8"
             ],
             [
              0.3333333333333333,
              "#9c179e"
             ],
             [
              0.4444444444444444,
              "#bd3786"
             ],
             [
              0.5555555555555556,
              "#d8576b"
             ],
             [
              0.6666666666666666,
              "#ed7953"
             ],
             [
              0.7777777777777778,
              "#fb9f3a"
             ],
             [
              0.8888888888888888,
              "#fdca26"
             ],
             [
              1,
              "#f0f921"
             ]
            ],
            "type": "surface"
           }
          ],
          "table": [
           {
            "cells": {
             "fill": {
              "color": "#EBF0F8"
             },
             "line": {
              "color": "white"
             }
            },
            "header": {
             "fill": {
              "color": "#C8D4E3"
             },
             "line": {
              "color": "white"
             }
            },
            "type": "table"
           }
          ]
         },
         "layout": {
          "annotationdefaults": {
           "arrowcolor": "#2a3f5f",
           "arrowhead": 0,
           "arrowwidth": 1
          },
          "autotypenumbers": "strict",
          "coloraxis": {
           "colorbar": {
            "outlinewidth": 0,
            "ticks": ""
           }
          },
          "colorscale": {
           "diverging": [
            [
             0,
             "#8e0152"
            ],
            [
             0.1,
             "#c51b7d"
            ],
            [
             0.2,
             "#de77ae"
            ],
            [
             0.3,
             "#f1b6da"
            ],
            [
             0.4,
             "#fde0ef"
            ],
            [
             0.5,
             "#f7f7f7"
            ],
            [
             0.6,
             "#e6f5d0"
            ],
            [
             0.7,
             "#b8e186"
            ],
            [
             0.8,
             "#7fbc41"
            ],
            [
             0.9,
             "#4d9221"
            ],
            [
             1,
             "#276419"
            ]
           ],
           "sequential": [
            [
             0,
             "#0d0887"
            ],
            [
             0.1111111111111111,
             "#46039f"
            ],
            [
             0.2222222222222222,
             "#7201a8"
            ],
            [
             0.3333333333333333,
             "#9c179e"
            ],
            [
             0.4444444444444444,
             "#bd3786"
            ],
            [
             0.5555555555555556,
             "#d8576b"
            ],
            [
             0.6666666666666666,
             "#ed7953"
            ],
            [
             0.7777777777777778,
             "#fb9f3a"
            ],
            [
             0.8888888888888888,
             "#fdca26"
            ],
            [
             1,
             "#f0f921"
            ]
           ],
           "sequentialminus": [
            [
             0,
             "#0d0887"
            ],
            [
             0.1111111111111111,
             "#46039f"
            ],
            [
             0.2222222222222222,
             "#7201a8"
            ],
            [
             0.3333333333333333,
             "#9c179e"
            ],
            [
             0.4444444444444444,
             "#bd3786"
            ],
            [
             0.5555555555555556,
             "#d8576b"
            ],
            [
             0.6666666666666666,
             "#ed7953"
            ],
            [
             0.7777777777777778,
             "#fb9f3a"
            ],
            [
             0.8888888888888888,
             "#fdca26"
            ],
            [
             1,
             "#f0f921"
            ]
           ]
          },
          "colorway": [
           "#636efa",
           "#EF553B",
           "#00cc96",
           "#ab63fa",
           "#FFA15A",
           "#19d3f3",
           "#FF6692",
           "#B6E880",
           "#FF97FF",
           "#FECB52"
          ],
          "font": {
           "color": "#2a3f5f"
          },
          "geo": {
           "bgcolor": "white",
           "lakecolor": "white",
           "landcolor": "#E5ECF6",
           "showlakes": true,
           "showland": true,
           "subunitcolor": "white"
          },
          "hoverlabel": {
           "align": "left"
          },
          "hovermode": "closest",
          "mapbox": {
           "style": "light"
          },
          "paper_bgcolor": "white",
          "plot_bgcolor": "#E5ECF6",
          "polar": {
           "angularaxis": {
            "gridcolor": "white",
            "linecolor": "white",
            "ticks": ""
           },
           "bgcolor": "#E5ECF6",
           "radialaxis": {
            "gridcolor": "white",
            "linecolor": "white",
            "ticks": ""
           }
          },
          "scene": {
           "xaxis": {
            "backgroundcolor": "#E5ECF6",
            "gridcolor": "white",
            "gridwidth": 2,
            "linecolor": "white",
            "showbackground": true,
            "ticks": "",
            "zerolinecolor": "white"
           },
           "yaxis": {
            "backgroundcolor": "#E5ECF6",
            "gridcolor": "white",
            "gridwidth": 2,
            "linecolor": "white",
            "showbackground": true,
            "ticks": "",
            "zerolinecolor": "white"
           },
           "zaxis": {
            "backgroundcolor": "#E5ECF6",
            "gridcolor": "white",
            "gridwidth": 2,
            "linecolor": "white",
            "showbackground": true,
            "ticks": "",
            "zerolinecolor": "white"
           }
          },
          "shapedefaults": {
           "line": {
            "color": "#2a3f5f"
           }
          },
          "ternary": {
           "aaxis": {
            "gridcolor": "white",
            "linecolor": "white",
            "ticks": ""
           },
           "baxis": {
            "gridcolor": "white",
            "linecolor": "white",
            "ticks": ""
           },
           "bgcolor": "#E5ECF6",
           "caxis": {
            "gridcolor": "white",
            "linecolor": "white",
            "ticks": ""
           }
          },
          "title": {
           "x": 0.05
          },
          "xaxis": {
           "automargin": true,
           "gridcolor": "white",
           "linecolor": "white",
           "ticks": "",
           "title": {
            "standoff": 15
           },
           "zerolinecolor": "white",
           "zerolinewidth": 2
          },
          "yaxis": {
           "automargin": true,
           "gridcolor": "white",
           "linecolor": "white",
           "ticks": "",
           "title": {
            "standoff": 15
           },
           "zerolinecolor": "white",
           "zerolinewidth": 2
          }
         }
        },
        "title": {
         "text": "Happiness vs Health vs Economy"
        },
        "xaxis": {
         "autorange": false,
         "range": [
          1.9872999999999998,
          10.621799999999999
         ],
         "title": {
          "text": "Happiness Score"
         }
        },
        "yaxis": {
         "autorange": false,
         "range": [
          0,
          1.43535
         ],
         "title": {
          "text": "Health"
         }
        }
       }
      },
      "text/html": [
       "<div>                            <div id=\"d1109e5d-bca1-4446-af4e-7459155615aa\" class=\"plotly-graph-div\" style=\"height:650px; width:100%;\"></div>            <script type=\"text/javascript\">                require([\"plotly\"], function(Plotly) {                    window.PLOTLYENV=window.PLOTLYENV || {};                                    if (document.getElementById(\"d1109e5d-bca1-4446-af4e-7459155615aa\")) {                    Plotly.newPlot(                        \"d1109e5d-bca1-4446-af4e-7459155615aa\",                        [{\"marker\":{\"size\":[1.39651,1.30232,1.32548,1.459,1.29025,1.32944,1.33171,1.33723,1.56391,1.33596,1.30782,1.26637,1.32792,1.27778,1.23011,1.2074,1.25114,1.20806,1.20813,1.15991,1.15406],\"sizemode\":\"area\",\"sizeref\":0.00052825625},\"mode\":\"markers\",\"name\":\"Western Europe\",\"text\":[\"Switzerland\",\"Iceland\",\"Denmark\",\"Norway\",\"Finland\",\"Netherlands\",\"Sweden\",\"Austria\",\"Luxembourg\",\"Ireland\",\"Belgium\",\"United Kingdom\",\"Germany\",\"France\",\"Spain\",\"Malta\",\"Italy\",\"North Cyprus\",\"Cyprus\",\"Portugal\",\"Greece\"],\"x\":[7.587,7.561,7.527,7.522,7.406,7.378,7.364,7.2,6.946,6.94,6.937,6.867,6.75,6.575,6.329,6.302,5.948,5.695,5.689,5.102,4.857],\"y\":[0.94143,0.94784,0.87464,0.88521,0.88911,0.89284,0.91087,0.89042,0.91894,0.89533,0.89667,0.90943,0.89186,0.94579,0.95562,0.88721,0.95446,0.92356,0.92356,0.87519,0.88213],\"type\":\"scatter\"},{\"marker\":{\"size\":[1.32629,1.39451],\"sizemode\":\"area\",\"sizeref\":0.00052825625},\"mode\":\"markers\",\"name\":\"North America\",\"text\":[\"Canada\",\"United States\"],\"x\":[7.427,7.119],\"y\":[0.90563,0.86179],\"type\":\"scatter\"},{\"marker\":{\"size\":[1.25018,1.33358],\"sizemode\":\"area\",\"sizeref\":0.00052825625},\"mode\":\"markers\",\"name\":\"Australia and New Zealand\",\"text\":[\"New Zealand\",\"Australia\"],\"x\":[7.286,7.284],\"y\":[0.90837,0.93156],\"type\":\"scatter\"},{\"marker\":{\"size\":[1.22857,1.42727,1.36011,1.69042,1.39541,1.55422,1.32376,1.13145,0.93929,1.06098,0.90198,0.73479,1.02564,0.88113,0.59867,1.0088,0.98549,0.8818,0.54649,0.6632],\"sizemode\":\"area\",\"sizeref\":0.00052825625},\"mode\":\"markers\",\"name\":\"Middle East and Northern Africa\",\"text\":[\"Israel\",\"United Arab Emirates\",\"Oman\",\"Qatar\",\"Saudi Arabia\",\"Kuwait\",\"Bahrain\",\"Libya\",\"Algeria\",\"Turkey\",\"Jordan\",\"Morocco\",\"Lebanon\",\"Tunisia\",\"Palestinian Territories\",\"Iran\",\"Iraq\",\"Egypt\",\"Yemen\",\"Syria\"],\"x\":[7.278,6.901,6.853,6.611,6.411,6.295,5.96,5.754,5.605,5.332,5.192,5.013,4.839,4.739,4.715,4.686,4.677,4.194,4.077,3.006],\"y\":[0.91387,0.80925,0.76276,0.79733,0.72025,0.72492,0.74716,0.7038,0.61766,0.73172,0.69639,0.60954,0.83947,0.73793,0.66015,0.69805,0.60237,0.61712,0.40064,0.72193],\"type\":\"scatter\"},{\"marker\":{\"size\":[0.95578,1.02054,0.98124,1.04424,1.06353,1.10715,1.05351,1.06166,0.91861,0.99534,1.21183,0.76454,0.74553,0.86402,0.68133,0.75985,0.59325,0.90019,0.81038,0.89537,0.59532,0.26673],\"sizemode\":\"area\",\"sizeref\":0.00052825625},\"mode\":\"markers\",\"name\":\"Latin America and Caribbean\",\"text\":[\"Costa Rica\",\"Mexico\",\"Brazil\",\"Venezuela\",\"Panama\",\"Chile\",\"Argentina\",\"Uruguay\",\"Colombia\",\"Suriname\",\"Trinidad and Tobago\",\"El Salvador\",\"Guatemala\",\"Ecuador\",\"Bolivia\",\"Paraguay\",\"Nicaragua\",\"Peru\",\"Jamaica\",\"Dominican Republic\",\"Honduras\",\"Haiti\"],\"x\":[7.226,7.187,6.983,6.81,6.786,6.67,6.574,6.485,6.477,6.269,6.168,6.13,6.123,5.975,5.89,5.878,5.828,5.824,5.709,4.885,4.788,4.518],\"y\":[0.86027,0.81444,0.69702,0.72052,0.79661,0.85857,0.78723,0.8116,0.69077,0.6082,0.61483,0.67737,0.64425,0.79075,0.5392,0.66098,0.74314,0.73017,0.68741,0.66825,0.6951,0.38847],\"type\":\"scatter\"},{\"marker\":{\"size\":[1.52186,0.9669,1.12486,0.82827,0.63216,0.70532,0.59066,0.27108,0.46038],\"sizemode\":\"area\",\"sizeref\":0.00052825625},\"mode\":\"markers\",\"name\":\"Southeastern Asia\",\"text\":[\"Singapore\",\"Thailand\",\"Malaysia\",\"Indonesia\",\"Vietnam\",\"Philippines\",\"Laos\",\"Myanmar\",\"Cambodia\"],\"x\":[6.798,6.455,5.77,5.399,5.36,5.073,4.876,4.307,3.819],\"y\":[1.02525,0.7385,0.72394,0.63793,0.74676,0.58114,0.54909,0.48246,0.61114],\"type\":\"scatter\"},{\"marker\":{\"size\":[1.17898,0.63244,1.16891,0.59448,1.12254,1.18498,1.14723,1.03192,1.12555,1.08254,1.13764,0.80148,0.95847,1.15174,0.47428,1.02389,0.97438,1.04345,0.92053,1.11312,0.91851,0.87867,0.83223,1.12094,0.39047,0.79907,0.76821,0.7419,1.01216],\"sizemode\":\"area\",\"sizeref\":0.00052825625},\"mode\":\"markers\",\"name\":\"Central and Eastern Europe\",\"text\":[\"Czech Republic\",\"Uzbekistan\",\"Slovakia\",\"Moldova\",\"Kazakhstan\",\"Slovenia\",\"Lithuania\",\"Belarus\",\"Poland\",\"Croatia\",\"Russia\",\"Kosovo\",\"Turkmenistan\",\"Estonia\",\"Kyrgyzstan\",\"Azerbaijan\",\"Montenegro\",\"Romania\",\"Serbia\",\"Latvia\",\"Macedonia\",\"Albania\",\"Bosnia and Herzegovina\",\"Hungary\",\"Tajikistan\",\"Ukraine\",\"Armenia\",\"Georgia\",\"Bulgaria\"],\"x\":[6.505,6.003,5.995,5.889,5.855,5.848,5.833,5.813,5.791,5.759,5.716,5.589,5.548,5.429,5.286,5.212,5.192,5.124,5.123,5.098,5.007,4.959,4.949,4.8,4.786,4.681,4.35,4.297,4.218],\"y\":[0.84483,0.59772,0.78902,0.61826,0.64368,0.87337,0.73128,0.73608,0.77903,0.78805,0.66926,0.63132,0.53886,0.77361,0.65088,0.64045,0.72521,0.7689,0.74836,0.72437,0.73545,0.81325,0.79081,0.75905,0.57379,0.6739,0.7299,0.72926,0.76649],\"type\":\"scatter\"},{\"marker\":{\"size\":[1.29098,1.27074,1.24461,1.38604,0.89012,0.82819],\"sizemode\":\"area\",\"sizeref\":0.00052825625},\"mode\":\"markers\",\"name\":\"Eastern Asia\",\"text\":[\"Taiwan\",\"Japan\",\"South Korea\",\"Hong Kong\",\"China\",\"Mongolia\"],\"x\":[6.298,5.987,5.984,5.474,5.14,4.874],\"y\":[0.8753,0.99111,0.96538,1.01328,0.81658,0.60268],\"type\":\"scatter\"},{\"marker\":{\"size\":[1.00761,0.65435,0.47038,0.18847,0.08308,0.37545,0.71206,0.92049,0.54558,0.271,0.0712,0.52107,0.0,0.19073,0.33024,0.45407,0.36471,0.44025,0.99355,0.01604,0.4225,0.75778,0.26074,0.67866,0.23906,0.21102,0.36498,1.06024,0.0694,0.2852,0.20824,0.0785,0.34193,0.17417,0.46534,0.25812,0.22208,0.28665,0.0153,0.20868],\"sizemode\":\"area\",\"sizeref\":0.00052825625},\"mode\":\"markers\",\"name\":\"Sub-Saharan Africa\",\"text\":[\"Mauritius\",\"Nigeria\",\"Zambia\",\"Somaliland region\",\"Mozambique\",\"Lesotho\",\"Swaziland\",\"South Africa\",\"Ghana\",\"Zimbabwe\",\"Liberia\",\"Sudan\",\"Congo (Kinshasa)\",\"Ethiopia\",\"Sierra Leone\",\"Mauritania\",\"Kenya\",\"Djibouti\",\"Botswana\",\"Malawi\",\"Cameroon\",\"Angola\",\"Mali\",\"Congo (Brazzaville)\",\"Comoros\",\"Uganda\",\"Senegal\",\"Gabon\",\"Niger\",\"Tanzania\",\"Madagascar\",\"Central African Republic\",\"Chad\",\"Guinea\",\"Ivory Coast\",\"Burkina Faso\",\"Rwanda\",\"Benin\",\"Burundi\",\"Togo\"],\"x\":[5.477,5.268,5.129,5.057,4.971,4.898,4.867,4.642,4.633,4.61,4.571,4.55,4.517,4.512,4.507,4.436,4.419,4.369,4.332,4.292,4.252,4.033,3.995,3.989,3.956,3.931,3.904,3.896,3.845,3.781,3.681,3.678,3.667,3.656,3.655,3.587,3.465,3.34,2.905,2.839],\"y\":[0.7095,0.16007,0.29924,0.43873,0.09131,0.07612,0.07566,0.27688,0.40132,0.33475,0.34201,0.36878,0.09806,0.44055,0.0,0.35874,0.41435,0.36291,0.04776,0.22562,0.23402,0.16683,0.20583,0.31051,0.36315,0.33861,0.4354,0.43372,0.29707,0.38215,0.46721,0.06699,0.1501,0.24009,0.15185,0.27125,0.42864,0.3191,0.22396,0.28443],\"type\":\"scatter\"},{\"marker\":{\"size\":[0.77042,0.59543,0.39753,0.64499,0.35997,0.83524,0.31982],\"sizemode\":\"area\",\"sizeref\":0.00052825625},\"mode\":\"markers\",\"name\":\"Southern Asia\",\"text\":[\"Bhutan\",\"Pakistan\",\"Bangladesh\",\"India\",\"Nepal\",\"Sri Lanka\",\"Afghanistan\"],\"x\":[5.253,5.194,4.694,4.565,4.514,4.271,3.575],\"y\":[0.57407,0.51466,0.60164,0.51529,0.56874,0.70806,0.30335],\"type\":\"scatter\"}],                        {\"height\":650,\"hovermode\":\"closest\",\"margin\":{\"b\":50,\"pad\":5,\"t\":50},\"showlegend\":true,\"template\":{\"data\":{\"barpolar\":[{\"marker\":{\"line\":{\"color\":\"#E5ECF6\",\"width\":0.5},\"pattern\":{\"fillmode\":\"overlay\",\"size\":10,\"solidity\":0.2}},\"type\":\"barpolar\"}],\"bar\":[{\"error_x\":{\"color\":\"#2a3f5f\"},\"error_y\":{\"color\":\"#2a3f5f\"},\"marker\":{\"line\":{\"color\":\"#E5ECF6\",\"width\":0.5},\"pattern\":{\"fillmode\":\"overlay\",\"size\":10,\"solidity\":0.2}},\"type\":\"bar\"}],\"carpet\":[{\"aaxis\":{\"endlinecolor\":\"#2a3f5f\",\"gridcolor\":\"white\",\"linecolor\":\"white\",\"minorgridcolor\":\"white\",\"startlinecolor\":\"#2a3f5f\"},\"baxis\":{\"endlinecolor\":\"#2a3f5f\",\"gridcolor\":\"white\",\"linecolor\":\"white\",\"minorgridcolor\":\"white\",\"startlinecolor\":\"#2a3f5f\"},\"type\":\"carpet\"}],\"choropleth\":[{\"colorbar\":{\"outlinewidth\":0,\"ticks\":\"\"},\"type\":\"choropleth\"}],\"contourcarpet\":[{\"colorbar\":{\"outlinewidth\":0,\"ticks\":\"\"},\"type\":\"contourcarpet\"}],\"contour\":[{\"colorbar\":{\"outlinewidth\":0,\"ticks\":\"\"},\"colorscale\":[[0.0,\"#0d0887\"],[0.1111111111111111,\"#46039f\"],[0.2222222222222222,\"#7201a8\"],[0.3333333333333333,\"#9c179e\"],[0.4444444444444444,\"#bd3786\"],[0.5555555555555556,\"#d8576b\"],[0.6666666666666666,\"#ed7953\"],[0.7777777777777778,\"#fb9f3a\"],[0.8888888888888888,\"#fdca26\"],[1.0,\"#f0f921\"]],\"type\":\"contour\"}],\"heatmapgl\":[{\"colorbar\":{\"outlinewidth\":0,\"ticks\":\"\"},\"colorscale\":[[0.0,\"#0d0887\"],[0.1111111111111111,\"#46039f\"],[0.2222222222222222,\"#7201a8\"],[0.3333333333333333,\"#9c179e\"],[0.4444444444444444,\"#bd3786\"],[0.5555555555555556,\"#d8576b\"],[0.6666666666666666,\"#ed7953\"],[0.7777777777777778,\"#fb9f3a\"],[0.8888888888888888,\"#fdca26\"],[1.0,\"#f0f921\"]],\"type\":\"heatmapgl\"}],\"heatmap\":[{\"colorbar\":{\"outlinewidth\":0,\"ticks\":\"\"},\"colorscale\":[[0.0,\"#0d0887\"],[0.1111111111111111,\"#46039f\"],[0.2222222222222222,\"#7201a8\"],[0.3333333333333333,\"#9c179e\"],[0.4444444444444444,\"#bd3786\"],[0.5555555555555556,\"#d8576b\"],[0.6666666666666666,\"#ed7953\"],[0.7777777777777778,\"#fb9f3a\"],[0.8888888888888888,\"#fdca26\"],[1.0,\"#f0f921\"]],\"type\":\"heatmap\"}],\"histogram2dcontour\":[{\"colorbar\":{\"outlinewidth\":0,\"ticks\":\"\"},\"colorscale\":[[0.0,\"#0d0887\"],[0.1111111111111111,\"#46039f\"],[0.2222222222222222,\"#7201a8\"],[0.3333333333333333,\"#9c179e\"],[0.4444444444444444,\"#bd3786\"],[0.5555555555555556,\"#d8576b\"],[0.6666666666666666,\"#ed7953\"],[0.7777777777777778,\"#fb9f3a\"],[0.8888888888888888,\"#fdca26\"],[1.0,\"#f0f921\"]],\"type\":\"histogram2dcontour\"}],\"histogram2d\":[{\"colorbar\":{\"outlinewidth\":0,\"ticks\":\"\"},\"colorscale\":[[0.0,\"#0d0887\"],[0.1111111111111111,\"#46039f\"],[0.2222222222222222,\"#7201a8\"],[0.3333333333333333,\"#9c179e\"],[0.4444444444444444,\"#bd3786\"],[0.5555555555555556,\"#d8576b\"],[0.6666666666666666,\"#ed7953\"],[0.7777777777777778,\"#fb9f3a\"],[0.8888888888888888,\"#fdca26\"],[1.0,\"#f0f921\"]],\"type\":\"histogram2d\"}],\"histogram\":[{\"marker\":{\"pattern\":{\"fillmode\":\"overlay\",\"size\":10,\"solidity\":0.2}},\"type\":\"histogram\"}],\"mesh3d\":[{\"colorbar\":{\"outlinewidth\":0,\"ticks\":\"\"},\"type\":\"mesh3d\"}],\"parcoords\":[{\"line\":{\"colorbar\":{\"outlinewidth\":0,\"ticks\":\"\"}},\"type\":\"parcoords\"}],\"pie\":[{\"automargin\":true,\"type\":\"pie\"}],\"scatter3d\":[{\"line\":{\"colorbar\":{\"outlinewidth\":0,\"ticks\":\"\"}},\"marker\":{\"colorbar\":{\"outlinewidth\":0,\"ticks\":\"\"}},\"type\":\"scatter3d\"}],\"scattercarpet\":[{\"marker\":{\"colorbar\":{\"outlinewidth\":0,\"ticks\":\"\"}},\"type\":\"scattercarpet\"}],\"scattergeo\":[{\"marker\":{\"colorbar\":{\"outlinewidth\":0,\"ticks\":\"\"}},\"type\":\"scattergeo\"}],\"scattergl\":[{\"marker\":{\"colorbar\":{\"outlinewidth\":0,\"ticks\":\"\"}},\"type\":\"scattergl\"}],\"scattermapbox\":[{\"marker\":{\"colorbar\":{\"outlinewidth\":0,\"ticks\":\"\"}},\"type\":\"scattermapbox\"}],\"scatterpolargl\":[{\"marker\":{\"colorbar\":{\"outlinewidth\":0,\"ticks\":\"\"}},\"type\":\"scatterpolargl\"}],\"scatterpolar\":[{\"marker\":{\"colorbar\":{\"outlinewidth\":0,\"ticks\":\"\"}},\"type\":\"scatterpolar\"}],\"scatter\":[{\"fillpattern\":{\"fillmode\":\"overlay\",\"size\":10,\"solidity\":0.2},\"type\":\"scatter\"}],\"scatterternary\":[{\"marker\":{\"colorbar\":{\"outlinewidth\":0,\"ticks\":\"\"}},\"type\":\"scatterternary\"}],\"surface\":[{\"colorbar\":{\"outlinewidth\":0,\"ticks\":\"\"},\"colorscale\":[[0.0,\"#0d0887\"],[0.1111111111111111,\"#46039f\"],[0.2222222222222222,\"#7201a8\"],[0.3333333333333333,\"#9c179e\"],[0.4444444444444444,\"#bd3786\"],[0.5555555555555556,\"#d8576b\"],[0.6666666666666666,\"#ed7953\"],[0.7777777777777778,\"#fb9f3a\"],[0.8888888888888888,\"#fdca26\"],[1.0,\"#f0f921\"]],\"type\":\"surface\"}],\"table\":[{\"cells\":{\"fill\":{\"color\":\"#EBF0F8\"},\"line\":{\"color\":\"white\"}},\"header\":{\"fill\":{\"color\":\"#C8D4E3\"},\"line\":{\"color\":\"white\"}},\"type\":\"table\"}]},\"layout\":{\"annotationdefaults\":{\"arrowcolor\":\"#2a3f5f\",\"arrowhead\":0,\"arrowwidth\":1},\"autotypenumbers\":\"strict\",\"coloraxis\":{\"colorbar\":{\"outlinewidth\":0,\"ticks\":\"\"}},\"colorscale\":{\"diverging\":[[0,\"#8e0152\"],[0.1,\"#c51b7d\"],[0.2,\"#de77ae\"],[0.3,\"#f1b6da\"],[0.4,\"#fde0ef\"],[0.5,\"#f7f7f7\"],[0.6,\"#e6f5d0\"],[0.7,\"#b8e186\"],[0.8,\"#7fbc41\"],[0.9,\"#4d9221\"],[1,\"#276419\"]],\"sequential\":[[0.0,\"#0d0887\"],[0.1111111111111111,\"#46039f\"],[0.2222222222222222,\"#7201a8\"],[0.3333333333333333,\"#9c179e\"],[0.4444444444444444,\"#bd3786\"],[0.5555555555555556,\"#d8576b\"],[0.6666666666666666,\"#ed7953\"],[0.7777777777777778,\"#fb9f3a\"],[0.8888888888888888,\"#fdca26\"],[1.0,\"#f0f921\"]],\"sequentialminus\":[[0.0,\"#0d0887\"],[0.1111111111111111,\"#46039f\"],[0.2222222222222222,\"#7201a8\"],[0.3333333333333333,\"#9c179e\"],[0.4444444444444444,\"#bd3786\"],[0.5555555555555556,\"#d8576b\"],[0.6666666666666666,\"#ed7953\"],[0.7777777777777778,\"#fb9f3a\"],[0.8888888888888888,\"#fdca26\"],[1.0,\"#f0f921\"]]},\"colorway\":[\"#636efa\",\"#EF553B\",\"#00cc96\",\"#ab63fa\",\"#FFA15A\",\"#19d3f3\",\"#FF6692\",\"#B6E880\",\"#FF97FF\",\"#FECB52\"],\"font\":{\"color\":\"#2a3f5f\"},\"geo\":{\"bgcolor\":\"white\",\"lakecolor\":\"white\",\"landcolor\":\"#E5ECF6\",\"showlakes\":true,\"showland\":true,\"subunitcolor\":\"white\"},\"hoverlabel\":{\"align\":\"left\"},\"hovermode\":\"closest\",\"mapbox\":{\"style\":\"light\"},\"paper_bgcolor\":\"white\",\"plot_bgcolor\":\"#E5ECF6\",\"polar\":{\"angularaxis\":{\"gridcolor\":\"white\",\"linecolor\":\"white\",\"ticks\":\"\"},\"bgcolor\":\"#E5ECF6\",\"radialaxis\":{\"gridcolor\":\"white\",\"linecolor\":\"white\",\"ticks\":\"\"}},\"scene\":{\"xaxis\":{\"backgroundcolor\":\"#E5ECF6\",\"gridcolor\":\"white\",\"gridwidth\":2,\"linecolor\":\"white\",\"showbackground\":true,\"ticks\":\"\",\"zerolinecolor\":\"white\"},\"yaxis\":{\"backgroundcolor\":\"#E5ECF6\",\"gridcolor\":\"white\",\"gridwidth\":2,\"linecolor\":\"white\",\"showbackground\":true,\"ticks\":\"\",\"zerolinecolor\":\"white\"},\"zaxis\":{\"backgroundcolor\":\"#E5ECF6\",\"gridcolor\":\"white\",\"gridwidth\":2,\"linecolor\":\"white\",\"showbackground\":true,\"ticks\":\"\",\"zerolinecolor\":\"white\"}},\"shapedefaults\":{\"line\":{\"color\":\"#2a3f5f\"}},\"ternary\":{\"aaxis\":{\"gridcolor\":\"white\",\"linecolor\":\"white\",\"ticks\":\"\"},\"baxis\":{\"gridcolor\":\"white\",\"linecolor\":\"white\",\"ticks\":\"\"},\"bgcolor\":\"#E5ECF6\",\"caxis\":{\"gridcolor\":\"white\",\"linecolor\":\"white\",\"ticks\":\"\"}},\"title\":{\"x\":0.05},\"xaxis\":{\"automargin\":true,\"gridcolor\":\"white\",\"linecolor\":\"white\",\"ticks\":\"\",\"title\":{\"standoff\":15},\"zerolinecolor\":\"white\",\"zerolinewidth\":2},\"yaxis\":{\"automargin\":true,\"gridcolor\":\"white\",\"linecolor\":\"white\",\"ticks\":\"\",\"title\":{\"standoff\":15},\"zerolinecolor\":\"white\",\"zerolinewidth\":2}}},\"title\":{\"text\":\"Happiness vs Health vs Economy\"},\"xaxis\":{\"autorange\":false,\"range\":[1.9872999999999998,10.621799999999999],\"title\":{\"text\":\"Happiness Score\"}},\"yaxis\":{\"autorange\":false,\"range\":[0.0,1.43535],\"title\":{\"text\":\"Health\"}}},                        {\"scrollzoom\": true, \"responsive\": true}                    ).then(function(){\n",
       "                            \n",
       "var gd = document.getElementById('d1109e5d-bca1-4446-af4e-7459155615aa');\n",
       "var x = new MutationObserver(function (mutations, observer) {{\n",
       "        var display = window.getComputedStyle(gd).display;\n",
       "        if (!display || display === 'none') {{\n",
       "            console.log([gd, 'removed!']);\n",
       "            Plotly.purge(gd);\n",
       "            observer.disconnect();\n",
       "        }}\n",
       "}});\n",
       "\n",
       "// Listen for the removal of the full notebook cells\n",
       "var notebookContainer = gd.closest('#notebook-container');\n",
       "if (notebookContainer) {{\n",
       "    x.observe(notebookContainer, {childList: true});\n",
       "}}\n",
       "\n",
       "// Listen for the clearing of the current output cell\n",
       "var outputEl = gd.closest('.output');\n",
       "if (outputEl) {{\n",
       "    x.observe(outputEl, {childList: true});\n",
       "}}\n",
       "\n",
       "                        })                };                });            </script>        </div>"
      ]
     },
     "metadata": {},
     "output_type": "display_data"
    }
   ],
   "source": [
    "import warnings\n",
    "warnings.filterwarnings('ignore')\n",
    "\n",
    "figure = bubbleplot(dataset = df, x_column = 'Happiness Score', y_column = 'Health (Life Expectancy)', \n",
    "    bubble_column = 'Country', size_column = 'Economy (GDP per Capita)', color_column = 'Region', \n",
    "    x_title = \"Happiness Score\", y_title = \"Health\", title = 'Happiness vs Health vs Economy',\n",
    "    x_logscale = False, scale_bubble = 1, height = 650)\n",
    "\n",
    "py.iplot(figure, config={'scrollzoom': True})"
   ]
  },
  {
   "cell_type": "markdown",
   "id": "01c45621",
   "metadata": {},
   "source": [
    "This plot above shows the relationship between different levels of health versus happiness scores in different countries, dividing the countries accordingly."
   ]
  },
  {
   "cell_type": "code",
   "execution_count": 21,
   "id": "9d9208f7",
   "metadata": {},
   "outputs": [
    {
     "data": {
      "application/vnd.plotly.v1+json": {
       "config": {
        "linkText": "Export to plot.ly",
        "plotlyServerURL": "https://plot.ly",
        "scrollzoom": true,
        "showLink": false
       },
       "data": [
        {
         "marker": {
          "size": [
           1.39651,
           1.30232,
           1.32548,
           1.459,
           1.29025,
           1.32944,
           1.33171,
           1.33723,
           1.56391,
           1.33596,
           1.30782,
           1.26637,
           1.32792,
           1.27778,
           1.23011,
           1.2074,
           1.25114,
           1.20806,
           1.20813,
           1.15991,
           1.15406
          ],
          "sizemode": "area",
          "sizeref": 0.00052825625
         },
         "mode": "markers",
         "name": "Western Europe",
         "text": [
          "Switzerland",
          "Iceland",
          "Denmark",
          "Norway",
          "Finland",
          "Netherlands",
          "Sweden",
          "Austria",
          "Luxembourg",
          "Ireland",
          "Belgium",
          "United Kingdom",
          "Germany",
          "France",
          "Spain",
          "Malta",
          "Italy",
          "North Cyprus",
          "Cyprus",
          "Portugal",
          "Greece"
         ],
         "type": "scatter",
         "x": [
          7.587,
          7.561,
          7.527,
          7.522,
          7.406,
          7.378,
          7.364,
          7.2,
          6.946,
          6.94,
          6.937,
          6.867,
          6.75,
          6.575,
          6.329,
          6.302,
          5.948,
          5.695,
          5.689,
          5.102,
          4.857
         ],
         "y": [
          1.34951,
          1.40223,
          1.36058,
          1.33095,
          1.31826,
          1.28017,
          1.28907,
          1.29704,
          1.21963,
          1.36948,
          1.28566,
          1.28548,
          1.29937,
          1.26038,
          1.31379,
          1.30203,
          1.19777,
          1.07008,
          0.89318,
          1.13935,
          0.92933
         ]
        },
        {
         "marker": {
          "size": [
           1.32629,
           1.39451
          ],
          "sizemode": "area",
          "sizeref": 0.00052825625
         },
         "mode": "markers",
         "name": "North America",
         "text": [
          "Canada",
          "United States"
         ],
         "type": "scatter",
         "x": [
          7.427,
          7.119
         ],
         "y": [
          1.32261,
          1.24711
         ]
        },
        {
         "marker": {
          "size": [
           1.25018,
           1.33358
          ],
          "sizemode": "area",
          "sizeref": 0.00052825625
         },
         "mode": "markers",
         "name": "Australia and New Zealand",
         "text": [
          "New Zealand",
          "Australia"
         ],
         "type": "scatter",
         "x": [
          7.286,
          7.284
         ],
         "y": [
          1.31967,
          1.30923
         ]
        },
        {
         "marker": {
          "size": [
           1.22857,
           1.42727,
           1.36011,
           1.69042,
           1.39541,
           1.55422,
           1.32376,
           1.13145,
           0.93929,
           1.06098,
           0.90198,
           0.73479,
           1.02564,
           0.88113,
           0.59867,
           1.0088,
           0.98549,
           0.8818,
           0.54649,
           0.6632
          ],
          "sizemode": "area",
          "sizeref": 0.00052825625
         },
         "mode": "markers",
         "name": "Middle East and Northern Africa",
         "text": [
          "Israel",
          "United Arab Emirates",
          "Oman",
          "Qatar",
          "Saudi Arabia",
          "Kuwait",
          "Bahrain",
          "Libya",
          "Algeria",
          "Turkey",
          "Jordan",
          "Morocco",
          "Lebanon",
          "Tunisia",
          "Palestinian Territories",
          "Iran",
          "Iraq",
          "Egypt",
          "Yemen",
          "Syria"
         ],
         "type": "scatter",
         "x": [
          7.278,
          6.901,
          6.853,
          6.611,
          6.411,
          6.295,
          5.96,
          5.754,
          5.605,
          5.332,
          5.192,
          5.013,
          4.839,
          4.739,
          4.715,
          4.686,
          4.677,
          4.194,
          4.077,
          3.006
         ],
         "y": [
          1.22393,
          1.12575,
          1.08182,
          1.0786,
          1.08393,
          1.16594,
          1.21624,
          1.11862,
          1.07772,
          0.94632,
          1.05392,
          0.64095,
          0.80001,
          0.60429,
          0.92558,
          0.54447,
          0.81889,
          0.747,
          0.68093,
          0.47489
         ]
        },
        {
         "marker": {
          "size": [
           0.95578,
           1.02054,
           0.98124,
           1.04424,
           1.06353,
           1.10715,
           1.05351,
           1.06166,
           0.91861,
           0.99534,
           1.21183,
           0.76454,
           0.74553,
           0.86402,
           0.68133,
           0.75985,
           0.59325,
           0.90019,
           0.81038,
           0.89537,
           0.59532,
           0.26673
          ],
          "sizemode": "area",
          "sizeref": 0.00052825625
         },
         "mode": "markers",
         "name": "Latin America and Caribbean",
         "text": [
          "Costa Rica",
          "Mexico",
          "Brazil",
          "Venezuela",
          "Panama",
          "Chile",
          "Argentina",
          "Uruguay",
          "Colombia",
          "Suriname",
          "Trinidad and Tobago",
          "El Salvador",
          "Guatemala",
          "Ecuador",
          "Bolivia",
          "Paraguay",
          "Nicaragua",
          "Peru",
          "Jamaica",
          "Dominican Republic",
          "Honduras",
          "Haiti"
         ],
         "type": "scatter",
         "x": [
          7.226,
          7.187,
          6.983,
          6.81,
          6.786,
          6.67,
          6.574,
          6.485,
          6.477,
          6.269,
          6.168,
          6.13,
          6.123,
          5.975,
          5.89,
          5.878,
          5.828,
          5.824,
          5.709,
          4.885,
          4.788,
          4.518
         ],
         "y": [
          1.23788,
          0.91451,
          1.23287,
          1.25596,
          1.1985,
          1.12447,
          1.24823,
          1.2089,
          1.24018,
          0.972,
          1.18354,
          1.02507,
          1.04356,
          0.99903,
          0.97841,
          1.30477,
          1.14184,
          0.97459,
          1.15102,
          1.17202,
          0.95348,
          0.74302
         ]
        },
        {
         "marker": {
          "size": [
           1.52186,
           0.9669,
           1.12486,
           0.82827,
           0.63216,
           0.70532,
           0.59066,
           0.27108,
           0.46038
          ],
          "sizemode": "area",
          "sizeref": 0.00052825625
         },
         "mode": "markers",
         "name": "Southeastern Asia",
         "text": [
          "Singapore",
          "Thailand",
          "Malaysia",
          "Indonesia",
          "Vietnam",
          "Philippines",
          "Laos",
          "Myanmar",
          "Cambodia"
         ],
         "type": "scatter",
         "x": [
          6.798,
          6.455,
          5.77,
          5.399,
          5.36,
          5.073,
          4.876,
          4.307,
          3.819
         ],
         "y": [
          1.02,
          1.26504,
          1.07023,
          1.08708,
          0.91226,
          1.03516,
          0.73803,
          0.70905,
          0.62736
         ]
        },
        {
         "marker": {
          "size": [
           1.17898,
           0.63244,
           1.16891,
           0.59448,
           1.12254,
           1.18498,
           1.14723,
           1.03192,
           1.12555,
           1.08254,
           1.13764,
           0.80148,
           0.95847,
           1.15174,
           0.47428,
           1.02389,
           0.97438,
           1.04345,
           0.92053,
           1.11312,
           0.91851,
           0.87867,
           0.83223,
           1.12094,
           0.39047,
           0.79907,
           0.76821,
           0.7419,
           1.01216
          ],
          "sizemode": "area",
          "sizeref": 0.00052825625
         },
         "mode": "markers",
         "name": "Central and Eastern Europe",
         "text": [
          "Czech Republic",
          "Uzbekistan",
          "Slovakia",
          "Moldova",
          "Kazakhstan",
          "Slovenia",
          "Lithuania",
          "Belarus",
          "Poland",
          "Croatia",
          "Russia",
          "Kosovo",
          "Turkmenistan",
          "Estonia",
          "Kyrgyzstan",
          "Azerbaijan",
          "Montenegro",
          "Romania",
          "Serbia",
          "Latvia",
          "Macedonia",
          "Albania",
          "Bosnia and Herzegovina",
          "Hungary",
          "Tajikistan",
          "Ukraine",
          "Armenia",
          "Georgia",
          "Bulgaria"
         ],
         "type": "scatter",
         "x": [
          6.505,
          6.003,
          5.995,
          5.889,
          5.855,
          5.848,
          5.833,
          5.813,
          5.791,
          5.759,
          5.716,
          5.589,
          5.548,
          5.429,
          5.286,
          5.212,
          5.192,
          5.124,
          5.123,
          5.098,
          5.007,
          4.959,
          4.949,
          4.8,
          4.786,
          4.681,
          4.35,
          4.297,
          4.218
         ],
         "y": [
          1.20643,
          1.34043,
          1.26999,
          1.01528,
          1.12241,
          1.27385,
          1.25745,
          1.23289,
          1.27948,
          0.79624,
          1.23617,
          0.81198,
          1.22668,
          1.22791,
          1.15115,
          0.93793,
          0.90557,
          0.88588,
          1.00964,
          1.09562,
          1.00232,
          0.80434,
          0.91916,
          1.20215,
          0.85563,
          1.20278,
          0.77711,
          0.38562,
          1.10614
         ]
        },
        {
         "marker": {
          "size": [
           1.29098,
           1.27074,
           1.24461,
           1.38604,
           0.89012,
           0.82819
          ],
          "sizemode": "area",
          "sizeref": 0.00052825625
         },
         "mode": "markers",
         "name": "Eastern Asia",
         "text": [
          "Taiwan",
          "Japan",
          "South Korea",
          "Hong Kong",
          "China",
          "Mongolia"
         ],
         "type": "scatter",
         "x": [
          6.298,
          5.987,
          5.984,
          5.474,
          5.14,
          4.874
         ],
         "y": [
          1.07617,
          1.25712,
          0.95774,
          1.05818,
          0.94675,
          1.3006
         ]
        },
        {
         "marker": {
          "size": [
           1.00761,
           0.65435,
           0.47038,
           0.18847,
           0.08308,
           0.37545,
           0.71206,
           0.92049,
           0.54558,
           0.271,
           0.0712,
           0.52107,
           0,
           0.19073,
           0.33024,
           0.45407,
           0.36471,
           0.44025,
           0.99355,
           0.01604,
           0.4225,
           0.75778,
           0.26074,
           0.67866,
           0.23906,
           0.21102,
           0.36498,
           1.06024,
           0.0694,
           0.2852,
           0.20824,
           0.0785,
           0.34193,
           0.17417,
           0.46534,
           0.25812,
           0.22208,
           0.28665,
           0.0153,
           0.20868
          ],
          "sizemode": "area",
          "sizeref": 0.00052825625
         },
         "mode": "markers",
         "name": "Sub-Saharan Africa",
         "text": [
          "Mauritius",
          "Nigeria",
          "Zambia",
          "Somaliland region",
          "Mozambique",
          "Lesotho",
          "Swaziland",
          "South Africa",
          "Ghana",
          "Zimbabwe",
          "Liberia",
          "Sudan",
          "Congo (Kinshasa)",
          "Ethiopia",
          "Sierra Leone",
          "Mauritania",
          "Kenya",
          "Djibouti",
          "Botswana",
          "Malawi",
          "Cameroon",
          "Angola",
          "Mali",
          "Congo (Brazzaville)",
          "Comoros",
          "Uganda",
          "Senegal",
          "Gabon",
          "Niger",
          "Tanzania",
          "Madagascar",
          "Central African Republic",
          "Chad",
          "Guinea",
          "Ivory Coast",
          "Burkina Faso",
          "Rwanda",
          "Benin",
          "Burundi",
          "Togo"
         ],
         "type": "scatter",
         "x": [
          5.477,
          5.268,
          5.129,
          5.057,
          4.971,
          4.898,
          4.867,
          4.642,
          4.633,
          4.61,
          4.571,
          4.55,
          4.517,
          4.512,
          4.507,
          4.436,
          4.419,
          4.369,
          4.332,
          4.292,
          4.252,
          4.033,
          3.995,
          3.989,
          3.956,
          3.931,
          3.904,
          3.896,
          3.845,
          3.781,
          3.681,
          3.678,
          3.667,
          3.656,
          3.655,
          3.587,
          3.465,
          3.34,
          2.905,
          2.839
         ],
         "y": [
          0.98521,
          0.90432,
          0.91612,
          0.95152,
          1.02626,
          1.04103,
          1.07284,
          1.18468,
          0.67954,
          1.03276,
          0.78968,
          1.01404,
          1.0012,
          0.60406,
          0.95571,
          0.86908,
          0.99876,
          0.59207,
          1.10464,
          0.41134,
          0.88767,
          0.8604,
          1.03526,
          0.6629,
          0.79273,
          1.13299,
          0.97619,
          0.90528,
          0.77265,
          1.00268,
          0.66801,
          0,
          0.76062,
          0.46475,
          0.77115,
          0.85188,
          0.7737,
          0.35386,
          0.41587,
          0.13995
         ]
        },
        {
         "marker": {
          "size": [
           0.77042,
           0.59543,
           0.39753,
           0.64499,
           0.35997,
           0.83524,
           0.31982
          ],
          "sizemode": "area",
          "sizeref": 0.00052825625
         },
         "mode": "markers",
         "name": "Southern Asia",
         "text": [
          "Bhutan",
          "Pakistan",
          "Bangladesh",
          "India",
          "Nepal",
          "Sri Lanka",
          "Afghanistan"
         ],
         "type": "scatter",
         "x": [
          5.253,
          5.194,
          4.694,
          4.565,
          4.514,
          4.271,
          3.575
         ],
         "y": [
          1.10395,
          0.41411,
          0.43106,
          0.38174,
          0.86449,
          1.01905,
          0.30285
         ]
        }
       ],
       "layout": {
        "height": 650,
        "hovermode": "closest",
        "margin": {
         "b": 50,
         "pad": 5,
         "t": 50
        },
        "showlegend": true,
        "template": {
         "data": {
          "bar": [
           {
            "error_x": {
             "color": "#2a3f5f"
            },
            "error_y": {
             "color": "#2a3f5f"
            },
            "marker": {
             "line": {
              "color": "#E5ECF6",
              "width": 0.5
             },
             "pattern": {
              "fillmode": "overlay",
              "size": 10,
              "solidity": 0.2
             }
            },
            "type": "bar"
           }
          ],
          "barpolar": [
           {
            "marker": {
             "line": {
              "color": "#E5ECF6",
              "width": 0.5
             },
             "pattern": {
              "fillmode": "overlay",
              "size": 10,
              "solidity": 0.2
             }
            },
            "type": "barpolar"
           }
          ],
          "carpet": [
           {
            "aaxis": {
             "endlinecolor": "#2a3f5f",
             "gridcolor": "white",
             "linecolor": "white",
             "minorgridcolor": "white",
             "startlinecolor": "#2a3f5f"
            },
            "baxis": {
             "endlinecolor": "#2a3f5f",
             "gridcolor": "white",
             "linecolor": "white",
             "minorgridcolor": "white",
             "startlinecolor": "#2a3f5f"
            },
            "type": "carpet"
           }
          ],
          "choropleth": [
           {
            "colorbar": {
             "outlinewidth": 0,
             "ticks": ""
            },
            "type": "choropleth"
           }
          ],
          "contour": [
           {
            "colorbar": {
             "outlinewidth": 0,
             "ticks": ""
            },
            "colorscale": [
             [
              0,
              "#0d0887"
             ],
             [
              0.1111111111111111,
              "#46039f"
             ],
             [
              0.2222222222222222,
              "#7201a8"
             ],
             [
              0.3333333333333333,
              "#9c179e"
             ],
             [
              0.4444444444444444,
              "#bd3786"
             ],
             [
              0.5555555555555556,
              "#d8576b"
             ],
             [
              0.6666666666666666,
              "#ed7953"
             ],
             [
              0.7777777777777778,
              "#fb9f3a"
             ],
             [
              0.8888888888888888,
              "#fdca26"
             ],
             [
              1,
              "#f0f921"
             ]
            ],
            "type": "contour"
           }
          ],
          "contourcarpet": [
           {
            "colorbar": {
             "outlinewidth": 0,
             "ticks": ""
            },
            "type": "contourcarpet"
           }
          ],
          "heatmap": [
           {
            "colorbar": {
             "outlinewidth": 0,
             "ticks": ""
            },
            "colorscale": [
             [
              0,
              "#0d0887"
             ],
             [
              0.1111111111111111,
              "#46039f"
             ],
             [
              0.2222222222222222,
              "#7201a8"
             ],
             [
              0.3333333333333333,
              "#9c179e"
             ],
             [
              0.4444444444444444,
              "#bd3786"
             ],
             [
              0.5555555555555556,
              "#d8576b"
             ],
             [
              0.6666666666666666,
              "#ed7953"
             ],
             [
              0.7777777777777778,
              "#fb9f3a"
             ],
             [
              0.8888888888888888,
              "#fdca26"
             ],
             [
              1,
              "#f0f921"
             ]
            ],
            "type": "heatmap"
           }
          ],
          "heatmapgl": [
           {
            "colorbar": {
             "outlinewidth": 0,
             "ticks": ""
            },
            "colorscale": [
             [
              0,
              "#0d0887"
             ],
             [
              0.1111111111111111,
              "#46039f"
             ],
             [
              0.2222222222222222,
              "#7201a8"
             ],
             [
              0.3333333333333333,
              "#9c179e"
             ],
             [
              0.4444444444444444,
              "#bd3786"
             ],
             [
              0.5555555555555556,
              "#d8576b"
             ],
             [
              0.6666666666666666,
              "#ed7953"
             ],
             [
              0.7777777777777778,
              "#fb9f3a"
             ],
             [
              0.8888888888888888,
              "#fdca26"
             ],
             [
              1,
              "#f0f921"
             ]
            ],
            "type": "heatmapgl"
           }
          ],
          "histogram": [
           {
            "marker": {
             "pattern": {
              "fillmode": "overlay",
              "size": 10,
              "solidity": 0.2
             }
            },
            "type": "histogram"
           }
          ],
          "histogram2d": [
           {
            "colorbar": {
             "outlinewidth": 0,
             "ticks": ""
            },
            "colorscale": [
             [
              0,
              "#0d0887"
             ],
             [
              0.1111111111111111,
              "#46039f"
             ],
             [
              0.2222222222222222,
              "#7201a8"
             ],
             [
              0.3333333333333333,
              "#9c179e"
             ],
             [
              0.4444444444444444,
              "#bd3786"
             ],
             [
              0.5555555555555556,
              "#d8576b"
             ],
             [
              0.6666666666666666,
              "#ed7953"
             ],
             [
              0.7777777777777778,
              "#fb9f3a"
             ],
             [
              0.8888888888888888,
              "#fdca26"
             ],
             [
              1,
              "#f0f921"
             ]
            ],
            "type": "histogram2d"
           }
          ],
          "histogram2dcontour": [
           {
            "colorbar": {
             "outlinewidth": 0,
             "ticks": ""
            },
            "colorscale": [
             [
              0,
              "#0d0887"
             ],
             [
              0.1111111111111111,
              "#46039f"
             ],
             [
              0.2222222222222222,
              "#7201a8"
             ],
             [
              0.3333333333333333,
              "#9c179e"
             ],
             [
              0.4444444444444444,
              "#bd3786"
             ],
             [
              0.5555555555555556,
              "#d8576b"
             ],
             [
              0.6666666666666666,
              "#ed7953"
             ],
             [
              0.7777777777777778,
              "#fb9f3a"
             ],
             [
              0.8888888888888888,
              "#fdca26"
             ],
             [
              1,
              "#f0f921"
             ]
            ],
            "type": "histogram2dcontour"
           }
          ],
          "mesh3d": [
           {
            "colorbar": {
             "outlinewidth": 0,
             "ticks": ""
            },
            "type": "mesh3d"
           }
          ],
          "parcoords": [
           {
            "line": {
             "colorbar": {
              "outlinewidth": 0,
              "ticks": ""
             }
            },
            "type": "parcoords"
           }
          ],
          "pie": [
           {
            "automargin": true,
            "type": "pie"
           }
          ],
          "scatter": [
           {
            "fillpattern": {
             "fillmode": "overlay",
             "size": 10,
             "solidity": 0.2
            },
            "type": "scatter"
           }
          ],
          "scatter3d": [
           {
            "line": {
             "colorbar": {
              "outlinewidth": 0,
              "ticks": ""
             }
            },
            "marker": {
             "colorbar": {
              "outlinewidth": 0,
              "ticks": ""
             }
            },
            "type": "scatter3d"
           }
          ],
          "scattercarpet": [
           {
            "marker": {
             "colorbar": {
              "outlinewidth": 0,
              "ticks": ""
             }
            },
            "type": "scattercarpet"
           }
          ],
          "scattergeo": [
           {
            "marker": {
             "colorbar": {
              "outlinewidth": 0,
              "ticks": ""
             }
            },
            "type": "scattergeo"
           }
          ],
          "scattergl": [
           {
            "marker": {
             "colorbar": {
              "outlinewidth": 0,
              "ticks": ""
             }
            },
            "type": "scattergl"
           }
          ],
          "scattermapbox": [
           {
            "marker": {
             "colorbar": {
              "outlinewidth": 0,
              "ticks": ""
             }
            },
            "type": "scattermapbox"
           }
          ],
          "scatterpolar": [
           {
            "marker": {
             "colorbar": {
              "outlinewidth": 0,
              "ticks": ""
             }
            },
            "type": "scatterpolar"
           }
          ],
          "scatterpolargl": [
           {
            "marker": {
             "colorbar": {
              "outlinewidth": 0,
              "ticks": ""
             }
            },
            "type": "scatterpolargl"
           }
          ],
          "scatterternary": [
           {
            "marker": {
             "colorbar": {
              "outlinewidth": 0,
              "ticks": ""
             }
            },
            "type": "scatterternary"
           }
          ],
          "surface": [
           {
            "colorbar": {
             "outlinewidth": 0,
             "ticks": ""
            },
            "colorscale": [
             [
              0,
              "#0d0887"
             ],
             [
              0.1111111111111111,
              "#46039f"
             ],
             [
              0.2222222222222222,
              "#7201a8"
             ],
             [
              0.3333333333333333,
              "#9c179e"
             ],
             [
              0.4444444444444444,
              "#bd3786"
             ],
             [
              0.5555555555555556,
              "#d8576b"
             ],
             [
              0.6666666666666666,
              "#ed7953"
             ],
             [
              0.7777777777777778,
              "#fb9f3a"
             ],
             [
              0.8888888888888888,
              "#fdca26"
             ],
             [
              1,
              "#f0f921"
             ]
            ],
            "type": "surface"
           }
          ],
          "table": [
           {
            "cells": {
             "fill": {
              "color": "#EBF0F8"
             },
             "line": {
              "color": "white"
             }
            },
            "header": {
             "fill": {
              "color": "#C8D4E3"
             },
             "line": {
              "color": "white"
             }
            },
            "type": "table"
           }
          ]
         },
         "layout": {
          "annotationdefaults": {
           "arrowcolor": "#2a3f5f",
           "arrowhead": 0,
           "arrowwidth": 1
          },
          "autotypenumbers": "strict",
          "coloraxis": {
           "colorbar": {
            "outlinewidth": 0,
            "ticks": ""
           }
          },
          "colorscale": {
           "diverging": [
            [
             0,
             "#8e0152"
            ],
            [
             0.1,
             "#c51b7d"
            ],
            [
             0.2,
             "#de77ae"
            ],
            [
             0.3,
             "#f1b6da"
            ],
            [
             0.4,
             "#fde0ef"
            ],
            [
             0.5,
             "#f7f7f7"
            ],
            [
             0.6,
             "#e6f5d0"
            ],
            [
             0.7,
             "#b8e186"
            ],
            [
             0.8,
             "#7fbc41"
            ],
            [
             0.9,
             "#4d9221"
            ],
            [
             1,
             "#276419"
            ]
           ],
           "sequential": [
            [
             0,
             "#0d0887"
            ],
            [
             0.1111111111111111,
             "#46039f"
            ],
            [
             0.2222222222222222,
             "#7201a8"
            ],
            [
             0.3333333333333333,
             "#9c179e"
            ],
            [
             0.4444444444444444,
             "#bd3786"
            ],
            [
             0.5555555555555556,
             "#d8576b"
            ],
            [
             0.6666666666666666,
             "#ed7953"
            ],
            [
             0.7777777777777778,
             "#fb9f3a"
            ],
            [
             0.8888888888888888,
             "#fdca26"
            ],
            [
             1,
             "#f0f921"
            ]
           ],
           "sequentialminus": [
            [
             0,
             "#0d0887"
            ],
            [
             0.1111111111111111,
             "#46039f"
            ],
            [
             0.2222222222222222,
             "#7201a8"
            ],
            [
             0.3333333333333333,
             "#9c179e"
            ],
            [
             0.4444444444444444,
             "#bd3786"
            ],
            [
             0.5555555555555556,
             "#d8576b"
            ],
            [
             0.6666666666666666,
             "#ed7953"
            ],
            [
             0.7777777777777778,
             "#fb9f3a"
            ],
            [
             0.8888888888888888,
             "#fdca26"
            ],
            [
             1,
             "#f0f921"
            ]
           ]
          },
          "colorway": [
           "#636efa",
           "#EF553B",
           "#00cc96",
           "#ab63fa",
           "#FFA15A",
           "#19d3f3",
           "#FF6692",
           "#B6E880",
           "#FF97FF",
           "#FECB52"
          ],
          "font": {
           "color": "#2a3f5f"
          },
          "geo": {
           "bgcolor": "white",
           "lakecolor": "white",
           "landcolor": "#E5ECF6",
           "showlakes": true,
           "showland": true,
           "subunitcolor": "white"
          },
          "hoverlabel": {
           "align": "left"
          },
          "hovermode": "closest",
          "mapbox": {
           "style": "light"
          },
          "paper_bgcolor": "white",
          "plot_bgcolor": "#E5ECF6",
          "polar": {
           "angularaxis": {
            "gridcolor": "white",
            "linecolor": "white",
            "ticks": ""
           },
           "bgcolor": "#E5ECF6",
           "radialaxis": {
            "gridcolor": "white",
            "linecolor": "white",
            "ticks": ""
           }
          },
          "scene": {
           "xaxis": {
            "backgroundcolor": "#E5ECF6",
            "gridcolor": "white",
            "gridwidth": 2,
            "linecolor": "white",
            "showbackground": true,
            "ticks": "",
            "zerolinecolor": "white"
           },
           "yaxis": {
            "backgroundcolor": "#E5ECF6",
            "gridcolor": "white",
            "gridwidth": 2,
            "linecolor": "white",
            "showbackground": true,
            "ticks": "",
            "zerolinecolor": "white"
           },
           "zaxis": {
            "backgroundcolor": "#E5ECF6",
            "gridcolor": "white",
            "gridwidth": 2,
            "linecolor": "white",
            "showbackground": true,
            "ticks": "",
            "zerolinecolor": "white"
           }
          },
          "shapedefaults": {
           "line": {
            "color": "#2a3f5f"
           }
          },
          "ternary": {
           "aaxis": {
            "gridcolor": "white",
            "linecolor": "white",
            "ticks": ""
           },
           "baxis": {
            "gridcolor": "white",
            "linecolor": "white",
            "ticks": ""
           },
           "bgcolor": "#E5ECF6",
           "caxis": {
            "gridcolor": "white",
            "linecolor": "white",
            "ticks": ""
           }
          },
          "title": {
           "x": 0.05
          },
          "xaxis": {
           "automargin": true,
           "gridcolor": "white",
           "linecolor": "white",
           "ticks": "",
           "title": {
            "standoff": 15
           },
           "zerolinecolor": "white",
           "zerolinewidth": 2
          },
          "yaxis": {
           "automargin": true,
           "gridcolor": "white",
           "linecolor": "white",
           "ticks": "",
           "title": {
            "standoff": 15
           },
           "zerolinecolor": "white",
           "zerolinewidth": 2
          }
         }
        },
        "title": {
         "text": "Happiness vs Family vs Economy"
        },
        "xaxis": {
         "autorange": false,
         "range": [
          1.9872999999999998,
          10.621799999999999
         ],
         "title": {
          "text": "Happiness Score"
         }
        },
        "yaxis": {
         "autorange": false,
         "range": [
          0,
          1.963122
         ],
         "title": {
          "text": "Family"
         }
        }
       }
      },
      "text/html": [
       "<div>                            <div id=\"f49dd61d-66b8-4b72-9d43-e727b06a9f70\" class=\"plotly-graph-div\" style=\"height:650px; width:100%;\"></div>            <script type=\"text/javascript\">                require([\"plotly\"], function(Plotly) {                    window.PLOTLYENV=window.PLOTLYENV || {};                                    if (document.getElementById(\"f49dd61d-66b8-4b72-9d43-e727b06a9f70\")) {                    Plotly.newPlot(                        \"f49dd61d-66b8-4b72-9d43-e727b06a9f70\",                        [{\"marker\":{\"size\":[1.39651,1.30232,1.32548,1.459,1.29025,1.32944,1.33171,1.33723,1.56391,1.33596,1.30782,1.26637,1.32792,1.27778,1.23011,1.2074,1.25114,1.20806,1.20813,1.15991,1.15406],\"sizemode\":\"area\",\"sizeref\":0.00052825625},\"mode\":\"markers\",\"name\":\"Western Europe\",\"text\":[\"Switzerland\",\"Iceland\",\"Denmark\",\"Norway\",\"Finland\",\"Netherlands\",\"Sweden\",\"Austria\",\"Luxembourg\",\"Ireland\",\"Belgium\",\"United Kingdom\",\"Germany\",\"France\",\"Spain\",\"Malta\",\"Italy\",\"North Cyprus\",\"Cyprus\",\"Portugal\",\"Greece\"],\"x\":[7.587,7.561,7.527,7.522,7.406,7.378,7.364,7.2,6.946,6.94,6.937,6.867,6.75,6.575,6.329,6.302,5.948,5.695,5.689,5.102,4.857],\"y\":[1.34951,1.40223,1.36058,1.33095,1.31826,1.28017,1.28907,1.29704,1.21963,1.36948,1.28566,1.28548,1.29937,1.26038,1.31379,1.30203,1.19777,1.07008,0.89318,1.13935,0.92933],\"type\":\"scatter\"},{\"marker\":{\"size\":[1.32629,1.39451],\"sizemode\":\"area\",\"sizeref\":0.00052825625},\"mode\":\"markers\",\"name\":\"North America\",\"text\":[\"Canada\",\"United States\"],\"x\":[7.427,7.119],\"y\":[1.32261,1.24711],\"type\":\"scatter\"},{\"marker\":{\"size\":[1.25018,1.33358],\"sizemode\":\"area\",\"sizeref\":0.00052825625},\"mode\":\"markers\",\"name\":\"Australia and New Zealand\",\"text\":[\"New Zealand\",\"Australia\"],\"x\":[7.286,7.284],\"y\":[1.31967,1.30923],\"type\":\"scatter\"},{\"marker\":{\"size\":[1.22857,1.42727,1.36011,1.69042,1.39541,1.55422,1.32376,1.13145,0.93929,1.06098,0.90198,0.73479,1.02564,0.88113,0.59867,1.0088,0.98549,0.8818,0.54649,0.6632],\"sizemode\":\"area\",\"sizeref\":0.00052825625},\"mode\":\"markers\",\"name\":\"Middle East and Northern Africa\",\"text\":[\"Israel\",\"United Arab Emirates\",\"Oman\",\"Qatar\",\"Saudi Arabia\",\"Kuwait\",\"Bahrain\",\"Libya\",\"Algeria\",\"Turkey\",\"Jordan\",\"Morocco\",\"Lebanon\",\"Tunisia\",\"Palestinian Territories\",\"Iran\",\"Iraq\",\"Egypt\",\"Yemen\",\"Syria\"],\"x\":[7.278,6.901,6.853,6.611,6.411,6.295,5.96,5.754,5.605,5.332,5.192,5.013,4.839,4.739,4.715,4.686,4.677,4.194,4.077,3.006],\"y\":[1.22393,1.12575,1.08182,1.0786,1.08393,1.16594,1.21624,1.11862,1.07772,0.94632,1.05392,0.64095,0.80001,0.60429,0.92558,0.54447,0.81889,0.747,0.68093,0.47489],\"type\":\"scatter\"},{\"marker\":{\"size\":[0.95578,1.02054,0.98124,1.04424,1.06353,1.10715,1.05351,1.06166,0.91861,0.99534,1.21183,0.76454,0.74553,0.86402,0.68133,0.75985,0.59325,0.90019,0.81038,0.89537,0.59532,0.26673],\"sizemode\":\"area\",\"sizeref\":0.00052825625},\"mode\":\"markers\",\"name\":\"Latin America and Caribbean\",\"text\":[\"Costa Rica\",\"Mexico\",\"Brazil\",\"Venezuela\",\"Panama\",\"Chile\",\"Argentina\",\"Uruguay\",\"Colombia\",\"Suriname\",\"Trinidad and Tobago\",\"El Salvador\",\"Guatemala\",\"Ecuador\",\"Bolivia\",\"Paraguay\",\"Nicaragua\",\"Peru\",\"Jamaica\",\"Dominican Republic\",\"Honduras\",\"Haiti\"],\"x\":[7.226,7.187,6.983,6.81,6.786,6.67,6.574,6.485,6.477,6.269,6.168,6.13,6.123,5.975,5.89,5.878,5.828,5.824,5.709,4.885,4.788,4.518],\"y\":[1.23788,0.91451,1.23287,1.25596,1.1985,1.12447,1.24823,1.2089,1.24018,0.972,1.18354,1.02507,1.04356,0.99903,0.97841,1.30477,1.14184,0.97459,1.15102,1.17202,0.95348,0.74302],\"type\":\"scatter\"},{\"marker\":{\"size\":[1.52186,0.9669,1.12486,0.82827,0.63216,0.70532,0.59066,0.27108,0.46038],\"sizemode\":\"area\",\"sizeref\":0.00052825625},\"mode\":\"markers\",\"name\":\"Southeastern Asia\",\"text\":[\"Singapore\",\"Thailand\",\"Malaysia\",\"Indonesia\",\"Vietnam\",\"Philippines\",\"Laos\",\"Myanmar\",\"Cambodia\"],\"x\":[6.798,6.455,5.77,5.399,5.36,5.073,4.876,4.307,3.819],\"y\":[1.02,1.26504,1.07023,1.08708,0.91226,1.03516,0.73803,0.70905,0.62736],\"type\":\"scatter\"},{\"marker\":{\"size\":[1.17898,0.63244,1.16891,0.59448,1.12254,1.18498,1.14723,1.03192,1.12555,1.08254,1.13764,0.80148,0.95847,1.15174,0.47428,1.02389,0.97438,1.04345,0.92053,1.11312,0.91851,0.87867,0.83223,1.12094,0.39047,0.79907,0.76821,0.7419,1.01216],\"sizemode\":\"area\",\"sizeref\":0.00052825625},\"mode\":\"markers\",\"name\":\"Central and Eastern Europe\",\"text\":[\"Czech Republic\",\"Uzbekistan\",\"Slovakia\",\"Moldova\",\"Kazakhstan\",\"Slovenia\",\"Lithuania\",\"Belarus\",\"Poland\",\"Croatia\",\"Russia\",\"Kosovo\",\"Turkmenistan\",\"Estonia\",\"Kyrgyzstan\",\"Azerbaijan\",\"Montenegro\",\"Romania\",\"Serbia\",\"Latvia\",\"Macedonia\",\"Albania\",\"Bosnia and Herzegovina\",\"Hungary\",\"Tajikistan\",\"Ukraine\",\"Armenia\",\"Georgia\",\"Bulgaria\"],\"x\":[6.505,6.003,5.995,5.889,5.855,5.848,5.833,5.813,5.791,5.759,5.716,5.589,5.548,5.429,5.286,5.212,5.192,5.124,5.123,5.098,5.007,4.959,4.949,4.8,4.786,4.681,4.35,4.297,4.218],\"y\":[1.20643,1.34043,1.26999,1.01528,1.12241,1.27385,1.25745,1.23289,1.27948,0.79624,1.23617,0.81198,1.22668,1.22791,1.15115,0.93793,0.90557,0.88588,1.00964,1.09562,1.00232,0.80434,0.91916,1.20215,0.85563,1.20278,0.77711,0.38562,1.10614],\"type\":\"scatter\"},{\"marker\":{\"size\":[1.29098,1.27074,1.24461,1.38604,0.89012,0.82819],\"sizemode\":\"area\",\"sizeref\":0.00052825625},\"mode\":\"markers\",\"name\":\"Eastern Asia\",\"text\":[\"Taiwan\",\"Japan\",\"South Korea\",\"Hong Kong\",\"China\",\"Mongolia\"],\"x\":[6.298,5.987,5.984,5.474,5.14,4.874],\"y\":[1.07617,1.25712,0.95774,1.05818,0.94675,1.3006],\"type\":\"scatter\"},{\"marker\":{\"size\":[1.00761,0.65435,0.47038,0.18847,0.08308,0.37545,0.71206,0.92049,0.54558,0.271,0.0712,0.52107,0.0,0.19073,0.33024,0.45407,0.36471,0.44025,0.99355,0.01604,0.4225,0.75778,0.26074,0.67866,0.23906,0.21102,0.36498,1.06024,0.0694,0.2852,0.20824,0.0785,0.34193,0.17417,0.46534,0.25812,0.22208,0.28665,0.0153,0.20868],\"sizemode\":\"area\",\"sizeref\":0.00052825625},\"mode\":\"markers\",\"name\":\"Sub-Saharan Africa\",\"text\":[\"Mauritius\",\"Nigeria\",\"Zambia\",\"Somaliland region\",\"Mozambique\",\"Lesotho\",\"Swaziland\",\"South Africa\",\"Ghana\",\"Zimbabwe\",\"Liberia\",\"Sudan\",\"Congo (Kinshasa)\",\"Ethiopia\",\"Sierra Leone\",\"Mauritania\",\"Kenya\",\"Djibouti\",\"Botswana\",\"Malawi\",\"Cameroon\",\"Angola\",\"Mali\",\"Congo (Brazzaville)\",\"Comoros\",\"Uganda\",\"Senegal\",\"Gabon\",\"Niger\",\"Tanzania\",\"Madagascar\",\"Central African Republic\",\"Chad\",\"Guinea\",\"Ivory Coast\",\"Burkina Faso\",\"Rwanda\",\"Benin\",\"Burundi\",\"Togo\"],\"x\":[5.477,5.268,5.129,5.057,4.971,4.898,4.867,4.642,4.633,4.61,4.571,4.55,4.517,4.512,4.507,4.436,4.419,4.369,4.332,4.292,4.252,4.033,3.995,3.989,3.956,3.931,3.904,3.896,3.845,3.781,3.681,3.678,3.667,3.656,3.655,3.587,3.465,3.34,2.905,2.839],\"y\":[0.98521,0.90432,0.91612,0.95152,1.02626,1.04103,1.07284,1.18468,0.67954,1.03276,0.78968,1.01404,1.0012,0.60406,0.95571,0.86908,0.99876,0.59207,1.10464,0.41134,0.88767,0.8604,1.03526,0.6629,0.79273,1.13299,0.97619,0.90528,0.77265,1.00268,0.66801,0.0,0.76062,0.46475,0.77115,0.85188,0.7737,0.35386,0.41587,0.13995],\"type\":\"scatter\"},{\"marker\":{\"size\":[0.77042,0.59543,0.39753,0.64499,0.35997,0.83524,0.31982],\"sizemode\":\"area\",\"sizeref\":0.00052825625},\"mode\":\"markers\",\"name\":\"Southern Asia\",\"text\":[\"Bhutan\",\"Pakistan\",\"Bangladesh\",\"India\",\"Nepal\",\"Sri Lanka\",\"Afghanistan\"],\"x\":[5.253,5.194,4.694,4.565,4.514,4.271,3.575],\"y\":[1.10395,0.41411,0.43106,0.38174,0.86449,1.01905,0.30285],\"type\":\"scatter\"}],                        {\"height\":650,\"hovermode\":\"closest\",\"margin\":{\"b\":50,\"pad\":5,\"t\":50},\"showlegend\":true,\"template\":{\"data\":{\"barpolar\":[{\"marker\":{\"line\":{\"color\":\"#E5ECF6\",\"width\":0.5},\"pattern\":{\"fillmode\":\"overlay\",\"size\":10,\"solidity\":0.2}},\"type\":\"barpolar\"}],\"bar\":[{\"error_x\":{\"color\":\"#2a3f5f\"},\"error_y\":{\"color\":\"#2a3f5f\"},\"marker\":{\"line\":{\"color\":\"#E5ECF6\",\"width\":0.5},\"pattern\":{\"fillmode\":\"overlay\",\"size\":10,\"solidity\":0.2}},\"type\":\"bar\"}],\"carpet\":[{\"aaxis\":{\"endlinecolor\":\"#2a3f5f\",\"gridcolor\":\"white\",\"linecolor\":\"white\",\"minorgridcolor\":\"white\",\"startlinecolor\":\"#2a3f5f\"},\"baxis\":{\"endlinecolor\":\"#2a3f5f\",\"gridcolor\":\"white\",\"linecolor\":\"white\",\"minorgridcolor\":\"white\",\"startlinecolor\":\"#2a3f5f\"},\"type\":\"carpet\"}],\"choropleth\":[{\"colorbar\":{\"outlinewidth\":0,\"ticks\":\"\"},\"type\":\"choropleth\"}],\"contourcarpet\":[{\"colorbar\":{\"outlinewidth\":0,\"ticks\":\"\"},\"type\":\"contourcarpet\"}],\"contour\":[{\"colorbar\":{\"outlinewidth\":0,\"ticks\":\"\"},\"colorscale\":[[0.0,\"#0d0887\"],[0.1111111111111111,\"#46039f\"],[0.2222222222222222,\"#7201a8\"],[0.3333333333333333,\"#9c179e\"],[0.4444444444444444,\"#bd3786\"],[0.5555555555555556,\"#d8576b\"],[0.6666666666666666,\"#ed7953\"],[0.7777777777777778,\"#fb9f3a\"],[0.8888888888888888,\"#fdca26\"],[1.0,\"#f0f921\"]],\"type\":\"contour\"}],\"heatmapgl\":[{\"colorbar\":{\"outlinewidth\":0,\"ticks\":\"\"},\"colorscale\":[[0.0,\"#0d0887\"],[0.1111111111111111,\"#46039f\"],[0.2222222222222222,\"#7201a8\"],[0.3333333333333333,\"#9c179e\"],[0.4444444444444444,\"#bd3786\"],[0.5555555555555556,\"#d8576b\"],[0.6666666666666666,\"#ed7953\"],[0.7777777777777778,\"#fb9f3a\"],[0.8888888888888888,\"#fdca26\"],[1.0,\"#f0f921\"]],\"type\":\"heatmapgl\"}],\"heatmap\":[{\"colorbar\":{\"outlinewidth\":0,\"ticks\":\"\"},\"colorscale\":[[0.0,\"#0d0887\"],[0.1111111111111111,\"#46039f\"],[0.2222222222222222,\"#7201a8\"],[0.3333333333333333,\"#9c179e\"],[0.4444444444444444,\"#bd3786\"],[0.5555555555555556,\"#d8576b\"],[0.6666666666666666,\"#ed7953\"],[0.7777777777777778,\"#fb9f3a\"],[0.8888888888888888,\"#fdca26\"],[1.0,\"#f0f921\"]],\"type\":\"heatmap\"}],\"histogram2dcontour\":[{\"colorbar\":{\"outlinewidth\":0,\"ticks\":\"\"},\"colorscale\":[[0.0,\"#0d0887\"],[0.1111111111111111,\"#46039f\"],[0.2222222222222222,\"#7201a8\"],[0.3333333333333333,\"#9c179e\"],[0.4444444444444444,\"#bd3786\"],[0.5555555555555556,\"#d8576b\"],[0.6666666666666666,\"#ed7953\"],[0.7777777777777778,\"#fb9f3a\"],[0.8888888888888888,\"#fdca26\"],[1.0,\"#f0f921\"]],\"type\":\"histogram2dcontour\"}],\"histogram2d\":[{\"colorbar\":{\"outlinewidth\":0,\"ticks\":\"\"},\"colorscale\":[[0.0,\"#0d0887\"],[0.1111111111111111,\"#46039f\"],[0.2222222222222222,\"#7201a8\"],[0.3333333333333333,\"#9c179e\"],[0.4444444444444444,\"#bd3786\"],[0.5555555555555556,\"#d8576b\"],[0.6666666666666666,\"#ed7953\"],[0.7777777777777778,\"#fb9f3a\"],[0.8888888888888888,\"#fdca26\"],[1.0,\"#f0f921\"]],\"type\":\"histogram2d\"}],\"histogram\":[{\"marker\":{\"pattern\":{\"fillmode\":\"overlay\",\"size\":10,\"solidity\":0.2}},\"type\":\"histogram\"}],\"mesh3d\":[{\"colorbar\":{\"outlinewidth\":0,\"ticks\":\"\"},\"type\":\"mesh3d\"}],\"parcoords\":[{\"line\":{\"colorbar\":{\"outlinewidth\":0,\"ticks\":\"\"}},\"type\":\"parcoords\"}],\"pie\":[{\"automargin\":true,\"type\":\"pie\"}],\"scatter3d\":[{\"line\":{\"colorbar\":{\"outlinewidth\":0,\"ticks\":\"\"}},\"marker\":{\"colorbar\":{\"outlinewidth\":0,\"ticks\":\"\"}},\"type\":\"scatter3d\"}],\"scattercarpet\":[{\"marker\":{\"colorbar\":{\"outlinewidth\":0,\"ticks\":\"\"}},\"type\":\"scattercarpet\"}],\"scattergeo\":[{\"marker\":{\"colorbar\":{\"outlinewidth\":0,\"ticks\":\"\"}},\"type\":\"scattergeo\"}],\"scattergl\":[{\"marker\":{\"colorbar\":{\"outlinewidth\":0,\"ticks\":\"\"}},\"type\":\"scattergl\"}],\"scattermapbox\":[{\"marker\":{\"colorbar\":{\"outlinewidth\":0,\"ticks\":\"\"}},\"type\":\"scattermapbox\"}],\"scatterpolargl\":[{\"marker\":{\"colorbar\":{\"outlinewidth\":0,\"ticks\":\"\"}},\"type\":\"scatterpolargl\"}],\"scatterpolar\":[{\"marker\":{\"colorbar\":{\"outlinewidth\":0,\"ticks\":\"\"}},\"type\":\"scatterpolar\"}],\"scatter\":[{\"fillpattern\":{\"fillmode\":\"overlay\",\"size\":10,\"solidity\":0.2},\"type\":\"scatter\"}],\"scatterternary\":[{\"marker\":{\"colorbar\":{\"outlinewidth\":0,\"ticks\":\"\"}},\"type\":\"scatterternary\"}],\"surface\":[{\"colorbar\":{\"outlinewidth\":0,\"ticks\":\"\"},\"colorscale\":[[0.0,\"#0d0887\"],[0.1111111111111111,\"#46039f\"],[0.2222222222222222,\"#7201a8\"],[0.3333333333333333,\"#9c179e\"],[0.4444444444444444,\"#bd3786\"],[0.5555555555555556,\"#d8576b\"],[0.6666666666666666,\"#ed7953\"],[0.7777777777777778,\"#fb9f3a\"],[0.8888888888888888,\"#fdca26\"],[1.0,\"#f0f921\"]],\"type\":\"surface\"}],\"table\":[{\"cells\":{\"fill\":{\"color\":\"#EBF0F8\"},\"line\":{\"color\":\"white\"}},\"header\":{\"fill\":{\"color\":\"#C8D4E3\"},\"line\":{\"color\":\"white\"}},\"type\":\"table\"}]},\"layout\":{\"annotationdefaults\":{\"arrowcolor\":\"#2a3f5f\",\"arrowhead\":0,\"arrowwidth\":1},\"autotypenumbers\":\"strict\",\"coloraxis\":{\"colorbar\":{\"outlinewidth\":0,\"ticks\":\"\"}},\"colorscale\":{\"diverging\":[[0,\"#8e0152\"],[0.1,\"#c51b7d\"],[0.2,\"#de77ae\"],[0.3,\"#f1b6da\"],[0.4,\"#fde0ef\"],[0.5,\"#f7f7f7\"],[0.6,\"#e6f5d0\"],[0.7,\"#b8e186\"],[0.8,\"#7fbc41\"],[0.9,\"#4d9221\"],[1,\"#276419\"]],\"sequential\":[[0.0,\"#0d0887\"],[0.1111111111111111,\"#46039f\"],[0.2222222222222222,\"#7201a8\"],[0.3333333333333333,\"#9c179e\"],[0.4444444444444444,\"#bd3786\"],[0.5555555555555556,\"#d8576b\"],[0.6666666666666666,\"#ed7953\"],[0.7777777777777778,\"#fb9f3a\"],[0.8888888888888888,\"#fdca26\"],[1.0,\"#f0f921\"]],\"sequentialminus\":[[0.0,\"#0d0887\"],[0.1111111111111111,\"#46039f\"],[0.2222222222222222,\"#7201a8\"],[0.3333333333333333,\"#9c179e\"],[0.4444444444444444,\"#bd3786\"],[0.5555555555555556,\"#d8576b\"],[0.6666666666666666,\"#ed7953\"],[0.7777777777777778,\"#fb9f3a\"],[0.8888888888888888,\"#fdca26\"],[1.0,\"#f0f921\"]]},\"colorway\":[\"#636efa\",\"#EF553B\",\"#00cc96\",\"#ab63fa\",\"#FFA15A\",\"#19d3f3\",\"#FF6692\",\"#B6E880\",\"#FF97FF\",\"#FECB52\"],\"font\":{\"color\":\"#2a3f5f\"},\"geo\":{\"bgcolor\":\"white\",\"lakecolor\":\"white\",\"landcolor\":\"#E5ECF6\",\"showlakes\":true,\"showland\":true,\"subunitcolor\":\"white\"},\"hoverlabel\":{\"align\":\"left\"},\"hovermode\":\"closest\",\"mapbox\":{\"style\":\"light\"},\"paper_bgcolor\":\"white\",\"plot_bgcolor\":\"#E5ECF6\",\"polar\":{\"angularaxis\":{\"gridcolor\":\"white\",\"linecolor\":\"white\",\"ticks\":\"\"},\"bgcolor\":\"#E5ECF6\",\"radialaxis\":{\"gridcolor\":\"white\",\"linecolor\":\"white\",\"ticks\":\"\"}},\"scene\":{\"xaxis\":{\"backgroundcolor\":\"#E5ECF6\",\"gridcolor\":\"white\",\"gridwidth\":2,\"linecolor\":\"white\",\"showbackground\":true,\"ticks\":\"\",\"zerolinecolor\":\"white\"},\"yaxis\":{\"backgroundcolor\":\"#E5ECF6\",\"gridcolor\":\"white\",\"gridwidth\":2,\"linecolor\":\"white\",\"showbackground\":true,\"ticks\":\"\",\"zerolinecolor\":\"white\"},\"zaxis\":{\"backgroundcolor\":\"#E5ECF6\",\"gridcolor\":\"white\",\"gridwidth\":2,\"linecolor\":\"white\",\"showbackground\":true,\"ticks\":\"\",\"zerolinecolor\":\"white\"}},\"shapedefaults\":{\"line\":{\"color\":\"#2a3f5f\"}},\"ternary\":{\"aaxis\":{\"gridcolor\":\"white\",\"linecolor\":\"white\",\"ticks\":\"\"},\"baxis\":{\"gridcolor\":\"white\",\"linecolor\":\"white\",\"ticks\":\"\"},\"bgcolor\":\"#E5ECF6\",\"caxis\":{\"gridcolor\":\"white\",\"linecolor\":\"white\",\"ticks\":\"\"}},\"title\":{\"x\":0.05},\"xaxis\":{\"automargin\":true,\"gridcolor\":\"white\",\"linecolor\":\"white\",\"ticks\":\"\",\"title\":{\"standoff\":15},\"zerolinecolor\":\"white\",\"zerolinewidth\":2},\"yaxis\":{\"automargin\":true,\"gridcolor\":\"white\",\"linecolor\":\"white\",\"ticks\":\"\",\"title\":{\"standoff\":15},\"zerolinecolor\":\"white\",\"zerolinewidth\":2}}},\"title\":{\"text\":\"Happiness vs Family vs Economy\"},\"xaxis\":{\"autorange\":false,\"range\":[1.9872999999999998,10.621799999999999],\"title\":{\"text\":\"Happiness Score\"}},\"yaxis\":{\"autorange\":false,\"range\":[0.0,1.963122],\"title\":{\"text\":\"Family\"}}},                        {\"scrollzoom\": true, \"responsive\": true}                    ).then(function(){\n",
       "                            \n",
       "var gd = document.getElementById('f49dd61d-66b8-4b72-9d43-e727b06a9f70');\n",
       "var x = new MutationObserver(function (mutations, observer) {{\n",
       "        var display = window.getComputedStyle(gd).display;\n",
       "        if (!display || display === 'none') {{\n",
       "            console.log([gd, 'removed!']);\n",
       "            Plotly.purge(gd);\n",
       "            observer.disconnect();\n",
       "        }}\n",
       "}});\n",
       "\n",
       "// Listen for the removal of the full notebook cells\n",
       "var notebookContainer = gd.closest('#notebook-container');\n",
       "if (notebookContainer) {{\n",
       "    x.observe(notebookContainer, {childList: true});\n",
       "}}\n",
       "\n",
       "// Listen for the clearing of the current output cell\n",
       "var outputEl = gd.closest('.output');\n",
       "if (outputEl) {{\n",
       "    x.observe(outputEl, {childList: true});\n",
       "}}\n",
       "\n",
       "                        })                };                });            </script>        </div>"
      ]
     },
     "metadata": {},
     "output_type": "display_data"
    }
   ],
   "source": [
    "import warnings\n",
    "warnings.filterwarnings('ignore')\n",
    "\n",
    "figure = bubbleplot(dataset = df, x_column = 'Happiness Score', y_column = 'Family', \n",
    "    bubble_column = 'Country', size_column = 'Economy (GDP per Capita)', color_column = 'Region', \n",
    "    x_title = \"Happiness Score\", y_title = \"Family\", title = 'Happiness vs Family vs Economy',\n",
    "    x_logscale = False, scale_bubble = 1, height = 650)\n",
    "\n",
    "py.iplot(figure, config={'scrollzoom': True})"
   ]
  },
  {
   "cell_type": "markdown",
   "id": "682e59d9",
   "metadata": {},
   "source": [
    "This plot above shows the relationship between different levels of family versus happiness scores in different countries, dividing the countries accordingly."
   ]
  },
  {
   "cell_type": "markdown",
   "id": "6b19764d",
   "metadata": {},
   "source": [
    "#### Observation:\n",
    "\n",
    "* It is Quite Visible that as the Family Satisfaction ratings increases the Happiness Score increases. So, We can say that they have a direct relationship between them. Also, European Countries and Australia are the Happiest Regions. After America.\n",
    "\n",
    "* There is not even a single country in American Region with low Happiness Index.\n",
    "\n",
    "* Asian and African countries suffer with some serious issues, that is why none of the Asian orr African Country stands at a good position in terms of Happiness Index.\n",
    "\n",
    "* Some Countries in Middle East are Happy while some are Unhappy."
   ]
  },
  {
   "cell_type": "code",
   "execution_count": 22,
   "id": "160f6301",
   "metadata": {},
   "outputs": [
    {
     "data": {
      "application/vnd.plotly.v1+json": {
       "config": {
        "linkText": "Export to plot.ly",
        "plotlyServerURL": "https://plot.ly",
        "showLink": false
       },
       "data": [
        {
         "base": 0,
         "hoverinfo": "y",
         "marker": {
          "color": "rgb(245.0, 245.0, 245.0)"
         },
         "name": "ranges",
         "orientation": "v",
         "type": "bar",
         "width": 2,
         "x": [
          0
         ],
         "xaxis": "x",
         "y": [
          8
         ],
         "yaxis": "y"
        },
        {
         "base": 0,
         "hoverinfo": "y",
         "marker": {
          "color": "rgb(222.5, 222.5, 222.5)"
         },
         "name": "ranges",
         "orientation": "v",
         "type": "bar",
         "width": 2,
         "x": [
          0
         ],
         "xaxis": "x",
         "y": [
          6
         ],
         "yaxis": "y"
        },
        {
         "base": 0,
         "hoverinfo": "y",
         "marker": {
          "color": "rgb(200.0, 200.0, 200.0)"
         },
         "name": "ranges",
         "orientation": "v",
         "type": "bar",
         "width": 2,
         "x": [
          0
         ],
         "xaxis": "x",
         "y": [
          5
         ],
         "yaxis": "y"
        },
        {
         "base": 0,
         "hoverinfo": "y",
         "marker": {
          "color": "rgb(176.0, 196.0, 221.0)"
         },
         "name": "measures",
         "orientation": "v",
         "type": "bar",
         "width": 0.4,
         "x": [
          0.5
         ],
         "xaxis": "x",
         "y": [
          6.5
         ],
         "yaxis": "y"
        },
        {
         "base": 0,
         "hoverinfo": "y",
         "marker": {
          "color": "rgb(31.0, 119.0, 180.0)"
         },
         "name": "measures",
         "orientation": "v",
         "type": "bar",
         "width": 0.4,
         "x": [
          0.5
         ],
         "xaxis": "x",
         "y": [
          5.5
         ],
         "yaxis": "y"
        },
        {
         "hoverinfo": "y",
         "marker": {
          "color": "rgb(0, 0, 0)",
          "size": 12,
          "symbol": "diamond-tall"
         },
         "name": "markers",
         "type": "scatter",
         "x": [
          0.5
         ],
         "xaxis": "x",
         "y": [
          7
         ],
         "yaxis": "y"
        },
        {
         "base": 0,
         "hoverinfo": "y",
         "marker": {
          "color": "rgb(245.0, 245.0, 245.0)"
         },
         "name": "ranges",
         "orientation": "v",
         "type": "bar",
         "width": 2,
         "x": [
          0
         ],
         "xaxis": "x2",
         "y": [
          2
         ],
         "yaxis": "y2"
        },
        {
         "base": 0,
         "hoverinfo": "y",
         "marker": {
          "color": "rgb(222.5, 222.5, 222.5)"
         },
         "name": "ranges",
         "orientation": "v",
         "type": "bar",
         "width": 2,
         "x": [
          0
         ],
         "xaxis": "x2",
         "y": [
          1
         ],
         "yaxis": "y2"
        },
        {
         "base": 0,
         "hoverinfo": "y",
         "marker": {
          "color": "rgb(200.0, 200.0, 200.0)"
         },
         "name": "ranges",
         "orientation": "v",
         "type": "bar",
         "width": 2,
         "x": [
          0
         ],
         "xaxis": "x2",
         "y": [
          0
         ],
         "yaxis": "y2"
        },
        {
         "base": 0,
         "hoverinfo": "y",
         "marker": {
          "color": "rgb(176.0, 196.0, 221.0)"
         },
         "name": "measures",
         "orientation": "v",
         "type": "bar",
         "width": 0.4,
         "x": [
          0.5
         ],
         "xaxis": "x2",
         "y": [
          1.5
         ],
         "yaxis": "y2"
        },
        {
         "base": 0,
         "hoverinfo": "y",
         "marker": {
          "color": "rgb(31.0, 119.0, 180.0)"
         },
         "name": "measures",
         "orientation": "v",
         "type": "bar",
         "width": 0.4,
         "x": [
          0.5
         ],
         "xaxis": "x2",
         "y": [
          1
         ],
         "yaxis": "y2"
        },
        {
         "hoverinfo": "y",
         "marker": {
          "color": "rgb(0, 0, 0)",
          "size": 12,
          "symbol": "diamond-tall"
         },
         "name": "markers",
         "type": "scatter",
         "x": [
          0.5
         ],
         "xaxis": "x2",
         "y": [
          1.5
         ],
         "yaxis": "y2"
        },
        {
         "base": 0,
         "hoverinfo": "y",
         "marker": {
          "color": "rgb(245.0, 245.0, 245.0)"
         },
         "name": "ranges",
         "orientation": "v",
         "type": "bar",
         "width": 2,
         "x": [
          0
         ],
         "xaxis": "x3",
         "y": [
          2
         ],
         "yaxis": "y3"
        },
        {
         "base": 0,
         "hoverinfo": "y",
         "marker": {
          "color": "rgb(222.5, 222.5, 222.5)"
         },
         "name": "ranges",
         "orientation": "v",
         "type": "bar",
         "width": 2,
         "x": [
          0
         ],
         "xaxis": "x3",
         "y": [
          1
         ],
         "yaxis": "y3"
        },
        {
         "base": 0,
         "hoverinfo": "y",
         "marker": {
          "color": "rgb(200.0, 200.0, 200.0)"
         },
         "name": "ranges",
         "orientation": "v",
         "type": "bar",
         "width": 2,
         "x": [
          0
         ],
         "xaxis": "x3",
         "y": [
          0
         ],
         "yaxis": "y3"
        },
        {
         "base": 0,
         "hoverinfo": "y",
         "marker": {
          "color": "rgb(176.0, 196.0, 221.0)"
         },
         "name": "measures",
         "orientation": "v",
         "type": "bar",
         "width": 0.4,
         "x": [
          0.5
         ],
         "xaxis": "x3",
         "y": [
          1.5
         ],
         "yaxis": "y3"
        },
        {
         "base": 0,
         "hoverinfo": "y",
         "marker": {
          "color": "rgb(31.0, 119.0, 180.0)"
         },
         "name": "measures",
         "orientation": "v",
         "type": "bar",
         "width": 0.4,
         "x": [
          0.5
         ],
         "xaxis": "x3",
         "y": [
          1
         ],
         "yaxis": "y3"
        },
        {
         "hoverinfo": "y",
         "marker": {
          "color": "rgb(0, 0, 0)",
          "size": 12,
          "symbol": "diamond-tall"
         },
         "name": "markers",
         "type": "scatter",
         "x": [
          0.5
         ],
         "xaxis": "x3",
         "y": [
          1.3
         ],
         "yaxis": "y3"
        },
        {
         "base": 0,
         "hoverinfo": "y",
         "marker": {
          "color": "rgb(245.0, 245.0, 245.0)"
         },
         "name": "ranges",
         "orientation": "v",
         "type": "bar",
         "width": 2,
         "x": [
          0
         ],
         "xaxis": "x4",
         "y": [
          0.6
         ],
         "yaxis": "y4"
        },
        {
         "base": 0,
         "hoverinfo": "y",
         "marker": {
          "color": "rgb(222.5, 222.5, 222.5)"
         },
         "name": "ranges",
         "orientation": "v",
         "type": "bar",
         "width": 2,
         "x": [
          0
         ],
         "xaxis": "x4",
         "y": [
          0.3
         ],
         "yaxis": "y4"
        },
        {
         "base": 0,
         "hoverinfo": "y",
         "marker": {
          "color": "rgb(200.0, 200.0, 200.0)"
         },
         "name": "ranges",
         "orientation": "v",
         "type": "bar",
         "width": 2,
         "x": [
          0
         ],
         "xaxis": "x4",
         "y": [
          0
         ],
         "yaxis": "y4"
        },
        {
         "base": 0,
         "hoverinfo": "y",
         "marker": {
          "color": "rgb(176.0, 196.0, 221.0)"
         },
         "name": "measures",
         "orientation": "v",
         "type": "bar",
         "width": 0.4,
         "x": [
          0.5
         ],
         "xaxis": "x4",
         "y": [
          0.4
         ],
         "yaxis": "y4"
        },
        {
         "base": 0,
         "hoverinfo": "y",
         "marker": {
          "color": "rgb(31.0, 119.0, 180.0)"
         },
         "name": "measures",
         "orientation": "v",
         "type": "bar",
         "width": 0.4,
         "x": [
          0.5
         ],
         "xaxis": "x4",
         "y": [
          0.3
         ],
         "yaxis": "y4"
        },
        {
         "hoverinfo": "y",
         "marker": {
          "color": "rgb(0, 0, 0)",
          "size": 12,
          "symbol": "diamond-tall"
         },
         "name": "markers",
         "type": "scatter",
         "x": [
          0.5
         ],
         "xaxis": "x4",
         "y": [
          0.5
         ],
         "yaxis": "y4"
        },
        {
         "base": 0,
         "hoverinfo": "y",
         "marker": {
          "color": "rgb(245.0, 245.0, 245.0)"
         },
         "name": "ranges",
         "orientation": "v",
         "type": "bar",
         "width": 2,
         "x": [
          0
         ],
         "xaxis": "x5",
         "y": [
          0.5
         ],
         "yaxis": "y5"
        },
        {
         "base": 0,
         "hoverinfo": "y",
         "marker": {
          "color": "rgb(222.5, 222.5, 222.5)"
         },
         "name": "ranges",
         "orientation": "v",
         "type": "bar",
         "width": 2,
         "x": [
          0
         ],
         "xaxis": "x5",
         "y": [
          0.2
         ],
         "yaxis": "y5"
        },
        {
         "base": 0,
         "hoverinfo": "y",
         "marker": {
          "color": "rgb(200.0, 200.0, 200.0)"
         },
         "name": "ranges",
         "orientation": "v",
         "type": "bar",
         "width": 2,
         "x": [
          0
         ],
         "xaxis": "x5",
         "y": [
          0
         ],
         "yaxis": "y5"
        },
        {
         "base": 0,
         "hoverinfo": "y",
         "marker": {
          "color": "rgb(176.0, 196.0, 221.0)"
         },
         "name": "measures",
         "orientation": "v",
         "type": "bar",
         "width": 0.4,
         "x": [
          0.5
         ],
         "xaxis": "x5",
         "y": [
          0.4
         ],
         "yaxis": "y5"
        },
        {
         "base": 0,
         "hoverinfo": "y",
         "marker": {
          "color": "rgb(31.0, 119.0, 180.0)"
         },
         "name": "measures",
         "orientation": "v",
         "type": "bar",
         "width": 0.4,
         "x": [
          0.5
         ],
         "xaxis": "x5",
         "y": [
          0.3
         ],
         "yaxis": "y5"
        },
        {
         "hoverinfo": "y",
         "marker": {
          "color": "rgb(0, 0, 0)",
          "size": 12,
          "symbol": "diamond-tall"
         },
         "name": "markers",
         "type": "scatter",
         "x": [
          0.5
         ],
         "xaxis": "x5",
         "y": [
          0.4
         ],
         "yaxis": "y5"
        }
       ],
       "layout": {
        "annotations": [
         {
          "font": {
           "color": "#0f0f0f",
           "size": 13
          },
          "showarrow": false,
          "text": "<b>Happiness</b>",
          "textangle": 0,
          "x": 0.019999999999999997,
          "xanchor": "center",
          "xref": "paper",
          "y": 1.03,
          "yanchor": "middle",
          "yref": "paper"
         },
         {
          "font": {
           "color": "#0f0f0f",
           "size": 13
          },
          "showarrow": false,
          "text": "<b>Economy</b>",
          "textangle": 0,
          "x": 0.26,
          "xanchor": "center",
          "xref": "paper",
          "y": 1.03,
          "yanchor": "middle",
          "yref": "paper"
         },
         {
          "font": {
           "color": "#0f0f0f",
           "size": 13
          },
          "showarrow": false,
          "text": "<b>Family</b>",
          "textangle": 0,
          "x": 0.5,
          "xanchor": "center",
          "xref": "paper",
          "y": 1.03,
          "yanchor": "middle",
          "yref": "paper"
         },
         {
          "font": {
           "color": "#0f0f0f",
           "size": 13
          },
          "showarrow": false,
          "text": "<b>Freedom</b>",
          "textangle": 0,
          "x": 0.74,
          "xanchor": "center",
          "xref": "paper",
          "y": 1.03,
          "yanchor": "middle",
          "yref": "paper"
         },
         {
          "font": {
           "color": "#0f0f0f",
           "size": 13
          },
          "showarrow": false,
          "text": "<b>Trust</b>",
          "textangle": 0,
          "x": 0.98,
          "xanchor": "center",
          "xref": "paper",
          "y": 1.03,
          "yanchor": "middle",
          "yref": "paper"
         }
        ],
        "barmode": "stack",
        "height": 600,
        "margin": {
         "l": 80
        },
        "showlegend": false,
        "template": {
         "data": {
          "bar": [
           {
            "error_x": {
             "color": "#2a3f5f"
            },
            "error_y": {
             "color": "#2a3f5f"
            },
            "marker": {
             "line": {
              "color": "#E5ECF6",
              "width": 0.5
             },
             "pattern": {
              "fillmode": "overlay",
              "size": 10,
              "solidity": 0.2
             }
            },
            "type": "bar"
           }
          ],
          "barpolar": [
           {
            "marker": {
             "line": {
              "color": "#E5ECF6",
              "width": 0.5
             },
             "pattern": {
              "fillmode": "overlay",
              "size": 10,
              "solidity": 0.2
             }
            },
            "type": "barpolar"
           }
          ],
          "carpet": [
           {
            "aaxis": {
             "endlinecolor": "#2a3f5f",
             "gridcolor": "white",
             "linecolor": "white",
             "minorgridcolor": "white",
             "startlinecolor": "#2a3f5f"
            },
            "baxis": {
             "endlinecolor": "#2a3f5f",
             "gridcolor": "white",
             "linecolor": "white",
             "minorgridcolor": "white",
             "startlinecolor": "#2a3f5f"
            },
            "type": "carpet"
           }
          ],
          "choropleth": [
           {
            "colorbar": {
             "outlinewidth": 0,
             "ticks": ""
            },
            "type": "choropleth"
           }
          ],
          "contour": [
           {
            "colorbar": {
             "outlinewidth": 0,
             "ticks": ""
            },
            "colorscale": [
             [
              0,
              "#0d0887"
             ],
             [
              0.1111111111111111,
              "#46039f"
             ],
             [
              0.2222222222222222,
              "#7201a8"
             ],
             [
              0.3333333333333333,
              "#9c179e"
             ],
             [
              0.4444444444444444,
              "#bd3786"
             ],
             [
              0.5555555555555556,
              "#d8576b"
             ],
             [
              0.6666666666666666,
              "#ed7953"
             ],
             [
              0.7777777777777778,
              "#fb9f3a"
             ],
             [
              0.8888888888888888,
              "#fdca26"
             ],
             [
              1,
              "#f0f921"
             ]
            ],
            "type": "contour"
           }
          ],
          "contourcarpet": [
           {
            "colorbar": {
             "outlinewidth": 0,
             "ticks": ""
            },
            "type": "contourcarpet"
           }
          ],
          "heatmap": [
           {
            "colorbar": {
             "outlinewidth": 0,
             "ticks": ""
            },
            "colorscale": [
             [
              0,
              "#0d0887"
             ],
             [
              0.1111111111111111,
              "#46039f"
             ],
             [
              0.2222222222222222,
              "#7201a8"
             ],
             [
              0.3333333333333333,
              "#9c179e"
             ],
             [
              0.4444444444444444,
              "#bd3786"
             ],
             [
              0.5555555555555556,
              "#d8576b"
             ],
             [
              0.6666666666666666,
              "#ed7953"
             ],
             [
              0.7777777777777778,
              "#fb9f3a"
             ],
             [
              0.8888888888888888,
              "#fdca26"
             ],
             [
              1,
              "#f0f921"
             ]
            ],
            "type": "heatmap"
           }
          ],
          "heatmapgl": [
           {
            "colorbar": {
             "outlinewidth": 0,
             "ticks": ""
            },
            "colorscale": [
             [
              0,
              "#0d0887"
             ],
             [
              0.1111111111111111,
              "#46039f"
             ],
             [
              0.2222222222222222,
              "#7201a8"
             ],
             [
              0.3333333333333333,
              "#9c179e"
             ],
             [
              0.4444444444444444,
              "#bd3786"
             ],
             [
              0.5555555555555556,
              "#d8576b"
             ],
             [
              0.6666666666666666,
              "#ed7953"
             ],
             [
              0.7777777777777778,
              "#fb9f3a"
             ],
             [
              0.8888888888888888,
              "#fdca26"
             ],
             [
              1,
              "#f0f921"
             ]
            ],
            "type": "heatmapgl"
           }
          ],
          "histogram": [
           {
            "marker": {
             "pattern": {
              "fillmode": "overlay",
              "size": 10,
              "solidity": 0.2
             }
            },
            "type": "histogram"
           }
          ],
          "histogram2d": [
           {
            "colorbar": {
             "outlinewidth": 0,
             "ticks": ""
            },
            "colorscale": [
             [
              0,
              "#0d0887"
             ],
             [
              0.1111111111111111,
              "#46039f"
             ],
             [
              0.2222222222222222,
              "#7201a8"
             ],
             [
              0.3333333333333333,
              "#9c179e"
             ],
             [
              0.4444444444444444,
              "#bd3786"
             ],
             [
              0.5555555555555556,
              "#d8576b"
             ],
             [
              0.6666666666666666,
              "#ed7953"
             ],
             [
              0.7777777777777778,
              "#fb9f3a"
             ],
             [
              0.8888888888888888,
              "#fdca26"
             ],
             [
              1,
              "#f0f921"
             ]
            ],
            "type": "histogram2d"
           }
          ],
          "histogram2dcontour": [
           {
            "colorbar": {
             "outlinewidth": 0,
             "ticks": ""
            },
            "colorscale": [
             [
              0,
              "#0d0887"
             ],
             [
              0.1111111111111111,
              "#46039f"
             ],
             [
              0.2222222222222222,
              "#7201a8"
             ],
             [
              0.3333333333333333,
              "#9c179e"
             ],
             [
              0.4444444444444444,
              "#bd3786"
             ],
             [
              0.5555555555555556,
              "#d8576b"
             ],
             [
              0.6666666666666666,
              "#ed7953"
             ],
             [
              0.7777777777777778,
              "#fb9f3a"
             ],
             [
              0.8888888888888888,
              "#fdca26"
             ],
             [
              1,
              "#f0f921"
             ]
            ],
            "type": "histogram2dcontour"
           }
          ],
          "mesh3d": [
           {
            "colorbar": {
             "outlinewidth": 0,
             "ticks": ""
            },
            "type": "mesh3d"
           }
          ],
          "parcoords": [
           {
            "line": {
             "colorbar": {
              "outlinewidth": 0,
              "ticks": ""
             }
            },
            "type": "parcoords"
           }
          ],
          "pie": [
           {
            "automargin": true,
            "type": "pie"
           }
          ],
          "scatter": [
           {
            "fillpattern": {
             "fillmode": "overlay",
             "size": 10,
             "solidity": 0.2
            },
            "type": "scatter"
           }
          ],
          "scatter3d": [
           {
            "line": {
             "colorbar": {
              "outlinewidth": 0,
              "ticks": ""
             }
            },
            "marker": {
             "colorbar": {
              "outlinewidth": 0,
              "ticks": ""
             }
            },
            "type": "scatter3d"
           }
          ],
          "scattercarpet": [
           {
            "marker": {
             "colorbar": {
              "outlinewidth": 0,
              "ticks": ""
             }
            },
            "type": "scattercarpet"
           }
          ],
          "scattergeo": [
           {
            "marker": {
             "colorbar": {
              "outlinewidth": 0,
              "ticks": ""
             }
            },
            "type": "scattergeo"
           }
          ],
          "scattergl": [
           {
            "marker": {
             "colorbar": {
              "outlinewidth": 0,
              "ticks": ""
             }
            },
            "type": "scattergl"
           }
          ],
          "scattermapbox": [
           {
            "marker": {
             "colorbar": {
              "outlinewidth": 0,
              "ticks": ""
             }
            },
            "type": "scattermapbox"
           }
          ],
          "scatterpolar": [
           {
            "marker": {
             "colorbar": {
              "outlinewidth": 0,
              "ticks": ""
             }
            },
            "type": "scatterpolar"
           }
          ],
          "scatterpolargl": [
           {
            "marker": {
             "colorbar": {
              "outlinewidth": 0,
              "ticks": ""
             }
            },
            "type": "scatterpolargl"
           }
          ],
          "scatterternary": [
           {
            "marker": {
             "colorbar": {
              "outlinewidth": 0,
              "ticks": ""
             }
            },
            "type": "scatterternary"
           }
          ],
          "surface": [
           {
            "colorbar": {
             "outlinewidth": 0,
             "ticks": ""
            },
            "colorscale": [
             [
              0,
              "#0d0887"
             ],
             [
              0.1111111111111111,
              "#46039f"
             ],
             [
              0.2222222222222222,
              "#7201a8"
             ],
             [
              0.3333333333333333,
              "#9c179e"
             ],
             [
              0.4444444444444444,
              "#bd3786"
             ],
             [
              0.5555555555555556,
              "#d8576b"
             ],
             [
              0.6666666666666666,
              "#ed7953"
             ],
             [
              0.7777777777777778,
              "#fb9f3a"
             ],
             [
              0.8888888888888888,
              "#fdca26"
             ],
             [
              1,
              "#f0f921"
             ]
            ],
            "type": "surface"
           }
          ],
          "table": [
           {
            "cells": {
             "fill": {
              "color": "#EBF0F8"
             },
             "line": {
              "color": "white"
             }
            },
            "header": {
             "fill": {
              "color": "#C8D4E3"
             },
             "line": {
              "color": "white"
             }
            },
            "type": "table"
           }
          ]
         },
         "layout": {
          "annotationdefaults": {
           "arrowcolor": "#2a3f5f",
           "arrowhead": 0,
           "arrowwidth": 1
          },
          "autotypenumbers": "strict",
          "coloraxis": {
           "colorbar": {
            "outlinewidth": 0,
            "ticks": ""
           }
          },
          "colorscale": {
           "diverging": [
            [
             0,
             "#8e0152"
            ],
            [
             0.1,
             "#c51b7d"
            ],
            [
             0.2,
             "#de77ae"
            ],
            [
             0.3,
             "#f1b6da"
            ],
            [
             0.4,
             "#fde0ef"
            ],
            [
             0.5,
             "#f7f7f7"
            ],
            [
             0.6,
             "#e6f5d0"
            ],
            [
             0.7,
             "#b8e186"
            ],
            [
             0.8,
             "#7fbc41"
            ],
            [
             0.9,
             "#4d9221"
            ],
            [
             1,
             "#276419"
            ]
           ],
           "sequential": [
            [
             0,
             "#0d0887"
            ],
            [
             0.1111111111111111,
             "#46039f"
            ],
            [
             0.2222222222222222,
             "#7201a8"
            ],
            [
             0.3333333333333333,
             "#9c179e"
            ],
            [
             0.4444444444444444,
             "#bd3786"
            ],
            [
             0.5555555555555556,
             "#d8576b"
            ],
            [
             0.6666666666666666,
             "#ed7953"
            ],
            [
             0.7777777777777778,
             "#fb9f3a"
            ],
            [
             0.8888888888888888,
             "#fdca26"
            ],
            [
             1,
             "#f0f921"
            ]
           ],
           "sequentialminus": [
            [
             0,
             "#0d0887"
            ],
            [
             0.1111111111111111,
             "#46039f"
            ],
            [
             0.2222222222222222,
             "#7201a8"
            ],
            [
             0.3333333333333333,
             "#9c179e"
            ],
            [
             0.4444444444444444,
             "#bd3786"
            ],
            [
             0.5555555555555556,
             "#d8576b"
            ],
            [
             0.6666666666666666,
             "#ed7953"
            ],
            [
             0.7777777777777778,
             "#fb9f3a"
            ],
            [
             0.8888888888888888,
             "#fdca26"
            ],
            [
             1,
             "#f0f921"
            ]
           ]
          },
          "colorway": [
           "#636efa",
           "#EF553B",
           "#00cc96",
           "#ab63fa",
           "#FFA15A",
           "#19d3f3",
           "#FF6692",
           "#B6E880",
           "#FF97FF",
           "#FECB52"
          ],
          "font": {
           "color": "#2a3f5f"
          },
          "geo": {
           "bgcolor": "white",
           "lakecolor": "white",
           "landcolor": "#E5ECF6",
           "showlakes": true,
           "showland": true,
           "subunitcolor": "white"
          },
          "hoverlabel": {
           "align": "left"
          },
          "hovermode": "closest",
          "mapbox": {
           "style": "light"
          },
          "paper_bgcolor": "white",
          "plot_bgcolor": "#E5ECF6",
          "polar": {
           "angularaxis": {
            "gridcolor": "white",
            "linecolor": "white",
            "ticks": ""
           },
           "bgcolor": "#E5ECF6",
           "radialaxis": {
            "gridcolor": "white",
            "linecolor": "white",
            "ticks": ""
           }
          },
          "scene": {
           "xaxis": {
            "backgroundcolor": "#E5ECF6",
            "gridcolor": "white",
            "gridwidth": 2,
            "linecolor": "white",
            "showbackground": true,
            "ticks": "",
            "zerolinecolor": "white"
           },
           "yaxis": {
            "backgroundcolor": "#E5ECF6",
            "gridcolor": "white",
            "gridwidth": 2,
            "linecolor": "white",
            "showbackground": true,
            "ticks": "",
            "zerolinecolor": "white"
           },
           "zaxis": {
            "backgroundcolor": "#E5ECF6",
            "gridcolor": "white",
            "gridwidth": 2,
            "linecolor": "white",
            "showbackground": true,
            "ticks": "",
            "zerolinecolor": "white"
           }
          },
          "shapedefaults": {
           "line": {
            "color": "#2a3f5f"
           }
          },
          "ternary": {
           "aaxis": {
            "gridcolor": "white",
            "linecolor": "white",
            "ticks": ""
           },
           "baxis": {
            "gridcolor": "white",
            "linecolor": "white",
            "ticks": ""
           },
           "bgcolor": "#E5ECF6",
           "caxis": {
            "gridcolor": "white",
            "linecolor": "white",
            "ticks": ""
           }
          },
          "title": {
           "x": 0.05
          },
          "xaxis": {
           "automargin": true,
           "gridcolor": "white",
           "linecolor": "white",
           "ticks": "",
           "title": {
            "standoff": 15
           },
           "zerolinecolor": "white",
           "zerolinewidth": 2
          },
          "yaxis": {
           "automargin": true,
           "gridcolor": "white",
           "linecolor": "white",
           "ticks": "",
           "title": {
            "standoff": 15
           },
           "zerolinecolor": "white",
           "zerolinewidth": 2
          }
         }
        },
        "title": {
         "text": "Bullet Chart"
        },
        "width": 1000,
        "xaxis": {
         "anchor": "y",
         "domain": [
          0,
          0.039999999999999994
         ],
         "range": [
          0,
          1
         ],
         "showgrid": false,
         "showticklabels": false,
         "zeroline": false
        },
        "xaxis2": {
         "anchor": "y2",
         "domain": [
          0.24,
          0.27999999999999997
         ],
         "range": [
          0,
          1
         ],
         "showgrid": false,
         "showticklabels": false,
         "zeroline": false
        },
        "xaxis3": {
         "anchor": "y3",
         "domain": [
          0.48,
          0.52
         ],
         "range": [
          0,
          1
         ],
         "showgrid": false,
         "showticklabels": false,
         "zeroline": false
        },
        "xaxis4": {
         "anchor": "y4",
         "domain": [
          0.7200000000000001,
          0.7600000000000001
         ],
         "range": [
          0,
          1
         ],
         "showgrid": false,
         "showticklabels": false,
         "zeroline": false
        },
        "xaxis5": {
         "anchor": "y5",
         "domain": [
          0.96,
          1
         ],
         "range": [
          0,
          1
         ],
         "showgrid": false,
         "showticklabels": false,
         "zeroline": false
        },
        "yaxis": {
         "anchor": "x",
         "domain": [
          0,
          1
         ],
         "showgrid": false,
         "tickwidth": 1,
         "zeroline": false
        },
        "yaxis2": {
         "anchor": "x2",
         "domain": [
          0,
          1
         ],
         "showgrid": false,
         "tickwidth": 1,
         "zeroline": false
        },
        "yaxis3": {
         "anchor": "x3",
         "domain": [
          0,
          1
         ],
         "showgrid": false,
         "tickwidth": 1,
         "zeroline": false
        },
        "yaxis4": {
         "anchor": "x4",
         "domain": [
          0,
          1
         ],
         "showgrid": false,
         "tickwidth": 1,
         "zeroline": false
        },
        "yaxis5": {
         "anchor": "x5",
         "domain": [
          0,
          1
         ],
         "showgrid": false,
         "tickwidth": 1,
         "zeroline": false
        }
       }
      },
      "text/html": [
       "<div>                            <div id=\"a70175ac-ebe8-45cc-8c84-a57cf1c43d2e\" class=\"plotly-graph-div\" style=\"height:600px; width:1000px;\"></div>            <script type=\"text/javascript\">                require([\"plotly\"], function(Plotly) {                    window.PLOTLYENV=window.PLOTLYENV || {};                                    if (document.getElementById(\"a70175ac-ebe8-45cc-8c84-a57cf1c43d2e\")) {                    Plotly.newPlot(                        \"a70175ac-ebe8-45cc-8c84-a57cf1c43d2e\",                        [{\"base\":0,\"hoverinfo\":\"y\",\"marker\":{\"color\":\"rgb(245.0, 245.0, 245.0)\"},\"name\":\"ranges\",\"orientation\":\"v\",\"width\":2,\"x\":[0],\"xaxis\":\"x\",\"y\":[8],\"yaxis\":\"y\",\"type\":\"bar\"},{\"base\":0,\"hoverinfo\":\"y\",\"marker\":{\"color\":\"rgb(222.5, 222.5, 222.5)\"},\"name\":\"ranges\",\"orientation\":\"v\",\"width\":2,\"x\":[0],\"xaxis\":\"x\",\"y\":[6],\"yaxis\":\"y\",\"type\":\"bar\"},{\"base\":0,\"hoverinfo\":\"y\",\"marker\":{\"color\":\"rgb(200.0, 200.0, 200.0)\"},\"name\":\"ranges\",\"orientation\":\"v\",\"width\":2,\"x\":[0],\"xaxis\":\"x\",\"y\":[5],\"yaxis\":\"y\",\"type\":\"bar\"},{\"base\":0,\"hoverinfo\":\"y\",\"marker\":{\"color\":\"rgb(176.0, 196.0, 221.0)\"},\"name\":\"measures\",\"orientation\":\"v\",\"width\":0.4,\"x\":[0.5],\"xaxis\":\"x\",\"y\":[6.5],\"yaxis\":\"y\",\"type\":\"bar\"},{\"base\":0,\"hoverinfo\":\"y\",\"marker\":{\"color\":\"rgb(31.0, 119.0, 180.0)\"},\"name\":\"measures\",\"orientation\":\"v\",\"width\":0.4,\"x\":[0.5],\"xaxis\":\"x\",\"y\":[5.5],\"yaxis\":\"y\",\"type\":\"bar\"},{\"hoverinfo\":\"y\",\"marker\":{\"color\":\"rgb(0, 0, 0)\",\"size\":12,\"symbol\":\"diamond-tall\"},\"name\":\"markers\",\"x\":[0.5],\"xaxis\":\"x\",\"y\":[7],\"yaxis\":\"y\",\"type\":\"scatter\"},{\"base\":0,\"hoverinfo\":\"y\",\"marker\":{\"color\":\"rgb(245.0, 245.0, 245.0)\"},\"name\":\"ranges\",\"orientation\":\"v\",\"width\":2,\"x\":[0],\"xaxis\":\"x2\",\"y\":[2],\"yaxis\":\"y2\",\"type\":\"bar\"},{\"base\":0,\"hoverinfo\":\"y\",\"marker\":{\"color\":\"rgb(222.5, 222.5, 222.5)\"},\"name\":\"ranges\",\"orientation\":\"v\",\"width\":2,\"x\":[0],\"xaxis\":\"x2\",\"y\":[1],\"yaxis\":\"y2\",\"type\":\"bar\"},{\"base\":0,\"hoverinfo\":\"y\",\"marker\":{\"color\":\"rgb(200.0, 200.0, 200.0)\"},\"name\":\"ranges\",\"orientation\":\"v\",\"width\":2,\"x\":[0],\"xaxis\":\"x2\",\"y\":[0],\"yaxis\":\"y2\",\"type\":\"bar\"},{\"base\":0,\"hoverinfo\":\"y\",\"marker\":{\"color\":\"rgb(176.0, 196.0, 221.0)\"},\"name\":\"measures\",\"orientation\":\"v\",\"width\":0.4,\"x\":[0.5],\"xaxis\":\"x2\",\"y\":[1.5],\"yaxis\":\"y2\",\"type\":\"bar\"},{\"base\":0,\"hoverinfo\":\"y\",\"marker\":{\"color\":\"rgb(31.0, 119.0, 180.0)\"},\"name\":\"measures\",\"orientation\":\"v\",\"width\":0.4,\"x\":[0.5],\"xaxis\":\"x2\",\"y\":[1],\"yaxis\":\"y2\",\"type\":\"bar\"},{\"hoverinfo\":\"y\",\"marker\":{\"color\":\"rgb(0, 0, 0)\",\"size\":12,\"symbol\":\"diamond-tall\"},\"name\":\"markers\",\"x\":[0.5],\"xaxis\":\"x2\",\"y\":[1.5],\"yaxis\":\"y2\",\"type\":\"scatter\"},{\"base\":0,\"hoverinfo\":\"y\",\"marker\":{\"color\":\"rgb(245.0, 245.0, 245.0)\"},\"name\":\"ranges\",\"orientation\":\"v\",\"width\":2,\"x\":[0],\"xaxis\":\"x3\",\"y\":[2],\"yaxis\":\"y3\",\"type\":\"bar\"},{\"base\":0,\"hoverinfo\":\"y\",\"marker\":{\"color\":\"rgb(222.5, 222.5, 222.5)\"},\"name\":\"ranges\",\"orientation\":\"v\",\"width\":2,\"x\":[0],\"xaxis\":\"x3\",\"y\":[1],\"yaxis\":\"y3\",\"type\":\"bar\"},{\"base\":0,\"hoverinfo\":\"y\",\"marker\":{\"color\":\"rgb(200.0, 200.0, 200.0)\"},\"name\":\"ranges\",\"orientation\":\"v\",\"width\":2,\"x\":[0],\"xaxis\":\"x3\",\"y\":[0],\"yaxis\":\"y3\",\"type\":\"bar\"},{\"base\":0,\"hoverinfo\":\"y\",\"marker\":{\"color\":\"rgb(176.0, 196.0, 221.0)\"},\"name\":\"measures\",\"orientation\":\"v\",\"width\":0.4,\"x\":[0.5],\"xaxis\":\"x3\",\"y\":[1.5],\"yaxis\":\"y3\",\"type\":\"bar\"},{\"base\":0,\"hoverinfo\":\"y\",\"marker\":{\"color\":\"rgb(31.0, 119.0, 180.0)\"},\"name\":\"measures\",\"orientation\":\"v\",\"width\":0.4,\"x\":[0.5],\"xaxis\":\"x3\",\"y\":[1],\"yaxis\":\"y3\",\"type\":\"bar\"},{\"hoverinfo\":\"y\",\"marker\":{\"color\":\"rgb(0, 0, 0)\",\"size\":12,\"symbol\":\"diamond-tall\"},\"name\":\"markers\",\"x\":[0.5],\"xaxis\":\"x3\",\"y\":[1.3],\"yaxis\":\"y3\",\"type\":\"scatter\"},{\"base\":0,\"hoverinfo\":\"y\",\"marker\":{\"color\":\"rgb(245.0, 245.0, 245.0)\"},\"name\":\"ranges\",\"orientation\":\"v\",\"width\":2,\"x\":[0],\"xaxis\":\"x4\",\"y\":[0.6],\"yaxis\":\"y4\",\"type\":\"bar\"},{\"base\":0,\"hoverinfo\":\"y\",\"marker\":{\"color\":\"rgb(222.5, 222.5, 222.5)\"},\"name\":\"ranges\",\"orientation\":\"v\",\"width\":2,\"x\":[0],\"xaxis\":\"x4\",\"y\":[0.3],\"yaxis\":\"y4\",\"type\":\"bar\"},{\"base\":0,\"hoverinfo\":\"y\",\"marker\":{\"color\":\"rgb(200.0, 200.0, 200.0)\"},\"name\":\"ranges\",\"orientation\":\"v\",\"width\":2,\"x\":[0],\"xaxis\":\"x4\",\"y\":[0],\"yaxis\":\"y4\",\"type\":\"bar\"},{\"base\":0,\"hoverinfo\":\"y\",\"marker\":{\"color\":\"rgb(176.0, 196.0, 221.0)\"},\"name\":\"measures\",\"orientation\":\"v\",\"width\":0.4,\"x\":[0.5],\"xaxis\":\"x4\",\"y\":[0.4],\"yaxis\":\"y4\",\"type\":\"bar\"},{\"base\":0,\"hoverinfo\":\"y\",\"marker\":{\"color\":\"rgb(31.0, 119.0, 180.0)\"},\"name\":\"measures\",\"orientation\":\"v\",\"width\":0.4,\"x\":[0.5],\"xaxis\":\"x4\",\"y\":[0.3],\"yaxis\":\"y4\",\"type\":\"bar\"},{\"hoverinfo\":\"y\",\"marker\":{\"color\":\"rgb(0, 0, 0)\",\"size\":12,\"symbol\":\"diamond-tall\"},\"name\":\"markers\",\"x\":[0.5],\"xaxis\":\"x4\",\"y\":[0.5],\"yaxis\":\"y4\",\"type\":\"scatter\"},{\"base\":0,\"hoverinfo\":\"y\",\"marker\":{\"color\":\"rgb(245.0, 245.0, 245.0)\"},\"name\":\"ranges\",\"orientation\":\"v\",\"width\":2,\"x\":[0],\"xaxis\":\"x5\",\"y\":[0.5],\"yaxis\":\"y5\",\"type\":\"bar\"},{\"base\":0,\"hoverinfo\":\"y\",\"marker\":{\"color\":\"rgb(222.5, 222.5, 222.5)\"},\"name\":\"ranges\",\"orientation\":\"v\",\"width\":2,\"x\":[0],\"xaxis\":\"x5\",\"y\":[0.2],\"yaxis\":\"y5\",\"type\":\"bar\"},{\"base\":0,\"hoverinfo\":\"y\",\"marker\":{\"color\":\"rgb(200.0, 200.0, 200.0)\"},\"name\":\"ranges\",\"orientation\":\"v\",\"width\":2,\"x\":[0],\"xaxis\":\"x5\",\"y\":[0],\"yaxis\":\"y5\",\"type\":\"bar\"},{\"base\":0,\"hoverinfo\":\"y\",\"marker\":{\"color\":\"rgb(176.0, 196.0, 221.0)\"},\"name\":\"measures\",\"orientation\":\"v\",\"width\":0.4,\"x\":[0.5],\"xaxis\":\"x5\",\"y\":[0.4],\"yaxis\":\"y5\",\"type\":\"bar\"},{\"base\":0,\"hoverinfo\":\"y\",\"marker\":{\"color\":\"rgb(31.0, 119.0, 180.0)\"},\"name\":\"measures\",\"orientation\":\"v\",\"width\":0.4,\"x\":[0.5],\"xaxis\":\"x5\",\"y\":[0.3],\"yaxis\":\"y5\",\"type\":\"bar\"},{\"hoverinfo\":\"y\",\"marker\":{\"color\":\"rgb(0, 0, 0)\",\"size\":12,\"symbol\":\"diamond-tall\"},\"name\":\"markers\",\"x\":[0.5],\"xaxis\":\"x5\",\"y\":[0.4],\"yaxis\":\"y5\",\"type\":\"scatter\"}],                        {\"annotations\":[{\"font\":{\"color\":\"#0f0f0f\",\"size\":13},\"showarrow\":false,\"text\":\"<b>Happiness</b>\",\"textangle\":0,\"x\":0.019999999999999997,\"xanchor\":\"center\",\"xref\":\"paper\",\"y\":1.03,\"yanchor\":\"middle\",\"yref\":\"paper\"},{\"font\":{\"color\":\"#0f0f0f\",\"size\":13},\"showarrow\":false,\"text\":\"<b>Economy</b>\",\"textangle\":0,\"x\":0.26,\"xanchor\":\"center\",\"xref\":\"paper\",\"y\":1.03,\"yanchor\":\"middle\",\"yref\":\"paper\"},{\"font\":{\"color\":\"#0f0f0f\",\"size\":13},\"showarrow\":false,\"text\":\"<b>Family</b>\",\"textangle\":0,\"x\":0.5,\"xanchor\":\"center\",\"xref\":\"paper\",\"y\":1.03,\"yanchor\":\"middle\",\"yref\":\"paper\"},{\"font\":{\"color\":\"#0f0f0f\",\"size\":13},\"showarrow\":false,\"text\":\"<b>Freedom</b>\",\"textangle\":0,\"x\":0.74,\"xanchor\":\"center\",\"xref\":\"paper\",\"y\":1.03,\"yanchor\":\"middle\",\"yref\":\"paper\"},{\"font\":{\"color\":\"#0f0f0f\",\"size\":13},\"showarrow\":false,\"text\":\"<b>Trust</b>\",\"textangle\":0,\"x\":0.98,\"xanchor\":\"center\",\"xref\":\"paper\",\"y\":1.03,\"yanchor\":\"middle\",\"yref\":\"paper\"}],\"barmode\":\"stack\",\"height\":600,\"margin\":{\"l\":80},\"showlegend\":false,\"template\":{\"data\":{\"barpolar\":[{\"marker\":{\"line\":{\"color\":\"#E5ECF6\",\"width\":0.5},\"pattern\":{\"fillmode\":\"overlay\",\"size\":10,\"solidity\":0.2}},\"type\":\"barpolar\"}],\"bar\":[{\"error_x\":{\"color\":\"#2a3f5f\"},\"error_y\":{\"color\":\"#2a3f5f\"},\"marker\":{\"line\":{\"color\":\"#E5ECF6\",\"width\":0.5},\"pattern\":{\"fillmode\":\"overlay\",\"size\":10,\"solidity\":0.2}},\"type\":\"bar\"}],\"carpet\":[{\"aaxis\":{\"endlinecolor\":\"#2a3f5f\",\"gridcolor\":\"white\",\"linecolor\":\"white\",\"minorgridcolor\":\"white\",\"startlinecolor\":\"#2a3f5f\"},\"baxis\":{\"endlinecolor\":\"#2a3f5f\",\"gridcolor\":\"white\",\"linecolor\":\"white\",\"minorgridcolor\":\"white\",\"startlinecolor\":\"#2a3f5f\"},\"type\":\"carpet\"}],\"choropleth\":[{\"colorbar\":{\"outlinewidth\":0,\"ticks\":\"\"},\"type\":\"choropleth\"}],\"contourcarpet\":[{\"colorbar\":{\"outlinewidth\":0,\"ticks\":\"\"},\"type\":\"contourcarpet\"}],\"contour\":[{\"colorbar\":{\"outlinewidth\":0,\"ticks\":\"\"},\"colorscale\":[[0.0,\"#0d0887\"],[0.1111111111111111,\"#46039f\"],[0.2222222222222222,\"#7201a8\"],[0.3333333333333333,\"#9c179e\"],[0.4444444444444444,\"#bd3786\"],[0.5555555555555556,\"#d8576b\"],[0.6666666666666666,\"#ed7953\"],[0.7777777777777778,\"#fb9f3a\"],[0.8888888888888888,\"#fdca26\"],[1.0,\"#f0f921\"]],\"type\":\"contour\"}],\"heatmapgl\":[{\"colorbar\":{\"outlinewidth\":0,\"ticks\":\"\"},\"colorscale\":[[0.0,\"#0d0887\"],[0.1111111111111111,\"#46039f\"],[0.2222222222222222,\"#7201a8\"],[0.3333333333333333,\"#9c179e\"],[0.4444444444444444,\"#bd3786\"],[0.5555555555555556,\"#d8576b\"],[0.6666666666666666,\"#ed7953\"],[0.7777777777777778,\"#fb9f3a\"],[0.8888888888888888,\"#fdca26\"],[1.0,\"#f0f921\"]],\"type\":\"heatmapgl\"}],\"heatmap\":[{\"colorbar\":{\"outlinewidth\":0,\"ticks\":\"\"},\"colorscale\":[[0.0,\"#0d0887\"],[0.1111111111111111,\"#46039f\"],[0.2222222222222222,\"#7201a8\"],[0.3333333333333333,\"#9c179e\"],[0.4444444444444444,\"#bd3786\"],[0.5555555555555556,\"#d8576b\"],[0.6666666666666666,\"#ed7953\"],[0.7777777777777778,\"#fb9f3a\"],[0.8888888888888888,\"#fdca26\"],[1.0,\"#f0f921\"]],\"type\":\"heatmap\"}],\"histogram2dcontour\":[{\"colorbar\":{\"outlinewidth\":0,\"ticks\":\"\"},\"colorscale\":[[0.0,\"#0d0887\"],[0.1111111111111111,\"#46039f\"],[0.2222222222222222,\"#7201a8\"],[0.3333333333333333,\"#9c179e\"],[0.4444444444444444,\"#bd3786\"],[0.5555555555555556,\"#d8576b\"],[0.6666666666666666,\"#ed7953\"],[0.7777777777777778,\"#fb9f3a\"],[0.8888888888888888,\"#fdca26\"],[1.0,\"#f0f921\"]],\"type\":\"histogram2dcontour\"}],\"histogram2d\":[{\"colorbar\":{\"outlinewidth\":0,\"ticks\":\"\"},\"colorscale\":[[0.0,\"#0d0887\"],[0.1111111111111111,\"#46039f\"],[0.2222222222222222,\"#7201a8\"],[0.3333333333333333,\"#9c179e\"],[0.4444444444444444,\"#bd3786\"],[0.5555555555555556,\"#d8576b\"],[0.6666666666666666,\"#ed7953\"],[0.7777777777777778,\"#fb9f3a\"],[0.8888888888888888,\"#fdca26\"],[1.0,\"#f0f921\"]],\"type\":\"histogram2d\"}],\"histogram\":[{\"marker\":{\"pattern\":{\"fillmode\":\"overlay\",\"size\":10,\"solidity\":0.2}},\"type\":\"histogram\"}],\"mesh3d\":[{\"colorbar\":{\"outlinewidth\":0,\"ticks\":\"\"},\"type\":\"mesh3d\"}],\"parcoords\":[{\"line\":{\"colorbar\":{\"outlinewidth\":0,\"ticks\":\"\"}},\"type\":\"parcoords\"}],\"pie\":[{\"automargin\":true,\"type\":\"pie\"}],\"scatter3d\":[{\"line\":{\"colorbar\":{\"outlinewidth\":0,\"ticks\":\"\"}},\"marker\":{\"colorbar\":{\"outlinewidth\":0,\"ticks\":\"\"}},\"type\":\"scatter3d\"}],\"scattercarpet\":[{\"marker\":{\"colorbar\":{\"outlinewidth\":0,\"ticks\":\"\"}},\"type\":\"scattercarpet\"}],\"scattergeo\":[{\"marker\":{\"colorbar\":{\"outlinewidth\":0,\"ticks\":\"\"}},\"type\":\"scattergeo\"}],\"scattergl\":[{\"marker\":{\"colorbar\":{\"outlinewidth\":0,\"ticks\":\"\"}},\"type\":\"scattergl\"}],\"scattermapbox\":[{\"marker\":{\"colorbar\":{\"outlinewidth\":0,\"ticks\":\"\"}},\"type\":\"scattermapbox\"}],\"scatterpolargl\":[{\"marker\":{\"colorbar\":{\"outlinewidth\":0,\"ticks\":\"\"}},\"type\":\"scatterpolargl\"}],\"scatterpolar\":[{\"marker\":{\"colorbar\":{\"outlinewidth\":0,\"ticks\":\"\"}},\"type\":\"scatterpolar\"}],\"scatter\":[{\"fillpattern\":{\"fillmode\":\"overlay\",\"size\":10,\"solidity\":0.2},\"type\":\"scatter\"}],\"scatterternary\":[{\"marker\":{\"colorbar\":{\"outlinewidth\":0,\"ticks\":\"\"}},\"type\":\"scatterternary\"}],\"surface\":[{\"colorbar\":{\"outlinewidth\":0,\"ticks\":\"\"},\"colorscale\":[[0.0,\"#0d0887\"],[0.1111111111111111,\"#46039f\"],[0.2222222222222222,\"#7201a8\"],[0.3333333333333333,\"#9c179e\"],[0.4444444444444444,\"#bd3786\"],[0.5555555555555556,\"#d8576b\"],[0.6666666666666666,\"#ed7953\"],[0.7777777777777778,\"#fb9f3a\"],[0.8888888888888888,\"#fdca26\"],[1.0,\"#f0f921\"]],\"type\":\"surface\"}],\"table\":[{\"cells\":{\"fill\":{\"color\":\"#EBF0F8\"},\"line\":{\"color\":\"white\"}},\"header\":{\"fill\":{\"color\":\"#C8D4E3\"},\"line\":{\"color\":\"white\"}},\"type\":\"table\"}]},\"layout\":{\"annotationdefaults\":{\"arrowcolor\":\"#2a3f5f\",\"arrowhead\":0,\"arrowwidth\":1},\"autotypenumbers\":\"strict\",\"coloraxis\":{\"colorbar\":{\"outlinewidth\":0,\"ticks\":\"\"}},\"colorscale\":{\"diverging\":[[0,\"#8e0152\"],[0.1,\"#c51b7d\"],[0.2,\"#de77ae\"],[0.3,\"#f1b6da\"],[0.4,\"#fde0ef\"],[0.5,\"#f7f7f7\"],[0.6,\"#e6f5d0\"],[0.7,\"#b8e186\"],[0.8,\"#7fbc41\"],[0.9,\"#4d9221\"],[1,\"#276419\"]],\"sequential\":[[0.0,\"#0d0887\"],[0.1111111111111111,\"#46039f\"],[0.2222222222222222,\"#7201a8\"],[0.3333333333333333,\"#9c179e\"],[0.4444444444444444,\"#bd3786\"],[0.5555555555555556,\"#d8576b\"],[0.6666666666666666,\"#ed7953\"],[0.7777777777777778,\"#fb9f3a\"],[0.8888888888888888,\"#fdca26\"],[1.0,\"#f0f921\"]],\"sequentialminus\":[[0.0,\"#0d0887\"],[0.1111111111111111,\"#46039f\"],[0.2222222222222222,\"#7201a8\"],[0.3333333333333333,\"#9c179e\"],[0.4444444444444444,\"#bd3786\"],[0.5555555555555556,\"#d8576b\"],[0.6666666666666666,\"#ed7953\"],[0.7777777777777778,\"#fb9f3a\"],[0.8888888888888888,\"#fdca26\"],[1.0,\"#f0f921\"]]},\"colorway\":[\"#636efa\",\"#EF553B\",\"#00cc96\",\"#ab63fa\",\"#FFA15A\",\"#19d3f3\",\"#FF6692\",\"#B6E880\",\"#FF97FF\",\"#FECB52\"],\"font\":{\"color\":\"#2a3f5f\"},\"geo\":{\"bgcolor\":\"white\",\"lakecolor\":\"white\",\"landcolor\":\"#E5ECF6\",\"showlakes\":true,\"showland\":true,\"subunitcolor\":\"white\"},\"hoverlabel\":{\"align\":\"left\"},\"hovermode\":\"closest\",\"mapbox\":{\"style\":\"light\"},\"paper_bgcolor\":\"white\",\"plot_bgcolor\":\"#E5ECF6\",\"polar\":{\"angularaxis\":{\"gridcolor\":\"white\",\"linecolor\":\"white\",\"ticks\":\"\"},\"bgcolor\":\"#E5ECF6\",\"radialaxis\":{\"gridcolor\":\"white\",\"linecolor\":\"white\",\"ticks\":\"\"}},\"scene\":{\"xaxis\":{\"backgroundcolor\":\"#E5ECF6\",\"gridcolor\":\"white\",\"gridwidth\":2,\"linecolor\":\"white\",\"showbackground\":true,\"ticks\":\"\",\"zerolinecolor\":\"white\"},\"yaxis\":{\"backgroundcolor\":\"#E5ECF6\",\"gridcolor\":\"white\",\"gridwidth\":2,\"linecolor\":\"white\",\"showbackground\":true,\"ticks\":\"\",\"zerolinecolor\":\"white\"},\"zaxis\":{\"backgroundcolor\":\"#E5ECF6\",\"gridcolor\":\"white\",\"gridwidth\":2,\"linecolor\":\"white\",\"showbackground\":true,\"ticks\":\"\",\"zerolinecolor\":\"white\"}},\"shapedefaults\":{\"line\":{\"color\":\"#2a3f5f\"}},\"ternary\":{\"aaxis\":{\"gridcolor\":\"white\",\"linecolor\":\"white\",\"ticks\":\"\"},\"baxis\":{\"gridcolor\":\"white\",\"linecolor\":\"white\",\"ticks\":\"\"},\"bgcolor\":\"#E5ECF6\",\"caxis\":{\"gridcolor\":\"white\",\"linecolor\":\"white\",\"ticks\":\"\"}},\"title\":{\"x\":0.05},\"xaxis\":{\"automargin\":true,\"gridcolor\":\"white\",\"linecolor\":\"white\",\"ticks\":\"\",\"title\":{\"standoff\":15},\"zerolinecolor\":\"white\",\"zerolinewidth\":2},\"yaxis\":{\"automargin\":true,\"gridcolor\":\"white\",\"linecolor\":\"white\",\"ticks\":\"\",\"title\":{\"standoff\":15},\"zerolinecolor\":\"white\",\"zerolinewidth\":2}}},\"title\":{\"text\":\"Bullet Chart\"},\"width\":1000,\"xaxis\":{\"anchor\":\"y\",\"domain\":[0.0,0.039999999999999994],\"range\":[0,1],\"showgrid\":false,\"showticklabels\":false,\"zeroline\":false},\"yaxis\":{\"anchor\":\"x\",\"domain\":[0.0,1.0],\"showgrid\":false,\"tickwidth\":1,\"zeroline\":false},\"xaxis2\":{\"anchor\":\"y2\",\"domain\":[0.24,0.27999999999999997],\"range\":[0,1],\"showgrid\":false,\"showticklabels\":false,\"zeroline\":false},\"yaxis2\":{\"anchor\":\"x2\",\"domain\":[0.0,1.0],\"showgrid\":false,\"tickwidth\":1,\"zeroline\":false},\"xaxis3\":{\"anchor\":\"y3\",\"domain\":[0.48,0.52],\"range\":[0,1],\"showgrid\":false,\"showticklabels\":false,\"zeroline\":false},\"yaxis3\":{\"anchor\":\"x3\",\"domain\":[0.0,1.0],\"showgrid\":false,\"tickwidth\":1,\"zeroline\":false},\"xaxis4\":{\"anchor\":\"y4\",\"domain\":[0.7200000000000001,0.7600000000000001],\"range\":[0,1],\"showgrid\":false,\"showticklabels\":false,\"zeroline\":false},\"yaxis4\":{\"anchor\":\"x4\",\"domain\":[0.0,1.0],\"showgrid\":false,\"tickwidth\":1,\"zeroline\":false},\"xaxis5\":{\"anchor\":\"y5\",\"domain\":[0.96,1.0],\"range\":[0,1],\"showgrid\":false,\"showticklabels\":false,\"zeroline\":false},\"yaxis5\":{\"anchor\":\"x5\",\"domain\":[0.0,1.0],\"showgrid\":false,\"tickwidth\":1,\"zeroline\":false}},                        {\"responsive\": true}                    ).then(function(){\n",
       "                            \n",
       "var gd = document.getElementById('a70175ac-ebe8-45cc-8c84-a57cf1c43d2e');\n",
       "var x = new MutationObserver(function (mutations, observer) {{\n",
       "        var display = window.getComputedStyle(gd).display;\n",
       "        if (!display || display === 'none') {{\n",
       "            console.log([gd, 'removed!']);\n",
       "            Plotly.purge(gd);\n",
       "            observer.disconnect();\n",
       "        }}\n",
       "}});\n",
       "\n",
       "// Listen for the removal of the full notebook cells\n",
       "var notebookContainer = gd.closest('#notebook-container');\n",
       "if (notebookContainer) {{\n",
       "    x.observe(notebookContainer, {childList: true});\n",
       "}}\n",
       "\n",
       "// Listen for the clearing of the current output cell\n",
       "var outputEl = gd.closest('.output');\n",
       "if (outputEl) {{\n",
       "    x.observe(outputEl, {childList: true});\n",
       "}}\n",
       "\n",
       "                        })                };                });            </script>        </div>"
      ]
     },
     "metadata": {},
     "output_type": "display_data"
    }
   ],
   "source": [
    "import plotly.figure_factory as ff\n",
    "\n",
    "data = (\n",
    "  {\"label\": \"Happiness\", \"sublabel\":\"score\",\n",
    "   \"range\": [5, 6, 8], \"performance\": [5.5, 6.5], \"point\": [7]},\n",
    "  {\"label\": \"Economy\", \"sublabel\": \"score\", \"range\": [0, 1, 2],\n",
    "   \"performance\": [1, 1.5], \"sublabel\":\"score\",\"point\": [1.5]},\n",
    "  {\"label\": \"Family\",\"sublabel\":\"score\", \"range\": [0, 1, 2],\n",
    "   \"performance\": [1, 1.5],\"sublabel\":\"score\", \"point\": [1.3]},\n",
    "  {\"label\": \"Freedom\",\"sublabel\":\"score\", \"range\": [0, 0.3, 0.6],\n",
    "   \"performance\": [0.3, 0.4],\"sublabel\":\"score\", \"point\": [0.5]},\n",
    "  {\"label\": \"Trust\", \"sublabel\":\"score\",\"range\": [0, 0.2, 0.5],\n",
    "   \"performance\": [0.3, 0.4], \"point\": [0.4]}\n",
    ")\n",
    "\n",
    "fig = ff.create_bullet(\n",
    "    data, titles='label', subtitles='sublabel', markers='point',\n",
    "    measures='performance', ranges='range', orientation='v',\n",
    ")\n",
    "py.iplot(fig, filename='bullet chart from dict')"
   ]
  },
  {
   "cell_type": "markdown",
   "id": "b47af92f",
   "metadata": {},
   "source": [
    "The Chart above represents the Range for some of the most important attributes given in the data. We have taken Happiness, Economy, Freedom, and Family for analysis of their range."
   ]
  },
  {
   "cell_type": "markdown",
   "id": "3954ddb8",
   "metadata": {},
   "source": [
    "* If the values for the given attributes lie in the Dark Blue Region then it is in the critical region.\n",
    "\n",
    "* If the values for the given attributes lie in the light blue region then is is in good condition.\n",
    "\n",
    "* If the values for the given attributes lie above or near the diamond then is in the best state or condition.\n",
    "\n",
    "* White Regions are depicting the Maxima that could be achieved."
   ]
  },
  {
   "cell_type": "code",
   "execution_count": 23,
   "id": "31cd5b65",
   "metadata": {},
   "outputs": [
    {
     "data": {
      "application/vnd.plotly.v1+json": {
       "config": {
        "linkText": "Export to plot.ly",
        "plotlyServerURL": "https://plot.ly",
        "showLink": false
       },
       "data": [
        {
         "hole": 0.3,
         "labels": [
          "Sub-Saharan Africa",
          "Central and Eastern Europe",
          "Latin America and Caribbean",
          "Western Europe",
          "Middle East and Northern Africa",
          "Southeastern Asia",
          "Southern Asia",
          "Eastern Asia",
          "North America",
          "Australia and New Zealand"
         ],
         "marker": {
          "colors": [
           "aqua",
           "gold",
           "yellow",
           "crimson",
           "magenta"
          ]
         },
         "name": "2015",
         "type": "pie",
         "values": [
          40,
          29,
          22,
          21,
          20,
          9,
          7,
          6,
          2,
          2
         ]
        }
       ],
       "layout": {
        "template": {
         "data": {
          "bar": [
           {
            "error_x": {
             "color": "#2a3f5f"
            },
            "error_y": {
             "color": "#2a3f5f"
            },
            "marker": {
             "line": {
              "color": "#E5ECF6",
              "width": 0.5
             },
             "pattern": {
              "fillmode": "overlay",
              "size": 10,
              "solidity": 0.2
             }
            },
            "type": "bar"
           }
          ],
          "barpolar": [
           {
            "marker": {
             "line": {
              "color": "#E5ECF6",
              "width": 0.5
             },
             "pattern": {
              "fillmode": "overlay",
              "size": 10,
              "solidity": 0.2
             }
            },
            "type": "barpolar"
           }
          ],
          "carpet": [
           {
            "aaxis": {
             "endlinecolor": "#2a3f5f",
             "gridcolor": "white",
             "linecolor": "white",
             "minorgridcolor": "white",
             "startlinecolor": "#2a3f5f"
            },
            "baxis": {
             "endlinecolor": "#2a3f5f",
             "gridcolor": "white",
             "linecolor": "white",
             "minorgridcolor": "white",
             "startlinecolor": "#2a3f5f"
            },
            "type": "carpet"
           }
          ],
          "choropleth": [
           {
            "colorbar": {
             "outlinewidth": 0,
             "ticks": ""
            },
            "type": "choropleth"
           }
          ],
          "contour": [
           {
            "colorbar": {
             "outlinewidth": 0,
             "ticks": ""
            },
            "colorscale": [
             [
              0,
              "#0d0887"
             ],
             [
              0.1111111111111111,
              "#46039f"
             ],
             [
              0.2222222222222222,
              "#7201a8"
             ],
             [
              0.3333333333333333,
              "#9c179e"
             ],
             [
              0.4444444444444444,
              "#bd3786"
             ],
             [
              0.5555555555555556,
              "#d8576b"
             ],
             [
              0.6666666666666666,
              "#ed7953"
             ],
             [
              0.7777777777777778,
              "#fb9f3a"
             ],
             [
              0.8888888888888888,
              "#fdca26"
             ],
             [
              1,
              "#f0f921"
             ]
            ],
            "type": "contour"
           }
          ],
          "contourcarpet": [
           {
            "colorbar": {
             "outlinewidth": 0,
             "ticks": ""
            },
            "type": "contourcarpet"
           }
          ],
          "heatmap": [
           {
            "colorbar": {
             "outlinewidth": 0,
             "ticks": ""
            },
            "colorscale": [
             [
              0,
              "#0d0887"
             ],
             [
              0.1111111111111111,
              "#46039f"
             ],
             [
              0.2222222222222222,
              "#7201a8"
             ],
             [
              0.3333333333333333,
              "#9c179e"
             ],
             [
              0.4444444444444444,
              "#bd3786"
             ],
             [
              0.5555555555555556,
              "#d8576b"
             ],
             [
              0.6666666666666666,
              "#ed7953"
             ],
             [
              0.7777777777777778,
              "#fb9f3a"
             ],
             [
              0.8888888888888888,
              "#fdca26"
             ],
             [
              1,
              "#f0f921"
             ]
            ],
            "type": "heatmap"
           }
          ],
          "heatmapgl": [
           {
            "colorbar": {
             "outlinewidth": 0,
             "ticks": ""
            },
            "colorscale": [
             [
              0,
              "#0d0887"
             ],
             [
              0.1111111111111111,
              "#46039f"
             ],
             [
              0.2222222222222222,
              "#7201a8"
             ],
             [
              0.3333333333333333,
              "#9c179e"
             ],
             [
              0.4444444444444444,
              "#bd3786"
             ],
             [
              0.5555555555555556,
              "#d8576b"
             ],
             [
              0.6666666666666666,
              "#ed7953"
             ],
             [
              0.7777777777777778,
              "#fb9f3a"
             ],
             [
              0.8888888888888888,
              "#fdca26"
             ],
             [
              1,
              "#f0f921"
             ]
            ],
            "type": "heatmapgl"
           }
          ],
          "histogram": [
           {
            "marker": {
             "pattern": {
              "fillmode": "overlay",
              "size": 10,
              "solidity": 0.2
             }
            },
            "type": "histogram"
           }
          ],
          "histogram2d": [
           {
            "colorbar": {
             "outlinewidth": 0,
             "ticks": ""
            },
            "colorscale": [
             [
              0,
              "#0d0887"
             ],
             [
              0.1111111111111111,
              "#46039f"
             ],
             [
              0.2222222222222222,
              "#7201a8"
             ],
             [
              0.3333333333333333,
              "#9c179e"
             ],
             [
              0.4444444444444444,
              "#bd3786"
             ],
             [
              0.5555555555555556,
              "#d8576b"
             ],
             [
              0.6666666666666666,
              "#ed7953"
             ],
             [
              0.7777777777777778,
              "#fb9f3a"
             ],
             [
              0.8888888888888888,
              "#fdca26"
             ],
             [
              1,
              "#f0f921"
             ]
            ],
            "type": "histogram2d"
           }
          ],
          "histogram2dcontour": [
           {
            "colorbar": {
             "outlinewidth": 0,
             "ticks": ""
            },
            "colorscale": [
             [
              0,
              "#0d0887"
             ],
             [
              0.1111111111111111,
              "#46039f"
             ],
             [
              0.2222222222222222,
              "#7201a8"
             ],
             [
              0.3333333333333333,
              "#9c179e"
             ],
             [
              0.4444444444444444,
              "#bd3786"
             ],
             [
              0.5555555555555556,
              "#d8576b"
             ],
             [
              0.6666666666666666,
              "#ed7953"
             ],
             [
              0.7777777777777778,
              "#fb9f3a"
             ],
             [
              0.8888888888888888,
              "#fdca26"
             ],
             [
              1,
              "#f0f921"
             ]
            ],
            "type": "histogram2dcontour"
           }
          ],
          "mesh3d": [
           {
            "colorbar": {
             "outlinewidth": 0,
             "ticks": ""
            },
            "type": "mesh3d"
           }
          ],
          "parcoords": [
           {
            "line": {
             "colorbar": {
              "outlinewidth": 0,
              "ticks": ""
             }
            },
            "type": "parcoords"
           }
          ],
          "pie": [
           {
            "automargin": true,
            "type": "pie"
           }
          ],
          "scatter": [
           {
            "fillpattern": {
             "fillmode": "overlay",
             "size": 10,
             "solidity": 0.2
            },
            "type": "scatter"
           }
          ],
          "scatter3d": [
           {
            "line": {
             "colorbar": {
              "outlinewidth": 0,
              "ticks": ""
             }
            },
            "marker": {
             "colorbar": {
              "outlinewidth": 0,
              "ticks": ""
             }
            },
            "type": "scatter3d"
           }
          ],
          "scattercarpet": [
           {
            "marker": {
             "colorbar": {
              "outlinewidth": 0,
              "ticks": ""
             }
            },
            "type": "scattercarpet"
           }
          ],
          "scattergeo": [
           {
            "marker": {
             "colorbar": {
              "outlinewidth": 0,
              "ticks": ""
             }
            },
            "type": "scattergeo"
           }
          ],
          "scattergl": [
           {
            "marker": {
             "colorbar": {
              "outlinewidth": 0,
              "ticks": ""
             }
            },
            "type": "scattergl"
           }
          ],
          "scattermapbox": [
           {
            "marker": {
             "colorbar": {
              "outlinewidth": 0,
              "ticks": ""
             }
            },
            "type": "scattermapbox"
           }
          ],
          "scatterpolar": [
           {
            "marker": {
             "colorbar": {
              "outlinewidth": 0,
              "ticks": ""
             }
            },
            "type": "scatterpolar"
           }
          ],
          "scatterpolargl": [
           {
            "marker": {
             "colorbar": {
              "outlinewidth": 0,
              "ticks": ""
             }
            },
            "type": "scatterpolargl"
           }
          ],
          "scatterternary": [
           {
            "marker": {
             "colorbar": {
              "outlinewidth": 0,
              "ticks": ""
             }
            },
            "type": "scatterternary"
           }
          ],
          "surface": [
           {
            "colorbar": {
             "outlinewidth": 0,
             "ticks": ""
            },
            "colorscale": [
             [
              0,
              "#0d0887"
             ],
             [
              0.1111111111111111,
              "#46039f"
             ],
             [
              0.2222222222222222,
              "#7201a8"
             ],
             [
              0.3333333333333333,
              "#9c179e"
             ],
             [
              0.4444444444444444,
              "#bd3786"
             ],
             [
              0.5555555555555556,
              "#d8576b"
             ],
             [
              0.6666666666666666,
              "#ed7953"
             ],
             [
              0.7777777777777778,
              "#fb9f3a"
             ],
             [
              0.8888888888888888,
              "#fdca26"
             ],
             [
              1,
              "#f0f921"
             ]
            ],
            "type": "surface"
           }
          ],
          "table": [
           {
            "cells": {
             "fill": {
              "color": "#EBF0F8"
             },
             "line": {
              "color": "white"
             }
            },
            "header": {
             "fill": {
              "color": "#C8D4E3"
             },
             "line": {
              "color": "white"
             }
            },
            "type": "table"
           }
          ]
         },
         "layout": {
          "annotationdefaults": {
           "arrowcolor": "#2a3f5f",
           "arrowhead": 0,
           "arrowwidth": 1
          },
          "autotypenumbers": "strict",
          "coloraxis": {
           "colorbar": {
            "outlinewidth": 0,
            "ticks": ""
           }
          },
          "colorscale": {
           "diverging": [
            [
             0,
             "#8e0152"
            ],
            [
             0.1,
             "#c51b7d"
            ],
            [
             0.2,
             "#de77ae"
            ],
            [
             0.3,
             "#f1b6da"
            ],
            [
             0.4,
             "#fde0ef"
            ],
            [
             0.5,
             "#f7f7f7"
            ],
            [
             0.6,
             "#e6f5d0"
            ],
            [
             0.7,
             "#b8e186"
            ],
            [
             0.8,
             "#7fbc41"
            ],
            [
             0.9,
             "#4d9221"
            ],
            [
             1,
             "#276419"
            ]
           ],
           "sequential": [
            [
             0,
             "#0d0887"
            ],
            [
             0.1111111111111111,
             "#46039f"
            ],
            [
             0.2222222222222222,
             "#7201a8"
            ],
            [
             0.3333333333333333,
             "#9c179e"
            ],
            [
             0.4444444444444444,
             "#bd3786"
            ],
            [
             0.5555555555555556,
             "#d8576b"
            ],
            [
             0.6666666666666666,
             "#ed7953"
            ],
            [
             0.7777777777777778,
             "#fb9f3a"
            ],
            [
             0.8888888888888888,
             "#fdca26"
            ],
            [
             1,
             "#f0f921"
            ]
           ],
           "sequentialminus": [
            [
             0,
             "#0d0887"
            ],
            [
             0.1111111111111111,
             "#46039f"
            ],
            [
             0.2222222222222222,
             "#7201a8"
            ],
            [
             0.3333333333333333,
             "#9c179e"
            ],
            [
             0.4444444444444444,
             "#bd3786"
            ],
            [
             0.5555555555555556,
             "#d8576b"
            ],
            [
             0.6666666666666666,
             "#ed7953"
            ],
            [
             0.7777777777777778,
             "#fb9f3a"
            ],
            [
             0.8888888888888888,
             "#fdca26"
            ],
            [
             1,
             "#f0f921"
            ]
           ]
          },
          "colorway": [
           "#636efa",
           "#EF553B",
           "#00cc96",
           "#ab63fa",
           "#FFA15A",
           "#19d3f3",
           "#FF6692",
           "#B6E880",
           "#FF97FF",
           "#FECB52"
          ],
          "font": {
           "color": "#2a3f5f"
          },
          "geo": {
           "bgcolor": "white",
           "lakecolor": "white",
           "landcolor": "#E5ECF6",
           "showlakes": true,
           "showland": true,
           "subunitcolor": "white"
          },
          "hoverlabel": {
           "align": "left"
          },
          "hovermode": "closest",
          "mapbox": {
           "style": "light"
          },
          "paper_bgcolor": "white",
          "plot_bgcolor": "#E5ECF6",
          "polar": {
           "angularaxis": {
            "gridcolor": "white",
            "linecolor": "white",
            "ticks": ""
           },
           "bgcolor": "#E5ECF6",
           "radialaxis": {
            "gridcolor": "white",
            "linecolor": "white",
            "ticks": ""
           }
          },
          "scene": {
           "xaxis": {
            "backgroundcolor": "#E5ECF6",
            "gridcolor": "white",
            "gridwidth": 2,
            "linecolor": "white",
            "showbackground": true,
            "ticks": "",
            "zerolinecolor": "white"
           },
           "yaxis": {
            "backgroundcolor": "#E5ECF6",
            "gridcolor": "white",
            "gridwidth": 2,
            "linecolor": "white",
            "showbackground": true,
            "ticks": "",
            "zerolinecolor": "white"
           },
           "zaxis": {
            "backgroundcolor": "#E5ECF6",
            "gridcolor": "white",
            "gridwidth": 2,
            "linecolor": "white",
            "showbackground": true,
            "ticks": "",
            "zerolinecolor": "white"
           }
          },
          "shapedefaults": {
           "line": {
            "color": "#2a3f5f"
           }
          },
          "ternary": {
           "aaxis": {
            "gridcolor": "white",
            "linecolor": "white",
            "ticks": ""
           },
           "baxis": {
            "gridcolor": "white",
            "linecolor": "white",
            "ticks": ""
           },
           "bgcolor": "#E5ECF6",
           "caxis": {
            "gridcolor": "white",
            "linecolor": "white",
            "ticks": ""
           }
          },
          "title": {
           "x": 0.05
          },
          "xaxis": {
           "automargin": true,
           "gridcolor": "white",
           "linecolor": "white",
           "ticks": "",
           "title": {
            "standoff": 15
           },
           "zerolinecolor": "white",
           "zerolinewidth": 2
          },
          "yaxis": {
           "automargin": true,
           "gridcolor": "white",
           "linecolor": "white",
           "ticks": "",
           "title": {
            "standoff": 15
           },
           "zerolinecolor": "white",
           "zerolinewidth": 2
          }
         }
        },
        "title": {
         "text": "Regions"
        }
       }
      },
      "text/html": [
       "<div>                            <div id=\"1bc59da7-e5bc-43f9-a23b-ae87f76f3351\" class=\"plotly-graph-div\" style=\"height:525px; width:100%;\"></div>            <script type=\"text/javascript\">                require([\"plotly\"], function(Plotly) {                    window.PLOTLYENV=window.PLOTLYENV || {};                                    if (document.getElementById(\"1bc59da7-e5bc-43f9-a23b-ae87f76f3351\")) {                    Plotly.newPlot(                        \"1bc59da7-e5bc-43f9-a23b-ae87f76f3351\",                        [{\"hole\":0.3,\"labels\":[\"Sub-Saharan Africa\",\"Central and Eastern Europe\",\"Latin America and Caribbean\",\"Western Europe\",\"Middle East and Northern Africa\",\"Southeastern Asia\",\"Southern Asia\",\"Eastern Asia\",\"North America\",\"Australia and New Zealand\"],\"marker\":{\"colors\":[\"aqua\",\"gold\",\"yellow\",\"crimson\",\"magenta\"]},\"name\":\"2015\",\"values\":[40,29,22,21,20,9,7,6,2,2],\"type\":\"pie\"}],                        {\"template\":{\"data\":{\"barpolar\":[{\"marker\":{\"line\":{\"color\":\"#E5ECF6\",\"width\":0.5},\"pattern\":{\"fillmode\":\"overlay\",\"size\":10,\"solidity\":0.2}},\"type\":\"barpolar\"}],\"bar\":[{\"error_x\":{\"color\":\"#2a3f5f\"},\"error_y\":{\"color\":\"#2a3f5f\"},\"marker\":{\"line\":{\"color\":\"#E5ECF6\",\"width\":0.5},\"pattern\":{\"fillmode\":\"overlay\",\"size\":10,\"solidity\":0.2}},\"type\":\"bar\"}],\"carpet\":[{\"aaxis\":{\"endlinecolor\":\"#2a3f5f\",\"gridcolor\":\"white\",\"linecolor\":\"white\",\"minorgridcolor\":\"white\",\"startlinecolor\":\"#2a3f5f\"},\"baxis\":{\"endlinecolor\":\"#2a3f5f\",\"gridcolor\":\"white\",\"linecolor\":\"white\",\"minorgridcolor\":\"white\",\"startlinecolor\":\"#2a3f5f\"},\"type\":\"carpet\"}],\"choropleth\":[{\"colorbar\":{\"outlinewidth\":0,\"ticks\":\"\"},\"type\":\"choropleth\"}],\"contourcarpet\":[{\"colorbar\":{\"outlinewidth\":0,\"ticks\":\"\"},\"type\":\"contourcarpet\"}],\"contour\":[{\"colorbar\":{\"outlinewidth\":0,\"ticks\":\"\"},\"colorscale\":[[0.0,\"#0d0887\"],[0.1111111111111111,\"#46039f\"],[0.2222222222222222,\"#7201a8\"],[0.3333333333333333,\"#9c179e\"],[0.4444444444444444,\"#bd3786\"],[0.5555555555555556,\"#d8576b\"],[0.6666666666666666,\"#ed7953\"],[0.7777777777777778,\"#fb9f3a\"],[0.8888888888888888,\"#fdca26\"],[1.0,\"#f0f921\"]],\"type\":\"contour\"}],\"heatmapgl\":[{\"colorbar\":{\"outlinewidth\":0,\"ticks\":\"\"},\"colorscale\":[[0.0,\"#0d0887\"],[0.1111111111111111,\"#46039f\"],[0.2222222222222222,\"#7201a8\"],[0.3333333333333333,\"#9c179e\"],[0.4444444444444444,\"#bd3786\"],[0.5555555555555556,\"#d8576b\"],[0.6666666666666666,\"#ed7953\"],[0.7777777777777778,\"#fb9f3a\"],[0.8888888888888888,\"#fdca26\"],[1.0,\"#f0f921\"]],\"type\":\"heatmapgl\"}],\"heatmap\":[{\"colorbar\":{\"outlinewidth\":0,\"ticks\":\"\"},\"colorscale\":[[0.0,\"#0d0887\"],[0.1111111111111111,\"#46039f\"],[0.2222222222222222,\"#7201a8\"],[0.3333333333333333,\"#9c179e\"],[0.4444444444444444,\"#bd3786\"],[0.5555555555555556,\"#d8576b\"],[0.6666666666666666,\"#ed7953\"],[0.7777777777777778,\"#fb9f3a\"],[0.8888888888888888,\"#fdca26\"],[1.0,\"#f0f921\"]],\"type\":\"heatmap\"}],\"histogram2dcontour\":[{\"colorbar\":{\"outlinewidth\":0,\"ticks\":\"\"},\"colorscale\":[[0.0,\"#0d0887\"],[0.1111111111111111,\"#46039f\"],[0.2222222222222222,\"#7201a8\"],[0.3333333333333333,\"#9c179e\"],[0.4444444444444444,\"#bd3786\"],[0.5555555555555556,\"#d8576b\"],[0.6666666666666666,\"#ed7953\"],[0.7777777777777778,\"#fb9f3a\"],[0.8888888888888888,\"#fdca26\"],[1.0,\"#f0f921\"]],\"type\":\"histogram2dcontour\"}],\"histogram2d\":[{\"colorbar\":{\"outlinewidth\":0,\"ticks\":\"\"},\"colorscale\":[[0.0,\"#0d0887\"],[0.1111111111111111,\"#46039f\"],[0.2222222222222222,\"#7201a8\"],[0.3333333333333333,\"#9c179e\"],[0.4444444444444444,\"#bd3786\"],[0.5555555555555556,\"#d8576b\"],[0.6666666666666666,\"#ed7953\"],[0.7777777777777778,\"#fb9f3a\"],[0.8888888888888888,\"#fdca26\"],[1.0,\"#f0f921\"]],\"type\":\"histogram2d\"}],\"histogram\":[{\"marker\":{\"pattern\":{\"fillmode\":\"overlay\",\"size\":10,\"solidity\":0.2}},\"type\":\"histogram\"}],\"mesh3d\":[{\"colorbar\":{\"outlinewidth\":0,\"ticks\":\"\"},\"type\":\"mesh3d\"}],\"parcoords\":[{\"line\":{\"colorbar\":{\"outlinewidth\":0,\"ticks\":\"\"}},\"type\":\"parcoords\"}],\"pie\":[{\"automargin\":true,\"type\":\"pie\"}],\"scatter3d\":[{\"line\":{\"colorbar\":{\"outlinewidth\":0,\"ticks\":\"\"}},\"marker\":{\"colorbar\":{\"outlinewidth\":0,\"ticks\":\"\"}},\"type\":\"scatter3d\"}],\"scattercarpet\":[{\"marker\":{\"colorbar\":{\"outlinewidth\":0,\"ticks\":\"\"}},\"type\":\"scattercarpet\"}],\"scattergeo\":[{\"marker\":{\"colorbar\":{\"outlinewidth\":0,\"ticks\":\"\"}},\"type\":\"scattergeo\"}],\"scattergl\":[{\"marker\":{\"colorbar\":{\"outlinewidth\":0,\"ticks\":\"\"}},\"type\":\"scattergl\"}],\"scattermapbox\":[{\"marker\":{\"colorbar\":{\"outlinewidth\":0,\"ticks\":\"\"}},\"type\":\"scattermapbox\"}],\"scatterpolargl\":[{\"marker\":{\"colorbar\":{\"outlinewidth\":0,\"ticks\":\"\"}},\"type\":\"scatterpolargl\"}],\"scatterpolar\":[{\"marker\":{\"colorbar\":{\"outlinewidth\":0,\"ticks\":\"\"}},\"type\":\"scatterpolar\"}],\"scatter\":[{\"fillpattern\":{\"fillmode\":\"overlay\",\"size\":10,\"solidity\":0.2},\"type\":\"scatter\"}],\"scatterternary\":[{\"marker\":{\"colorbar\":{\"outlinewidth\":0,\"ticks\":\"\"}},\"type\":\"scatterternary\"}],\"surface\":[{\"colorbar\":{\"outlinewidth\":0,\"ticks\":\"\"},\"colorscale\":[[0.0,\"#0d0887\"],[0.1111111111111111,\"#46039f\"],[0.2222222222222222,\"#7201a8\"],[0.3333333333333333,\"#9c179e\"],[0.4444444444444444,\"#bd3786\"],[0.5555555555555556,\"#d8576b\"],[0.6666666666666666,\"#ed7953\"],[0.7777777777777778,\"#fb9f3a\"],[0.8888888888888888,\"#fdca26\"],[1.0,\"#f0f921\"]],\"type\":\"surface\"}],\"table\":[{\"cells\":{\"fill\":{\"color\":\"#EBF0F8\"},\"line\":{\"color\":\"white\"}},\"header\":{\"fill\":{\"color\":\"#C8D4E3\"},\"line\":{\"color\":\"white\"}},\"type\":\"table\"}]},\"layout\":{\"annotationdefaults\":{\"arrowcolor\":\"#2a3f5f\",\"arrowhead\":0,\"arrowwidth\":1},\"autotypenumbers\":\"strict\",\"coloraxis\":{\"colorbar\":{\"outlinewidth\":0,\"ticks\":\"\"}},\"colorscale\":{\"diverging\":[[0,\"#8e0152\"],[0.1,\"#c51b7d\"],[0.2,\"#de77ae\"],[0.3,\"#f1b6da\"],[0.4,\"#fde0ef\"],[0.5,\"#f7f7f7\"],[0.6,\"#e6f5d0\"],[0.7,\"#b8e186\"],[0.8,\"#7fbc41\"],[0.9,\"#4d9221\"],[1,\"#276419\"]],\"sequential\":[[0.0,\"#0d0887\"],[0.1111111111111111,\"#46039f\"],[0.2222222222222222,\"#7201a8\"],[0.3333333333333333,\"#9c179e\"],[0.4444444444444444,\"#bd3786\"],[0.5555555555555556,\"#d8576b\"],[0.6666666666666666,\"#ed7953\"],[0.7777777777777778,\"#fb9f3a\"],[0.8888888888888888,\"#fdca26\"],[1.0,\"#f0f921\"]],\"sequentialminus\":[[0.0,\"#0d0887\"],[0.1111111111111111,\"#46039f\"],[0.2222222222222222,\"#7201a8\"],[0.3333333333333333,\"#9c179e\"],[0.4444444444444444,\"#bd3786\"],[0.5555555555555556,\"#d8576b\"],[0.6666666666666666,\"#ed7953\"],[0.7777777777777778,\"#fb9f3a\"],[0.8888888888888888,\"#fdca26\"],[1.0,\"#f0f921\"]]},\"colorway\":[\"#636efa\",\"#EF553B\",\"#00cc96\",\"#ab63fa\",\"#FFA15A\",\"#19d3f3\",\"#FF6692\",\"#B6E880\",\"#FF97FF\",\"#FECB52\"],\"font\":{\"color\":\"#2a3f5f\"},\"geo\":{\"bgcolor\":\"white\",\"lakecolor\":\"white\",\"landcolor\":\"#E5ECF6\",\"showlakes\":true,\"showland\":true,\"subunitcolor\":\"white\"},\"hoverlabel\":{\"align\":\"left\"},\"hovermode\":\"closest\",\"mapbox\":{\"style\":\"light\"},\"paper_bgcolor\":\"white\",\"plot_bgcolor\":\"#E5ECF6\",\"polar\":{\"angularaxis\":{\"gridcolor\":\"white\",\"linecolor\":\"white\",\"ticks\":\"\"},\"bgcolor\":\"#E5ECF6\",\"radialaxis\":{\"gridcolor\":\"white\",\"linecolor\":\"white\",\"ticks\":\"\"}},\"scene\":{\"xaxis\":{\"backgroundcolor\":\"#E5ECF6\",\"gridcolor\":\"white\",\"gridwidth\":2,\"linecolor\":\"white\",\"showbackground\":true,\"ticks\":\"\",\"zerolinecolor\":\"white\"},\"yaxis\":{\"backgroundcolor\":\"#E5ECF6\",\"gridcolor\":\"white\",\"gridwidth\":2,\"linecolor\":\"white\",\"showbackground\":true,\"ticks\":\"\",\"zerolinecolor\":\"white\"},\"zaxis\":{\"backgroundcolor\":\"#E5ECF6\",\"gridcolor\":\"white\",\"gridwidth\":2,\"linecolor\":\"white\",\"showbackground\":true,\"ticks\":\"\",\"zerolinecolor\":\"white\"}},\"shapedefaults\":{\"line\":{\"color\":\"#2a3f5f\"}},\"ternary\":{\"aaxis\":{\"gridcolor\":\"white\",\"linecolor\":\"white\",\"ticks\":\"\"},\"baxis\":{\"gridcolor\":\"white\",\"linecolor\":\"white\",\"ticks\":\"\"},\"bgcolor\":\"#E5ECF6\",\"caxis\":{\"gridcolor\":\"white\",\"linecolor\":\"white\",\"ticks\":\"\"}},\"title\":{\"x\":0.05},\"xaxis\":{\"automargin\":true,\"gridcolor\":\"white\",\"linecolor\":\"white\",\"ticks\":\"\",\"title\":{\"standoff\":15},\"zerolinecolor\":\"white\",\"zerolinewidth\":2},\"yaxis\":{\"automargin\":true,\"gridcolor\":\"white\",\"linecolor\":\"white\",\"ticks\":\"\",\"title\":{\"standoff\":15},\"zerolinecolor\":\"white\",\"zerolinewidth\":2}}},\"title\":{\"text\":\"Regions\"}},                        {\"responsive\": true}                    ).then(function(){\n",
       "                            \n",
       "var gd = document.getElementById('1bc59da7-e5bc-43f9-a23b-ae87f76f3351');\n",
       "var x = new MutationObserver(function (mutations, observer) {{\n",
       "        var display = window.getComputedStyle(gd).display;\n",
       "        if (!display || display === 'none') {{\n",
       "            console.log([gd, 'removed!']);\n",
       "            Plotly.purge(gd);\n",
       "            observer.disconnect();\n",
       "        }}\n",
       "}});\n",
       "\n",
       "// Listen for the removal of the full notebook cells\n",
       "var notebookContainer = gd.closest('#notebook-container');\n",
       "if (notebookContainer) {{\n",
       "    x.observe(notebookContainer, {childList: true});\n",
       "}}\n",
       "\n",
       "// Listen for the clearing of the current output cell\n",
       "var outputEl = gd.closest('.output');\n",
       "if (outputEl) {{\n",
       "    x.observe(outputEl, {childList: true});\n",
       "}}\n",
       "\n",
       "                        })                };                });            </script>        </div>"
      ]
     },
     "metadata": {},
     "output_type": "display_data"
    }
   ],
   "source": [
    "data = df['Region'].value_counts()\n",
    "\n",
    "label = data.index\n",
    "size = data.values\n",
    "\n",
    "\n",
    "colors = ['aqua', 'gold', 'yellow', 'crimson', 'magenta']\n",
    "\n",
    "trace = go.Pie(\n",
    "         labels = label, values = size, marker = dict(colors = colors), name = '2015', hole = 0.3)\n",
    "\n",
    "data = [trace]\n",
    "\n",
    "layout1 = go.Layout(\n",
    "           title = 'Regions')\n",
    "\n",
    "fig = go.Figure(data = data, layout = layout1)\n",
    "py.iplot(fig)"
   ]
  },
  {
   "cell_type": "markdown",
   "id": "a67f6f23",
   "metadata": {},
   "source": [
    "The Above pie chart depicts the Number of Countries from each Region,"
   ]
  },
  {
   "cell_type": "markdown",
   "id": "5d9c49ad",
   "metadata": {},
   "source": [
    "* There are only two countries from North America(USA and Canada), and Austrelia(Austrelia, and New Zealand) regions.\n",
    "\n",
    "* The highest number of countries are from Sub-Saharan and Central and Eastern Europe regions with 40 and 29 countries respectively."
   ]
  },
  {
   "cell_type": "code",
   "execution_count": 24,
   "id": "4379afc6",
   "metadata": {
    "scrolled": true
   },
   "outputs": [
    {
     "data": {
      "application/vnd.plotly.v1+json": {
       "config": {
        "linkText": "Export to plot.ly",
        "plotlyServerURL": "https://plot.ly",
        "showLink": false
       },
       "data": [
        {
         "colorscale": [
          [
           0,
           "rgb(161, 105, 40)"
          ],
          [
           0.16666666666666666,
           "rgb(189, 146, 90)"
          ],
          [
           0.3333333333333333,
           "rgb(214, 189, 141)"
          ],
          [
           0.5,
           "rgb(237, 234, 194)"
          ],
          [
           0.6666666666666666,
           "rgb(181, 200, 184)"
          ],
          [
           0.8333333333333334,
           "rgb(121, 167, 172)"
          ],
          [
           1,
           "rgb(40, 135, 161)"
          ]
         ],
         "locationmode": "country names",
         "locations": [
          "Switzerland",
          "Iceland",
          "Denmark",
          "Norway",
          "Canada",
          "Finland",
          "Netherlands",
          "Sweden",
          "New Zealand",
          "Australia",
          "Israel",
          "Costa Rica",
          "Austria",
          "Mexico",
          "United States",
          "Brazil",
          "Luxembourg",
          "Ireland",
          "Belgium",
          "United Arab Emirates",
          "United Kingdom",
          "Oman",
          "Venezuela",
          "Singapore",
          "Panama",
          "Germany",
          "Chile",
          "Qatar",
          "France",
          "Argentina",
          "Czech Republic",
          "Uruguay",
          "Colombia",
          "Thailand",
          "Saudi Arabia",
          "Spain",
          "Malta",
          "Taiwan",
          "Kuwait",
          "Suriname",
          "Trinidad and Tobago",
          "El Salvador",
          "Guatemala",
          "Uzbekistan",
          "Slovakia",
          "Japan",
          "South Korea",
          "Ecuador",
          "Bahrain",
          "Italy",
          "Bolivia",
          "Moldova",
          "Paraguay",
          "Kazakhstan",
          "Slovenia",
          "Lithuania",
          "Nicaragua",
          "Peru",
          "Belarus",
          "Poland",
          "Malaysia",
          "Croatia",
          "Libya",
          "Russia",
          "Jamaica",
          "North Cyprus",
          "Cyprus",
          "Algeria",
          "Kosovo",
          "Turkmenistan",
          "Mauritius",
          "Hong Kong",
          "Estonia",
          "Indonesia",
          "Vietnam",
          "Turkey",
          "Kyrgyzstan",
          "Nigeria",
          "Bhutan",
          "Azerbaijan",
          "Pakistan",
          "Jordan",
          "Montenegro",
          "China",
          "Zambia",
          "Romania",
          "Serbia",
          "Portugal",
          "Latvia",
          "Philippines",
          "Somaliland region",
          "Morocco",
          "Macedonia",
          "Mozambique",
          "Albania",
          "Bosnia and Herzegovina",
          "Lesotho",
          "Dominican Republic",
          "Laos",
          "Mongolia",
          "Swaziland",
          "Greece",
          "Lebanon",
          "Hungary",
          "Honduras",
          "Tajikistan",
          "Tunisia",
          "Palestinian Territories",
          "Bangladesh",
          "Iran",
          "Ukraine",
          "Iraq",
          "South Africa",
          "Ghana",
          "Zimbabwe",
          "Liberia",
          "India",
          "Sudan",
          "Haiti",
          "Congo (Kinshasa)",
          "Nepal",
          "Ethiopia",
          "Sierra Leone",
          "Mauritania",
          "Kenya",
          "Djibouti",
          "Armenia",
          "Botswana",
          "Myanmar",
          "Georgia",
          "Malawi",
          "Sri Lanka",
          "Cameroon",
          "Bulgaria",
          "Egypt",
          "Yemen",
          "Angola",
          "Mali",
          "Congo (Brazzaville)",
          "Comoros",
          "Uganda",
          "Senegal",
          "Gabon",
          "Niger",
          "Cambodia",
          "Tanzania",
          "Madagascar",
          "Central African Republic",
          "Chad",
          "Guinea",
          "Ivory Coast",
          "Burkina Faso",
          "Afghanistan",
          "Rwanda",
          "Benin",
          "Syria",
          "Burundi",
          "Togo"
         ],
         "text": [
          "Switzerland",
          "Iceland",
          "Denmark",
          "Norway",
          "Canada",
          "Finland",
          "Netherlands",
          "Sweden",
          "New Zealand",
          "Australia",
          "Israel",
          "Costa Rica",
          "Austria",
          "Mexico",
          "United States",
          "Brazil",
          "Luxembourg",
          "Ireland",
          "Belgium",
          "United Arab Emirates",
          "United Kingdom",
          "Oman",
          "Venezuela",
          "Singapore",
          "Panama",
          "Germany",
          "Chile",
          "Qatar",
          "France",
          "Argentina",
          "Czech Republic",
          "Uruguay",
          "Colombia",
          "Thailand",
          "Saudi Arabia",
          "Spain",
          "Malta",
          "Taiwan",
          "Kuwait",
          "Suriname",
          "Trinidad and Tobago",
          "El Salvador",
          "Guatemala",
          "Uzbekistan",
          "Slovakia",
          "Japan",
          "South Korea",
          "Ecuador",
          "Bahrain",
          "Italy",
          "Bolivia",
          "Moldova",
          "Paraguay",
          "Kazakhstan",
          "Slovenia",
          "Lithuania",
          "Nicaragua",
          "Peru",
          "Belarus",
          "Poland",
          "Malaysia",
          "Croatia",
          "Libya",
          "Russia",
          "Jamaica",
          "North Cyprus",
          "Cyprus",
          "Algeria",
          "Kosovo",
          "Turkmenistan",
          "Mauritius",
          "Hong Kong",
          "Estonia",
          "Indonesia",
          "Vietnam",
          "Turkey",
          "Kyrgyzstan",
          "Nigeria",
          "Bhutan",
          "Azerbaijan",
          "Pakistan",
          "Jordan",
          "Montenegro",
          "China",
          "Zambia",
          "Romania",
          "Serbia",
          "Portugal",
          "Latvia",
          "Philippines",
          "Somaliland region",
          "Morocco",
          "Macedonia",
          "Mozambique",
          "Albania",
          "Bosnia and Herzegovina",
          "Lesotho",
          "Dominican Republic",
          "Laos",
          "Mongolia",
          "Swaziland",
          "Greece",
          "Lebanon",
          "Hungary",
          "Honduras",
          "Tajikistan",
          "Tunisia",
          "Palestinian Territories",
          "Bangladesh",
          "Iran",
          "Ukraine",
          "Iraq",
          "South Africa",
          "Ghana",
          "Zimbabwe",
          "Liberia",
          "India",
          "Sudan",
          "Haiti",
          "Congo (Kinshasa)",
          "Nepal",
          "Ethiopia",
          "Sierra Leone",
          "Mauritania",
          "Kenya",
          "Djibouti",
          "Armenia",
          "Botswana",
          "Myanmar",
          "Georgia",
          "Malawi",
          "Sri Lanka",
          "Cameroon",
          "Bulgaria",
          "Egypt",
          "Yemen",
          "Angola",
          "Mali",
          "Congo (Brazzaville)",
          "Comoros",
          "Uganda",
          "Senegal",
          "Gabon",
          "Niger",
          "Cambodia",
          "Tanzania",
          "Madagascar",
          "Central African Republic",
          "Chad",
          "Guinea",
          "Ivory Coast",
          "Burkina Faso",
          "Afghanistan",
          "Rwanda",
          "Benin",
          "Syria",
          "Burundi",
          "Togo"
         ],
         "type": "choropleth",
         "z": [
          0.29678,
          0.4363,
          0.34139,
          0.34699,
          0.45811,
          0.23351,
          0.4761,
          0.36262,
          0.47501,
          0.43562,
          0.33172,
          0.25497,
          0.33088,
          0.14074,
          0.40105,
          0.14574,
          0.28034,
          0.45901,
          0.2225,
          0.26428,
          0.51912,
          0.21542,
          0.05841,
          0.31105,
          0.24434,
          0.28214,
          0.33363,
          0.32573,
          0.12332,
          0.11451,
          0.10686,
          0.2324,
          0.18401,
          0.5763,
          0.13706,
          0.18227,
          0.51752,
          0.25376,
          0.16228,
          0.16991,
          0.31844,
          0.10692,
          0.27489,
          0.22837,
          0.16893,
          0.10705,
          0.18557,
          0.11541,
          0.17362,
          0.22823,
          0.20536,
          0.20951,
          0.3424,
          0.11827,
          0.25328,
          0.02641,
          0.27815,
          0.14982,
          0.11046,
          0.16759,
          0.33075,
          0.05444,
          0.18295,
          0.00199,
          0.2123,
          0.26169,
          0.30638,
          0.07822,
          0.2831,
          0.16979,
          0.37744,
          0.39478,
          0.0868,
          0.51535,
          0.1686,
          0.12253,
          0.3003,
          0.27233,
          0.47998,
          0.07799,
          0.33671,
          0.11053,
          0.1614,
          0.08185,
          0.19591,
          0.13748,
          0.19231,
          0.13719,
          0.18226,
          0.24991,
          0.50318,
          0.07172,
          0.22359,
          0.22269,
          0.14272,
          0.24808,
          0.16388,
          0.21684,
          0.42192,
          0.3323,
          0.18259,
          0,
          0.21854,
          0.128,
          0.23027,
          0.22974,
          0.06431,
          0.11251,
          0.21222,
          0.38086,
          0.15275,
          0.17922,
          0.11973,
          0.23087,
          0.18987,
          0.24362,
          0.26475,
          0.19062,
          0.46187,
          0.24834,
          0.32296,
          0.24325,
          0.21488,
          0.219,
          0.37542,
          0.18093,
          0.07855,
          0.10461,
          0.79588,
          0.05547,
          0.33128,
          0.40828,
          0.20618,
          0.11921,
          0.11291,
          0.09131,
          0.12344,
          0.18798,
          0.12388,
          0.17441,
          0.29066,
          0.20843,
          0.06822,
          0.19387,
          0.40359,
          0.34377,
          0.21333,
          0.23835,
          0.18386,
          0.28657,
          0.20165,
          0.21747,
          0.3651,
          0.22628,
          0.1826,
          0.47179,
          0.19727,
          0.16681
         ]
        }
       ],
       "layout": {
        "annotations": [
         {
          "showarrow": false,
          "text": "Projection",
          "x": 0.1,
          "xanchor": "right",
          "xref": "paper",
          "y": 0.8,
          "yanchor": "bottom"
         }
        ],
        "geo": {
         "projection": {
          "type": "hammer"
         },
         "showcoastlines": true,
         "showframe": true,
         "showlakes": true,
         "showocean": true
        },
        "template": {
         "data": {
          "bar": [
           {
            "error_x": {
             "color": "#2a3f5f"
            },
            "error_y": {
             "color": "#2a3f5f"
            },
            "marker": {
             "line": {
              "color": "#E5ECF6",
              "width": 0.5
             },
             "pattern": {
              "fillmode": "overlay",
              "size": 10,
              "solidity": 0.2
             }
            },
            "type": "bar"
           }
          ],
          "barpolar": [
           {
            "marker": {
             "line": {
              "color": "#E5ECF6",
              "width": 0.5
             },
             "pattern": {
              "fillmode": "overlay",
              "size": 10,
              "solidity": 0.2
             }
            },
            "type": "barpolar"
           }
          ],
          "carpet": [
           {
            "aaxis": {
             "endlinecolor": "#2a3f5f",
             "gridcolor": "white",
             "linecolor": "white",
             "minorgridcolor": "white",
             "startlinecolor": "#2a3f5f"
            },
            "baxis": {
             "endlinecolor": "#2a3f5f",
             "gridcolor": "white",
             "linecolor": "white",
             "minorgridcolor": "white",
             "startlinecolor": "#2a3f5f"
            },
            "type": "carpet"
           }
          ],
          "choropleth": [
           {
            "colorbar": {
             "outlinewidth": 0,
             "ticks": ""
            },
            "type": "choropleth"
           }
          ],
          "contour": [
           {
            "colorbar": {
             "outlinewidth": 0,
             "ticks": ""
            },
            "colorscale": [
             [
              0,
              "#0d0887"
             ],
             [
              0.1111111111111111,
              "#46039f"
             ],
             [
              0.2222222222222222,
              "#7201a8"
             ],
             [
              0.3333333333333333,
              "#9c179e"
             ],
             [
              0.4444444444444444,
              "#bd3786"
             ],
             [
              0.5555555555555556,
              "#d8576b"
             ],
             [
              0.6666666666666666,
              "#ed7953"
             ],
             [
              0.7777777777777778,
              "#fb9f3a"
             ],
             [
              0.8888888888888888,
              "#fdca26"
             ],
             [
              1,
              "#f0f921"
             ]
            ],
            "type": "contour"
           }
          ],
          "contourcarpet": [
           {
            "colorbar": {
             "outlinewidth": 0,
             "ticks": ""
            },
            "type": "contourcarpet"
           }
          ],
          "heatmap": [
           {
            "colorbar": {
             "outlinewidth": 0,
             "ticks": ""
            },
            "colorscale": [
             [
              0,
              "#0d0887"
             ],
             [
              0.1111111111111111,
              "#46039f"
             ],
             [
              0.2222222222222222,
              "#7201a8"
             ],
             [
              0.3333333333333333,
              "#9c179e"
             ],
             [
              0.4444444444444444,
              "#bd3786"
             ],
             [
              0.5555555555555556,
              "#d8576b"
             ],
             [
              0.6666666666666666,
              "#ed7953"
             ],
             [
              0.7777777777777778,
              "#fb9f3a"
             ],
             [
              0.8888888888888888,
              "#fdca26"
             ],
             [
              1,
              "#f0f921"
             ]
            ],
            "type": "heatmap"
           }
          ],
          "heatmapgl": [
           {
            "colorbar": {
             "outlinewidth": 0,
             "ticks": ""
            },
            "colorscale": [
             [
              0,
              "#0d0887"
             ],
             [
              0.1111111111111111,
              "#46039f"
             ],
             [
              0.2222222222222222,
              "#7201a8"
             ],
             [
              0.3333333333333333,
              "#9c179e"
             ],
             [
              0.4444444444444444,
              "#bd3786"
             ],
             [
              0.5555555555555556,
              "#d8576b"
             ],
             [
              0.6666666666666666,
              "#ed7953"
             ],
             [
              0.7777777777777778,
              "#fb9f3a"
             ],
             [
              0.8888888888888888,
              "#fdca26"
             ],
             [
              1,
              "#f0f921"
             ]
            ],
            "type": "heatmapgl"
           }
          ],
          "histogram": [
           {
            "marker": {
             "pattern": {
              "fillmode": "overlay",
              "size": 10,
              "solidity": 0.2
             }
            },
            "type": "histogram"
           }
          ],
          "histogram2d": [
           {
            "colorbar": {
             "outlinewidth": 0,
             "ticks": ""
            },
            "colorscale": [
             [
              0,
              "#0d0887"
             ],
             [
              0.1111111111111111,
              "#46039f"
             ],
             [
              0.2222222222222222,
              "#7201a8"
             ],
             [
              0.3333333333333333,
              "#9c179e"
             ],
             [
              0.4444444444444444,
              "#bd3786"
             ],
             [
              0.5555555555555556,
              "#d8576b"
             ],
             [
              0.6666666666666666,
              "#ed7953"
             ],
             [
              0.7777777777777778,
              "#fb9f3a"
             ],
             [
              0.8888888888888888,
              "#fdca26"
             ],
             [
              1,
              "#f0f921"
             ]
            ],
            "type": "histogram2d"
           }
          ],
          "histogram2dcontour": [
           {
            "colorbar": {
             "outlinewidth": 0,
             "ticks": ""
            },
            "colorscale": [
             [
              0,
              "#0d0887"
             ],
             [
              0.1111111111111111,
              "#46039f"
             ],
             [
              0.2222222222222222,
              "#7201a8"
             ],
             [
              0.3333333333333333,
              "#9c179e"
             ],
             [
              0.4444444444444444,
              "#bd3786"
             ],
             [
              0.5555555555555556,
              "#d8576b"
             ],
             [
              0.6666666666666666,
              "#ed7953"
             ],
             [
              0.7777777777777778,
              "#fb9f3a"
             ],
             [
              0.8888888888888888,
              "#fdca26"
             ],
             [
              1,
              "#f0f921"
             ]
            ],
            "type": "histogram2dcontour"
           }
          ],
          "mesh3d": [
           {
            "colorbar": {
             "outlinewidth": 0,
             "ticks": ""
            },
            "type": "mesh3d"
           }
          ],
          "parcoords": [
           {
            "line": {
             "colorbar": {
              "outlinewidth": 0,
              "ticks": ""
             }
            },
            "type": "parcoords"
           }
          ],
          "pie": [
           {
            "automargin": true,
            "type": "pie"
           }
          ],
          "scatter": [
           {
            "fillpattern": {
             "fillmode": "overlay",
             "size": 10,
             "solidity": 0.2
            },
            "type": "scatter"
           }
          ],
          "scatter3d": [
           {
            "line": {
             "colorbar": {
              "outlinewidth": 0,
              "ticks": ""
             }
            },
            "marker": {
             "colorbar": {
              "outlinewidth": 0,
              "ticks": ""
             }
            },
            "type": "scatter3d"
           }
          ],
          "scattercarpet": [
           {
            "marker": {
             "colorbar": {
              "outlinewidth": 0,
              "ticks": ""
             }
            },
            "type": "scattercarpet"
           }
          ],
          "scattergeo": [
           {
            "marker": {
             "colorbar": {
              "outlinewidth": 0,
              "ticks": ""
             }
            },
            "type": "scattergeo"
           }
          ],
          "scattergl": [
           {
            "marker": {
             "colorbar": {
              "outlinewidth": 0,
              "ticks": ""
             }
            },
            "type": "scattergl"
           }
          ],
          "scattermapbox": [
           {
            "marker": {
             "colorbar": {
              "outlinewidth": 0,
              "ticks": ""
             }
            },
            "type": "scattermapbox"
           }
          ],
          "scatterpolar": [
           {
            "marker": {
             "colorbar": {
              "outlinewidth": 0,
              "ticks": ""
             }
            },
            "type": "scatterpolar"
           }
          ],
          "scatterpolargl": [
           {
            "marker": {
             "colorbar": {
              "outlinewidth": 0,
              "ticks": ""
             }
            },
            "type": "scatterpolargl"
           }
          ],
          "scatterternary": [
           {
            "marker": {
             "colorbar": {
              "outlinewidth": 0,
              "ticks": ""
             }
            },
            "type": "scatterternary"
           }
          ],
          "surface": [
           {
            "colorbar": {
             "outlinewidth": 0,
             "ticks": ""
            },
            "colorscale": [
             [
              0,
              "#0d0887"
             ],
             [
              0.1111111111111111,
              "#46039f"
             ],
             [
              0.2222222222222222,
              "#7201a8"
             ],
             [
              0.3333333333333333,
              "#9c179e"
             ],
             [
              0.4444444444444444,
              "#bd3786"
             ],
             [
              0.5555555555555556,
              "#d8576b"
             ],
             [
              0.6666666666666666,
              "#ed7953"
             ],
             [
              0.7777777777777778,
              "#fb9f3a"
             ],
             [
              0.8888888888888888,
              "#fdca26"
             ],
             [
              1,
              "#f0f921"
             ]
            ],
            "type": "surface"
           }
          ],
          "table": [
           {
            "cells": {
             "fill": {
              "color": "#EBF0F8"
             },
             "line": {
              "color": "white"
             }
            },
            "header": {
             "fill": {
              "color": "#C8D4E3"
             },
             "line": {
              "color": "white"
             }
            },
            "type": "table"
           }
          ]
         },
         "layout": {
          "annotationdefaults": {
           "arrowcolor": "#2a3f5f",
           "arrowhead": 0,
           "arrowwidth": 1
          },
          "autotypenumbers": "strict",
          "coloraxis": {
           "colorbar": {
            "outlinewidth": 0,
            "ticks": ""
           }
          },
          "colorscale": {
           "diverging": [
            [
             0,
             "#8e0152"
            ],
            [
             0.1,
             "#c51b7d"
            ],
            [
             0.2,
             "#de77ae"
            ],
            [
             0.3,
             "#f1b6da"
            ],
            [
             0.4,
             "#fde0ef"
            ],
            [
             0.5,
             "#f7f7f7"
            ],
            [
             0.6,
             "#e6f5d0"
            ],
            [
             0.7,
             "#b8e186"
            ],
            [
             0.8,
             "#7fbc41"
            ],
            [
             0.9,
             "#4d9221"
            ],
            [
             1,
             "#276419"
            ]
           ],
           "sequential": [
            [
             0,
             "#0d0887"
            ],
            [
             0.1111111111111111,
             "#46039f"
            ],
            [
             0.2222222222222222,
             "#7201a8"
            ],
            [
             0.3333333333333333,
             "#9c179e"
            ],
            [
             0.4444444444444444,
             "#bd3786"
            ],
            [
             0.5555555555555556,
             "#d8576b"
            ],
            [
             0.6666666666666666,
             "#ed7953"
            ],
            [
             0.7777777777777778,
             "#fb9f3a"
            ],
            [
             0.8888888888888888,
             "#fdca26"
            ],
            [
             1,
             "#f0f921"
            ]
           ],
           "sequentialminus": [
            [
             0,
             "#0d0887"
            ],
            [
             0.1111111111111111,
             "#46039f"
            ],
            [
             0.2222222222222222,
             "#7201a8"
            ],
            [
             0.3333333333333333,
             "#9c179e"
            ],
            [
             0.4444444444444444,
             "#bd3786"
            ],
            [
             0.5555555555555556,
             "#d8576b"
            ],
            [
             0.6666666666666666,
             "#ed7953"
            ],
            [
             0.7777777777777778,
             "#fb9f3a"
            ],
            [
             0.8888888888888888,
             "#fdca26"
            ],
            [
             1,
             "#f0f921"
            ]
           ]
          },
          "colorway": [
           "#636efa",
           "#EF553B",
           "#00cc96",
           "#ab63fa",
           "#FFA15A",
           "#19d3f3",
           "#FF6692",
           "#B6E880",
           "#FF97FF",
           "#FECB52"
          ],
          "font": {
           "color": "#2a3f5f"
          },
          "geo": {
           "bgcolor": "white",
           "lakecolor": "white",
           "landcolor": "#E5ECF6",
           "showlakes": true,
           "showland": true,
           "subunitcolor": "white"
          },
          "hoverlabel": {
           "align": "left"
          },
          "hovermode": "closest",
          "mapbox": {
           "style": "light"
          },
          "paper_bgcolor": "white",
          "plot_bgcolor": "#E5ECF6",
          "polar": {
           "angularaxis": {
            "gridcolor": "white",
            "linecolor": "white",
            "ticks": ""
           },
           "bgcolor": "#E5ECF6",
           "radialaxis": {
            "gridcolor": "white",
            "linecolor": "white",
            "ticks": ""
           }
          },
          "scene": {
           "xaxis": {
            "backgroundcolor": "#E5ECF6",
            "gridcolor": "white",
            "gridwidth": 2,
            "linecolor": "white",
            "showbackground": true,
            "ticks": "",
            "zerolinecolor": "white"
           },
           "yaxis": {
            "backgroundcolor": "#E5ECF6",
            "gridcolor": "white",
            "gridwidth": 2,
            "linecolor": "white",
            "showbackground": true,
            "ticks": "",
            "zerolinecolor": "white"
           },
           "zaxis": {
            "backgroundcolor": "#E5ECF6",
            "gridcolor": "white",
            "gridwidth": 2,
            "linecolor": "white",
            "showbackground": true,
            "ticks": "",
            "zerolinecolor": "white"
           }
          },
          "shapedefaults": {
           "line": {
            "color": "#2a3f5f"
           }
          },
          "ternary": {
           "aaxis": {
            "gridcolor": "white",
            "linecolor": "white",
            "ticks": ""
           },
           "baxis": {
            "gridcolor": "white",
            "linecolor": "white",
            "ticks": ""
           },
           "bgcolor": "#E5ECF6",
           "caxis": {
            "gridcolor": "white",
            "linecolor": "white",
            "ticks": ""
           }
          },
          "title": {
           "x": 0.05
          },
          "xaxis": {
           "automargin": true,
           "gridcolor": "white",
           "linecolor": "white",
           "ticks": "",
           "title": {
            "standoff": 15
           },
           "zerolinecolor": "white",
           "zerolinewidth": 2
          },
          "yaxis": {
           "automargin": true,
           "gridcolor": "white",
           "linecolor": "white",
           "ticks": "",
           "title": {
            "standoff": 15
           },
           "zerolinecolor": "white",
           "zerolinewidth": 2
          }
         }
        },
        "title": {
         "text": "Generosity"
        },
        "updatemenus": [
         {
          "buttons": [
           {
            "args": [
             "geo.projection.type",
             "equirectangular"
            ],
            "label": "equirectangular",
            "method": "relayout"
           },
           {
            "args": [
             "geo.projection.type",
             "mercator"
            ],
            "label": "mercator",
            "method": "relayout"
           },
           {
            "args": [
             "geo.projection.type",
             "orthographic"
            ],
            "label": "orthographic",
            "method": "relayout"
           },
           {
            "args": [
             "geo.projection.type",
             "natural earth"
            ],
            "label": "natural earth",
            "method": "relayout"
           },
           {
            "args": [
             "geo.projection.type",
             "kavrayskiy7"
            ],
            "label": "kavrayskiy7",
            "method": "relayout"
           },
           {
            "args": [
             "geo.projection.type",
             "miller"
            ],
            "label": "miller",
            "method": "relayout"
           },
           {
            "args": [
             "geo.projection.type",
             "robinson"
            ],
            "label": "robinson",
            "method": "relayout"
           },
           {
            "args": [
             "geo.projection.type",
             "eckert4"
            ],
            "label": "eckert4",
            "method": "relayout"
           },
           {
            "args": [
             "geo.projection.type",
             "azimuthal equal area"
            ],
            "label": "azimuthal equal area",
            "method": "relayout"
           },
           {
            "args": [
             "geo.projection.type",
             "azimuthal equidistant"
            ],
            "label": "azimuthal equidistant",
            "method": "relayout"
           },
           {
            "args": [
             "geo.projection.type",
             "conic equal area"
            ],
            "label": "conic equal area",
            "method": "relayout"
           },
           {
            "args": [
             "geo.projection.type",
             "conic conformal"
            ],
            "label": "conic conformal",
            "method": "relayout"
           },
           {
            "args": [
             "geo.projection.type",
             "conic equidistant"
            ],
            "label": "conic equidistant",
            "method": "relayout"
           },
           {
            "args": [
             "geo.projection.type",
             "gnomonic"
            ],
            "label": "gnomonic",
            "method": "relayout"
           },
           {
            "args": [
             "geo.projection.type",
             "stereographic"
            ],
            "label": "stereographic",
            "method": "relayout"
           },
           {
            "args": [
             "geo.projection.type",
             "mollweide"
            ],
            "label": "mollweide",
            "method": "relayout"
           },
           {
            "args": [
             "geo.projection.type",
             "hammer"
            ],
            "label": "hammer",
            "method": "relayout"
           },
           {
            "args": [
             "geo.projection.type",
             "transverse mercator"
            ],
            "label": "transverse mercator",
            "method": "relayout"
           },
           {
            "args": [
             "geo.projection.type",
             "albers usa"
            ],
            "label": "albers usa",
            "method": "relayout"
           },
           {
            "args": [
             "geo.projection.type",
             "winkel tripel"
            ],
            "label": "winkel tripel",
            "method": "relayout"
           }
          ],
          "x": 0.1,
          "y": 0.8,
          "yanchor": "top"
         }
        ]
       }
      },
      "text/html": [
       "<div>                            <div id=\"1c210770-5c91-4c8d-afea-8a3f14e9cf5f\" class=\"plotly-graph-div\" style=\"height:525px; width:100%;\"></div>            <script type=\"text/javascript\">                require([\"plotly\"], function(Plotly) {                    window.PLOTLYENV=window.PLOTLYENV || {};                                    if (document.getElementById(\"1c210770-5c91-4c8d-afea-8a3f14e9cf5f\")) {                    Plotly.newPlot(                        \"1c210770-5c91-4c8d-afea-8a3f14e9cf5f\",                        [{\"colorscale\":[[0.0,\"rgb(161, 105, 40)\"],[0.16666666666666666,\"rgb(189, 146, 90)\"],[0.3333333333333333,\"rgb(214, 189, 141)\"],[0.5,\"rgb(237, 234, 194)\"],[0.6666666666666666,\"rgb(181, 200, 184)\"],[0.8333333333333334,\"rgb(121, 167, 172)\"],[1.0,\"rgb(40, 135, 161)\"]],\"locationmode\":\"country names\",\"locations\":[\"Switzerland\",\"Iceland\",\"Denmark\",\"Norway\",\"Canada\",\"Finland\",\"Netherlands\",\"Sweden\",\"New Zealand\",\"Australia\",\"Israel\",\"Costa Rica\",\"Austria\",\"Mexico\",\"United States\",\"Brazil\",\"Luxembourg\",\"Ireland\",\"Belgium\",\"United Arab Emirates\",\"United Kingdom\",\"Oman\",\"Venezuela\",\"Singapore\",\"Panama\",\"Germany\",\"Chile\",\"Qatar\",\"France\",\"Argentina\",\"Czech Republic\",\"Uruguay\",\"Colombia\",\"Thailand\",\"Saudi Arabia\",\"Spain\",\"Malta\",\"Taiwan\",\"Kuwait\",\"Suriname\",\"Trinidad and Tobago\",\"El Salvador\",\"Guatemala\",\"Uzbekistan\",\"Slovakia\",\"Japan\",\"South Korea\",\"Ecuador\",\"Bahrain\",\"Italy\",\"Bolivia\",\"Moldova\",\"Paraguay\",\"Kazakhstan\",\"Slovenia\",\"Lithuania\",\"Nicaragua\",\"Peru\",\"Belarus\",\"Poland\",\"Malaysia\",\"Croatia\",\"Libya\",\"Russia\",\"Jamaica\",\"North Cyprus\",\"Cyprus\",\"Algeria\",\"Kosovo\",\"Turkmenistan\",\"Mauritius\",\"Hong Kong\",\"Estonia\",\"Indonesia\",\"Vietnam\",\"Turkey\",\"Kyrgyzstan\",\"Nigeria\",\"Bhutan\",\"Azerbaijan\",\"Pakistan\",\"Jordan\",\"Montenegro\",\"China\",\"Zambia\",\"Romania\",\"Serbia\",\"Portugal\",\"Latvia\",\"Philippines\",\"Somaliland region\",\"Morocco\",\"Macedonia\",\"Mozambique\",\"Albania\",\"Bosnia and Herzegovina\",\"Lesotho\",\"Dominican Republic\",\"Laos\",\"Mongolia\",\"Swaziland\",\"Greece\",\"Lebanon\",\"Hungary\",\"Honduras\",\"Tajikistan\",\"Tunisia\",\"Palestinian Territories\",\"Bangladesh\",\"Iran\",\"Ukraine\",\"Iraq\",\"South Africa\",\"Ghana\",\"Zimbabwe\",\"Liberia\",\"India\",\"Sudan\",\"Haiti\",\"Congo (Kinshasa)\",\"Nepal\",\"Ethiopia\",\"Sierra Leone\",\"Mauritania\",\"Kenya\",\"Djibouti\",\"Armenia\",\"Botswana\",\"Myanmar\",\"Georgia\",\"Malawi\",\"Sri Lanka\",\"Cameroon\",\"Bulgaria\",\"Egypt\",\"Yemen\",\"Angola\",\"Mali\",\"Congo (Brazzaville)\",\"Comoros\",\"Uganda\",\"Senegal\",\"Gabon\",\"Niger\",\"Cambodia\",\"Tanzania\",\"Madagascar\",\"Central African Republic\",\"Chad\",\"Guinea\",\"Ivory Coast\",\"Burkina Faso\",\"Afghanistan\",\"Rwanda\",\"Benin\",\"Syria\",\"Burundi\",\"Togo\"],\"text\":[\"Switzerland\",\"Iceland\",\"Denmark\",\"Norway\",\"Canada\",\"Finland\",\"Netherlands\",\"Sweden\",\"New Zealand\",\"Australia\",\"Israel\",\"Costa Rica\",\"Austria\",\"Mexico\",\"United States\",\"Brazil\",\"Luxembourg\",\"Ireland\",\"Belgium\",\"United Arab Emirates\",\"United Kingdom\",\"Oman\",\"Venezuela\",\"Singapore\",\"Panama\",\"Germany\",\"Chile\",\"Qatar\",\"France\",\"Argentina\",\"Czech Republic\",\"Uruguay\",\"Colombia\",\"Thailand\",\"Saudi Arabia\",\"Spain\",\"Malta\",\"Taiwan\",\"Kuwait\",\"Suriname\",\"Trinidad and Tobago\",\"El Salvador\",\"Guatemala\",\"Uzbekistan\",\"Slovakia\",\"Japan\",\"South Korea\",\"Ecuador\",\"Bahrain\",\"Italy\",\"Bolivia\",\"Moldova\",\"Paraguay\",\"Kazakhstan\",\"Slovenia\",\"Lithuania\",\"Nicaragua\",\"Peru\",\"Belarus\",\"Poland\",\"Malaysia\",\"Croatia\",\"Libya\",\"Russia\",\"Jamaica\",\"North Cyprus\",\"Cyprus\",\"Algeria\",\"Kosovo\",\"Turkmenistan\",\"Mauritius\",\"Hong Kong\",\"Estonia\",\"Indonesia\",\"Vietnam\",\"Turkey\",\"Kyrgyzstan\",\"Nigeria\",\"Bhutan\",\"Azerbaijan\",\"Pakistan\",\"Jordan\",\"Montenegro\",\"China\",\"Zambia\",\"Romania\",\"Serbia\",\"Portugal\",\"Latvia\",\"Philippines\",\"Somaliland region\",\"Morocco\",\"Macedonia\",\"Mozambique\",\"Albania\",\"Bosnia and Herzegovina\",\"Lesotho\",\"Dominican Republic\",\"Laos\",\"Mongolia\",\"Swaziland\",\"Greece\",\"Lebanon\",\"Hungary\",\"Honduras\",\"Tajikistan\",\"Tunisia\",\"Palestinian Territories\",\"Bangladesh\",\"Iran\",\"Ukraine\",\"Iraq\",\"South Africa\",\"Ghana\",\"Zimbabwe\",\"Liberia\",\"India\",\"Sudan\",\"Haiti\",\"Congo (Kinshasa)\",\"Nepal\",\"Ethiopia\",\"Sierra Leone\",\"Mauritania\",\"Kenya\",\"Djibouti\",\"Armenia\",\"Botswana\",\"Myanmar\",\"Georgia\",\"Malawi\",\"Sri Lanka\",\"Cameroon\",\"Bulgaria\",\"Egypt\",\"Yemen\",\"Angola\",\"Mali\",\"Congo (Brazzaville)\",\"Comoros\",\"Uganda\",\"Senegal\",\"Gabon\",\"Niger\",\"Cambodia\",\"Tanzania\",\"Madagascar\",\"Central African Republic\",\"Chad\",\"Guinea\",\"Ivory Coast\",\"Burkina Faso\",\"Afghanistan\",\"Rwanda\",\"Benin\",\"Syria\",\"Burundi\",\"Togo\"],\"z\":[0.29678,0.4363,0.34139,0.34699,0.45811,0.23351,0.4761,0.36262,0.47501,0.43562,0.33172,0.25497,0.33088,0.14074,0.40105,0.14574,0.28034,0.45901,0.2225,0.26428,0.51912,0.21542,0.05841,0.31105,0.24434,0.28214,0.33363,0.32573,0.12332,0.11451,0.10686,0.2324,0.18401,0.5763,0.13706,0.18227,0.51752,0.25376,0.16228,0.16991,0.31844,0.10692,0.27489,0.22837,0.16893,0.10705,0.18557,0.11541,0.17362,0.22823,0.20536,0.20951,0.3424,0.11827,0.25328,0.02641,0.27815,0.14982,0.11046,0.16759,0.33075,0.05444,0.18295,0.00199,0.2123,0.26169,0.30638,0.07822,0.2831,0.16979,0.37744,0.39478,0.0868,0.51535,0.1686,0.12253,0.3003,0.27233,0.47998,0.07799,0.33671,0.11053,0.1614,0.08185,0.19591,0.13748,0.19231,0.13719,0.18226,0.24991,0.50318,0.07172,0.22359,0.22269,0.14272,0.24808,0.16388,0.21684,0.42192,0.3323,0.18259,0.0,0.21854,0.128,0.23027,0.22974,0.06431,0.11251,0.21222,0.38086,0.15275,0.17922,0.11973,0.23087,0.18987,0.24362,0.26475,0.19062,0.46187,0.24834,0.32296,0.24325,0.21488,0.219,0.37542,0.18093,0.07855,0.10461,0.79588,0.05547,0.33128,0.40828,0.20618,0.11921,0.11291,0.09131,0.12344,0.18798,0.12388,0.17441,0.29066,0.20843,0.06822,0.19387,0.40359,0.34377,0.21333,0.23835,0.18386,0.28657,0.20165,0.21747,0.3651,0.22628,0.1826,0.47179,0.19727,0.16681],\"type\":\"choropleth\"}],                        {\"annotations\":[{\"showarrow\":false,\"text\":\"Projection\",\"x\":0.1,\"xanchor\":\"right\",\"xref\":\"paper\",\"y\":0.8,\"yanchor\":\"bottom\"}],\"geo\":{\"projection\":{\"type\":\"hammer\"},\"showcoastlines\":true,\"showframe\":true,\"showlakes\":true,\"showocean\":true},\"template\":{\"data\":{\"barpolar\":[{\"marker\":{\"line\":{\"color\":\"#E5ECF6\",\"width\":0.5},\"pattern\":{\"fillmode\":\"overlay\",\"size\":10,\"solidity\":0.2}},\"type\":\"barpolar\"}],\"bar\":[{\"error_x\":{\"color\":\"#2a3f5f\"},\"error_y\":{\"color\":\"#2a3f5f\"},\"marker\":{\"line\":{\"color\":\"#E5ECF6\",\"width\":0.5},\"pattern\":{\"fillmode\":\"overlay\",\"size\":10,\"solidity\":0.2}},\"type\":\"bar\"}],\"carpet\":[{\"aaxis\":{\"endlinecolor\":\"#2a3f5f\",\"gridcolor\":\"white\",\"linecolor\":\"white\",\"minorgridcolor\":\"white\",\"startlinecolor\":\"#2a3f5f\"},\"baxis\":{\"endlinecolor\":\"#2a3f5f\",\"gridcolor\":\"white\",\"linecolor\":\"white\",\"minorgridcolor\":\"white\",\"startlinecolor\":\"#2a3f5f\"},\"type\":\"carpet\"}],\"choropleth\":[{\"colorbar\":{\"outlinewidth\":0,\"ticks\":\"\"},\"type\":\"choropleth\"}],\"contourcarpet\":[{\"colorbar\":{\"outlinewidth\":0,\"ticks\":\"\"},\"type\":\"contourcarpet\"}],\"contour\":[{\"colorbar\":{\"outlinewidth\":0,\"ticks\":\"\"},\"colorscale\":[[0.0,\"#0d0887\"],[0.1111111111111111,\"#46039f\"],[0.2222222222222222,\"#7201a8\"],[0.3333333333333333,\"#9c179e\"],[0.4444444444444444,\"#bd3786\"],[0.5555555555555556,\"#d8576b\"],[0.6666666666666666,\"#ed7953\"],[0.7777777777777778,\"#fb9f3a\"],[0.8888888888888888,\"#fdca26\"],[1.0,\"#f0f921\"]],\"type\":\"contour\"}],\"heatmapgl\":[{\"colorbar\":{\"outlinewidth\":0,\"ticks\":\"\"},\"colorscale\":[[0.0,\"#0d0887\"],[0.1111111111111111,\"#46039f\"],[0.2222222222222222,\"#7201a8\"],[0.3333333333333333,\"#9c179e\"],[0.4444444444444444,\"#bd3786\"],[0.5555555555555556,\"#d8576b\"],[0.6666666666666666,\"#ed7953\"],[0.7777777777777778,\"#fb9f3a\"],[0.8888888888888888,\"#fdca26\"],[1.0,\"#f0f921\"]],\"type\":\"heatmapgl\"}],\"heatmap\":[{\"colorbar\":{\"outlinewidth\":0,\"ticks\":\"\"},\"colorscale\":[[0.0,\"#0d0887\"],[0.1111111111111111,\"#46039f\"],[0.2222222222222222,\"#7201a8\"],[0.3333333333333333,\"#9c179e\"],[0.4444444444444444,\"#bd3786\"],[0.5555555555555556,\"#d8576b\"],[0.6666666666666666,\"#ed7953\"],[0.7777777777777778,\"#fb9f3a\"],[0.8888888888888888,\"#fdca26\"],[1.0,\"#f0f921\"]],\"type\":\"heatmap\"}],\"histogram2dcontour\":[{\"colorbar\":{\"outlinewidth\":0,\"ticks\":\"\"},\"colorscale\":[[0.0,\"#0d0887\"],[0.1111111111111111,\"#46039f\"],[0.2222222222222222,\"#7201a8\"],[0.3333333333333333,\"#9c179e\"],[0.4444444444444444,\"#bd3786\"],[0.5555555555555556,\"#d8576b\"],[0.6666666666666666,\"#ed7953\"],[0.7777777777777778,\"#fb9f3a\"],[0.8888888888888888,\"#fdca26\"],[1.0,\"#f0f921\"]],\"type\":\"histogram2dcontour\"}],\"histogram2d\":[{\"colorbar\":{\"outlinewidth\":0,\"ticks\":\"\"},\"colorscale\":[[0.0,\"#0d0887\"],[0.1111111111111111,\"#46039f\"],[0.2222222222222222,\"#7201a8\"],[0.3333333333333333,\"#9c179e\"],[0.4444444444444444,\"#bd3786\"],[0.5555555555555556,\"#d8576b\"],[0.6666666666666666,\"#ed7953\"],[0.7777777777777778,\"#fb9f3a\"],[0.8888888888888888,\"#fdca26\"],[1.0,\"#f0f921\"]],\"type\":\"histogram2d\"}],\"histogram\":[{\"marker\":{\"pattern\":{\"fillmode\":\"overlay\",\"size\":10,\"solidity\":0.2}},\"type\":\"histogram\"}],\"mesh3d\":[{\"colorbar\":{\"outlinewidth\":0,\"ticks\":\"\"},\"type\":\"mesh3d\"}],\"parcoords\":[{\"line\":{\"colorbar\":{\"outlinewidth\":0,\"ticks\":\"\"}},\"type\":\"parcoords\"}],\"pie\":[{\"automargin\":true,\"type\":\"pie\"}],\"scatter3d\":[{\"line\":{\"colorbar\":{\"outlinewidth\":0,\"ticks\":\"\"}},\"marker\":{\"colorbar\":{\"outlinewidth\":0,\"ticks\":\"\"}},\"type\":\"scatter3d\"}],\"scattercarpet\":[{\"marker\":{\"colorbar\":{\"outlinewidth\":0,\"ticks\":\"\"}},\"type\":\"scattercarpet\"}],\"scattergeo\":[{\"marker\":{\"colorbar\":{\"outlinewidth\":0,\"ticks\":\"\"}},\"type\":\"scattergeo\"}],\"scattergl\":[{\"marker\":{\"colorbar\":{\"outlinewidth\":0,\"ticks\":\"\"}},\"type\":\"scattergl\"}],\"scattermapbox\":[{\"marker\":{\"colorbar\":{\"outlinewidth\":0,\"ticks\":\"\"}},\"type\":\"scattermapbox\"}],\"scatterpolargl\":[{\"marker\":{\"colorbar\":{\"outlinewidth\":0,\"ticks\":\"\"}},\"type\":\"scatterpolargl\"}],\"scatterpolar\":[{\"marker\":{\"colorbar\":{\"outlinewidth\":0,\"ticks\":\"\"}},\"type\":\"scatterpolar\"}],\"scatter\":[{\"fillpattern\":{\"fillmode\":\"overlay\",\"size\":10,\"solidity\":0.2},\"type\":\"scatter\"}],\"scatterternary\":[{\"marker\":{\"colorbar\":{\"outlinewidth\":0,\"ticks\":\"\"}},\"type\":\"scatterternary\"}],\"surface\":[{\"colorbar\":{\"outlinewidth\":0,\"ticks\":\"\"},\"colorscale\":[[0.0,\"#0d0887\"],[0.1111111111111111,\"#46039f\"],[0.2222222222222222,\"#7201a8\"],[0.3333333333333333,\"#9c179e\"],[0.4444444444444444,\"#bd3786\"],[0.5555555555555556,\"#d8576b\"],[0.6666666666666666,\"#ed7953\"],[0.7777777777777778,\"#fb9f3a\"],[0.8888888888888888,\"#fdca26\"],[1.0,\"#f0f921\"]],\"type\":\"surface\"}],\"table\":[{\"cells\":{\"fill\":{\"color\":\"#EBF0F8\"},\"line\":{\"color\":\"white\"}},\"header\":{\"fill\":{\"color\":\"#C8D4E3\"},\"line\":{\"color\":\"white\"}},\"type\":\"table\"}]},\"layout\":{\"annotationdefaults\":{\"arrowcolor\":\"#2a3f5f\",\"arrowhead\":0,\"arrowwidth\":1},\"autotypenumbers\":\"strict\",\"coloraxis\":{\"colorbar\":{\"outlinewidth\":0,\"ticks\":\"\"}},\"colorscale\":{\"diverging\":[[0,\"#8e0152\"],[0.1,\"#c51b7d\"],[0.2,\"#de77ae\"],[0.3,\"#f1b6da\"],[0.4,\"#fde0ef\"],[0.5,\"#f7f7f7\"],[0.6,\"#e6f5d0\"],[0.7,\"#b8e186\"],[0.8,\"#7fbc41\"],[0.9,\"#4d9221\"],[1,\"#276419\"]],\"sequential\":[[0.0,\"#0d0887\"],[0.1111111111111111,\"#46039f\"],[0.2222222222222222,\"#7201a8\"],[0.3333333333333333,\"#9c179e\"],[0.4444444444444444,\"#bd3786\"],[0.5555555555555556,\"#d8576b\"],[0.6666666666666666,\"#ed7953\"],[0.7777777777777778,\"#fb9f3a\"],[0.8888888888888888,\"#fdca26\"],[1.0,\"#f0f921\"]],\"sequentialminus\":[[0.0,\"#0d0887\"],[0.1111111111111111,\"#46039f\"],[0.2222222222222222,\"#7201a8\"],[0.3333333333333333,\"#9c179e\"],[0.4444444444444444,\"#bd3786\"],[0.5555555555555556,\"#d8576b\"],[0.6666666666666666,\"#ed7953\"],[0.7777777777777778,\"#fb9f3a\"],[0.8888888888888888,\"#fdca26\"],[1.0,\"#f0f921\"]]},\"colorway\":[\"#636efa\",\"#EF553B\",\"#00cc96\",\"#ab63fa\",\"#FFA15A\",\"#19d3f3\",\"#FF6692\",\"#B6E880\",\"#FF97FF\",\"#FECB52\"],\"font\":{\"color\":\"#2a3f5f\"},\"geo\":{\"bgcolor\":\"white\",\"lakecolor\":\"white\",\"landcolor\":\"#E5ECF6\",\"showlakes\":true,\"showland\":true,\"subunitcolor\":\"white\"},\"hoverlabel\":{\"align\":\"left\"},\"hovermode\":\"closest\",\"mapbox\":{\"style\":\"light\"},\"paper_bgcolor\":\"white\",\"plot_bgcolor\":\"#E5ECF6\",\"polar\":{\"angularaxis\":{\"gridcolor\":\"white\",\"linecolor\":\"white\",\"ticks\":\"\"},\"bgcolor\":\"#E5ECF6\",\"radialaxis\":{\"gridcolor\":\"white\",\"linecolor\":\"white\",\"ticks\":\"\"}},\"scene\":{\"xaxis\":{\"backgroundcolor\":\"#E5ECF6\",\"gridcolor\":\"white\",\"gridwidth\":2,\"linecolor\":\"white\",\"showbackground\":true,\"ticks\":\"\",\"zerolinecolor\":\"white\"},\"yaxis\":{\"backgroundcolor\":\"#E5ECF6\",\"gridcolor\":\"white\",\"gridwidth\":2,\"linecolor\":\"white\",\"showbackground\":true,\"ticks\":\"\",\"zerolinecolor\":\"white\"},\"zaxis\":{\"backgroundcolor\":\"#E5ECF6\",\"gridcolor\":\"white\",\"gridwidth\":2,\"linecolor\":\"white\",\"showbackground\":true,\"ticks\":\"\",\"zerolinecolor\":\"white\"}},\"shapedefaults\":{\"line\":{\"color\":\"#2a3f5f\"}},\"ternary\":{\"aaxis\":{\"gridcolor\":\"white\",\"linecolor\":\"white\",\"ticks\":\"\"},\"baxis\":{\"gridcolor\":\"white\",\"linecolor\":\"white\",\"ticks\":\"\"},\"bgcolor\":\"#E5ECF6\",\"caxis\":{\"gridcolor\":\"white\",\"linecolor\":\"white\",\"ticks\":\"\"}},\"title\":{\"x\":0.05},\"xaxis\":{\"automargin\":true,\"gridcolor\":\"white\",\"linecolor\":\"white\",\"ticks\":\"\",\"title\":{\"standoff\":15},\"zerolinecolor\":\"white\",\"zerolinewidth\":2},\"yaxis\":{\"automargin\":true,\"gridcolor\":\"white\",\"linecolor\":\"white\",\"ticks\":\"\",\"title\":{\"standoff\":15},\"zerolinecolor\":\"white\",\"zerolinewidth\":2}}},\"title\":{\"text\":\"Generosity\"},\"updatemenus\":[{\"buttons\":[{\"args\":[\"geo.projection.type\",\"equirectangular\"],\"label\":\"equirectangular\",\"method\":\"relayout\"},{\"args\":[\"geo.projection.type\",\"mercator\"],\"label\":\"mercator\",\"method\":\"relayout\"},{\"args\":[\"geo.projection.type\",\"orthographic\"],\"label\":\"orthographic\",\"method\":\"relayout\"},{\"args\":[\"geo.projection.type\",\"natural earth\"],\"label\":\"natural earth\",\"method\":\"relayout\"},{\"args\":[\"geo.projection.type\",\"kavrayskiy7\"],\"label\":\"kavrayskiy7\",\"method\":\"relayout\"},{\"args\":[\"geo.projection.type\",\"miller\"],\"label\":\"miller\",\"method\":\"relayout\"},{\"args\":[\"geo.projection.type\",\"robinson\"],\"label\":\"robinson\",\"method\":\"relayout\"},{\"args\":[\"geo.projection.type\",\"eckert4\"],\"label\":\"eckert4\",\"method\":\"relayout\"},{\"args\":[\"geo.projection.type\",\"azimuthal equal area\"],\"label\":\"azimuthal equal area\",\"method\":\"relayout\"},{\"args\":[\"geo.projection.type\",\"azimuthal equidistant\"],\"label\":\"azimuthal equidistant\",\"method\":\"relayout\"},{\"args\":[\"geo.projection.type\",\"conic equal area\"],\"label\":\"conic equal area\",\"method\":\"relayout\"},{\"args\":[\"geo.projection.type\",\"conic conformal\"],\"label\":\"conic conformal\",\"method\":\"relayout\"},{\"args\":[\"geo.projection.type\",\"conic equidistant\"],\"label\":\"conic equidistant\",\"method\":\"relayout\"},{\"args\":[\"geo.projection.type\",\"gnomonic\"],\"label\":\"gnomonic\",\"method\":\"relayout\"},{\"args\":[\"geo.projection.type\",\"stereographic\"],\"label\":\"stereographic\",\"method\":\"relayout\"},{\"args\":[\"geo.projection.type\",\"mollweide\"],\"label\":\"mollweide\",\"method\":\"relayout\"},{\"args\":[\"geo.projection.type\",\"hammer\"],\"label\":\"hammer\",\"method\":\"relayout\"},{\"args\":[\"geo.projection.type\",\"transverse mercator\"],\"label\":\"transverse mercator\",\"method\":\"relayout\"},{\"args\":[\"geo.projection.type\",\"albers usa\"],\"label\":\"albers usa\",\"method\":\"relayout\"},{\"args\":[\"geo.projection.type\",\"winkel tripel\"],\"label\":\"winkel tripel\",\"method\":\"relayout\"}],\"x\":0.1,\"y\":0.8,\"yanchor\":\"top\"}]},                        {\"responsive\": true}                    ).then(function(){\n",
       "                            \n",
       "var gd = document.getElementById('1c210770-5c91-4c8d-afea-8a3f14e9cf5f');\n",
       "var x = new MutationObserver(function (mutations, observer) {{\n",
       "        var display = window.getComputedStyle(gd).display;\n",
       "        if (!display || display === 'none') {{\n",
       "            console.log([gd, 'removed!']);\n",
       "            Plotly.purge(gd);\n",
       "            observer.disconnect();\n",
       "        }}\n",
       "}});\n",
       "\n",
       "// Listen for the removal of the full notebook cells\n",
       "var notebookContainer = gd.closest('#notebook-container');\n",
       "if (notebookContainer) {{\n",
       "    x.observe(notebookContainer, {childList: true});\n",
       "}}\n",
       "\n",
       "// Listen for the clearing of the current output cell\n",
       "var outputEl = gd.closest('.output');\n",
       "if (outputEl) {{\n",
       "    x.observe(outputEl, {childList: true});\n",
       "}}\n",
       "\n",
       "                        })                };                });            </script>        </div>"
      ]
     },
     "metadata": {},
     "output_type": "display_data"
    }
   ],
   "source": [
    "trace1 = [go.Choropleth(\n",
    "               colorscale = 'Earth',\n",
    "               locationmode = 'country names',\n",
    "               locations = df['Country'],\n",
    "               text = df['Country'], \n",
    "               z = df['Generosity'],\n",
    "               )]\n",
    "\n",
    "layout = dict(title = 'Generosity',\n",
    "                  geo = dict(\n",
    "                      showframe = True,\n",
    "                      showocean = True,\n",
    "                      showlakes = True,\n",
    "                      showcoastlines = True,\n",
    "                      projection = dict(\n",
    "                          type = 'hammer'\n",
    "        )))\n",
    "\n",
    "\n",
    "projections = [ \"equirectangular\", \"mercator\", \"orthographic\", \"natural earth\",\"kavrayskiy7\", \n",
    "               \"miller\", \"robinson\", \"eckert4\", \"azimuthal equal area\",\"azimuthal equidistant\", \n",
    "               \"conic equal area\", \"conic conformal\", \"conic equidistant\", \"gnomonic\", \"stereographic\", \n",
    "               \"mollweide\", \"hammer\", \"transverse mercator\", \"albers usa\", \"winkel tripel\" ]\n",
    "\n",
    "buttons = [dict(args = ['geo.projection.type', y],\n",
    "           label = y, method = 'relayout') for y in projections]\n",
    "annot = list([ dict( x=0.1, y=0.8, text='Projection', yanchor='bottom', \n",
    "                    xref='paper', xanchor='right', showarrow=False )])\n",
    "\n",
    "\n",
    "# Update Layout Object\n",
    "\n",
    "layout[ 'updatemenus' ] = list([ dict( x=0.1, y=0.8, buttons=buttons, yanchor='top' )])\n",
    "layout[ 'annotations' ] = annot\n",
    "\n",
    "\n",
    "fig = go.Figure(data = trace1, layout = layout)\n",
    "py.iplot(fig)"
   ]
  },
  {
   "cell_type": "markdown",
   "id": "3b94935c",
   "metadata": {},
   "source": [
    "* Generosity is really low in big Countries like Russia, China, and India, however, USA, Austrelia, and Canada has high ratings for generosity.\n",
    "\n",
    "* Africa and South America have very low Generosity scores in general."
   ]
  },
  {
   "cell_type": "code",
   "execution_count": 25,
   "id": "5fc9f3dc",
   "metadata": {},
   "outputs": [],
   "source": [
    "# rename column\n",
    "df.rename(columns={'Trust (Government Corruption)':'Trust_govtcurruption', 'Economy (GDP per Capita)' : 'Economy_GDP', 'Happiness Rank' : 'Happiness_Rank'}, inplace=True)"
   ]
  },
  {
   "cell_type": "code",
   "execution_count": 26,
   "id": "1147c038",
   "metadata": {},
   "outputs": [
    {
     "data": {
      "text/html": [
       "<div>\n",
       "<style scoped>\n",
       "    .dataframe tbody tr th:only-of-type {\n",
       "        vertical-align: middle;\n",
       "    }\n",
       "\n",
       "    .dataframe tbody tr th {\n",
       "        vertical-align: top;\n",
       "    }\n",
       "\n",
       "    .dataframe thead th {\n",
       "        text-align: right;\n",
       "    }\n",
       "</style>\n",
       "<table border=\"1\" class=\"dataframe\">\n",
       "  <thead>\n",
       "    <tr style=\"text-align: right;\">\n",
       "      <th></th>\n",
       "      <th>Country</th>\n",
       "      <th>Region</th>\n",
       "      <th>Happiness_Rank</th>\n",
       "      <th>Happiness Score</th>\n",
       "      <th>Standard Error</th>\n",
       "      <th>Economy_GDP</th>\n",
       "      <th>Family</th>\n",
       "      <th>Health (Life Expectancy)</th>\n",
       "      <th>Freedom</th>\n",
       "      <th>Trust_govtcurruption</th>\n",
       "      <th>Generosity</th>\n",
       "      <th>Dystopia Residual</th>\n",
       "    </tr>\n",
       "  </thead>\n",
       "  <tbody>\n",
       "    <tr>\n",
       "      <th>0</th>\n",
       "      <td>Switzerland</td>\n",
       "      <td>Western Europe</td>\n",
       "      <td>1</td>\n",
       "      <td>7.587</td>\n",
       "      <td>0.03411</td>\n",
       "      <td>1.39651</td>\n",
       "      <td>1.34951</td>\n",
       "      <td>0.94143</td>\n",
       "      <td>0.66557</td>\n",
       "      <td>0.41978</td>\n",
       "      <td>0.29678</td>\n",
       "      <td>2.51738</td>\n",
       "    </tr>\n",
       "    <tr>\n",
       "      <th>1</th>\n",
       "      <td>Iceland</td>\n",
       "      <td>Western Europe</td>\n",
       "      <td>2</td>\n",
       "      <td>7.561</td>\n",
       "      <td>0.04884</td>\n",
       "      <td>1.30232</td>\n",
       "      <td>1.40223</td>\n",
       "      <td>0.94784</td>\n",
       "      <td>0.62877</td>\n",
       "      <td>0.14145</td>\n",
       "      <td>0.43630</td>\n",
       "      <td>2.70201</td>\n",
       "    </tr>\n",
       "    <tr>\n",
       "      <th>2</th>\n",
       "      <td>Denmark</td>\n",
       "      <td>Western Europe</td>\n",
       "      <td>3</td>\n",
       "      <td>7.527</td>\n",
       "      <td>0.03328</td>\n",
       "      <td>1.32548</td>\n",
       "      <td>1.36058</td>\n",
       "      <td>0.87464</td>\n",
       "      <td>0.64938</td>\n",
       "      <td>0.48357</td>\n",
       "      <td>0.34139</td>\n",
       "      <td>2.49204</td>\n",
       "    </tr>\n",
       "    <tr>\n",
       "      <th>3</th>\n",
       "      <td>Norway</td>\n",
       "      <td>Western Europe</td>\n",
       "      <td>4</td>\n",
       "      <td>7.522</td>\n",
       "      <td>0.03880</td>\n",
       "      <td>1.45900</td>\n",
       "      <td>1.33095</td>\n",
       "      <td>0.88521</td>\n",
       "      <td>0.66973</td>\n",
       "      <td>0.36503</td>\n",
       "      <td>0.34699</td>\n",
       "      <td>2.46531</td>\n",
       "    </tr>\n",
       "    <tr>\n",
       "      <th>4</th>\n",
       "      <td>Canada</td>\n",
       "      <td>North America</td>\n",
       "      <td>5</td>\n",
       "      <td>7.427</td>\n",
       "      <td>0.03553</td>\n",
       "      <td>1.32629</td>\n",
       "      <td>1.32261</td>\n",
       "      <td>0.90563</td>\n",
       "      <td>0.63297</td>\n",
       "      <td>0.32957</td>\n",
       "      <td>0.45811</td>\n",
       "      <td>2.45176</td>\n",
       "    </tr>\n",
       "  </tbody>\n",
       "</table>\n",
       "</div>"
      ],
      "text/plain": [
       "       Country          Region  Happiness_Rank  Happiness Score  \\\n",
       "0  Switzerland  Western Europe               1            7.587   \n",
       "1      Iceland  Western Europe               2            7.561   \n",
       "2      Denmark  Western Europe               3            7.527   \n",
       "3       Norway  Western Europe               4            7.522   \n",
       "4       Canada   North America               5            7.427   \n",
       "\n",
       "   Standard Error  Economy_GDP   Family  Health (Life Expectancy)  Freedom  \\\n",
       "0         0.03411      1.39651  1.34951                   0.94143  0.66557   \n",
       "1         0.04884      1.30232  1.40223                   0.94784  0.62877   \n",
       "2         0.03328      1.32548  1.36058                   0.87464  0.64938   \n",
       "3         0.03880      1.45900  1.33095                   0.88521  0.66973   \n",
       "4         0.03553      1.32629  1.32261                   0.90563  0.63297   \n",
       "\n",
       "   Trust_govtcurruption  Generosity  Dystopia Residual  \n",
       "0               0.41978     0.29678            2.51738  \n",
       "1               0.14145     0.43630            2.70201  \n",
       "2               0.48357     0.34139            2.49204  \n",
       "3               0.36503     0.34699            2.46531  \n",
       "4               0.32957     0.45811            2.45176  "
      ]
     },
     "execution_count": 26,
     "metadata": {},
     "output_type": "execute_result"
    }
   ],
   "source": [
    "#checking if name was changed\n",
    "df.head()"
   ]
  },
  {
   "cell_type": "code",
   "execution_count": 27,
   "id": "8c4b0077",
   "metadata": {},
   "outputs": [
    {
     "data": {
      "application/vnd.plotly.v1+json": {
       "config": {
        "linkText": "Export to plot.ly",
        "plotlyServerURL": "https://plot.ly",
        "showLink": false
       },
       "data": [
        {
         "colorscale": [
          [
           0,
           "rgb(12,51,131)"
          ],
          [
           0.25,
           "rgb(10,136,186)"
          ],
          [
           0.5,
           "rgb(242,211,56)"
          ],
          [
           0.75,
           "rgb(242,143,56)"
          ],
          [
           1,
           "rgb(217,30,30)"
          ]
         ],
         "locationmode": "country names",
         "locations": [
          "Switzerland",
          "Iceland",
          "Denmark",
          "Norway",
          "Canada",
          "Finland",
          "Netherlands",
          "Sweden",
          "New Zealand",
          "Australia",
          "Israel",
          "Costa Rica",
          "Austria",
          "Mexico",
          "United States",
          "Brazil",
          "Luxembourg",
          "Ireland",
          "Belgium",
          "United Arab Emirates",
          "United Kingdom",
          "Oman",
          "Venezuela",
          "Singapore",
          "Panama",
          "Germany",
          "Chile",
          "Qatar",
          "France",
          "Argentina",
          "Czech Republic",
          "Uruguay",
          "Colombia",
          "Thailand",
          "Saudi Arabia",
          "Spain",
          "Malta",
          "Taiwan",
          "Kuwait",
          "Suriname",
          "Trinidad and Tobago",
          "El Salvador",
          "Guatemala",
          "Uzbekistan",
          "Slovakia",
          "Japan",
          "South Korea",
          "Ecuador",
          "Bahrain",
          "Italy",
          "Bolivia",
          "Moldova",
          "Paraguay",
          "Kazakhstan",
          "Slovenia",
          "Lithuania",
          "Nicaragua",
          "Peru",
          "Belarus",
          "Poland",
          "Malaysia",
          "Croatia",
          "Libya",
          "Russia",
          "Jamaica",
          "North Cyprus",
          "Cyprus",
          "Algeria",
          "Kosovo",
          "Turkmenistan",
          "Mauritius",
          "Hong Kong",
          "Estonia",
          "Indonesia",
          "Vietnam",
          "Turkey",
          "Kyrgyzstan",
          "Nigeria",
          "Bhutan",
          "Azerbaijan",
          "Pakistan",
          "Jordan",
          "Montenegro",
          "China",
          "Zambia",
          "Romania",
          "Serbia",
          "Portugal",
          "Latvia",
          "Philippines",
          "Somaliland region",
          "Morocco",
          "Macedonia",
          "Mozambique",
          "Albania",
          "Bosnia and Herzegovina",
          "Lesotho",
          "Dominican Republic",
          "Laos",
          "Mongolia",
          "Swaziland",
          "Greece",
          "Lebanon",
          "Hungary",
          "Honduras",
          "Tajikistan",
          "Tunisia",
          "Palestinian Territories",
          "Bangladesh",
          "Iran",
          "Ukraine",
          "Iraq",
          "South Africa",
          "Ghana",
          "Zimbabwe",
          "Liberia",
          "India",
          "Sudan",
          "Haiti",
          "Congo (Kinshasa)",
          "Nepal",
          "Ethiopia",
          "Sierra Leone",
          "Mauritania",
          "Kenya",
          "Djibouti",
          "Armenia",
          "Botswana",
          "Myanmar",
          "Georgia",
          "Malawi",
          "Sri Lanka",
          "Cameroon",
          "Bulgaria",
          "Egypt",
          "Yemen",
          "Angola",
          "Mali",
          "Congo (Brazzaville)",
          "Comoros",
          "Uganda",
          "Senegal",
          "Gabon",
          "Niger",
          "Cambodia",
          "Tanzania",
          "Madagascar",
          "Central African Republic",
          "Chad",
          "Guinea",
          "Ivory Coast",
          "Burkina Faso",
          "Afghanistan",
          "Rwanda",
          "Benin",
          "Syria",
          "Burundi",
          "Togo"
         ],
         "text": [
          "Switzerland",
          "Iceland",
          "Denmark",
          "Norway",
          "Canada",
          "Finland",
          "Netherlands",
          "Sweden",
          "New Zealand",
          "Australia",
          "Israel",
          "Costa Rica",
          "Austria",
          "Mexico",
          "United States",
          "Brazil",
          "Luxembourg",
          "Ireland",
          "Belgium",
          "United Arab Emirates",
          "United Kingdom",
          "Oman",
          "Venezuela",
          "Singapore",
          "Panama",
          "Germany",
          "Chile",
          "Qatar",
          "France",
          "Argentina",
          "Czech Republic",
          "Uruguay",
          "Colombia",
          "Thailand",
          "Saudi Arabia",
          "Spain",
          "Malta",
          "Taiwan",
          "Kuwait",
          "Suriname",
          "Trinidad and Tobago",
          "El Salvador",
          "Guatemala",
          "Uzbekistan",
          "Slovakia",
          "Japan",
          "South Korea",
          "Ecuador",
          "Bahrain",
          "Italy",
          "Bolivia",
          "Moldova",
          "Paraguay",
          "Kazakhstan",
          "Slovenia",
          "Lithuania",
          "Nicaragua",
          "Peru",
          "Belarus",
          "Poland",
          "Malaysia",
          "Croatia",
          "Libya",
          "Russia",
          "Jamaica",
          "North Cyprus",
          "Cyprus",
          "Algeria",
          "Kosovo",
          "Turkmenistan",
          "Mauritius",
          "Hong Kong",
          "Estonia",
          "Indonesia",
          "Vietnam",
          "Turkey",
          "Kyrgyzstan",
          "Nigeria",
          "Bhutan",
          "Azerbaijan",
          "Pakistan",
          "Jordan",
          "Montenegro",
          "China",
          "Zambia",
          "Romania",
          "Serbia",
          "Portugal",
          "Latvia",
          "Philippines",
          "Somaliland region",
          "Morocco",
          "Macedonia",
          "Mozambique",
          "Albania",
          "Bosnia and Herzegovina",
          "Lesotho",
          "Dominican Republic",
          "Laos",
          "Mongolia",
          "Swaziland",
          "Greece",
          "Lebanon",
          "Hungary",
          "Honduras",
          "Tajikistan",
          "Tunisia",
          "Palestinian Territories",
          "Bangladesh",
          "Iran",
          "Ukraine",
          "Iraq",
          "South Africa",
          "Ghana",
          "Zimbabwe",
          "Liberia",
          "India",
          "Sudan",
          "Haiti",
          "Congo (Kinshasa)",
          "Nepal",
          "Ethiopia",
          "Sierra Leone",
          "Mauritania",
          "Kenya",
          "Djibouti",
          "Armenia",
          "Botswana",
          "Myanmar",
          "Georgia",
          "Malawi",
          "Sri Lanka",
          "Cameroon",
          "Bulgaria",
          "Egypt",
          "Yemen",
          "Angola",
          "Mali",
          "Congo (Brazzaville)",
          "Comoros",
          "Uganda",
          "Senegal",
          "Gabon",
          "Niger",
          "Cambodia",
          "Tanzania",
          "Madagascar",
          "Central African Republic",
          "Chad",
          "Guinea",
          "Ivory Coast",
          "Burkina Faso",
          "Afghanistan",
          "Rwanda",
          "Benin",
          "Syria",
          "Burundi",
          "Togo"
         ],
         "type": "choropleth",
         "z": [
          1.34951,
          1.40223,
          1.36058,
          1.33095,
          1.32261,
          1.31826,
          1.28017,
          1.28907,
          1.31967,
          1.30923,
          1.22393,
          1.23788,
          1.29704,
          0.91451,
          1.24711,
          1.23287,
          1.21963,
          1.36948,
          1.28566,
          1.12575,
          1.28548,
          1.08182,
          1.25596,
          1.02,
          1.1985,
          1.29937,
          1.12447,
          1.0786,
          1.26038,
          1.24823,
          1.20643,
          1.2089,
          1.24018,
          1.26504,
          1.08393,
          1.31379,
          1.30203,
          1.07617,
          1.16594,
          0.972,
          1.18354,
          1.02507,
          1.04356,
          1.34043,
          1.26999,
          1.25712,
          0.95774,
          0.99903,
          1.21624,
          1.19777,
          0.97841,
          1.01528,
          1.30477,
          1.12241,
          1.27385,
          1.25745,
          1.14184,
          0.97459,
          1.23289,
          1.27948,
          1.07023,
          0.79624,
          1.11862,
          1.23617,
          1.15102,
          1.07008,
          0.89318,
          1.07772,
          0.81198,
          1.22668,
          0.98521,
          1.05818,
          1.22791,
          1.08708,
          0.91226,
          0.94632,
          1.15115,
          0.90432,
          1.10395,
          0.93793,
          0.41411,
          1.05392,
          0.90557,
          0.94675,
          0.91612,
          0.88588,
          1.00964,
          1.13935,
          1.09562,
          1.03516,
          0.95152,
          0.64095,
          1.00232,
          1.02626,
          0.80434,
          0.91916,
          1.04103,
          1.17202,
          0.73803,
          1.3006,
          1.07284,
          0.92933,
          0.80001,
          1.20215,
          0.95348,
          0.85563,
          0.60429,
          0.92558,
          0.43106,
          0.54447,
          1.20278,
          0.81889,
          1.18468,
          0.67954,
          1.03276,
          0.78968,
          0.38174,
          1.01404,
          0.74302,
          1.0012,
          0.86449,
          0.60406,
          0.95571,
          0.86908,
          0.99876,
          0.59207,
          0.77711,
          1.10464,
          0.70905,
          0.38562,
          0.41134,
          1.01905,
          0.88767,
          1.10614,
          0.747,
          0.68093,
          0.8604,
          1.03526,
          0.6629,
          0.79273,
          1.13299,
          0.97619,
          0.90528,
          0.77265,
          0.62736,
          1.00268,
          0.66801,
          0,
          0.76062,
          0.46475,
          0.77115,
          0.85188,
          0.30285,
          0.7737,
          0.35386,
          0.47489,
          0.41587,
          0.13995
         ]
        }
       ],
       "layout": {
        "annotations": [
         {
          "showarrow": false,
          "text": "Projection",
          "x": 0.1,
          "xanchor": "right",
          "xref": "paper",
          "y": 0.8,
          "yanchor": "bottom"
         }
        ],
        "geo": {
         "projection": {
          "type": "hammer"
         },
         "showcoastlines": true,
         "showframe": true,
         "showlakes": true,
         "showocean": true
        },
        "template": {
         "data": {
          "bar": [
           {
            "error_x": {
             "color": "#2a3f5f"
            },
            "error_y": {
             "color": "#2a3f5f"
            },
            "marker": {
             "line": {
              "color": "#E5ECF6",
              "width": 0.5
             },
             "pattern": {
              "fillmode": "overlay",
              "size": 10,
              "solidity": 0.2
             }
            },
            "type": "bar"
           }
          ],
          "barpolar": [
           {
            "marker": {
             "line": {
              "color": "#E5ECF6",
              "width": 0.5
             },
             "pattern": {
              "fillmode": "overlay",
              "size": 10,
              "solidity": 0.2
             }
            },
            "type": "barpolar"
           }
          ],
          "carpet": [
           {
            "aaxis": {
             "endlinecolor": "#2a3f5f",
             "gridcolor": "white",
             "linecolor": "white",
             "minorgridcolor": "white",
             "startlinecolor": "#2a3f5f"
            },
            "baxis": {
             "endlinecolor": "#2a3f5f",
             "gridcolor": "white",
             "linecolor": "white",
             "minorgridcolor": "white",
             "startlinecolor": "#2a3f5f"
            },
            "type": "carpet"
           }
          ],
          "choropleth": [
           {
            "colorbar": {
             "outlinewidth": 0,
             "ticks": ""
            },
            "type": "choropleth"
           }
          ],
          "contour": [
           {
            "colorbar": {
             "outlinewidth": 0,
             "ticks": ""
            },
            "colorscale": [
             [
              0,
              "#0d0887"
             ],
             [
              0.1111111111111111,
              "#46039f"
             ],
             [
              0.2222222222222222,
              "#7201a8"
             ],
             [
              0.3333333333333333,
              "#9c179e"
             ],
             [
              0.4444444444444444,
              "#bd3786"
             ],
             [
              0.5555555555555556,
              "#d8576b"
             ],
             [
              0.6666666666666666,
              "#ed7953"
             ],
             [
              0.7777777777777778,
              "#fb9f3a"
             ],
             [
              0.8888888888888888,
              "#fdca26"
             ],
             [
              1,
              "#f0f921"
             ]
            ],
            "type": "contour"
           }
          ],
          "contourcarpet": [
           {
            "colorbar": {
             "outlinewidth": 0,
             "ticks": ""
            },
            "type": "contourcarpet"
           }
          ],
          "heatmap": [
           {
            "colorbar": {
             "outlinewidth": 0,
             "ticks": ""
            },
            "colorscale": [
             [
              0,
              "#0d0887"
             ],
             [
              0.1111111111111111,
              "#46039f"
             ],
             [
              0.2222222222222222,
              "#7201a8"
             ],
             [
              0.3333333333333333,
              "#9c179e"
             ],
             [
              0.4444444444444444,
              "#bd3786"
             ],
             [
              0.5555555555555556,
              "#d8576b"
             ],
             [
              0.6666666666666666,
              "#ed7953"
             ],
             [
              0.7777777777777778,
              "#fb9f3a"
             ],
             [
              0.8888888888888888,
              "#fdca26"
             ],
             [
              1,
              "#f0f921"
             ]
            ],
            "type": "heatmap"
           }
          ],
          "heatmapgl": [
           {
            "colorbar": {
             "outlinewidth": 0,
             "ticks": ""
            },
            "colorscale": [
             [
              0,
              "#0d0887"
             ],
             [
              0.1111111111111111,
              "#46039f"
             ],
             [
              0.2222222222222222,
              "#7201a8"
             ],
             [
              0.3333333333333333,
              "#9c179e"
             ],
             [
              0.4444444444444444,
              "#bd3786"
             ],
             [
              0.5555555555555556,
              "#d8576b"
             ],
             [
              0.6666666666666666,
              "#ed7953"
             ],
             [
              0.7777777777777778,
              "#fb9f3a"
             ],
             [
              0.8888888888888888,
              "#fdca26"
             ],
             [
              1,
              "#f0f921"
             ]
            ],
            "type": "heatmapgl"
           }
          ],
          "histogram": [
           {
            "marker": {
             "pattern": {
              "fillmode": "overlay",
              "size": 10,
              "solidity": 0.2
             }
            },
            "type": "histogram"
           }
          ],
          "histogram2d": [
           {
            "colorbar": {
             "outlinewidth": 0,
             "ticks": ""
            },
            "colorscale": [
             [
              0,
              "#0d0887"
             ],
             [
              0.1111111111111111,
              "#46039f"
             ],
             [
              0.2222222222222222,
              "#7201a8"
             ],
             [
              0.3333333333333333,
              "#9c179e"
             ],
             [
              0.4444444444444444,
              "#bd3786"
             ],
             [
              0.5555555555555556,
              "#d8576b"
             ],
             [
              0.6666666666666666,
              "#ed7953"
             ],
             [
              0.7777777777777778,
              "#fb9f3a"
             ],
             [
              0.8888888888888888,
              "#fdca26"
             ],
             [
              1,
              "#f0f921"
             ]
            ],
            "type": "histogram2d"
           }
          ],
          "histogram2dcontour": [
           {
            "colorbar": {
             "outlinewidth": 0,
             "ticks": ""
            },
            "colorscale": [
             [
              0,
              "#0d0887"
             ],
             [
              0.1111111111111111,
              "#46039f"
             ],
             [
              0.2222222222222222,
              "#7201a8"
             ],
             [
              0.3333333333333333,
              "#9c179e"
             ],
             [
              0.4444444444444444,
              "#bd3786"
             ],
             [
              0.5555555555555556,
              "#d8576b"
             ],
             [
              0.6666666666666666,
              "#ed7953"
             ],
             [
              0.7777777777777778,
              "#fb9f3a"
             ],
             [
              0.8888888888888888,
              "#fdca26"
             ],
             [
              1,
              "#f0f921"
             ]
            ],
            "type": "histogram2dcontour"
           }
          ],
          "mesh3d": [
           {
            "colorbar": {
             "outlinewidth": 0,
             "ticks": ""
            },
            "type": "mesh3d"
           }
          ],
          "parcoords": [
           {
            "line": {
             "colorbar": {
              "outlinewidth": 0,
              "ticks": ""
             }
            },
            "type": "parcoords"
           }
          ],
          "pie": [
           {
            "automargin": true,
            "type": "pie"
           }
          ],
          "scatter": [
           {
            "fillpattern": {
             "fillmode": "overlay",
             "size": 10,
             "solidity": 0.2
            },
            "type": "scatter"
           }
          ],
          "scatter3d": [
           {
            "line": {
             "colorbar": {
              "outlinewidth": 0,
              "ticks": ""
             }
            },
            "marker": {
             "colorbar": {
              "outlinewidth": 0,
              "ticks": ""
             }
            },
            "type": "scatter3d"
           }
          ],
          "scattercarpet": [
           {
            "marker": {
             "colorbar": {
              "outlinewidth": 0,
              "ticks": ""
             }
            },
            "type": "scattercarpet"
           }
          ],
          "scattergeo": [
           {
            "marker": {
             "colorbar": {
              "outlinewidth": 0,
              "ticks": ""
             }
            },
            "type": "scattergeo"
           }
          ],
          "scattergl": [
           {
            "marker": {
             "colorbar": {
              "outlinewidth": 0,
              "ticks": ""
             }
            },
            "type": "scattergl"
           }
          ],
          "scattermapbox": [
           {
            "marker": {
             "colorbar": {
              "outlinewidth": 0,
              "ticks": ""
             }
            },
            "type": "scattermapbox"
           }
          ],
          "scatterpolar": [
           {
            "marker": {
             "colorbar": {
              "outlinewidth": 0,
              "ticks": ""
             }
            },
            "type": "scatterpolar"
           }
          ],
          "scatterpolargl": [
           {
            "marker": {
             "colorbar": {
              "outlinewidth": 0,
              "ticks": ""
             }
            },
            "type": "scatterpolargl"
           }
          ],
          "scatterternary": [
           {
            "marker": {
             "colorbar": {
              "outlinewidth": 0,
              "ticks": ""
             }
            },
            "type": "scatterternary"
           }
          ],
          "surface": [
           {
            "colorbar": {
             "outlinewidth": 0,
             "ticks": ""
            },
            "colorscale": [
             [
              0,
              "#0d0887"
             ],
             [
              0.1111111111111111,
              "#46039f"
             ],
             [
              0.2222222222222222,
              "#7201a8"
             ],
             [
              0.3333333333333333,
              "#9c179e"
             ],
             [
              0.4444444444444444,
              "#bd3786"
             ],
             [
              0.5555555555555556,
              "#d8576b"
             ],
             [
              0.6666666666666666,
              "#ed7953"
             ],
             [
              0.7777777777777778,
              "#fb9f3a"
             ],
             [
              0.8888888888888888,
              "#fdca26"
             ],
             [
              1,
              "#f0f921"
             ]
            ],
            "type": "surface"
           }
          ],
          "table": [
           {
            "cells": {
             "fill": {
              "color": "#EBF0F8"
             },
             "line": {
              "color": "white"
             }
            },
            "header": {
             "fill": {
              "color": "#C8D4E3"
             },
             "line": {
              "color": "white"
             }
            },
            "type": "table"
           }
          ]
         },
         "layout": {
          "annotationdefaults": {
           "arrowcolor": "#2a3f5f",
           "arrowhead": 0,
           "arrowwidth": 1
          },
          "autotypenumbers": "strict",
          "coloraxis": {
           "colorbar": {
            "outlinewidth": 0,
            "ticks": ""
           }
          },
          "colorscale": {
           "diverging": [
            [
             0,
             "#8e0152"
            ],
            [
             0.1,
             "#c51b7d"
            ],
            [
             0.2,
             "#de77ae"
            ],
            [
             0.3,
             "#f1b6da"
            ],
            [
             0.4,
             "#fde0ef"
            ],
            [
             0.5,
             "#f7f7f7"
            ],
            [
             0.6,
             "#e6f5d0"
            ],
            [
             0.7,
             "#b8e186"
            ],
            [
             0.8,
             "#7fbc41"
            ],
            [
             0.9,
             "#4d9221"
            ],
            [
             1,
             "#276419"
            ]
           ],
           "sequential": [
            [
             0,
             "#0d0887"
            ],
            [
             0.1111111111111111,
             "#46039f"
            ],
            [
             0.2222222222222222,
             "#7201a8"
            ],
            [
             0.3333333333333333,
             "#9c179e"
            ],
            [
             0.4444444444444444,
             "#bd3786"
            ],
            [
             0.5555555555555556,
             "#d8576b"
            ],
            [
             0.6666666666666666,
             "#ed7953"
            ],
            [
             0.7777777777777778,
             "#fb9f3a"
            ],
            [
             0.8888888888888888,
             "#fdca26"
            ],
            [
             1,
             "#f0f921"
            ]
           ],
           "sequentialminus": [
            [
             0,
             "#0d0887"
            ],
            [
             0.1111111111111111,
             "#46039f"
            ],
            [
             0.2222222222222222,
             "#7201a8"
            ],
            [
             0.3333333333333333,
             "#9c179e"
            ],
            [
             0.4444444444444444,
             "#bd3786"
            ],
            [
             0.5555555555555556,
             "#d8576b"
            ],
            [
             0.6666666666666666,
             "#ed7953"
            ],
            [
             0.7777777777777778,
             "#fb9f3a"
            ],
            [
             0.8888888888888888,
             "#fdca26"
            ],
            [
             1,
             "#f0f921"
            ]
           ]
          },
          "colorway": [
           "#636efa",
           "#EF553B",
           "#00cc96",
           "#ab63fa",
           "#FFA15A",
           "#19d3f3",
           "#FF6692",
           "#B6E880",
           "#FF97FF",
           "#FECB52"
          ],
          "font": {
           "color": "#2a3f5f"
          },
          "geo": {
           "bgcolor": "white",
           "lakecolor": "white",
           "landcolor": "#E5ECF6",
           "showlakes": true,
           "showland": true,
           "subunitcolor": "white"
          },
          "hoverlabel": {
           "align": "left"
          },
          "hovermode": "closest",
          "mapbox": {
           "style": "light"
          },
          "paper_bgcolor": "white",
          "plot_bgcolor": "#E5ECF6",
          "polar": {
           "angularaxis": {
            "gridcolor": "white",
            "linecolor": "white",
            "ticks": ""
           },
           "bgcolor": "#E5ECF6",
           "radialaxis": {
            "gridcolor": "white",
            "linecolor": "white",
            "ticks": ""
           }
          },
          "scene": {
           "xaxis": {
            "backgroundcolor": "#E5ECF6",
            "gridcolor": "white",
            "gridwidth": 2,
            "linecolor": "white",
            "showbackground": true,
            "ticks": "",
            "zerolinecolor": "white"
           },
           "yaxis": {
            "backgroundcolor": "#E5ECF6",
            "gridcolor": "white",
            "gridwidth": 2,
            "linecolor": "white",
            "showbackground": true,
            "ticks": "",
            "zerolinecolor": "white"
           },
           "zaxis": {
            "backgroundcolor": "#E5ECF6",
            "gridcolor": "white",
            "gridwidth": 2,
            "linecolor": "white",
            "showbackground": true,
            "ticks": "",
            "zerolinecolor": "white"
           }
          },
          "shapedefaults": {
           "line": {
            "color": "#2a3f5f"
           }
          },
          "ternary": {
           "aaxis": {
            "gridcolor": "white",
            "linecolor": "white",
            "ticks": ""
           },
           "baxis": {
            "gridcolor": "white",
            "linecolor": "white",
            "ticks": ""
           },
           "bgcolor": "#E5ECF6",
           "caxis": {
            "gridcolor": "white",
            "linecolor": "white",
            "ticks": ""
           }
          },
          "title": {
           "x": 0.05
          },
          "xaxis": {
           "automargin": true,
           "gridcolor": "white",
           "linecolor": "white",
           "ticks": "",
           "title": {
            "standoff": 15
           },
           "zerolinecolor": "white",
           "zerolinewidth": 2
          },
          "yaxis": {
           "automargin": true,
           "gridcolor": "white",
           "linecolor": "white",
           "ticks": "",
           "title": {
            "standoff": 15
           },
           "zerolinecolor": "white",
           "zerolinewidth": 2
          }
         }
        },
        "title": {
         "text": "Family Satisfaction Index"
        },
        "updatemenus": [
         {
          "buttons": [
           {
            "args": [
             "geo.projection.type",
             "equirectangular"
            ],
            "label": "equirectangular",
            "method": "relayout"
           },
           {
            "args": [
             "geo.projection.type",
             "mercator"
            ],
            "label": "mercator",
            "method": "relayout"
           },
           {
            "args": [
             "geo.projection.type",
             "orthographic"
            ],
            "label": "orthographic",
            "method": "relayout"
           },
           {
            "args": [
             "geo.projection.type",
             "natural earth"
            ],
            "label": "natural earth",
            "method": "relayout"
           },
           {
            "args": [
             "geo.projection.type",
             "kavrayskiy7"
            ],
            "label": "kavrayskiy7",
            "method": "relayout"
           },
           {
            "args": [
             "geo.projection.type",
             "miller"
            ],
            "label": "miller",
            "method": "relayout"
           },
           {
            "args": [
             "geo.projection.type",
             "robinson"
            ],
            "label": "robinson",
            "method": "relayout"
           },
           {
            "args": [
             "geo.projection.type",
             "eckert4"
            ],
            "label": "eckert4",
            "method": "relayout"
           },
           {
            "args": [
             "geo.projection.type",
             "azimuthal equal area"
            ],
            "label": "azimuthal equal area",
            "method": "relayout"
           },
           {
            "args": [
             "geo.projection.type",
             "azimuthal equidistant"
            ],
            "label": "azimuthal equidistant",
            "method": "relayout"
           },
           {
            "args": [
             "geo.projection.type",
             "conic equal area"
            ],
            "label": "conic equal area",
            "method": "relayout"
           },
           {
            "args": [
             "geo.projection.type",
             "conic conformal"
            ],
            "label": "conic conformal",
            "method": "relayout"
           },
           {
            "args": [
             "geo.projection.type",
             "conic equidistant"
            ],
            "label": "conic equidistant",
            "method": "relayout"
           },
           {
            "args": [
             "geo.projection.type",
             "gnomonic"
            ],
            "label": "gnomonic",
            "method": "relayout"
           },
           {
            "args": [
             "geo.projection.type",
             "stereographic"
            ],
            "label": "stereographic",
            "method": "relayout"
           },
           {
            "args": [
             "geo.projection.type",
             "mollweide"
            ],
            "label": "mollweide",
            "method": "relayout"
           },
           {
            "args": [
             "geo.projection.type",
             "hammer"
            ],
            "label": "hammer",
            "method": "relayout"
           },
           {
            "args": [
             "geo.projection.type",
             "transverse mercator"
            ],
            "label": "transverse mercator",
            "method": "relayout"
           },
           {
            "args": [
             "geo.projection.type",
             "albers usa"
            ],
            "label": "albers usa",
            "method": "relayout"
           },
           {
            "args": [
             "geo.projection.type",
             "winkel tripel"
            ],
            "label": "winkel tripel",
            "method": "relayout"
           }
          ],
          "x": 0.1,
          "y": 0.8,
          "yanchor": "top"
         }
        ]
       }
      },
      "text/html": [
       "<div>                            <div id=\"46c30350-954d-47f3-8e44-21d3a0b8771e\" class=\"plotly-graph-div\" style=\"height:525px; width:100%;\"></div>            <script type=\"text/javascript\">                require([\"plotly\"], function(Plotly) {                    window.PLOTLYENV=window.PLOTLYENV || {};                                    if (document.getElementById(\"46c30350-954d-47f3-8e44-21d3a0b8771e\")) {                    Plotly.newPlot(                        \"46c30350-954d-47f3-8e44-21d3a0b8771e\",                        [{\"colorscale\":[[0.0,\"rgb(12,51,131)\"],[0.25,\"rgb(10,136,186)\"],[0.5,\"rgb(242,211,56)\"],[0.75,\"rgb(242,143,56)\"],[1.0,\"rgb(217,30,30)\"]],\"locationmode\":\"country names\",\"locations\":[\"Switzerland\",\"Iceland\",\"Denmark\",\"Norway\",\"Canada\",\"Finland\",\"Netherlands\",\"Sweden\",\"New Zealand\",\"Australia\",\"Israel\",\"Costa Rica\",\"Austria\",\"Mexico\",\"United States\",\"Brazil\",\"Luxembourg\",\"Ireland\",\"Belgium\",\"United Arab Emirates\",\"United Kingdom\",\"Oman\",\"Venezuela\",\"Singapore\",\"Panama\",\"Germany\",\"Chile\",\"Qatar\",\"France\",\"Argentina\",\"Czech Republic\",\"Uruguay\",\"Colombia\",\"Thailand\",\"Saudi Arabia\",\"Spain\",\"Malta\",\"Taiwan\",\"Kuwait\",\"Suriname\",\"Trinidad and Tobago\",\"El Salvador\",\"Guatemala\",\"Uzbekistan\",\"Slovakia\",\"Japan\",\"South Korea\",\"Ecuador\",\"Bahrain\",\"Italy\",\"Bolivia\",\"Moldova\",\"Paraguay\",\"Kazakhstan\",\"Slovenia\",\"Lithuania\",\"Nicaragua\",\"Peru\",\"Belarus\",\"Poland\",\"Malaysia\",\"Croatia\",\"Libya\",\"Russia\",\"Jamaica\",\"North Cyprus\",\"Cyprus\",\"Algeria\",\"Kosovo\",\"Turkmenistan\",\"Mauritius\",\"Hong Kong\",\"Estonia\",\"Indonesia\",\"Vietnam\",\"Turkey\",\"Kyrgyzstan\",\"Nigeria\",\"Bhutan\",\"Azerbaijan\",\"Pakistan\",\"Jordan\",\"Montenegro\",\"China\",\"Zambia\",\"Romania\",\"Serbia\",\"Portugal\",\"Latvia\",\"Philippines\",\"Somaliland region\",\"Morocco\",\"Macedonia\",\"Mozambique\",\"Albania\",\"Bosnia and Herzegovina\",\"Lesotho\",\"Dominican Republic\",\"Laos\",\"Mongolia\",\"Swaziland\",\"Greece\",\"Lebanon\",\"Hungary\",\"Honduras\",\"Tajikistan\",\"Tunisia\",\"Palestinian Territories\",\"Bangladesh\",\"Iran\",\"Ukraine\",\"Iraq\",\"South Africa\",\"Ghana\",\"Zimbabwe\",\"Liberia\",\"India\",\"Sudan\",\"Haiti\",\"Congo (Kinshasa)\",\"Nepal\",\"Ethiopia\",\"Sierra Leone\",\"Mauritania\",\"Kenya\",\"Djibouti\",\"Armenia\",\"Botswana\",\"Myanmar\",\"Georgia\",\"Malawi\",\"Sri Lanka\",\"Cameroon\",\"Bulgaria\",\"Egypt\",\"Yemen\",\"Angola\",\"Mali\",\"Congo (Brazzaville)\",\"Comoros\",\"Uganda\",\"Senegal\",\"Gabon\",\"Niger\",\"Cambodia\",\"Tanzania\",\"Madagascar\",\"Central African Republic\",\"Chad\",\"Guinea\",\"Ivory Coast\",\"Burkina Faso\",\"Afghanistan\",\"Rwanda\",\"Benin\",\"Syria\",\"Burundi\",\"Togo\"],\"text\":[\"Switzerland\",\"Iceland\",\"Denmark\",\"Norway\",\"Canada\",\"Finland\",\"Netherlands\",\"Sweden\",\"New Zealand\",\"Australia\",\"Israel\",\"Costa Rica\",\"Austria\",\"Mexico\",\"United States\",\"Brazil\",\"Luxembourg\",\"Ireland\",\"Belgium\",\"United Arab Emirates\",\"United Kingdom\",\"Oman\",\"Venezuela\",\"Singapore\",\"Panama\",\"Germany\",\"Chile\",\"Qatar\",\"France\",\"Argentina\",\"Czech Republic\",\"Uruguay\",\"Colombia\",\"Thailand\",\"Saudi Arabia\",\"Spain\",\"Malta\",\"Taiwan\",\"Kuwait\",\"Suriname\",\"Trinidad and Tobago\",\"El Salvador\",\"Guatemala\",\"Uzbekistan\",\"Slovakia\",\"Japan\",\"South Korea\",\"Ecuador\",\"Bahrain\",\"Italy\",\"Bolivia\",\"Moldova\",\"Paraguay\",\"Kazakhstan\",\"Slovenia\",\"Lithuania\",\"Nicaragua\",\"Peru\",\"Belarus\",\"Poland\",\"Malaysia\",\"Croatia\",\"Libya\",\"Russia\",\"Jamaica\",\"North Cyprus\",\"Cyprus\",\"Algeria\",\"Kosovo\",\"Turkmenistan\",\"Mauritius\",\"Hong Kong\",\"Estonia\",\"Indonesia\",\"Vietnam\",\"Turkey\",\"Kyrgyzstan\",\"Nigeria\",\"Bhutan\",\"Azerbaijan\",\"Pakistan\",\"Jordan\",\"Montenegro\",\"China\",\"Zambia\",\"Romania\",\"Serbia\",\"Portugal\",\"Latvia\",\"Philippines\",\"Somaliland region\",\"Morocco\",\"Macedonia\",\"Mozambique\",\"Albania\",\"Bosnia and Herzegovina\",\"Lesotho\",\"Dominican Republic\",\"Laos\",\"Mongolia\",\"Swaziland\",\"Greece\",\"Lebanon\",\"Hungary\",\"Honduras\",\"Tajikistan\",\"Tunisia\",\"Palestinian Territories\",\"Bangladesh\",\"Iran\",\"Ukraine\",\"Iraq\",\"South Africa\",\"Ghana\",\"Zimbabwe\",\"Liberia\",\"India\",\"Sudan\",\"Haiti\",\"Congo (Kinshasa)\",\"Nepal\",\"Ethiopia\",\"Sierra Leone\",\"Mauritania\",\"Kenya\",\"Djibouti\",\"Armenia\",\"Botswana\",\"Myanmar\",\"Georgia\",\"Malawi\",\"Sri Lanka\",\"Cameroon\",\"Bulgaria\",\"Egypt\",\"Yemen\",\"Angola\",\"Mali\",\"Congo (Brazzaville)\",\"Comoros\",\"Uganda\",\"Senegal\",\"Gabon\",\"Niger\",\"Cambodia\",\"Tanzania\",\"Madagascar\",\"Central African Republic\",\"Chad\",\"Guinea\",\"Ivory Coast\",\"Burkina Faso\",\"Afghanistan\",\"Rwanda\",\"Benin\",\"Syria\",\"Burundi\",\"Togo\"],\"z\":[1.34951,1.40223,1.36058,1.33095,1.32261,1.31826,1.28017,1.28907,1.31967,1.30923,1.22393,1.23788,1.29704,0.91451,1.24711,1.23287,1.21963,1.36948,1.28566,1.12575,1.28548,1.08182,1.25596,1.02,1.1985,1.29937,1.12447,1.0786,1.26038,1.24823,1.20643,1.2089,1.24018,1.26504,1.08393,1.31379,1.30203,1.07617,1.16594,0.972,1.18354,1.02507,1.04356,1.34043,1.26999,1.25712,0.95774,0.99903,1.21624,1.19777,0.97841,1.01528,1.30477,1.12241,1.27385,1.25745,1.14184,0.97459,1.23289,1.27948,1.07023,0.79624,1.11862,1.23617,1.15102,1.07008,0.89318,1.07772,0.81198,1.22668,0.98521,1.05818,1.22791,1.08708,0.91226,0.94632,1.15115,0.90432,1.10395,0.93793,0.41411,1.05392,0.90557,0.94675,0.91612,0.88588,1.00964,1.13935,1.09562,1.03516,0.95152,0.64095,1.00232,1.02626,0.80434,0.91916,1.04103,1.17202,0.73803,1.3006,1.07284,0.92933,0.80001,1.20215,0.95348,0.85563,0.60429,0.92558,0.43106,0.54447,1.20278,0.81889,1.18468,0.67954,1.03276,0.78968,0.38174,1.01404,0.74302,1.0012,0.86449,0.60406,0.95571,0.86908,0.99876,0.59207,0.77711,1.10464,0.70905,0.38562,0.41134,1.01905,0.88767,1.10614,0.747,0.68093,0.8604,1.03526,0.6629,0.79273,1.13299,0.97619,0.90528,0.77265,0.62736,1.00268,0.66801,0.0,0.76062,0.46475,0.77115,0.85188,0.30285,0.7737,0.35386,0.47489,0.41587,0.13995],\"type\":\"choropleth\"}],                        {\"annotations\":[{\"showarrow\":false,\"text\":\"Projection\",\"x\":0.1,\"xanchor\":\"right\",\"xref\":\"paper\",\"y\":0.8,\"yanchor\":\"bottom\"}],\"geo\":{\"projection\":{\"type\":\"hammer\"},\"showcoastlines\":true,\"showframe\":true,\"showlakes\":true,\"showocean\":true},\"template\":{\"data\":{\"barpolar\":[{\"marker\":{\"line\":{\"color\":\"#E5ECF6\",\"width\":0.5},\"pattern\":{\"fillmode\":\"overlay\",\"size\":10,\"solidity\":0.2}},\"type\":\"barpolar\"}],\"bar\":[{\"error_x\":{\"color\":\"#2a3f5f\"},\"error_y\":{\"color\":\"#2a3f5f\"},\"marker\":{\"line\":{\"color\":\"#E5ECF6\",\"width\":0.5},\"pattern\":{\"fillmode\":\"overlay\",\"size\":10,\"solidity\":0.2}},\"type\":\"bar\"}],\"carpet\":[{\"aaxis\":{\"endlinecolor\":\"#2a3f5f\",\"gridcolor\":\"white\",\"linecolor\":\"white\",\"minorgridcolor\":\"white\",\"startlinecolor\":\"#2a3f5f\"},\"baxis\":{\"endlinecolor\":\"#2a3f5f\",\"gridcolor\":\"white\",\"linecolor\":\"white\",\"minorgridcolor\":\"white\",\"startlinecolor\":\"#2a3f5f\"},\"type\":\"carpet\"}],\"choropleth\":[{\"colorbar\":{\"outlinewidth\":0,\"ticks\":\"\"},\"type\":\"choropleth\"}],\"contourcarpet\":[{\"colorbar\":{\"outlinewidth\":0,\"ticks\":\"\"},\"type\":\"contourcarpet\"}],\"contour\":[{\"colorbar\":{\"outlinewidth\":0,\"ticks\":\"\"},\"colorscale\":[[0.0,\"#0d0887\"],[0.1111111111111111,\"#46039f\"],[0.2222222222222222,\"#7201a8\"],[0.3333333333333333,\"#9c179e\"],[0.4444444444444444,\"#bd3786\"],[0.5555555555555556,\"#d8576b\"],[0.6666666666666666,\"#ed7953\"],[0.7777777777777778,\"#fb9f3a\"],[0.8888888888888888,\"#fdca26\"],[1.0,\"#f0f921\"]],\"type\":\"contour\"}],\"heatmapgl\":[{\"colorbar\":{\"outlinewidth\":0,\"ticks\":\"\"},\"colorscale\":[[0.0,\"#0d0887\"],[0.1111111111111111,\"#46039f\"],[0.2222222222222222,\"#7201a8\"],[0.3333333333333333,\"#9c179e\"],[0.4444444444444444,\"#bd3786\"],[0.5555555555555556,\"#d8576b\"],[0.6666666666666666,\"#ed7953\"],[0.7777777777777778,\"#fb9f3a\"],[0.8888888888888888,\"#fdca26\"],[1.0,\"#f0f921\"]],\"type\":\"heatmapgl\"}],\"heatmap\":[{\"colorbar\":{\"outlinewidth\":0,\"ticks\":\"\"},\"colorscale\":[[0.0,\"#0d0887\"],[0.1111111111111111,\"#46039f\"],[0.2222222222222222,\"#7201a8\"],[0.3333333333333333,\"#9c179e\"],[0.4444444444444444,\"#bd3786\"],[0.5555555555555556,\"#d8576b\"],[0.6666666666666666,\"#ed7953\"],[0.7777777777777778,\"#fb9f3a\"],[0.8888888888888888,\"#fdca26\"],[1.0,\"#f0f921\"]],\"type\":\"heatmap\"}],\"histogram2dcontour\":[{\"colorbar\":{\"outlinewidth\":0,\"ticks\":\"\"},\"colorscale\":[[0.0,\"#0d0887\"],[0.1111111111111111,\"#46039f\"],[0.2222222222222222,\"#7201a8\"],[0.3333333333333333,\"#9c179e\"],[0.4444444444444444,\"#bd3786\"],[0.5555555555555556,\"#d8576b\"],[0.6666666666666666,\"#ed7953\"],[0.7777777777777778,\"#fb9f3a\"],[0.8888888888888888,\"#fdca26\"],[1.0,\"#f0f921\"]],\"type\":\"histogram2dcontour\"}],\"histogram2d\":[{\"colorbar\":{\"outlinewidth\":0,\"ticks\":\"\"},\"colorscale\":[[0.0,\"#0d0887\"],[0.1111111111111111,\"#46039f\"],[0.2222222222222222,\"#7201a8\"],[0.3333333333333333,\"#9c179e\"],[0.4444444444444444,\"#bd3786\"],[0.5555555555555556,\"#d8576b\"],[0.6666666666666666,\"#ed7953\"],[0.7777777777777778,\"#fb9f3a\"],[0.8888888888888888,\"#fdca26\"],[1.0,\"#f0f921\"]],\"type\":\"histogram2d\"}],\"histogram\":[{\"marker\":{\"pattern\":{\"fillmode\":\"overlay\",\"size\":10,\"solidity\":0.2}},\"type\":\"histogram\"}],\"mesh3d\":[{\"colorbar\":{\"outlinewidth\":0,\"ticks\":\"\"},\"type\":\"mesh3d\"}],\"parcoords\":[{\"line\":{\"colorbar\":{\"outlinewidth\":0,\"ticks\":\"\"}},\"type\":\"parcoords\"}],\"pie\":[{\"automargin\":true,\"type\":\"pie\"}],\"scatter3d\":[{\"line\":{\"colorbar\":{\"outlinewidth\":0,\"ticks\":\"\"}},\"marker\":{\"colorbar\":{\"outlinewidth\":0,\"ticks\":\"\"}},\"type\":\"scatter3d\"}],\"scattercarpet\":[{\"marker\":{\"colorbar\":{\"outlinewidth\":0,\"ticks\":\"\"}},\"type\":\"scattercarpet\"}],\"scattergeo\":[{\"marker\":{\"colorbar\":{\"outlinewidth\":0,\"ticks\":\"\"}},\"type\":\"scattergeo\"}],\"scattergl\":[{\"marker\":{\"colorbar\":{\"outlinewidth\":0,\"ticks\":\"\"}},\"type\":\"scattergl\"}],\"scattermapbox\":[{\"marker\":{\"colorbar\":{\"outlinewidth\":0,\"ticks\":\"\"}},\"type\":\"scattermapbox\"}],\"scatterpolargl\":[{\"marker\":{\"colorbar\":{\"outlinewidth\":0,\"ticks\":\"\"}},\"type\":\"scatterpolargl\"}],\"scatterpolar\":[{\"marker\":{\"colorbar\":{\"outlinewidth\":0,\"ticks\":\"\"}},\"type\":\"scatterpolar\"}],\"scatter\":[{\"fillpattern\":{\"fillmode\":\"overlay\",\"size\":10,\"solidity\":0.2},\"type\":\"scatter\"}],\"scatterternary\":[{\"marker\":{\"colorbar\":{\"outlinewidth\":0,\"ticks\":\"\"}},\"type\":\"scatterternary\"}],\"surface\":[{\"colorbar\":{\"outlinewidth\":0,\"ticks\":\"\"},\"colorscale\":[[0.0,\"#0d0887\"],[0.1111111111111111,\"#46039f\"],[0.2222222222222222,\"#7201a8\"],[0.3333333333333333,\"#9c179e\"],[0.4444444444444444,\"#bd3786\"],[0.5555555555555556,\"#d8576b\"],[0.6666666666666666,\"#ed7953\"],[0.7777777777777778,\"#fb9f3a\"],[0.8888888888888888,\"#fdca26\"],[1.0,\"#f0f921\"]],\"type\":\"surface\"}],\"table\":[{\"cells\":{\"fill\":{\"color\":\"#EBF0F8\"},\"line\":{\"color\":\"white\"}},\"header\":{\"fill\":{\"color\":\"#C8D4E3\"},\"line\":{\"color\":\"white\"}},\"type\":\"table\"}]},\"layout\":{\"annotationdefaults\":{\"arrowcolor\":\"#2a3f5f\",\"arrowhead\":0,\"arrowwidth\":1},\"autotypenumbers\":\"strict\",\"coloraxis\":{\"colorbar\":{\"outlinewidth\":0,\"ticks\":\"\"}},\"colorscale\":{\"diverging\":[[0,\"#8e0152\"],[0.1,\"#c51b7d\"],[0.2,\"#de77ae\"],[0.3,\"#f1b6da\"],[0.4,\"#fde0ef\"],[0.5,\"#f7f7f7\"],[0.6,\"#e6f5d0\"],[0.7,\"#b8e186\"],[0.8,\"#7fbc41\"],[0.9,\"#4d9221\"],[1,\"#276419\"]],\"sequential\":[[0.0,\"#0d0887\"],[0.1111111111111111,\"#46039f\"],[0.2222222222222222,\"#7201a8\"],[0.3333333333333333,\"#9c179e\"],[0.4444444444444444,\"#bd3786\"],[0.5555555555555556,\"#d8576b\"],[0.6666666666666666,\"#ed7953\"],[0.7777777777777778,\"#fb9f3a\"],[0.8888888888888888,\"#fdca26\"],[1.0,\"#f0f921\"]],\"sequentialminus\":[[0.0,\"#0d0887\"],[0.1111111111111111,\"#46039f\"],[0.2222222222222222,\"#7201a8\"],[0.3333333333333333,\"#9c179e\"],[0.4444444444444444,\"#bd3786\"],[0.5555555555555556,\"#d8576b\"],[0.6666666666666666,\"#ed7953\"],[0.7777777777777778,\"#fb9f3a\"],[0.8888888888888888,\"#fdca26\"],[1.0,\"#f0f921\"]]},\"colorway\":[\"#636efa\",\"#EF553B\",\"#00cc96\",\"#ab63fa\",\"#FFA15A\",\"#19d3f3\",\"#FF6692\",\"#B6E880\",\"#FF97FF\",\"#FECB52\"],\"font\":{\"color\":\"#2a3f5f\"},\"geo\":{\"bgcolor\":\"white\",\"lakecolor\":\"white\",\"landcolor\":\"#E5ECF6\",\"showlakes\":true,\"showland\":true,\"subunitcolor\":\"white\"},\"hoverlabel\":{\"align\":\"left\"},\"hovermode\":\"closest\",\"mapbox\":{\"style\":\"light\"},\"paper_bgcolor\":\"white\",\"plot_bgcolor\":\"#E5ECF6\",\"polar\":{\"angularaxis\":{\"gridcolor\":\"white\",\"linecolor\":\"white\",\"ticks\":\"\"},\"bgcolor\":\"#E5ECF6\",\"radialaxis\":{\"gridcolor\":\"white\",\"linecolor\":\"white\",\"ticks\":\"\"}},\"scene\":{\"xaxis\":{\"backgroundcolor\":\"#E5ECF6\",\"gridcolor\":\"white\",\"gridwidth\":2,\"linecolor\":\"white\",\"showbackground\":true,\"ticks\":\"\",\"zerolinecolor\":\"white\"},\"yaxis\":{\"backgroundcolor\":\"#E5ECF6\",\"gridcolor\":\"white\",\"gridwidth\":2,\"linecolor\":\"white\",\"showbackground\":true,\"ticks\":\"\",\"zerolinecolor\":\"white\"},\"zaxis\":{\"backgroundcolor\":\"#E5ECF6\",\"gridcolor\":\"white\",\"gridwidth\":2,\"linecolor\":\"white\",\"showbackground\":true,\"ticks\":\"\",\"zerolinecolor\":\"white\"}},\"shapedefaults\":{\"line\":{\"color\":\"#2a3f5f\"}},\"ternary\":{\"aaxis\":{\"gridcolor\":\"white\",\"linecolor\":\"white\",\"ticks\":\"\"},\"baxis\":{\"gridcolor\":\"white\",\"linecolor\":\"white\",\"ticks\":\"\"},\"bgcolor\":\"#E5ECF6\",\"caxis\":{\"gridcolor\":\"white\",\"linecolor\":\"white\",\"ticks\":\"\"}},\"title\":{\"x\":0.05},\"xaxis\":{\"automargin\":true,\"gridcolor\":\"white\",\"linecolor\":\"white\",\"ticks\":\"\",\"title\":{\"standoff\":15},\"zerolinecolor\":\"white\",\"zerolinewidth\":2},\"yaxis\":{\"automargin\":true,\"gridcolor\":\"white\",\"linecolor\":\"white\",\"ticks\":\"\",\"title\":{\"standoff\":15},\"zerolinecolor\":\"white\",\"zerolinewidth\":2}}},\"title\":{\"text\":\"Family Satisfaction Index\"},\"updatemenus\":[{\"buttons\":[{\"args\":[\"geo.projection.type\",\"equirectangular\"],\"label\":\"equirectangular\",\"method\":\"relayout\"},{\"args\":[\"geo.projection.type\",\"mercator\"],\"label\":\"mercator\",\"method\":\"relayout\"},{\"args\":[\"geo.projection.type\",\"orthographic\"],\"label\":\"orthographic\",\"method\":\"relayout\"},{\"args\":[\"geo.projection.type\",\"natural earth\"],\"label\":\"natural earth\",\"method\":\"relayout\"},{\"args\":[\"geo.projection.type\",\"kavrayskiy7\"],\"label\":\"kavrayskiy7\",\"method\":\"relayout\"},{\"args\":[\"geo.projection.type\",\"miller\"],\"label\":\"miller\",\"method\":\"relayout\"},{\"args\":[\"geo.projection.type\",\"robinson\"],\"label\":\"robinson\",\"method\":\"relayout\"},{\"args\":[\"geo.projection.type\",\"eckert4\"],\"label\":\"eckert4\",\"method\":\"relayout\"},{\"args\":[\"geo.projection.type\",\"azimuthal equal area\"],\"label\":\"azimuthal equal area\",\"method\":\"relayout\"},{\"args\":[\"geo.projection.type\",\"azimuthal equidistant\"],\"label\":\"azimuthal equidistant\",\"method\":\"relayout\"},{\"args\":[\"geo.projection.type\",\"conic equal area\"],\"label\":\"conic equal area\",\"method\":\"relayout\"},{\"args\":[\"geo.projection.type\",\"conic conformal\"],\"label\":\"conic conformal\",\"method\":\"relayout\"},{\"args\":[\"geo.projection.type\",\"conic equidistant\"],\"label\":\"conic equidistant\",\"method\":\"relayout\"},{\"args\":[\"geo.projection.type\",\"gnomonic\"],\"label\":\"gnomonic\",\"method\":\"relayout\"},{\"args\":[\"geo.projection.type\",\"stereographic\"],\"label\":\"stereographic\",\"method\":\"relayout\"},{\"args\":[\"geo.projection.type\",\"mollweide\"],\"label\":\"mollweide\",\"method\":\"relayout\"},{\"args\":[\"geo.projection.type\",\"hammer\"],\"label\":\"hammer\",\"method\":\"relayout\"},{\"args\":[\"geo.projection.type\",\"transverse mercator\"],\"label\":\"transverse mercator\",\"method\":\"relayout\"},{\"args\":[\"geo.projection.type\",\"albers usa\"],\"label\":\"albers usa\",\"method\":\"relayout\"},{\"args\":[\"geo.projection.type\",\"winkel tripel\"],\"label\":\"winkel tripel\",\"method\":\"relayout\"}],\"x\":0.1,\"y\":0.8,\"yanchor\":\"top\"}]},                        {\"responsive\": true}                    ).then(function(){\n",
       "                            \n",
       "var gd = document.getElementById('46c30350-954d-47f3-8e44-21d3a0b8771e');\n",
       "var x = new MutationObserver(function (mutations, observer) {{\n",
       "        var display = window.getComputedStyle(gd).display;\n",
       "        if (!display || display === 'none') {{\n",
       "            console.log([gd, 'removed!']);\n",
       "            Plotly.purge(gd);\n",
       "            observer.disconnect();\n",
       "        }}\n",
       "}});\n",
       "\n",
       "// Listen for the removal of the full notebook cells\n",
       "var notebookContainer = gd.closest('#notebook-container');\n",
       "if (notebookContainer) {{\n",
       "    x.observe(notebookContainer, {childList: true});\n",
       "}}\n",
       "\n",
       "// Listen for the clearing of the current output cell\n",
       "var outputEl = gd.closest('.output');\n",
       "if (outputEl) {{\n",
       "    x.observe(outputEl, {childList: true});\n",
       "}}\n",
       "\n",
       "                        })                };                });            </script>        </div>"
      ]
     },
     "metadata": {},
     "output_type": "display_data"
    }
   ],
   "source": [
    "trace1 = [go.Choropleth(\n",
    "               colorscale = 'Portland',\n",
    "               locationmode = 'country names',\n",
    "               locations = df['Country'],\n",
    "               text = df['Country'], \n",
    "               z = df['Family'],\n",
    "               )]\n",
    "\n",
    "layout = dict(title = 'Family Satisfaction Index',\n",
    "                  geo = dict(\n",
    "                      showframe = True,\n",
    "                      showocean = True,\n",
    "                      showlakes = True,\n",
    "                      showcoastlines = True,\n",
    "                      projection = dict(\n",
    "                          type = 'hammer'\n",
    "        )))\n",
    "\n",
    "\n",
    "projections = [ \"equirectangular\", \"mercator\", \"orthographic\", \"natural earth\",\"kavrayskiy7\", \n",
    "               \"miller\", \"robinson\", \"eckert4\", \"azimuthal equal area\",\"azimuthal equidistant\", \n",
    "               \"conic equal area\", \"conic conformal\", \"conic equidistant\", \"gnomonic\", \"stereographic\", \n",
    "               \"mollweide\", \"hammer\", \"transverse mercator\", \"albers usa\", \"winkel tripel\" ]\n",
    "\n",
    "buttons = [dict(args = ['geo.projection.type', y],\n",
    "           label = y, method = 'relayout') for y in projections]\n",
    "annot = list([ dict( x=0.1, y=0.8, text='Projection', yanchor='bottom', \n",
    "                    xref='paper', xanchor='right', showarrow=False )])\n",
    "\n",
    "\n",
    "# Update Layout Object\n",
    "\n",
    "layout[ 'updatemenus' ] = list([ dict( x=0.1, y=0.8, buttons=buttons, yanchor='top' )])\n",
    "layout[ 'annotations' ] = annot\n",
    "\n",
    "\n",
    "fig = go.Figure(data = trace1, layout = layout)\n",
    "py.iplot(fig)"
   ]
  },
  {
   "cell_type": "markdown",
   "id": "181ea50c",
   "metadata": {},
   "source": [
    "* India and China have very low Family Satisfaction comparatively.\n",
    "\n",
    "* All over the world Family Satisfaction rate is really good.\n",
    "\n",
    "* Central African Republic has the lowest Family Satisfaction score in the world."
   ]
  },
  {
   "cell_type": "code",
   "execution_count": 28,
   "id": "67dc143d",
   "metadata": {},
   "outputs": [
    {
     "data": {
      "text/html": [
       "<div>\n",
       "<style scoped>\n",
       "    .dataframe tbody tr th:only-of-type {\n",
       "        vertical-align: middle;\n",
       "    }\n",
       "\n",
       "    .dataframe tbody tr th {\n",
       "        vertical-align: top;\n",
       "    }\n",
       "\n",
       "    .dataframe thead th {\n",
       "        text-align: right;\n",
       "    }\n",
       "</style>\n",
       "<table border=\"1\" class=\"dataframe\">\n",
       "  <thead>\n",
       "    <tr style=\"text-align: right;\">\n",
       "      <th></th>\n",
       "      <th>Country</th>\n",
       "      <th>Family</th>\n",
       "    </tr>\n",
       "  </thead>\n",
       "  <tbody>\n",
       "    <tr>\n",
       "      <th>1</th>\n",
       "      <td>Iceland</td>\n",
       "      <td>1.40223</td>\n",
       "    </tr>\n",
       "    <tr>\n",
       "      <th>17</th>\n",
       "      <td>Ireland</td>\n",
       "      <td>1.36948</td>\n",
       "    </tr>\n",
       "    <tr>\n",
       "      <th>2</th>\n",
       "      <td>Denmark</td>\n",
       "      <td>1.36058</td>\n",
       "    </tr>\n",
       "    <tr>\n",
       "      <th>0</th>\n",
       "      <td>Switzerland</td>\n",
       "      <td>1.34951</td>\n",
       "    </tr>\n",
       "    <tr>\n",
       "      <th>43</th>\n",
       "      <td>Uzbekistan</td>\n",
       "      <td>1.34043</td>\n",
       "    </tr>\n",
       "    <tr>\n",
       "      <th>3</th>\n",
       "      <td>Norway</td>\n",
       "      <td>1.33095</td>\n",
       "    </tr>\n",
       "    <tr>\n",
       "      <th>4</th>\n",
       "      <td>Canada</td>\n",
       "      <td>1.32261</td>\n",
       "    </tr>\n",
       "    <tr>\n",
       "      <th>8</th>\n",
       "      <td>New Zealand</td>\n",
       "      <td>1.31967</td>\n",
       "    </tr>\n",
       "    <tr>\n",
       "      <th>5</th>\n",
       "      <td>Finland</td>\n",
       "      <td>1.31826</td>\n",
       "    </tr>\n",
       "    <tr>\n",
       "      <th>35</th>\n",
       "      <td>Spain</td>\n",
       "      <td>1.31379</td>\n",
       "    </tr>\n",
       "  </tbody>\n",
       "</table>\n",
       "</div>"
      ],
      "text/plain": [
       "        Country   Family\n",
       "1       Iceland  1.40223\n",
       "17      Ireland  1.36948\n",
       "2       Denmark  1.36058\n",
       "0   Switzerland  1.34951\n",
       "43   Uzbekistan  1.34043\n",
       "3        Norway  1.33095\n",
       "4        Canada  1.32261\n",
       "8   New Zealand  1.31967\n",
       "5       Finland  1.31826\n",
       "35        Spain  1.31379"
      ]
     },
     "execution_count": 28,
     "metadata": {},
     "output_type": "execute_result"
    }
   ],
   "source": [
    "#Top 10 Countries in Family Satisfaction\n",
    "\n",
    "df[['Country', 'Family']].sort_values(by = 'Family', ascending = False).head(10)"
   ]
  },
  {
   "cell_type": "code",
   "execution_count": 29,
   "id": "d31dfa84",
   "metadata": {},
   "outputs": [
    {
     "data": {
      "application/vnd.plotly.v1+json": {
       "config": {
        "linkText": "Export to plot.ly",
        "plotlyServerURL": "https://plot.ly",
        "showLink": false
       },
       "data": [
        {
         "colorscale": [
          [
           0,
           "#440154"
          ],
          [
           0.1111111111111111,
           "#482878"
          ],
          [
           0.2222222222222222,
           "#3e4989"
          ],
          [
           0.3333333333333333,
           "#31688e"
          ],
          [
           0.4444444444444444,
           "#26828e"
          ],
          [
           0.5555555555555556,
           "#1f9e89"
          ],
          [
           0.6666666666666666,
           "#35b779"
          ],
          [
           0.7777777777777778,
           "#6ece58"
          ],
          [
           0.8888888888888888,
           "#b5de2b"
          ],
          [
           1,
           "#fde725"
          ]
         ],
         "locationmode": "country names",
         "locations": [
          "Switzerland",
          "Iceland",
          "Denmark",
          "Norway",
          "Canada",
          "Finland",
          "Netherlands",
          "Sweden",
          "New Zealand",
          "Australia",
          "Israel",
          "Costa Rica",
          "Austria",
          "Mexico",
          "United States",
          "Brazil",
          "Luxembourg",
          "Ireland",
          "Belgium",
          "United Arab Emirates",
          "United Kingdom",
          "Oman",
          "Venezuela",
          "Singapore",
          "Panama",
          "Germany",
          "Chile",
          "Qatar",
          "France",
          "Argentina",
          "Czech Republic",
          "Uruguay",
          "Colombia",
          "Thailand",
          "Saudi Arabia",
          "Spain",
          "Malta",
          "Taiwan",
          "Kuwait",
          "Suriname",
          "Trinidad and Tobago",
          "El Salvador",
          "Guatemala",
          "Uzbekistan",
          "Slovakia",
          "Japan",
          "South Korea",
          "Ecuador",
          "Bahrain",
          "Italy",
          "Bolivia",
          "Moldova",
          "Paraguay",
          "Kazakhstan",
          "Slovenia",
          "Lithuania",
          "Nicaragua",
          "Peru",
          "Belarus",
          "Poland",
          "Malaysia",
          "Croatia",
          "Libya",
          "Russia",
          "Jamaica",
          "North Cyprus",
          "Cyprus",
          "Algeria",
          "Kosovo",
          "Turkmenistan",
          "Mauritius",
          "Hong Kong",
          "Estonia",
          "Indonesia",
          "Vietnam",
          "Turkey",
          "Kyrgyzstan",
          "Nigeria",
          "Bhutan",
          "Azerbaijan",
          "Pakistan",
          "Jordan",
          "Montenegro",
          "China",
          "Zambia",
          "Romania",
          "Serbia",
          "Portugal",
          "Latvia",
          "Philippines",
          "Somaliland region",
          "Morocco",
          "Macedonia",
          "Mozambique",
          "Albania",
          "Bosnia and Herzegovina",
          "Lesotho",
          "Dominican Republic",
          "Laos",
          "Mongolia",
          "Swaziland",
          "Greece",
          "Lebanon",
          "Hungary",
          "Honduras",
          "Tajikistan",
          "Tunisia",
          "Palestinian Territories",
          "Bangladesh",
          "Iran",
          "Ukraine",
          "Iraq",
          "South Africa",
          "Ghana",
          "Zimbabwe",
          "Liberia",
          "India",
          "Sudan",
          "Haiti",
          "Congo (Kinshasa)",
          "Nepal",
          "Ethiopia",
          "Sierra Leone",
          "Mauritania",
          "Kenya",
          "Djibouti",
          "Armenia",
          "Botswana",
          "Myanmar",
          "Georgia",
          "Malawi",
          "Sri Lanka",
          "Cameroon",
          "Bulgaria",
          "Egypt",
          "Yemen",
          "Angola",
          "Mali",
          "Congo (Brazzaville)",
          "Comoros",
          "Uganda",
          "Senegal",
          "Gabon",
          "Niger",
          "Cambodia",
          "Tanzania",
          "Madagascar",
          "Central African Republic",
          "Chad",
          "Guinea",
          "Ivory Coast",
          "Burkina Faso",
          "Afghanistan",
          "Rwanda",
          "Benin",
          "Syria",
          "Burundi",
          "Togo"
         ],
         "text": [
          "Switzerland",
          "Iceland",
          "Denmark",
          "Norway",
          "Canada",
          "Finland",
          "Netherlands",
          "Sweden",
          "New Zealand",
          "Australia",
          "Israel",
          "Costa Rica",
          "Austria",
          "Mexico",
          "United States",
          "Brazil",
          "Luxembourg",
          "Ireland",
          "Belgium",
          "United Arab Emirates",
          "United Kingdom",
          "Oman",
          "Venezuela",
          "Singapore",
          "Panama",
          "Germany",
          "Chile",
          "Qatar",
          "France",
          "Argentina",
          "Czech Republic",
          "Uruguay",
          "Colombia",
          "Thailand",
          "Saudi Arabia",
          "Spain",
          "Malta",
          "Taiwan",
          "Kuwait",
          "Suriname",
          "Trinidad and Tobago",
          "El Salvador",
          "Guatemala",
          "Uzbekistan",
          "Slovakia",
          "Japan",
          "South Korea",
          "Ecuador",
          "Bahrain",
          "Italy",
          "Bolivia",
          "Moldova",
          "Paraguay",
          "Kazakhstan",
          "Slovenia",
          "Lithuania",
          "Nicaragua",
          "Peru",
          "Belarus",
          "Poland",
          "Malaysia",
          "Croatia",
          "Libya",
          "Russia",
          "Jamaica",
          "North Cyprus",
          "Cyprus",
          "Algeria",
          "Kosovo",
          "Turkmenistan",
          "Mauritius",
          "Hong Kong",
          "Estonia",
          "Indonesia",
          "Vietnam",
          "Turkey",
          "Kyrgyzstan",
          "Nigeria",
          "Bhutan",
          "Azerbaijan",
          "Pakistan",
          "Jordan",
          "Montenegro",
          "China",
          "Zambia",
          "Romania",
          "Serbia",
          "Portugal",
          "Latvia",
          "Philippines",
          "Somaliland region",
          "Morocco",
          "Macedonia",
          "Mozambique",
          "Albania",
          "Bosnia and Herzegovina",
          "Lesotho",
          "Dominican Republic",
          "Laos",
          "Mongolia",
          "Swaziland",
          "Greece",
          "Lebanon",
          "Hungary",
          "Honduras",
          "Tajikistan",
          "Tunisia",
          "Palestinian Territories",
          "Bangladesh",
          "Iran",
          "Ukraine",
          "Iraq",
          "South Africa",
          "Ghana",
          "Zimbabwe",
          "Liberia",
          "India",
          "Sudan",
          "Haiti",
          "Congo (Kinshasa)",
          "Nepal",
          "Ethiopia",
          "Sierra Leone",
          "Mauritania",
          "Kenya",
          "Djibouti",
          "Armenia",
          "Botswana",
          "Myanmar",
          "Georgia",
          "Malawi",
          "Sri Lanka",
          "Cameroon",
          "Bulgaria",
          "Egypt",
          "Yemen",
          "Angola",
          "Mali",
          "Congo (Brazzaville)",
          "Comoros",
          "Uganda",
          "Senegal",
          "Gabon",
          "Niger",
          "Cambodia",
          "Tanzania",
          "Madagascar",
          "Central African Republic",
          "Chad",
          "Guinea",
          "Ivory Coast",
          "Burkina Faso",
          "Afghanistan",
          "Rwanda",
          "Benin",
          "Syria",
          "Burundi",
          "Togo"
         ],
         "type": "choropleth",
         "z": [
          1.39651,
          1.30232,
          1.32548,
          1.459,
          1.32629,
          1.29025,
          1.32944,
          1.33171,
          1.25018,
          1.33358,
          1.22857,
          0.95578,
          1.33723,
          1.02054,
          1.39451,
          0.98124,
          1.56391,
          1.33596,
          1.30782,
          1.42727,
          1.26637,
          1.36011,
          1.04424,
          1.52186,
          1.06353,
          1.32792,
          1.10715,
          1.69042,
          1.27778,
          1.05351,
          1.17898,
          1.06166,
          0.91861,
          0.9669,
          1.39541,
          1.23011,
          1.2074,
          1.29098,
          1.55422,
          0.99534,
          1.21183,
          0.76454,
          0.74553,
          0.63244,
          1.16891,
          1.27074,
          1.24461,
          0.86402,
          1.32376,
          1.25114,
          0.68133,
          0.59448,
          0.75985,
          1.12254,
          1.18498,
          1.14723,
          0.59325,
          0.90019,
          1.03192,
          1.12555,
          1.12486,
          1.08254,
          1.13145,
          1.13764,
          0.81038,
          1.20806,
          1.20813,
          0.93929,
          0.80148,
          0.95847,
          1.00761,
          1.38604,
          1.15174,
          0.82827,
          0.63216,
          1.06098,
          0.47428,
          0.65435,
          0.77042,
          1.02389,
          0.59543,
          0.90198,
          0.97438,
          0.89012,
          0.47038,
          1.04345,
          0.92053,
          1.15991,
          1.11312,
          0.70532,
          0.18847,
          0.73479,
          0.91851,
          0.08308,
          0.87867,
          0.83223,
          0.37545,
          0.89537,
          0.59066,
          0.82819,
          0.71206,
          1.15406,
          1.02564,
          1.12094,
          0.59532,
          0.39047,
          0.88113,
          0.59867,
          0.39753,
          1.0088,
          0.79907,
          0.98549,
          0.92049,
          0.54558,
          0.271,
          0.0712,
          0.64499,
          0.52107,
          0.26673,
          0,
          0.35997,
          0.19073,
          0.33024,
          0.45407,
          0.36471,
          0.44025,
          0.76821,
          0.99355,
          0.27108,
          0.7419,
          0.01604,
          0.83524,
          0.4225,
          1.01216,
          0.8818,
          0.54649,
          0.75778,
          0.26074,
          0.67866,
          0.23906,
          0.21102,
          0.36498,
          1.06024,
          0.0694,
          0.46038,
          0.2852,
          0.20824,
          0.0785,
          0.34193,
          0.17417,
          0.46534,
          0.25812,
          0.31982,
          0.22208,
          0.28665,
          0.6632,
          0.0153,
          0.20868
         ]
        }
       ],
       "layout": {
        "annotations": [
         {
          "showarrow": false,
          "text": "Projection",
          "x": 0.1,
          "xanchor": "right",
          "xref": "paper",
          "y": 0.8,
          "yanchor": "bottom"
         }
        ],
        "geo": {
         "projection": {
          "type": "hammer"
         },
         "showcoastlines": true,
         "showframe": true,
         "showlakes": true,
         "showocean": true
        },
        "template": {
         "data": {
          "bar": [
           {
            "error_x": {
             "color": "#2a3f5f"
            },
            "error_y": {
             "color": "#2a3f5f"
            },
            "marker": {
             "line": {
              "color": "#E5ECF6",
              "width": 0.5
             },
             "pattern": {
              "fillmode": "overlay",
              "size": 10,
              "solidity": 0.2
             }
            },
            "type": "bar"
           }
          ],
          "barpolar": [
           {
            "marker": {
             "line": {
              "color": "#E5ECF6",
              "width": 0.5
             },
             "pattern": {
              "fillmode": "overlay",
              "size": 10,
              "solidity": 0.2
             }
            },
            "type": "barpolar"
           }
          ],
          "carpet": [
           {
            "aaxis": {
             "endlinecolor": "#2a3f5f",
             "gridcolor": "white",
             "linecolor": "white",
             "minorgridcolor": "white",
             "startlinecolor": "#2a3f5f"
            },
            "baxis": {
             "endlinecolor": "#2a3f5f",
             "gridcolor": "white",
             "linecolor": "white",
             "minorgridcolor": "white",
             "startlinecolor": "#2a3f5f"
            },
            "type": "carpet"
           }
          ],
          "choropleth": [
           {
            "colorbar": {
             "outlinewidth": 0,
             "ticks": ""
            },
            "type": "choropleth"
           }
          ],
          "contour": [
           {
            "colorbar": {
             "outlinewidth": 0,
             "ticks": ""
            },
            "colorscale": [
             [
              0,
              "#0d0887"
             ],
             [
              0.1111111111111111,
              "#46039f"
             ],
             [
              0.2222222222222222,
              "#7201a8"
             ],
             [
              0.3333333333333333,
              "#9c179e"
             ],
             [
              0.4444444444444444,
              "#bd3786"
             ],
             [
              0.5555555555555556,
              "#d8576b"
             ],
             [
              0.6666666666666666,
              "#ed7953"
             ],
             [
              0.7777777777777778,
              "#fb9f3a"
             ],
             [
              0.8888888888888888,
              "#fdca26"
             ],
             [
              1,
              "#f0f921"
             ]
            ],
            "type": "contour"
           }
          ],
          "contourcarpet": [
           {
            "colorbar": {
             "outlinewidth": 0,
             "ticks": ""
            },
            "type": "contourcarpet"
           }
          ],
          "heatmap": [
           {
            "colorbar": {
             "outlinewidth": 0,
             "ticks": ""
            },
            "colorscale": [
             [
              0,
              "#0d0887"
             ],
             [
              0.1111111111111111,
              "#46039f"
             ],
             [
              0.2222222222222222,
              "#7201a8"
             ],
             [
              0.3333333333333333,
              "#9c179e"
             ],
             [
              0.4444444444444444,
              "#bd3786"
             ],
             [
              0.5555555555555556,
              "#d8576b"
             ],
             [
              0.6666666666666666,
              "#ed7953"
             ],
             [
              0.7777777777777778,
              "#fb9f3a"
             ],
             [
              0.8888888888888888,
              "#fdca26"
             ],
             [
              1,
              "#f0f921"
             ]
            ],
            "type": "heatmap"
           }
          ],
          "heatmapgl": [
           {
            "colorbar": {
             "outlinewidth": 0,
             "ticks": ""
            },
            "colorscale": [
             [
              0,
              "#0d0887"
             ],
             [
              0.1111111111111111,
              "#46039f"
             ],
             [
              0.2222222222222222,
              "#7201a8"
             ],
             [
              0.3333333333333333,
              "#9c179e"
             ],
             [
              0.4444444444444444,
              "#bd3786"
             ],
             [
              0.5555555555555556,
              "#d8576b"
             ],
             [
              0.6666666666666666,
              "#ed7953"
             ],
             [
              0.7777777777777778,
              "#fb9f3a"
             ],
             [
              0.8888888888888888,
              "#fdca26"
             ],
             [
              1,
              "#f0f921"
             ]
            ],
            "type": "heatmapgl"
           }
          ],
          "histogram": [
           {
            "marker": {
             "pattern": {
              "fillmode": "overlay",
              "size": 10,
              "solidity": 0.2
             }
            },
            "type": "histogram"
           }
          ],
          "histogram2d": [
           {
            "colorbar": {
             "outlinewidth": 0,
             "ticks": ""
            },
            "colorscale": [
             [
              0,
              "#0d0887"
             ],
             [
              0.1111111111111111,
              "#46039f"
             ],
             [
              0.2222222222222222,
              "#7201a8"
             ],
             [
              0.3333333333333333,
              "#9c179e"
             ],
             [
              0.4444444444444444,
              "#bd3786"
             ],
             [
              0.5555555555555556,
              "#d8576b"
             ],
             [
              0.6666666666666666,
              "#ed7953"
             ],
             [
              0.7777777777777778,
              "#fb9f3a"
             ],
             [
              0.8888888888888888,
              "#fdca26"
             ],
             [
              1,
              "#f0f921"
             ]
            ],
            "type": "histogram2d"
           }
          ],
          "histogram2dcontour": [
           {
            "colorbar": {
             "outlinewidth": 0,
             "ticks": ""
            },
            "colorscale": [
             [
              0,
              "#0d0887"
             ],
             [
              0.1111111111111111,
              "#46039f"
             ],
             [
              0.2222222222222222,
              "#7201a8"
             ],
             [
              0.3333333333333333,
              "#9c179e"
             ],
             [
              0.4444444444444444,
              "#bd3786"
             ],
             [
              0.5555555555555556,
              "#d8576b"
             ],
             [
              0.6666666666666666,
              "#ed7953"
             ],
             [
              0.7777777777777778,
              "#fb9f3a"
             ],
             [
              0.8888888888888888,
              "#fdca26"
             ],
             [
              1,
              "#f0f921"
             ]
            ],
            "type": "histogram2dcontour"
           }
          ],
          "mesh3d": [
           {
            "colorbar": {
             "outlinewidth": 0,
             "ticks": ""
            },
            "type": "mesh3d"
           }
          ],
          "parcoords": [
           {
            "line": {
             "colorbar": {
              "outlinewidth": 0,
              "ticks": ""
             }
            },
            "type": "parcoords"
           }
          ],
          "pie": [
           {
            "automargin": true,
            "type": "pie"
           }
          ],
          "scatter": [
           {
            "fillpattern": {
             "fillmode": "overlay",
             "size": 10,
             "solidity": 0.2
            },
            "type": "scatter"
           }
          ],
          "scatter3d": [
           {
            "line": {
             "colorbar": {
              "outlinewidth": 0,
              "ticks": ""
             }
            },
            "marker": {
             "colorbar": {
              "outlinewidth": 0,
              "ticks": ""
             }
            },
            "type": "scatter3d"
           }
          ],
          "scattercarpet": [
           {
            "marker": {
             "colorbar": {
              "outlinewidth": 0,
              "ticks": ""
             }
            },
            "type": "scattercarpet"
           }
          ],
          "scattergeo": [
           {
            "marker": {
             "colorbar": {
              "outlinewidth": 0,
              "ticks": ""
             }
            },
            "type": "scattergeo"
           }
          ],
          "scattergl": [
           {
            "marker": {
             "colorbar": {
              "outlinewidth": 0,
              "ticks": ""
             }
            },
            "type": "scattergl"
           }
          ],
          "scattermapbox": [
           {
            "marker": {
             "colorbar": {
              "outlinewidth": 0,
              "ticks": ""
             }
            },
            "type": "scattermapbox"
           }
          ],
          "scatterpolar": [
           {
            "marker": {
             "colorbar": {
              "outlinewidth": 0,
              "ticks": ""
             }
            },
            "type": "scatterpolar"
           }
          ],
          "scatterpolargl": [
           {
            "marker": {
             "colorbar": {
              "outlinewidth": 0,
              "ticks": ""
             }
            },
            "type": "scatterpolargl"
           }
          ],
          "scatterternary": [
           {
            "marker": {
             "colorbar": {
              "outlinewidth": 0,
              "ticks": ""
             }
            },
            "type": "scatterternary"
           }
          ],
          "surface": [
           {
            "colorbar": {
             "outlinewidth": 0,
             "ticks": ""
            },
            "colorscale": [
             [
              0,
              "#0d0887"
             ],
             [
              0.1111111111111111,
              "#46039f"
             ],
             [
              0.2222222222222222,
              "#7201a8"
             ],
             [
              0.3333333333333333,
              "#9c179e"
             ],
             [
              0.4444444444444444,
              "#bd3786"
             ],
             [
              0.5555555555555556,
              "#d8576b"
             ],
             [
              0.6666666666666666,
              "#ed7953"
             ],
             [
              0.7777777777777778,
              "#fb9f3a"
             ],
             [
              0.8888888888888888,
              "#fdca26"
             ],
             [
              1,
              "#f0f921"
             ]
            ],
            "type": "surface"
           }
          ],
          "table": [
           {
            "cells": {
             "fill": {
              "color": "#EBF0F8"
             },
             "line": {
              "color": "white"
             }
            },
            "header": {
             "fill": {
              "color": "#C8D4E3"
             },
             "line": {
              "color": "white"
             }
            },
            "type": "table"
           }
          ]
         },
         "layout": {
          "annotationdefaults": {
           "arrowcolor": "#2a3f5f",
           "arrowhead": 0,
           "arrowwidth": 1
          },
          "autotypenumbers": "strict",
          "coloraxis": {
           "colorbar": {
            "outlinewidth": 0,
            "ticks": ""
           }
          },
          "colorscale": {
           "diverging": [
            [
             0,
             "#8e0152"
            ],
            [
             0.1,
             "#c51b7d"
            ],
            [
             0.2,
             "#de77ae"
            ],
            [
             0.3,
             "#f1b6da"
            ],
            [
             0.4,
             "#fde0ef"
            ],
            [
             0.5,
             "#f7f7f7"
            ],
            [
             0.6,
             "#e6f5d0"
            ],
            [
             0.7,
             "#b8e186"
            ],
            [
             0.8,
             "#7fbc41"
            ],
            [
             0.9,
             "#4d9221"
            ],
            [
             1,
             "#276419"
            ]
           ],
           "sequential": [
            [
             0,
             "#0d0887"
            ],
            [
             0.1111111111111111,
             "#46039f"
            ],
            [
             0.2222222222222222,
             "#7201a8"
            ],
            [
             0.3333333333333333,
             "#9c179e"
            ],
            [
             0.4444444444444444,
             "#bd3786"
            ],
            [
             0.5555555555555556,
             "#d8576b"
            ],
            [
             0.6666666666666666,
             "#ed7953"
            ],
            [
             0.7777777777777778,
             "#fb9f3a"
            ],
            [
             0.8888888888888888,
             "#fdca26"
            ],
            [
             1,
             "#f0f921"
            ]
           ],
           "sequentialminus": [
            [
             0,
             "#0d0887"
            ],
            [
             0.1111111111111111,
             "#46039f"
            ],
            [
             0.2222222222222222,
             "#7201a8"
            ],
            [
             0.3333333333333333,
             "#9c179e"
            ],
            [
             0.4444444444444444,
             "#bd3786"
            ],
            [
             0.5555555555555556,
             "#d8576b"
            ],
            [
             0.6666666666666666,
             "#ed7953"
            ],
            [
             0.7777777777777778,
             "#fb9f3a"
            ],
            [
             0.8888888888888888,
             "#fdca26"
            ],
            [
             1,
             "#f0f921"
            ]
           ]
          },
          "colorway": [
           "#636efa",
           "#EF553B",
           "#00cc96",
           "#ab63fa",
           "#FFA15A",
           "#19d3f3",
           "#FF6692",
           "#B6E880",
           "#FF97FF",
           "#FECB52"
          ],
          "font": {
           "color": "#2a3f5f"
          },
          "geo": {
           "bgcolor": "white",
           "lakecolor": "white",
           "landcolor": "#E5ECF6",
           "showlakes": true,
           "showland": true,
           "subunitcolor": "white"
          },
          "hoverlabel": {
           "align": "left"
          },
          "hovermode": "closest",
          "mapbox": {
           "style": "light"
          },
          "paper_bgcolor": "white",
          "plot_bgcolor": "#E5ECF6",
          "polar": {
           "angularaxis": {
            "gridcolor": "white",
            "linecolor": "white",
            "ticks": ""
           },
           "bgcolor": "#E5ECF6",
           "radialaxis": {
            "gridcolor": "white",
            "linecolor": "white",
            "ticks": ""
           }
          },
          "scene": {
           "xaxis": {
            "backgroundcolor": "#E5ECF6",
            "gridcolor": "white",
            "gridwidth": 2,
            "linecolor": "white",
            "showbackground": true,
            "ticks": "",
            "zerolinecolor": "white"
           },
           "yaxis": {
            "backgroundcolor": "#E5ECF6",
            "gridcolor": "white",
            "gridwidth": 2,
            "linecolor": "white",
            "showbackground": true,
            "ticks": "",
            "zerolinecolor": "white"
           },
           "zaxis": {
            "backgroundcolor": "#E5ECF6",
            "gridcolor": "white",
            "gridwidth": 2,
            "linecolor": "white",
            "showbackground": true,
            "ticks": "",
            "zerolinecolor": "white"
           }
          },
          "shapedefaults": {
           "line": {
            "color": "#2a3f5f"
           }
          },
          "ternary": {
           "aaxis": {
            "gridcolor": "white",
            "linecolor": "white",
            "ticks": ""
           },
           "baxis": {
            "gridcolor": "white",
            "linecolor": "white",
            "ticks": ""
           },
           "bgcolor": "#E5ECF6",
           "caxis": {
            "gridcolor": "white",
            "linecolor": "white",
            "ticks": ""
           }
          },
          "title": {
           "x": 0.05
          },
          "xaxis": {
           "automargin": true,
           "gridcolor": "white",
           "linecolor": "white",
           "ticks": "",
           "title": {
            "standoff": 15
           },
           "zerolinecolor": "white",
           "zerolinewidth": 2
          },
          "yaxis": {
           "automargin": true,
           "gridcolor": "white",
           "linecolor": "white",
           "ticks": "",
           "title": {
            "standoff": 15
           },
           "zerolinecolor": "white",
           "zerolinewidth": 2
          }
         }
        },
        "title": {
         "text": "GDP in 2017"
        },
        "updatemenus": [
         {
          "buttons": [
           {
            "args": [
             "geo.projection.type",
             "equirectangular"
            ],
            "label": "equirectangular",
            "method": "relayout"
           },
           {
            "args": [
             "geo.projection.type",
             "mercator"
            ],
            "label": "mercator",
            "method": "relayout"
           },
           {
            "args": [
             "geo.projection.type",
             "orthographic"
            ],
            "label": "orthographic",
            "method": "relayout"
           },
           {
            "args": [
             "geo.projection.type",
             "natural earth"
            ],
            "label": "natural earth",
            "method": "relayout"
           },
           {
            "args": [
             "geo.projection.type",
             "kavrayskiy7"
            ],
            "label": "kavrayskiy7",
            "method": "relayout"
           },
           {
            "args": [
             "geo.projection.type",
             "miller"
            ],
            "label": "miller",
            "method": "relayout"
           },
           {
            "args": [
             "geo.projection.type",
             "robinson"
            ],
            "label": "robinson",
            "method": "relayout"
           },
           {
            "args": [
             "geo.projection.type",
             "eckert4"
            ],
            "label": "eckert4",
            "method": "relayout"
           },
           {
            "args": [
             "geo.projection.type",
             "azimuthal equal area"
            ],
            "label": "azimuthal equal area",
            "method": "relayout"
           },
           {
            "args": [
             "geo.projection.type",
             "azimuthal equidistant"
            ],
            "label": "azimuthal equidistant",
            "method": "relayout"
           },
           {
            "args": [
             "geo.projection.type",
             "conic equal area"
            ],
            "label": "conic equal area",
            "method": "relayout"
           },
           {
            "args": [
             "geo.projection.type",
             "conic conformal"
            ],
            "label": "conic conformal",
            "method": "relayout"
           },
           {
            "args": [
             "geo.projection.type",
             "conic equidistant"
            ],
            "label": "conic equidistant",
            "method": "relayout"
           },
           {
            "args": [
             "geo.projection.type",
             "gnomonic"
            ],
            "label": "gnomonic",
            "method": "relayout"
           },
           {
            "args": [
             "geo.projection.type",
             "stereographic"
            ],
            "label": "stereographic",
            "method": "relayout"
           },
           {
            "args": [
             "geo.projection.type",
             "mollweide"
            ],
            "label": "mollweide",
            "method": "relayout"
           },
           {
            "args": [
             "geo.projection.type",
             "hammer"
            ],
            "label": "hammer",
            "method": "relayout"
           },
           {
            "args": [
             "geo.projection.type",
             "transverse mercator"
            ],
            "label": "transverse mercator",
            "method": "relayout"
           },
           {
            "args": [
             "geo.projection.type",
             "albers usa"
            ],
            "label": "albers usa",
            "method": "relayout"
           },
           {
            "args": [
             "geo.projection.type",
             "winkel tripel"
            ],
            "label": "winkel tripel",
            "method": "relayout"
           }
          ],
          "x": 0.1,
          "y": 0.8,
          "yanchor": "top"
         }
        ]
       }
      },
      "text/html": [
       "<div>                            <div id=\"d359fcae-0c05-4393-9493-fec395eaaaaa\" class=\"plotly-graph-div\" style=\"height:525px; width:100%;\"></div>            <script type=\"text/javascript\">                require([\"plotly\"], function(Plotly) {                    window.PLOTLYENV=window.PLOTLYENV || {};                                    if (document.getElementById(\"d359fcae-0c05-4393-9493-fec395eaaaaa\")) {                    Plotly.newPlot(                        \"d359fcae-0c05-4393-9493-fec395eaaaaa\",                        [{\"colorscale\":[[0.0,\"#440154\"],[0.1111111111111111,\"#482878\"],[0.2222222222222222,\"#3e4989\"],[0.3333333333333333,\"#31688e\"],[0.4444444444444444,\"#26828e\"],[0.5555555555555556,\"#1f9e89\"],[0.6666666666666666,\"#35b779\"],[0.7777777777777778,\"#6ece58\"],[0.8888888888888888,\"#b5de2b\"],[1.0,\"#fde725\"]],\"locationmode\":\"country names\",\"locations\":[\"Switzerland\",\"Iceland\",\"Denmark\",\"Norway\",\"Canada\",\"Finland\",\"Netherlands\",\"Sweden\",\"New Zealand\",\"Australia\",\"Israel\",\"Costa Rica\",\"Austria\",\"Mexico\",\"United States\",\"Brazil\",\"Luxembourg\",\"Ireland\",\"Belgium\",\"United Arab Emirates\",\"United Kingdom\",\"Oman\",\"Venezuela\",\"Singapore\",\"Panama\",\"Germany\",\"Chile\",\"Qatar\",\"France\",\"Argentina\",\"Czech Republic\",\"Uruguay\",\"Colombia\",\"Thailand\",\"Saudi Arabia\",\"Spain\",\"Malta\",\"Taiwan\",\"Kuwait\",\"Suriname\",\"Trinidad and Tobago\",\"El Salvador\",\"Guatemala\",\"Uzbekistan\",\"Slovakia\",\"Japan\",\"South Korea\",\"Ecuador\",\"Bahrain\",\"Italy\",\"Bolivia\",\"Moldova\",\"Paraguay\",\"Kazakhstan\",\"Slovenia\",\"Lithuania\",\"Nicaragua\",\"Peru\",\"Belarus\",\"Poland\",\"Malaysia\",\"Croatia\",\"Libya\",\"Russia\",\"Jamaica\",\"North Cyprus\",\"Cyprus\",\"Algeria\",\"Kosovo\",\"Turkmenistan\",\"Mauritius\",\"Hong Kong\",\"Estonia\",\"Indonesia\",\"Vietnam\",\"Turkey\",\"Kyrgyzstan\",\"Nigeria\",\"Bhutan\",\"Azerbaijan\",\"Pakistan\",\"Jordan\",\"Montenegro\",\"China\",\"Zambia\",\"Romania\",\"Serbia\",\"Portugal\",\"Latvia\",\"Philippines\",\"Somaliland region\",\"Morocco\",\"Macedonia\",\"Mozambique\",\"Albania\",\"Bosnia and Herzegovina\",\"Lesotho\",\"Dominican Republic\",\"Laos\",\"Mongolia\",\"Swaziland\",\"Greece\",\"Lebanon\",\"Hungary\",\"Honduras\",\"Tajikistan\",\"Tunisia\",\"Palestinian Territories\",\"Bangladesh\",\"Iran\",\"Ukraine\",\"Iraq\",\"South Africa\",\"Ghana\",\"Zimbabwe\",\"Liberia\",\"India\",\"Sudan\",\"Haiti\",\"Congo (Kinshasa)\",\"Nepal\",\"Ethiopia\",\"Sierra Leone\",\"Mauritania\",\"Kenya\",\"Djibouti\",\"Armenia\",\"Botswana\",\"Myanmar\",\"Georgia\",\"Malawi\",\"Sri Lanka\",\"Cameroon\",\"Bulgaria\",\"Egypt\",\"Yemen\",\"Angola\",\"Mali\",\"Congo (Brazzaville)\",\"Comoros\",\"Uganda\",\"Senegal\",\"Gabon\",\"Niger\",\"Cambodia\",\"Tanzania\",\"Madagascar\",\"Central African Republic\",\"Chad\",\"Guinea\",\"Ivory Coast\",\"Burkina Faso\",\"Afghanistan\",\"Rwanda\",\"Benin\",\"Syria\",\"Burundi\",\"Togo\"],\"text\":[\"Switzerland\",\"Iceland\",\"Denmark\",\"Norway\",\"Canada\",\"Finland\",\"Netherlands\",\"Sweden\",\"New Zealand\",\"Australia\",\"Israel\",\"Costa Rica\",\"Austria\",\"Mexico\",\"United States\",\"Brazil\",\"Luxembourg\",\"Ireland\",\"Belgium\",\"United Arab Emirates\",\"United Kingdom\",\"Oman\",\"Venezuela\",\"Singapore\",\"Panama\",\"Germany\",\"Chile\",\"Qatar\",\"France\",\"Argentina\",\"Czech Republic\",\"Uruguay\",\"Colombia\",\"Thailand\",\"Saudi Arabia\",\"Spain\",\"Malta\",\"Taiwan\",\"Kuwait\",\"Suriname\",\"Trinidad and Tobago\",\"El Salvador\",\"Guatemala\",\"Uzbekistan\",\"Slovakia\",\"Japan\",\"South Korea\",\"Ecuador\",\"Bahrain\",\"Italy\",\"Bolivia\",\"Moldova\",\"Paraguay\",\"Kazakhstan\",\"Slovenia\",\"Lithuania\",\"Nicaragua\",\"Peru\",\"Belarus\",\"Poland\",\"Malaysia\",\"Croatia\",\"Libya\",\"Russia\",\"Jamaica\",\"North Cyprus\",\"Cyprus\",\"Algeria\",\"Kosovo\",\"Turkmenistan\",\"Mauritius\",\"Hong Kong\",\"Estonia\",\"Indonesia\",\"Vietnam\",\"Turkey\",\"Kyrgyzstan\",\"Nigeria\",\"Bhutan\",\"Azerbaijan\",\"Pakistan\",\"Jordan\",\"Montenegro\",\"China\",\"Zambia\",\"Romania\",\"Serbia\",\"Portugal\",\"Latvia\",\"Philippines\",\"Somaliland region\",\"Morocco\",\"Macedonia\",\"Mozambique\",\"Albania\",\"Bosnia and Herzegovina\",\"Lesotho\",\"Dominican Republic\",\"Laos\",\"Mongolia\",\"Swaziland\",\"Greece\",\"Lebanon\",\"Hungary\",\"Honduras\",\"Tajikistan\",\"Tunisia\",\"Palestinian Territories\",\"Bangladesh\",\"Iran\",\"Ukraine\",\"Iraq\",\"South Africa\",\"Ghana\",\"Zimbabwe\",\"Liberia\",\"India\",\"Sudan\",\"Haiti\",\"Congo (Kinshasa)\",\"Nepal\",\"Ethiopia\",\"Sierra Leone\",\"Mauritania\",\"Kenya\",\"Djibouti\",\"Armenia\",\"Botswana\",\"Myanmar\",\"Georgia\",\"Malawi\",\"Sri Lanka\",\"Cameroon\",\"Bulgaria\",\"Egypt\",\"Yemen\",\"Angola\",\"Mali\",\"Congo (Brazzaville)\",\"Comoros\",\"Uganda\",\"Senegal\",\"Gabon\",\"Niger\",\"Cambodia\",\"Tanzania\",\"Madagascar\",\"Central African Republic\",\"Chad\",\"Guinea\",\"Ivory Coast\",\"Burkina Faso\",\"Afghanistan\",\"Rwanda\",\"Benin\",\"Syria\",\"Burundi\",\"Togo\"],\"z\":[1.39651,1.30232,1.32548,1.459,1.32629,1.29025,1.32944,1.33171,1.25018,1.33358,1.22857,0.95578,1.33723,1.02054,1.39451,0.98124,1.56391,1.33596,1.30782,1.42727,1.26637,1.36011,1.04424,1.52186,1.06353,1.32792,1.10715,1.69042,1.27778,1.05351,1.17898,1.06166,0.91861,0.9669,1.39541,1.23011,1.2074,1.29098,1.55422,0.99534,1.21183,0.76454,0.74553,0.63244,1.16891,1.27074,1.24461,0.86402,1.32376,1.25114,0.68133,0.59448,0.75985,1.12254,1.18498,1.14723,0.59325,0.90019,1.03192,1.12555,1.12486,1.08254,1.13145,1.13764,0.81038,1.20806,1.20813,0.93929,0.80148,0.95847,1.00761,1.38604,1.15174,0.82827,0.63216,1.06098,0.47428,0.65435,0.77042,1.02389,0.59543,0.90198,0.97438,0.89012,0.47038,1.04345,0.92053,1.15991,1.11312,0.70532,0.18847,0.73479,0.91851,0.08308,0.87867,0.83223,0.37545,0.89537,0.59066,0.82819,0.71206,1.15406,1.02564,1.12094,0.59532,0.39047,0.88113,0.59867,0.39753,1.0088,0.79907,0.98549,0.92049,0.54558,0.271,0.0712,0.64499,0.52107,0.26673,0.0,0.35997,0.19073,0.33024,0.45407,0.36471,0.44025,0.76821,0.99355,0.27108,0.7419,0.01604,0.83524,0.4225,1.01216,0.8818,0.54649,0.75778,0.26074,0.67866,0.23906,0.21102,0.36498,1.06024,0.0694,0.46038,0.2852,0.20824,0.0785,0.34193,0.17417,0.46534,0.25812,0.31982,0.22208,0.28665,0.6632,0.0153,0.20868],\"type\":\"choropleth\"}],                        {\"annotations\":[{\"showarrow\":false,\"text\":\"Projection\",\"x\":0.1,\"xanchor\":\"right\",\"xref\":\"paper\",\"y\":0.8,\"yanchor\":\"bottom\"}],\"geo\":{\"projection\":{\"type\":\"hammer\"},\"showcoastlines\":true,\"showframe\":true,\"showlakes\":true,\"showocean\":true},\"template\":{\"data\":{\"barpolar\":[{\"marker\":{\"line\":{\"color\":\"#E5ECF6\",\"width\":0.5},\"pattern\":{\"fillmode\":\"overlay\",\"size\":10,\"solidity\":0.2}},\"type\":\"barpolar\"}],\"bar\":[{\"error_x\":{\"color\":\"#2a3f5f\"},\"error_y\":{\"color\":\"#2a3f5f\"},\"marker\":{\"line\":{\"color\":\"#E5ECF6\",\"width\":0.5},\"pattern\":{\"fillmode\":\"overlay\",\"size\":10,\"solidity\":0.2}},\"type\":\"bar\"}],\"carpet\":[{\"aaxis\":{\"endlinecolor\":\"#2a3f5f\",\"gridcolor\":\"white\",\"linecolor\":\"white\",\"minorgridcolor\":\"white\",\"startlinecolor\":\"#2a3f5f\"},\"baxis\":{\"endlinecolor\":\"#2a3f5f\",\"gridcolor\":\"white\",\"linecolor\":\"white\",\"minorgridcolor\":\"white\",\"startlinecolor\":\"#2a3f5f\"},\"type\":\"carpet\"}],\"choropleth\":[{\"colorbar\":{\"outlinewidth\":0,\"ticks\":\"\"},\"type\":\"choropleth\"}],\"contourcarpet\":[{\"colorbar\":{\"outlinewidth\":0,\"ticks\":\"\"},\"type\":\"contourcarpet\"}],\"contour\":[{\"colorbar\":{\"outlinewidth\":0,\"ticks\":\"\"},\"colorscale\":[[0.0,\"#0d0887\"],[0.1111111111111111,\"#46039f\"],[0.2222222222222222,\"#7201a8\"],[0.3333333333333333,\"#9c179e\"],[0.4444444444444444,\"#bd3786\"],[0.5555555555555556,\"#d8576b\"],[0.6666666666666666,\"#ed7953\"],[0.7777777777777778,\"#fb9f3a\"],[0.8888888888888888,\"#fdca26\"],[1.0,\"#f0f921\"]],\"type\":\"contour\"}],\"heatmapgl\":[{\"colorbar\":{\"outlinewidth\":0,\"ticks\":\"\"},\"colorscale\":[[0.0,\"#0d0887\"],[0.1111111111111111,\"#46039f\"],[0.2222222222222222,\"#7201a8\"],[0.3333333333333333,\"#9c179e\"],[0.4444444444444444,\"#bd3786\"],[0.5555555555555556,\"#d8576b\"],[0.6666666666666666,\"#ed7953\"],[0.7777777777777778,\"#fb9f3a\"],[0.8888888888888888,\"#fdca26\"],[1.0,\"#f0f921\"]],\"type\":\"heatmapgl\"}],\"heatmap\":[{\"colorbar\":{\"outlinewidth\":0,\"ticks\":\"\"},\"colorscale\":[[0.0,\"#0d0887\"],[0.1111111111111111,\"#46039f\"],[0.2222222222222222,\"#7201a8\"],[0.3333333333333333,\"#9c179e\"],[0.4444444444444444,\"#bd3786\"],[0.5555555555555556,\"#d8576b\"],[0.6666666666666666,\"#ed7953\"],[0.7777777777777778,\"#fb9f3a\"],[0.8888888888888888,\"#fdca26\"],[1.0,\"#f0f921\"]],\"type\":\"heatmap\"}],\"histogram2dcontour\":[{\"colorbar\":{\"outlinewidth\":0,\"ticks\":\"\"},\"colorscale\":[[0.0,\"#0d0887\"],[0.1111111111111111,\"#46039f\"],[0.2222222222222222,\"#7201a8\"],[0.3333333333333333,\"#9c179e\"],[0.4444444444444444,\"#bd3786\"],[0.5555555555555556,\"#d8576b\"],[0.6666666666666666,\"#ed7953\"],[0.7777777777777778,\"#fb9f3a\"],[0.8888888888888888,\"#fdca26\"],[1.0,\"#f0f921\"]],\"type\":\"histogram2dcontour\"}],\"histogram2d\":[{\"colorbar\":{\"outlinewidth\":0,\"ticks\":\"\"},\"colorscale\":[[0.0,\"#0d0887\"],[0.1111111111111111,\"#46039f\"],[0.2222222222222222,\"#7201a8\"],[0.3333333333333333,\"#9c179e\"],[0.4444444444444444,\"#bd3786\"],[0.5555555555555556,\"#d8576b\"],[0.6666666666666666,\"#ed7953\"],[0.7777777777777778,\"#fb9f3a\"],[0.8888888888888888,\"#fdca26\"],[1.0,\"#f0f921\"]],\"type\":\"histogram2d\"}],\"histogram\":[{\"marker\":{\"pattern\":{\"fillmode\":\"overlay\",\"size\":10,\"solidity\":0.2}},\"type\":\"histogram\"}],\"mesh3d\":[{\"colorbar\":{\"outlinewidth\":0,\"ticks\":\"\"},\"type\":\"mesh3d\"}],\"parcoords\":[{\"line\":{\"colorbar\":{\"outlinewidth\":0,\"ticks\":\"\"}},\"type\":\"parcoords\"}],\"pie\":[{\"automargin\":true,\"type\":\"pie\"}],\"scatter3d\":[{\"line\":{\"colorbar\":{\"outlinewidth\":0,\"ticks\":\"\"}},\"marker\":{\"colorbar\":{\"outlinewidth\":0,\"ticks\":\"\"}},\"type\":\"scatter3d\"}],\"scattercarpet\":[{\"marker\":{\"colorbar\":{\"outlinewidth\":0,\"ticks\":\"\"}},\"type\":\"scattercarpet\"}],\"scattergeo\":[{\"marker\":{\"colorbar\":{\"outlinewidth\":0,\"ticks\":\"\"}},\"type\":\"scattergeo\"}],\"scattergl\":[{\"marker\":{\"colorbar\":{\"outlinewidth\":0,\"ticks\":\"\"}},\"type\":\"scattergl\"}],\"scattermapbox\":[{\"marker\":{\"colorbar\":{\"outlinewidth\":0,\"ticks\":\"\"}},\"type\":\"scattermapbox\"}],\"scatterpolargl\":[{\"marker\":{\"colorbar\":{\"outlinewidth\":0,\"ticks\":\"\"}},\"type\":\"scatterpolargl\"}],\"scatterpolar\":[{\"marker\":{\"colorbar\":{\"outlinewidth\":0,\"ticks\":\"\"}},\"type\":\"scatterpolar\"}],\"scatter\":[{\"fillpattern\":{\"fillmode\":\"overlay\",\"size\":10,\"solidity\":0.2},\"type\":\"scatter\"}],\"scatterternary\":[{\"marker\":{\"colorbar\":{\"outlinewidth\":0,\"ticks\":\"\"}},\"type\":\"scatterternary\"}],\"surface\":[{\"colorbar\":{\"outlinewidth\":0,\"ticks\":\"\"},\"colorscale\":[[0.0,\"#0d0887\"],[0.1111111111111111,\"#46039f\"],[0.2222222222222222,\"#7201a8\"],[0.3333333333333333,\"#9c179e\"],[0.4444444444444444,\"#bd3786\"],[0.5555555555555556,\"#d8576b\"],[0.6666666666666666,\"#ed7953\"],[0.7777777777777778,\"#fb9f3a\"],[0.8888888888888888,\"#fdca26\"],[1.0,\"#f0f921\"]],\"type\":\"surface\"}],\"table\":[{\"cells\":{\"fill\":{\"color\":\"#EBF0F8\"},\"line\":{\"color\":\"white\"}},\"header\":{\"fill\":{\"color\":\"#C8D4E3\"},\"line\":{\"color\":\"white\"}},\"type\":\"table\"}]},\"layout\":{\"annotationdefaults\":{\"arrowcolor\":\"#2a3f5f\",\"arrowhead\":0,\"arrowwidth\":1},\"autotypenumbers\":\"strict\",\"coloraxis\":{\"colorbar\":{\"outlinewidth\":0,\"ticks\":\"\"}},\"colorscale\":{\"diverging\":[[0,\"#8e0152\"],[0.1,\"#c51b7d\"],[0.2,\"#de77ae\"],[0.3,\"#f1b6da\"],[0.4,\"#fde0ef\"],[0.5,\"#f7f7f7\"],[0.6,\"#e6f5d0\"],[0.7,\"#b8e186\"],[0.8,\"#7fbc41\"],[0.9,\"#4d9221\"],[1,\"#276419\"]],\"sequential\":[[0.0,\"#0d0887\"],[0.1111111111111111,\"#46039f\"],[0.2222222222222222,\"#7201a8\"],[0.3333333333333333,\"#9c179e\"],[0.4444444444444444,\"#bd3786\"],[0.5555555555555556,\"#d8576b\"],[0.6666666666666666,\"#ed7953\"],[0.7777777777777778,\"#fb9f3a\"],[0.8888888888888888,\"#fdca26\"],[1.0,\"#f0f921\"]],\"sequentialminus\":[[0.0,\"#0d0887\"],[0.1111111111111111,\"#46039f\"],[0.2222222222222222,\"#7201a8\"],[0.3333333333333333,\"#9c179e\"],[0.4444444444444444,\"#bd3786\"],[0.5555555555555556,\"#d8576b\"],[0.6666666666666666,\"#ed7953\"],[0.7777777777777778,\"#fb9f3a\"],[0.8888888888888888,\"#fdca26\"],[1.0,\"#f0f921\"]]},\"colorway\":[\"#636efa\",\"#EF553B\",\"#00cc96\",\"#ab63fa\",\"#FFA15A\",\"#19d3f3\",\"#FF6692\",\"#B6E880\",\"#FF97FF\",\"#FECB52\"],\"font\":{\"color\":\"#2a3f5f\"},\"geo\":{\"bgcolor\":\"white\",\"lakecolor\":\"white\",\"landcolor\":\"#E5ECF6\",\"showlakes\":true,\"showland\":true,\"subunitcolor\":\"white\"},\"hoverlabel\":{\"align\":\"left\"},\"hovermode\":\"closest\",\"mapbox\":{\"style\":\"light\"},\"paper_bgcolor\":\"white\",\"plot_bgcolor\":\"#E5ECF6\",\"polar\":{\"angularaxis\":{\"gridcolor\":\"white\",\"linecolor\":\"white\",\"ticks\":\"\"},\"bgcolor\":\"#E5ECF6\",\"radialaxis\":{\"gridcolor\":\"white\",\"linecolor\":\"white\",\"ticks\":\"\"}},\"scene\":{\"xaxis\":{\"backgroundcolor\":\"#E5ECF6\",\"gridcolor\":\"white\",\"gridwidth\":2,\"linecolor\":\"white\",\"showbackground\":true,\"ticks\":\"\",\"zerolinecolor\":\"white\"},\"yaxis\":{\"backgroundcolor\":\"#E5ECF6\",\"gridcolor\":\"white\",\"gridwidth\":2,\"linecolor\":\"white\",\"showbackground\":true,\"ticks\":\"\",\"zerolinecolor\":\"white\"},\"zaxis\":{\"backgroundcolor\":\"#E5ECF6\",\"gridcolor\":\"white\",\"gridwidth\":2,\"linecolor\":\"white\",\"showbackground\":true,\"ticks\":\"\",\"zerolinecolor\":\"white\"}},\"shapedefaults\":{\"line\":{\"color\":\"#2a3f5f\"}},\"ternary\":{\"aaxis\":{\"gridcolor\":\"white\",\"linecolor\":\"white\",\"ticks\":\"\"},\"baxis\":{\"gridcolor\":\"white\",\"linecolor\":\"white\",\"ticks\":\"\"},\"bgcolor\":\"#E5ECF6\",\"caxis\":{\"gridcolor\":\"white\",\"linecolor\":\"white\",\"ticks\":\"\"}},\"title\":{\"x\":0.05},\"xaxis\":{\"automargin\":true,\"gridcolor\":\"white\",\"linecolor\":\"white\",\"ticks\":\"\",\"title\":{\"standoff\":15},\"zerolinecolor\":\"white\",\"zerolinewidth\":2},\"yaxis\":{\"automargin\":true,\"gridcolor\":\"white\",\"linecolor\":\"white\",\"ticks\":\"\",\"title\":{\"standoff\":15},\"zerolinecolor\":\"white\",\"zerolinewidth\":2}}},\"title\":{\"text\":\"GDP in 2017\"},\"updatemenus\":[{\"buttons\":[{\"args\":[\"geo.projection.type\",\"equirectangular\"],\"label\":\"equirectangular\",\"method\":\"relayout\"},{\"args\":[\"geo.projection.type\",\"mercator\"],\"label\":\"mercator\",\"method\":\"relayout\"},{\"args\":[\"geo.projection.type\",\"orthographic\"],\"label\":\"orthographic\",\"method\":\"relayout\"},{\"args\":[\"geo.projection.type\",\"natural earth\"],\"label\":\"natural earth\",\"method\":\"relayout\"},{\"args\":[\"geo.projection.type\",\"kavrayskiy7\"],\"label\":\"kavrayskiy7\",\"method\":\"relayout\"},{\"args\":[\"geo.projection.type\",\"miller\"],\"label\":\"miller\",\"method\":\"relayout\"},{\"args\":[\"geo.projection.type\",\"robinson\"],\"label\":\"robinson\",\"method\":\"relayout\"},{\"args\":[\"geo.projection.type\",\"eckert4\"],\"label\":\"eckert4\",\"method\":\"relayout\"},{\"args\":[\"geo.projection.type\",\"azimuthal equal area\"],\"label\":\"azimuthal equal area\",\"method\":\"relayout\"},{\"args\":[\"geo.projection.type\",\"azimuthal equidistant\"],\"label\":\"azimuthal equidistant\",\"method\":\"relayout\"},{\"args\":[\"geo.projection.type\",\"conic equal area\"],\"label\":\"conic equal area\",\"method\":\"relayout\"},{\"args\":[\"geo.projection.type\",\"conic conformal\"],\"label\":\"conic conformal\",\"method\":\"relayout\"},{\"args\":[\"geo.projection.type\",\"conic equidistant\"],\"label\":\"conic equidistant\",\"method\":\"relayout\"},{\"args\":[\"geo.projection.type\",\"gnomonic\"],\"label\":\"gnomonic\",\"method\":\"relayout\"},{\"args\":[\"geo.projection.type\",\"stereographic\"],\"label\":\"stereographic\",\"method\":\"relayout\"},{\"args\":[\"geo.projection.type\",\"mollweide\"],\"label\":\"mollweide\",\"method\":\"relayout\"},{\"args\":[\"geo.projection.type\",\"hammer\"],\"label\":\"hammer\",\"method\":\"relayout\"},{\"args\":[\"geo.projection.type\",\"transverse mercator\"],\"label\":\"transverse mercator\",\"method\":\"relayout\"},{\"args\":[\"geo.projection.type\",\"albers usa\"],\"label\":\"albers usa\",\"method\":\"relayout\"},{\"args\":[\"geo.projection.type\",\"winkel tripel\"],\"label\":\"winkel tripel\",\"method\":\"relayout\"}],\"x\":0.1,\"y\":0.8,\"yanchor\":\"top\"}]},                        {\"responsive\": true}                    ).then(function(){\n",
       "                            \n",
       "var gd = document.getElementById('d359fcae-0c05-4393-9493-fec395eaaaaa');\n",
       "var x = new MutationObserver(function (mutations, observer) {{\n",
       "        var display = window.getComputedStyle(gd).display;\n",
       "        if (!display || display === 'none') {{\n",
       "            console.log([gd, 'removed!']);\n",
       "            Plotly.purge(gd);\n",
       "            observer.disconnect();\n",
       "        }}\n",
       "}});\n",
       "\n",
       "// Listen for the removal of the full notebook cells\n",
       "var notebookContainer = gd.closest('#notebook-container');\n",
       "if (notebookContainer) {{\n",
       "    x.observe(notebookContainer, {childList: true});\n",
       "}}\n",
       "\n",
       "// Listen for the clearing of the current output cell\n",
       "var outputEl = gd.closest('.output');\n",
       "if (outputEl) {{\n",
       "    x.observe(outputEl, {childList: true});\n",
       "}}\n",
       "\n",
       "                        })                };                });            </script>        </div>"
      ]
     },
     "metadata": {},
     "output_type": "display_data"
    }
   ],
   "source": [
    "trace1 = [go.Choropleth(\n",
    "               colorscale = 'Viridis',\n",
    "               locationmode = 'country names',\n",
    "               locations = df['Country'],\n",
    "               text = df['Country'], \n",
    "               z = df['Economy_GDP'],\n",
    "               )]\n",
    "\n",
    "layout = dict(title = 'GDP in 2017',\n",
    "                  geo = dict(\n",
    "                      showframe = True,\n",
    "                      showocean = True,\n",
    "                      showlakes = True,\n",
    "                      showcoastlines = True,\n",
    "                      projection = dict(\n",
    "                          type = 'hammer'\n",
    "        )))\n",
    "\n",
    "\n",
    "projections = [ \"equirectangular\", \"mercator\", \"orthographic\", \"natural earth\",\"kavrayskiy7\", \n",
    "               \"miller\", \"robinson\", \"eckert4\", \"azimuthal equal area\",\"azimuthal equidistant\", \n",
    "               \"conic equal area\", \"conic conformal\", \"conic equidistant\", \"gnomonic\", \"stereographic\", \n",
    "               \"mollweide\", \"hammer\", \"transverse mercator\", \"albers usa\", \"winkel tripel\" ]\n",
    "\n",
    "buttons = [dict(args = ['geo.projection.type', y],\n",
    "           label = y, method = 'relayout') for y in projections]\n",
    "annot = list([ dict( x=0.1, y=0.8, text='Projection', yanchor='bottom', \n",
    "                    xref='paper', xanchor='right', showarrow=False )])\n",
    "\n",
    "\n",
    "# Update Layout Object\n",
    "\n",
    "layout[ 'updatemenus' ] = list([ dict( x=0.1, y=0.8, buttons=buttons, yanchor='top' )])\n",
    "layout[ 'annotations' ] = annot\n",
    "\n",
    "\n",
    "fig = go.Figure(data = trace1, layout = layout)\n",
    "py.iplot(fig)"
   ]
  },
  {
   "cell_type": "markdown",
   "id": "a292797e",
   "metadata": {},
   "source": [
    "* America, Canada, Austrelia, Saudi Arabia, European Countries are the Leaders in the Economy and GDP.\n",
    "\n",
    "* Smaller Countries like Norway, Qatar, Luxembourg are having the best GDP rate in the world.\n",
    "\n",
    "* Most of the African Countries are having very low GDP rate.\n",
    "\n",
    "* India, Pakistan, Myanmar are having very low GDP in the Asian Regions."
   ]
  },
  {
   "cell_type": "code",
   "execution_count": 30,
   "id": "d5703546",
   "metadata": {},
   "outputs": [
    {
     "data": {
      "text/html": [
       "<div>\n",
       "<style scoped>\n",
       "    .dataframe tbody tr th:only-of-type {\n",
       "        vertical-align: middle;\n",
       "    }\n",
       "\n",
       "    .dataframe tbody tr th {\n",
       "        vertical-align: top;\n",
       "    }\n",
       "\n",
       "    .dataframe thead th {\n",
       "        text-align: right;\n",
       "    }\n",
       "</style>\n",
       "<table border=\"1\" class=\"dataframe\">\n",
       "  <thead>\n",
       "    <tr style=\"text-align: right;\">\n",
       "      <th></th>\n",
       "      <th>Country</th>\n",
       "      <th>Economy_GDP</th>\n",
       "    </tr>\n",
       "  </thead>\n",
       "  <tbody>\n",
       "    <tr>\n",
       "      <th>27</th>\n",
       "      <td>Qatar</td>\n",
       "      <td>1.69042</td>\n",
       "    </tr>\n",
       "    <tr>\n",
       "      <th>16</th>\n",
       "      <td>Luxembourg</td>\n",
       "      <td>1.56391</td>\n",
       "    </tr>\n",
       "    <tr>\n",
       "      <th>38</th>\n",
       "      <td>Kuwait</td>\n",
       "      <td>1.55422</td>\n",
       "    </tr>\n",
       "    <tr>\n",
       "      <th>23</th>\n",
       "      <td>Singapore</td>\n",
       "      <td>1.52186</td>\n",
       "    </tr>\n",
       "    <tr>\n",
       "      <th>3</th>\n",
       "      <td>Norway</td>\n",
       "      <td>1.45900</td>\n",
       "    </tr>\n",
       "    <tr>\n",
       "      <th>19</th>\n",
       "      <td>United Arab Emirates</td>\n",
       "      <td>1.42727</td>\n",
       "    </tr>\n",
       "    <tr>\n",
       "      <th>0</th>\n",
       "      <td>Switzerland</td>\n",
       "      <td>1.39651</td>\n",
       "    </tr>\n",
       "    <tr>\n",
       "      <th>34</th>\n",
       "      <td>Saudi Arabia</td>\n",
       "      <td>1.39541</td>\n",
       "    </tr>\n",
       "    <tr>\n",
       "      <th>14</th>\n",
       "      <td>United States</td>\n",
       "      <td>1.39451</td>\n",
       "    </tr>\n",
       "    <tr>\n",
       "      <th>71</th>\n",
       "      <td>Hong Kong</td>\n",
       "      <td>1.38604</td>\n",
       "    </tr>\n",
       "  </tbody>\n",
       "</table>\n",
       "</div>"
      ],
      "text/plain": [
       "                 Country  Economy_GDP\n",
       "27                 Qatar      1.69042\n",
       "16            Luxembourg      1.56391\n",
       "38                Kuwait      1.55422\n",
       "23             Singapore      1.52186\n",
       "3                 Norway      1.45900\n",
       "19  United Arab Emirates      1.42727\n",
       "0            Switzerland      1.39651\n",
       "34          Saudi Arabia      1.39541\n",
       "14         United States      1.39451\n",
       "71             Hong Kong      1.38604"
      ]
     },
     "execution_count": 30,
     "metadata": {},
     "output_type": "execute_result"
    }
   ],
   "source": [
    "#Top 10 Countries with Best Economy\n",
    "\n",
    "df[['Country', 'Economy_GDP']].sort_values(by = 'Economy_GDP',\n",
    "            ascending = False).head(10)"
   ]
  },
  {
   "cell_type": "code",
   "execution_count": 31,
   "id": "b3c458f6",
   "metadata": {},
   "outputs": [
    {
     "data": {
      "application/vnd.plotly.v1+json": {
       "config": {
        "linkText": "Export to plot.ly",
        "plotlyServerURL": "https://plot.ly",
        "showLink": false
       },
       "data": [
        {
         "colorscale": [
          [
           0,
           "#00224e"
          ],
          [
           0.1111111111111111,
           "#123570"
          ],
          [
           0.2222222222222222,
           "#3b496c"
          ],
          [
           0.3333333333333333,
           "#575d6d"
          ],
          [
           0.4444444444444444,
           "#707173"
          ],
          [
           0.5555555555555556,
           "#8a8678"
          ],
          [
           0.6666666666666666,
           "#a59c74"
          ],
          [
           0.7777777777777778,
           "#c3b369"
          ],
          [
           0.8888888888888888,
           "#e1cc55"
          ],
          [
           1,
           "#fee838"
          ]
         ],
         "locationmode": "country names",
         "locations": [
          "Switzerland",
          "Iceland",
          "Denmark",
          "Norway",
          "Canada",
          "Finland",
          "Netherlands",
          "Sweden",
          "New Zealand",
          "Australia",
          "Israel",
          "Costa Rica",
          "Austria",
          "Mexico",
          "United States",
          "Brazil",
          "Luxembourg",
          "Ireland",
          "Belgium",
          "United Arab Emirates",
          "United Kingdom",
          "Oman",
          "Venezuela",
          "Singapore",
          "Panama",
          "Germany",
          "Chile",
          "Qatar",
          "France",
          "Argentina",
          "Czech Republic",
          "Uruguay",
          "Colombia",
          "Thailand",
          "Saudi Arabia",
          "Spain",
          "Malta",
          "Taiwan",
          "Kuwait",
          "Suriname",
          "Trinidad and Tobago",
          "El Salvador",
          "Guatemala",
          "Uzbekistan",
          "Slovakia",
          "Japan",
          "South Korea",
          "Ecuador",
          "Bahrain",
          "Italy",
          "Bolivia",
          "Moldova",
          "Paraguay",
          "Kazakhstan",
          "Slovenia",
          "Lithuania",
          "Nicaragua",
          "Peru",
          "Belarus",
          "Poland",
          "Malaysia",
          "Croatia",
          "Libya",
          "Russia",
          "Jamaica",
          "North Cyprus",
          "Cyprus",
          "Algeria",
          "Kosovo",
          "Turkmenistan",
          "Mauritius",
          "Hong Kong",
          "Estonia",
          "Indonesia",
          "Vietnam",
          "Turkey",
          "Kyrgyzstan",
          "Nigeria",
          "Bhutan",
          "Azerbaijan",
          "Pakistan",
          "Jordan",
          "Montenegro",
          "China",
          "Zambia",
          "Romania",
          "Serbia",
          "Portugal",
          "Latvia",
          "Philippines",
          "Somaliland region",
          "Morocco",
          "Macedonia",
          "Mozambique",
          "Albania",
          "Bosnia and Herzegovina",
          "Lesotho",
          "Dominican Republic",
          "Laos",
          "Mongolia",
          "Swaziland",
          "Greece",
          "Lebanon",
          "Hungary",
          "Honduras",
          "Tajikistan",
          "Tunisia",
          "Palestinian Territories",
          "Bangladesh",
          "Iran",
          "Ukraine",
          "Iraq",
          "South Africa",
          "Ghana",
          "Zimbabwe",
          "Liberia",
          "India",
          "Sudan",
          "Haiti",
          "Congo (Kinshasa)",
          "Nepal",
          "Ethiopia",
          "Sierra Leone",
          "Mauritania",
          "Kenya",
          "Djibouti",
          "Armenia",
          "Botswana",
          "Myanmar",
          "Georgia",
          "Malawi",
          "Sri Lanka",
          "Cameroon",
          "Bulgaria",
          "Egypt",
          "Yemen",
          "Angola",
          "Mali",
          "Congo (Brazzaville)",
          "Comoros",
          "Uganda",
          "Senegal",
          "Gabon",
          "Niger",
          "Cambodia",
          "Tanzania",
          "Madagascar",
          "Central African Republic",
          "Chad",
          "Guinea",
          "Ivory Coast",
          "Burkina Faso",
          "Afghanistan",
          "Rwanda",
          "Benin",
          "Syria",
          "Burundi",
          "Togo"
         ],
         "text": [
          "Switzerland",
          "Iceland",
          "Denmark",
          "Norway",
          "Canada",
          "Finland",
          "Netherlands",
          "Sweden",
          "New Zealand",
          "Australia",
          "Israel",
          "Costa Rica",
          "Austria",
          "Mexico",
          "United States",
          "Brazil",
          "Luxembourg",
          "Ireland",
          "Belgium",
          "United Arab Emirates",
          "United Kingdom",
          "Oman",
          "Venezuela",
          "Singapore",
          "Panama",
          "Germany",
          "Chile",
          "Qatar",
          "France",
          "Argentina",
          "Czech Republic",
          "Uruguay",
          "Colombia",
          "Thailand",
          "Saudi Arabia",
          "Spain",
          "Malta",
          "Taiwan",
          "Kuwait",
          "Suriname",
          "Trinidad and Tobago",
          "El Salvador",
          "Guatemala",
          "Uzbekistan",
          "Slovakia",
          "Japan",
          "South Korea",
          "Ecuador",
          "Bahrain",
          "Italy",
          "Bolivia",
          "Moldova",
          "Paraguay",
          "Kazakhstan",
          "Slovenia",
          "Lithuania",
          "Nicaragua",
          "Peru",
          "Belarus",
          "Poland",
          "Malaysia",
          "Croatia",
          "Libya",
          "Russia",
          "Jamaica",
          "North Cyprus",
          "Cyprus",
          "Algeria",
          "Kosovo",
          "Turkmenistan",
          "Mauritius",
          "Hong Kong",
          "Estonia",
          "Indonesia",
          "Vietnam",
          "Turkey",
          "Kyrgyzstan",
          "Nigeria",
          "Bhutan",
          "Azerbaijan",
          "Pakistan",
          "Jordan",
          "Montenegro",
          "China",
          "Zambia",
          "Romania",
          "Serbia",
          "Portugal",
          "Latvia",
          "Philippines",
          "Somaliland region",
          "Morocco",
          "Macedonia",
          "Mozambique",
          "Albania",
          "Bosnia and Herzegovina",
          "Lesotho",
          "Dominican Republic",
          "Laos",
          "Mongolia",
          "Swaziland",
          "Greece",
          "Lebanon",
          "Hungary",
          "Honduras",
          "Tajikistan",
          "Tunisia",
          "Palestinian Territories",
          "Bangladesh",
          "Iran",
          "Ukraine",
          "Iraq",
          "South Africa",
          "Ghana",
          "Zimbabwe",
          "Liberia",
          "India",
          "Sudan",
          "Haiti",
          "Congo (Kinshasa)",
          "Nepal",
          "Ethiopia",
          "Sierra Leone",
          "Mauritania",
          "Kenya",
          "Djibouti",
          "Armenia",
          "Botswana",
          "Myanmar",
          "Georgia",
          "Malawi",
          "Sri Lanka",
          "Cameroon",
          "Bulgaria",
          "Egypt",
          "Yemen",
          "Angola",
          "Mali",
          "Congo (Brazzaville)",
          "Comoros",
          "Uganda",
          "Senegal",
          "Gabon",
          "Niger",
          "Cambodia",
          "Tanzania",
          "Madagascar",
          "Central African Republic",
          "Chad",
          "Guinea",
          "Ivory Coast",
          "Burkina Faso",
          "Afghanistan",
          "Rwanda",
          "Benin",
          "Syria",
          "Burundi",
          "Togo"
         ],
         "type": "choropleth",
         "z": [
          0.41978,
          0.14145,
          0.48357,
          0.36503,
          0.32957,
          0.41372,
          0.31814,
          0.43844,
          0.42922,
          0.35637,
          0.07785,
          0.10583,
          0.18676,
          0.21312,
          0.1589,
          0.17521,
          0.37798,
          0.28703,
          0.2254,
          0.38583,
          0.32067,
          0.32524,
          0.11069,
          0.4921,
          0.0927,
          0.21843,
          0.12869,
          0.52208,
          0.20646,
          0.08484,
          0.02652,
          0.24558,
          0.0512,
          0.03187,
          0.32524,
          0.06398,
          0.13586,
          0.08129,
          0.25609,
          0.13633,
          0.0114,
          0.11776,
          0.09472,
          0.30826,
          0.03431,
          0.1806,
          0.07857,
          0.1809,
          0.306,
          0.02901,
          0.088,
          0.01615,
          0.08242,
          0.08454,
          0.03787,
          0.01031,
          0.19317,
          0.05989,
          0.1909,
          0.04212,
          0.10501,
          0.0243,
          0.11023,
          0.03005,
          0.02299,
          0.1428,
          0.06146,
          0.17383,
          0.04741,
          0.30844,
          0.07521,
          0.37124,
          0.15184,
          0,
          0.10441,
          0.15746,
          0.04232,
          0.0403,
          0.15445,
          0.16065,
          0.10464,
          0.14293,
          0.14296,
          0.02781,
          0.12468,
          0.00649,
          0.02617,
          0.01078,
          0.06332,
          0.12279,
          0.39928,
          0.08546,
          0.05327,
          0.15603,
          0.06413,
          0.00227,
          0.12504,
          0.14234,
          0.24249,
          0.02666,
          0.0306,
          0.01397,
          0.04582,
          0.02758,
          0.06825,
          0.15072,
          0.06358,
          0.12905,
          0.12569,
          0.05863,
          0.02961,
          0.13788,
          0.08884,
          0.04355,
          0.08079,
          0.06232,
          0.08492,
          0.1466,
          0.17175,
          0.07625,
          0.05907,
          0.15048,
          0.08786,
          0.17461,
          0.05839,
          0.28105,
          0.039,
          0.12474,
          0.19034,
          0.38331,
          0.06977,
          0.09179,
          0.05786,
          0.00872,
          0.06324,
          0.07854,
          0.07122,
          0.12352,
          0.11686,
          0.199,
          0.07267,
          0.10713,
          0.11091,
          0.15639,
          0.07247,
          0.05747,
          0.08124,
          0.08289,
          0.05269,
          0.12139,
          0.17922,
          0.12832,
          0.09719,
          0.55191,
          0.0801,
          0.18906,
          0.10062,
          0.10731
         ]
        }
       ],
       "layout": {
        "annotations": [
         {
          "showarrow": false,
          "text": "Projection",
          "x": 0.1,
          "xanchor": "right",
          "xref": "paper",
          "y": 0.8,
          "yanchor": "bottom"
         }
        ],
        "geo": {
         "projection": {
          "type": "hammer"
         },
         "showcoastlines": true,
         "showframe": true,
         "showlakes": true,
         "showocean": true
        },
        "template": {
         "data": {
          "bar": [
           {
            "error_x": {
             "color": "#2a3f5f"
            },
            "error_y": {
             "color": "#2a3f5f"
            },
            "marker": {
             "line": {
              "color": "#E5ECF6",
              "width": 0.5
             },
             "pattern": {
              "fillmode": "overlay",
              "size": 10,
              "solidity": 0.2
             }
            },
            "type": "bar"
           }
          ],
          "barpolar": [
           {
            "marker": {
             "line": {
              "color": "#E5ECF6",
              "width": 0.5
             },
             "pattern": {
              "fillmode": "overlay",
              "size": 10,
              "solidity": 0.2
             }
            },
            "type": "barpolar"
           }
          ],
          "carpet": [
           {
            "aaxis": {
             "endlinecolor": "#2a3f5f",
             "gridcolor": "white",
             "linecolor": "white",
             "minorgridcolor": "white",
             "startlinecolor": "#2a3f5f"
            },
            "baxis": {
             "endlinecolor": "#2a3f5f",
             "gridcolor": "white",
             "linecolor": "white",
             "minorgridcolor": "white",
             "startlinecolor": "#2a3f5f"
            },
            "type": "carpet"
           }
          ],
          "choropleth": [
           {
            "colorbar": {
             "outlinewidth": 0,
             "ticks": ""
            },
            "type": "choropleth"
           }
          ],
          "contour": [
           {
            "colorbar": {
             "outlinewidth": 0,
             "ticks": ""
            },
            "colorscale": [
             [
              0,
              "#0d0887"
             ],
             [
              0.1111111111111111,
              "#46039f"
             ],
             [
              0.2222222222222222,
              "#7201a8"
             ],
             [
              0.3333333333333333,
              "#9c179e"
             ],
             [
              0.4444444444444444,
              "#bd3786"
             ],
             [
              0.5555555555555556,
              "#d8576b"
             ],
             [
              0.6666666666666666,
              "#ed7953"
             ],
             [
              0.7777777777777778,
              "#fb9f3a"
             ],
             [
              0.8888888888888888,
              "#fdca26"
             ],
             [
              1,
              "#f0f921"
             ]
            ],
            "type": "contour"
           }
          ],
          "contourcarpet": [
           {
            "colorbar": {
             "outlinewidth": 0,
             "ticks": ""
            },
            "type": "contourcarpet"
           }
          ],
          "heatmap": [
           {
            "colorbar": {
             "outlinewidth": 0,
             "ticks": ""
            },
            "colorscale": [
             [
              0,
              "#0d0887"
             ],
             [
              0.1111111111111111,
              "#46039f"
             ],
             [
              0.2222222222222222,
              "#7201a8"
             ],
             [
              0.3333333333333333,
              "#9c179e"
             ],
             [
              0.4444444444444444,
              "#bd3786"
             ],
             [
              0.5555555555555556,
              "#d8576b"
             ],
             [
              0.6666666666666666,
              "#ed7953"
             ],
             [
              0.7777777777777778,
              "#fb9f3a"
             ],
             [
              0.8888888888888888,
              "#fdca26"
             ],
             [
              1,
              "#f0f921"
             ]
            ],
            "type": "heatmap"
           }
          ],
          "heatmapgl": [
           {
            "colorbar": {
             "outlinewidth": 0,
             "ticks": ""
            },
            "colorscale": [
             [
              0,
              "#0d0887"
             ],
             [
              0.1111111111111111,
              "#46039f"
             ],
             [
              0.2222222222222222,
              "#7201a8"
             ],
             [
              0.3333333333333333,
              "#9c179e"
             ],
             [
              0.4444444444444444,
              "#bd3786"
             ],
             [
              0.5555555555555556,
              "#d8576b"
             ],
             [
              0.6666666666666666,
              "#ed7953"
             ],
             [
              0.7777777777777778,
              "#fb9f3a"
             ],
             [
              0.8888888888888888,
              "#fdca26"
             ],
             [
              1,
              "#f0f921"
             ]
            ],
            "type": "heatmapgl"
           }
          ],
          "histogram": [
           {
            "marker": {
             "pattern": {
              "fillmode": "overlay",
              "size": 10,
              "solidity": 0.2
             }
            },
            "type": "histogram"
           }
          ],
          "histogram2d": [
           {
            "colorbar": {
             "outlinewidth": 0,
             "ticks": ""
            },
            "colorscale": [
             [
              0,
              "#0d0887"
             ],
             [
              0.1111111111111111,
              "#46039f"
             ],
             [
              0.2222222222222222,
              "#7201a8"
             ],
             [
              0.3333333333333333,
              "#9c179e"
             ],
             [
              0.4444444444444444,
              "#bd3786"
             ],
             [
              0.5555555555555556,
              "#d8576b"
             ],
             [
              0.6666666666666666,
              "#ed7953"
             ],
             [
              0.7777777777777778,
              "#fb9f3a"
             ],
             [
              0.8888888888888888,
              "#fdca26"
             ],
             [
              1,
              "#f0f921"
             ]
            ],
            "type": "histogram2d"
           }
          ],
          "histogram2dcontour": [
           {
            "colorbar": {
             "outlinewidth": 0,
             "ticks": ""
            },
            "colorscale": [
             [
              0,
              "#0d0887"
             ],
             [
              0.1111111111111111,
              "#46039f"
             ],
             [
              0.2222222222222222,
              "#7201a8"
             ],
             [
              0.3333333333333333,
              "#9c179e"
             ],
             [
              0.4444444444444444,
              "#bd3786"
             ],
             [
              0.5555555555555556,
              "#d8576b"
             ],
             [
              0.6666666666666666,
              "#ed7953"
             ],
             [
              0.7777777777777778,
              "#fb9f3a"
             ],
             [
              0.8888888888888888,
              "#fdca26"
             ],
             [
              1,
              "#f0f921"
             ]
            ],
            "type": "histogram2dcontour"
           }
          ],
          "mesh3d": [
           {
            "colorbar": {
             "outlinewidth": 0,
             "ticks": ""
            },
            "type": "mesh3d"
           }
          ],
          "parcoords": [
           {
            "line": {
             "colorbar": {
              "outlinewidth": 0,
              "ticks": ""
             }
            },
            "type": "parcoords"
           }
          ],
          "pie": [
           {
            "automargin": true,
            "type": "pie"
           }
          ],
          "scatter": [
           {
            "fillpattern": {
             "fillmode": "overlay",
             "size": 10,
             "solidity": 0.2
            },
            "type": "scatter"
           }
          ],
          "scatter3d": [
           {
            "line": {
             "colorbar": {
              "outlinewidth": 0,
              "ticks": ""
             }
            },
            "marker": {
             "colorbar": {
              "outlinewidth": 0,
              "ticks": ""
             }
            },
            "type": "scatter3d"
           }
          ],
          "scattercarpet": [
           {
            "marker": {
             "colorbar": {
              "outlinewidth": 0,
              "ticks": ""
             }
            },
            "type": "scattercarpet"
           }
          ],
          "scattergeo": [
           {
            "marker": {
             "colorbar": {
              "outlinewidth": 0,
              "ticks": ""
             }
            },
            "type": "scattergeo"
           }
          ],
          "scattergl": [
           {
            "marker": {
             "colorbar": {
              "outlinewidth": 0,
              "ticks": ""
             }
            },
            "type": "scattergl"
           }
          ],
          "scattermapbox": [
           {
            "marker": {
             "colorbar": {
              "outlinewidth": 0,
              "ticks": ""
             }
            },
            "type": "scattermapbox"
           }
          ],
          "scatterpolar": [
           {
            "marker": {
             "colorbar": {
              "outlinewidth": 0,
              "ticks": ""
             }
            },
            "type": "scatterpolar"
           }
          ],
          "scatterpolargl": [
           {
            "marker": {
             "colorbar": {
              "outlinewidth": 0,
              "ticks": ""
             }
            },
            "type": "scatterpolargl"
           }
          ],
          "scatterternary": [
           {
            "marker": {
             "colorbar": {
              "outlinewidth": 0,
              "ticks": ""
             }
            },
            "type": "scatterternary"
           }
          ],
          "surface": [
           {
            "colorbar": {
             "outlinewidth": 0,
             "ticks": ""
            },
            "colorscale": [
             [
              0,
              "#0d0887"
             ],
             [
              0.1111111111111111,
              "#46039f"
             ],
             [
              0.2222222222222222,
              "#7201a8"
             ],
             [
              0.3333333333333333,
              "#9c179e"
             ],
             [
              0.4444444444444444,
              "#bd3786"
             ],
             [
              0.5555555555555556,
              "#d8576b"
             ],
             [
              0.6666666666666666,
              "#ed7953"
             ],
             [
              0.7777777777777778,
              "#fb9f3a"
             ],
             [
              0.8888888888888888,
              "#fdca26"
             ],
             [
              1,
              "#f0f921"
             ]
            ],
            "type": "surface"
           }
          ],
          "table": [
           {
            "cells": {
             "fill": {
              "color": "#EBF0F8"
             },
             "line": {
              "color": "white"
             }
            },
            "header": {
             "fill": {
              "color": "#C8D4E3"
             },
             "line": {
              "color": "white"
             }
            },
            "type": "table"
           }
          ]
         },
         "layout": {
          "annotationdefaults": {
           "arrowcolor": "#2a3f5f",
           "arrowhead": 0,
           "arrowwidth": 1
          },
          "autotypenumbers": "strict",
          "coloraxis": {
           "colorbar": {
            "outlinewidth": 0,
            "ticks": ""
           }
          },
          "colorscale": {
           "diverging": [
            [
             0,
             "#8e0152"
            ],
            [
             0.1,
             "#c51b7d"
            ],
            [
             0.2,
             "#de77ae"
            ],
            [
             0.3,
             "#f1b6da"
            ],
            [
             0.4,
             "#fde0ef"
            ],
            [
             0.5,
             "#f7f7f7"
            ],
            [
             0.6,
             "#e6f5d0"
            ],
            [
             0.7,
             "#b8e186"
            ],
            [
             0.8,
             "#7fbc41"
            ],
            [
             0.9,
             "#4d9221"
            ],
            [
             1,
             "#276419"
            ]
           ],
           "sequential": [
            [
             0,
             "#0d0887"
            ],
            [
             0.1111111111111111,
             "#46039f"
            ],
            [
             0.2222222222222222,
             "#7201a8"
            ],
            [
             0.3333333333333333,
             "#9c179e"
            ],
            [
             0.4444444444444444,
             "#bd3786"
            ],
            [
             0.5555555555555556,
             "#d8576b"
            ],
            [
             0.6666666666666666,
             "#ed7953"
            ],
            [
             0.7777777777777778,
             "#fb9f3a"
            ],
            [
             0.8888888888888888,
             "#fdca26"
            ],
            [
             1,
             "#f0f921"
            ]
           ],
           "sequentialminus": [
            [
             0,
             "#0d0887"
            ],
            [
             0.1111111111111111,
             "#46039f"
            ],
            [
             0.2222222222222222,
             "#7201a8"
            ],
            [
             0.3333333333333333,
             "#9c179e"
            ],
            [
             0.4444444444444444,
             "#bd3786"
            ],
            [
             0.5555555555555556,
             "#d8576b"
            ],
            [
             0.6666666666666666,
             "#ed7953"
            ],
            [
             0.7777777777777778,
             "#fb9f3a"
            ],
            [
             0.8888888888888888,
             "#fdca26"
            ],
            [
             1,
             "#f0f921"
            ]
           ]
          },
          "colorway": [
           "#636efa",
           "#EF553B",
           "#00cc96",
           "#ab63fa",
           "#FFA15A",
           "#19d3f3",
           "#FF6692",
           "#B6E880",
           "#FF97FF",
           "#FECB52"
          ],
          "font": {
           "color": "#2a3f5f"
          },
          "geo": {
           "bgcolor": "white",
           "lakecolor": "white",
           "landcolor": "#E5ECF6",
           "showlakes": true,
           "showland": true,
           "subunitcolor": "white"
          },
          "hoverlabel": {
           "align": "left"
          },
          "hovermode": "closest",
          "mapbox": {
           "style": "light"
          },
          "paper_bgcolor": "white",
          "plot_bgcolor": "#E5ECF6",
          "polar": {
           "angularaxis": {
            "gridcolor": "white",
            "linecolor": "white",
            "ticks": ""
           },
           "bgcolor": "#E5ECF6",
           "radialaxis": {
            "gridcolor": "white",
            "linecolor": "white",
            "ticks": ""
           }
          },
          "scene": {
           "xaxis": {
            "backgroundcolor": "#E5ECF6",
            "gridcolor": "white",
            "gridwidth": 2,
            "linecolor": "white",
            "showbackground": true,
            "ticks": "",
            "zerolinecolor": "white"
           },
           "yaxis": {
            "backgroundcolor": "#E5ECF6",
            "gridcolor": "white",
            "gridwidth": 2,
            "linecolor": "white",
            "showbackground": true,
            "ticks": "",
            "zerolinecolor": "white"
           },
           "zaxis": {
            "backgroundcolor": "#E5ECF6",
            "gridcolor": "white",
            "gridwidth": 2,
            "linecolor": "white",
            "showbackground": true,
            "ticks": "",
            "zerolinecolor": "white"
           }
          },
          "shapedefaults": {
           "line": {
            "color": "#2a3f5f"
           }
          },
          "ternary": {
           "aaxis": {
            "gridcolor": "white",
            "linecolor": "white",
            "ticks": ""
           },
           "baxis": {
            "gridcolor": "white",
            "linecolor": "white",
            "ticks": ""
           },
           "bgcolor": "#E5ECF6",
           "caxis": {
            "gridcolor": "white",
            "linecolor": "white",
            "ticks": ""
           }
          },
          "title": {
           "x": 0.05
          },
          "xaxis": {
           "automargin": true,
           "gridcolor": "white",
           "linecolor": "white",
           "ticks": "",
           "title": {
            "standoff": 15
           },
           "zerolinecolor": "white",
           "zerolinewidth": 2
          },
          "yaxis": {
           "automargin": true,
           "gridcolor": "white",
           "linecolor": "white",
           "ticks": "",
           "title": {
            "standoff": 15
           },
           "zerolinecolor": "white",
           "zerolinewidth": 2
          }
         }
        },
        "title": {
         "text": "Trust in Governance"
        },
        "updatemenus": [
         {
          "buttons": [
           {
            "args": [
             "geo.projection.type",
             "equirectangular"
            ],
            "label": "equirectangular",
            "method": "relayout"
           },
           {
            "args": [
             "geo.projection.type",
             "mercator"
            ],
            "label": "mercator",
            "method": "relayout"
           },
           {
            "args": [
             "geo.projection.type",
             "orthographic"
            ],
            "label": "orthographic",
            "method": "relayout"
           },
           {
            "args": [
             "geo.projection.type",
             "natural earth"
            ],
            "label": "natural earth",
            "method": "relayout"
           },
           {
            "args": [
             "geo.projection.type",
             "kavrayskiy7"
            ],
            "label": "kavrayskiy7",
            "method": "relayout"
           },
           {
            "args": [
             "geo.projection.type",
             "miller"
            ],
            "label": "miller",
            "method": "relayout"
           },
           {
            "args": [
             "geo.projection.type",
             "robinson"
            ],
            "label": "robinson",
            "method": "relayout"
           },
           {
            "args": [
             "geo.projection.type",
             "eckert4"
            ],
            "label": "eckert4",
            "method": "relayout"
           },
           {
            "args": [
             "geo.projection.type",
             "azimuthal equal area"
            ],
            "label": "azimuthal equal area",
            "method": "relayout"
           },
           {
            "args": [
             "geo.projection.type",
             "azimuthal equidistant"
            ],
            "label": "azimuthal equidistant",
            "method": "relayout"
           },
           {
            "args": [
             "geo.projection.type",
             "conic equal area"
            ],
            "label": "conic equal area",
            "method": "relayout"
           },
           {
            "args": [
             "geo.projection.type",
             "conic conformal"
            ],
            "label": "conic conformal",
            "method": "relayout"
           },
           {
            "args": [
             "geo.projection.type",
             "conic equidistant"
            ],
            "label": "conic equidistant",
            "method": "relayout"
           },
           {
            "args": [
             "geo.projection.type",
             "gnomonic"
            ],
            "label": "gnomonic",
            "method": "relayout"
           },
           {
            "args": [
             "geo.projection.type",
             "stereographic"
            ],
            "label": "stereographic",
            "method": "relayout"
           },
           {
            "args": [
             "geo.projection.type",
             "mollweide"
            ],
            "label": "mollweide",
            "method": "relayout"
           },
           {
            "args": [
             "geo.projection.type",
             "hammer"
            ],
            "label": "hammer",
            "method": "relayout"
           },
           {
            "args": [
             "geo.projection.type",
             "transverse mercator"
            ],
            "label": "transverse mercator",
            "method": "relayout"
           },
           {
            "args": [
             "geo.projection.type",
             "albers usa"
            ],
            "label": "albers usa",
            "method": "relayout"
           },
           {
            "args": [
             "geo.projection.type",
             "winkel tripel"
            ],
            "label": "winkel tripel",
            "method": "relayout"
           }
          ],
          "x": 0.1,
          "y": 0.8,
          "yanchor": "top"
         }
        ]
       }
      },
      "text/html": [
       "<div>                            <div id=\"7220b655-87a2-418a-9787-d77af56e87de\" class=\"plotly-graph-div\" style=\"height:525px; width:100%;\"></div>            <script type=\"text/javascript\">                require([\"plotly\"], function(Plotly) {                    window.PLOTLYENV=window.PLOTLYENV || {};                                    if (document.getElementById(\"7220b655-87a2-418a-9787-d77af56e87de\")) {                    Plotly.newPlot(                        \"7220b655-87a2-418a-9787-d77af56e87de\",                        [{\"colorscale\":[[0.0,\"#00224e\"],[0.1111111111111111,\"#123570\"],[0.2222222222222222,\"#3b496c\"],[0.3333333333333333,\"#575d6d\"],[0.4444444444444444,\"#707173\"],[0.5555555555555556,\"#8a8678\"],[0.6666666666666666,\"#a59c74\"],[0.7777777777777778,\"#c3b369\"],[0.8888888888888888,\"#e1cc55\"],[1.0,\"#fee838\"]],\"locationmode\":\"country names\",\"locations\":[\"Switzerland\",\"Iceland\",\"Denmark\",\"Norway\",\"Canada\",\"Finland\",\"Netherlands\",\"Sweden\",\"New Zealand\",\"Australia\",\"Israel\",\"Costa Rica\",\"Austria\",\"Mexico\",\"United States\",\"Brazil\",\"Luxembourg\",\"Ireland\",\"Belgium\",\"United Arab Emirates\",\"United Kingdom\",\"Oman\",\"Venezuela\",\"Singapore\",\"Panama\",\"Germany\",\"Chile\",\"Qatar\",\"France\",\"Argentina\",\"Czech Republic\",\"Uruguay\",\"Colombia\",\"Thailand\",\"Saudi Arabia\",\"Spain\",\"Malta\",\"Taiwan\",\"Kuwait\",\"Suriname\",\"Trinidad and Tobago\",\"El Salvador\",\"Guatemala\",\"Uzbekistan\",\"Slovakia\",\"Japan\",\"South Korea\",\"Ecuador\",\"Bahrain\",\"Italy\",\"Bolivia\",\"Moldova\",\"Paraguay\",\"Kazakhstan\",\"Slovenia\",\"Lithuania\",\"Nicaragua\",\"Peru\",\"Belarus\",\"Poland\",\"Malaysia\",\"Croatia\",\"Libya\",\"Russia\",\"Jamaica\",\"North Cyprus\",\"Cyprus\",\"Algeria\",\"Kosovo\",\"Turkmenistan\",\"Mauritius\",\"Hong Kong\",\"Estonia\",\"Indonesia\",\"Vietnam\",\"Turkey\",\"Kyrgyzstan\",\"Nigeria\",\"Bhutan\",\"Azerbaijan\",\"Pakistan\",\"Jordan\",\"Montenegro\",\"China\",\"Zambia\",\"Romania\",\"Serbia\",\"Portugal\",\"Latvia\",\"Philippines\",\"Somaliland region\",\"Morocco\",\"Macedonia\",\"Mozambique\",\"Albania\",\"Bosnia and Herzegovina\",\"Lesotho\",\"Dominican Republic\",\"Laos\",\"Mongolia\",\"Swaziland\",\"Greece\",\"Lebanon\",\"Hungary\",\"Honduras\",\"Tajikistan\",\"Tunisia\",\"Palestinian Territories\",\"Bangladesh\",\"Iran\",\"Ukraine\",\"Iraq\",\"South Africa\",\"Ghana\",\"Zimbabwe\",\"Liberia\",\"India\",\"Sudan\",\"Haiti\",\"Congo (Kinshasa)\",\"Nepal\",\"Ethiopia\",\"Sierra Leone\",\"Mauritania\",\"Kenya\",\"Djibouti\",\"Armenia\",\"Botswana\",\"Myanmar\",\"Georgia\",\"Malawi\",\"Sri Lanka\",\"Cameroon\",\"Bulgaria\",\"Egypt\",\"Yemen\",\"Angola\",\"Mali\",\"Congo (Brazzaville)\",\"Comoros\",\"Uganda\",\"Senegal\",\"Gabon\",\"Niger\",\"Cambodia\",\"Tanzania\",\"Madagascar\",\"Central African Republic\",\"Chad\",\"Guinea\",\"Ivory Coast\",\"Burkina Faso\",\"Afghanistan\",\"Rwanda\",\"Benin\",\"Syria\",\"Burundi\",\"Togo\"],\"text\":[\"Switzerland\",\"Iceland\",\"Denmark\",\"Norway\",\"Canada\",\"Finland\",\"Netherlands\",\"Sweden\",\"New Zealand\",\"Australia\",\"Israel\",\"Costa Rica\",\"Austria\",\"Mexico\",\"United States\",\"Brazil\",\"Luxembourg\",\"Ireland\",\"Belgium\",\"United Arab Emirates\",\"United Kingdom\",\"Oman\",\"Venezuela\",\"Singapore\",\"Panama\",\"Germany\",\"Chile\",\"Qatar\",\"France\",\"Argentina\",\"Czech Republic\",\"Uruguay\",\"Colombia\",\"Thailand\",\"Saudi Arabia\",\"Spain\",\"Malta\",\"Taiwan\",\"Kuwait\",\"Suriname\",\"Trinidad and Tobago\",\"El Salvador\",\"Guatemala\",\"Uzbekistan\",\"Slovakia\",\"Japan\",\"South Korea\",\"Ecuador\",\"Bahrain\",\"Italy\",\"Bolivia\",\"Moldova\",\"Paraguay\",\"Kazakhstan\",\"Slovenia\",\"Lithuania\",\"Nicaragua\",\"Peru\",\"Belarus\",\"Poland\",\"Malaysia\",\"Croatia\",\"Libya\",\"Russia\",\"Jamaica\",\"North Cyprus\",\"Cyprus\",\"Algeria\",\"Kosovo\",\"Turkmenistan\",\"Mauritius\",\"Hong Kong\",\"Estonia\",\"Indonesia\",\"Vietnam\",\"Turkey\",\"Kyrgyzstan\",\"Nigeria\",\"Bhutan\",\"Azerbaijan\",\"Pakistan\",\"Jordan\",\"Montenegro\",\"China\",\"Zambia\",\"Romania\",\"Serbia\",\"Portugal\",\"Latvia\",\"Philippines\",\"Somaliland region\",\"Morocco\",\"Macedonia\",\"Mozambique\",\"Albania\",\"Bosnia and Herzegovina\",\"Lesotho\",\"Dominican Republic\",\"Laos\",\"Mongolia\",\"Swaziland\",\"Greece\",\"Lebanon\",\"Hungary\",\"Honduras\",\"Tajikistan\",\"Tunisia\",\"Palestinian Territories\",\"Bangladesh\",\"Iran\",\"Ukraine\",\"Iraq\",\"South Africa\",\"Ghana\",\"Zimbabwe\",\"Liberia\",\"India\",\"Sudan\",\"Haiti\",\"Congo (Kinshasa)\",\"Nepal\",\"Ethiopia\",\"Sierra Leone\",\"Mauritania\",\"Kenya\",\"Djibouti\",\"Armenia\",\"Botswana\",\"Myanmar\",\"Georgia\",\"Malawi\",\"Sri Lanka\",\"Cameroon\",\"Bulgaria\",\"Egypt\",\"Yemen\",\"Angola\",\"Mali\",\"Congo (Brazzaville)\",\"Comoros\",\"Uganda\",\"Senegal\",\"Gabon\",\"Niger\",\"Cambodia\",\"Tanzania\",\"Madagascar\",\"Central African Republic\",\"Chad\",\"Guinea\",\"Ivory Coast\",\"Burkina Faso\",\"Afghanistan\",\"Rwanda\",\"Benin\",\"Syria\",\"Burundi\",\"Togo\"],\"z\":[0.41978,0.14145,0.48357,0.36503,0.32957,0.41372,0.31814,0.43844,0.42922,0.35637,0.07785,0.10583,0.18676,0.21312,0.1589,0.17521,0.37798,0.28703,0.2254,0.38583,0.32067,0.32524,0.11069,0.4921,0.0927,0.21843,0.12869,0.52208,0.20646,0.08484,0.02652,0.24558,0.0512,0.03187,0.32524,0.06398,0.13586,0.08129,0.25609,0.13633,0.0114,0.11776,0.09472,0.30826,0.03431,0.1806,0.07857,0.1809,0.306,0.02901,0.088,0.01615,0.08242,0.08454,0.03787,0.01031,0.19317,0.05989,0.1909,0.04212,0.10501,0.0243,0.11023,0.03005,0.02299,0.1428,0.06146,0.17383,0.04741,0.30844,0.07521,0.37124,0.15184,0.0,0.10441,0.15746,0.04232,0.0403,0.15445,0.16065,0.10464,0.14293,0.14296,0.02781,0.12468,0.00649,0.02617,0.01078,0.06332,0.12279,0.39928,0.08546,0.05327,0.15603,0.06413,0.00227,0.12504,0.14234,0.24249,0.02666,0.0306,0.01397,0.04582,0.02758,0.06825,0.15072,0.06358,0.12905,0.12569,0.05863,0.02961,0.13788,0.08884,0.04355,0.08079,0.06232,0.08492,0.1466,0.17175,0.07625,0.05907,0.15048,0.08786,0.17461,0.05839,0.28105,0.039,0.12474,0.19034,0.38331,0.06977,0.09179,0.05786,0.00872,0.06324,0.07854,0.07122,0.12352,0.11686,0.199,0.07267,0.10713,0.11091,0.15639,0.07247,0.05747,0.08124,0.08289,0.05269,0.12139,0.17922,0.12832,0.09719,0.55191,0.0801,0.18906,0.10062,0.10731],\"type\":\"choropleth\"}],                        {\"annotations\":[{\"showarrow\":false,\"text\":\"Projection\",\"x\":0.1,\"xanchor\":\"right\",\"xref\":\"paper\",\"y\":0.8,\"yanchor\":\"bottom\"}],\"geo\":{\"projection\":{\"type\":\"hammer\"},\"showcoastlines\":true,\"showframe\":true,\"showlakes\":true,\"showocean\":true},\"template\":{\"data\":{\"barpolar\":[{\"marker\":{\"line\":{\"color\":\"#E5ECF6\",\"width\":0.5},\"pattern\":{\"fillmode\":\"overlay\",\"size\":10,\"solidity\":0.2}},\"type\":\"barpolar\"}],\"bar\":[{\"error_x\":{\"color\":\"#2a3f5f\"},\"error_y\":{\"color\":\"#2a3f5f\"},\"marker\":{\"line\":{\"color\":\"#E5ECF6\",\"width\":0.5},\"pattern\":{\"fillmode\":\"overlay\",\"size\":10,\"solidity\":0.2}},\"type\":\"bar\"}],\"carpet\":[{\"aaxis\":{\"endlinecolor\":\"#2a3f5f\",\"gridcolor\":\"white\",\"linecolor\":\"white\",\"minorgridcolor\":\"white\",\"startlinecolor\":\"#2a3f5f\"},\"baxis\":{\"endlinecolor\":\"#2a3f5f\",\"gridcolor\":\"white\",\"linecolor\":\"white\",\"minorgridcolor\":\"white\",\"startlinecolor\":\"#2a3f5f\"},\"type\":\"carpet\"}],\"choropleth\":[{\"colorbar\":{\"outlinewidth\":0,\"ticks\":\"\"},\"type\":\"choropleth\"}],\"contourcarpet\":[{\"colorbar\":{\"outlinewidth\":0,\"ticks\":\"\"},\"type\":\"contourcarpet\"}],\"contour\":[{\"colorbar\":{\"outlinewidth\":0,\"ticks\":\"\"},\"colorscale\":[[0.0,\"#0d0887\"],[0.1111111111111111,\"#46039f\"],[0.2222222222222222,\"#7201a8\"],[0.3333333333333333,\"#9c179e\"],[0.4444444444444444,\"#bd3786\"],[0.5555555555555556,\"#d8576b\"],[0.6666666666666666,\"#ed7953\"],[0.7777777777777778,\"#fb9f3a\"],[0.8888888888888888,\"#fdca26\"],[1.0,\"#f0f921\"]],\"type\":\"contour\"}],\"heatmapgl\":[{\"colorbar\":{\"outlinewidth\":0,\"ticks\":\"\"},\"colorscale\":[[0.0,\"#0d0887\"],[0.1111111111111111,\"#46039f\"],[0.2222222222222222,\"#7201a8\"],[0.3333333333333333,\"#9c179e\"],[0.4444444444444444,\"#bd3786\"],[0.5555555555555556,\"#d8576b\"],[0.6666666666666666,\"#ed7953\"],[0.7777777777777778,\"#fb9f3a\"],[0.8888888888888888,\"#fdca26\"],[1.0,\"#f0f921\"]],\"type\":\"heatmapgl\"}],\"heatmap\":[{\"colorbar\":{\"outlinewidth\":0,\"ticks\":\"\"},\"colorscale\":[[0.0,\"#0d0887\"],[0.1111111111111111,\"#46039f\"],[0.2222222222222222,\"#7201a8\"],[0.3333333333333333,\"#9c179e\"],[0.4444444444444444,\"#bd3786\"],[0.5555555555555556,\"#d8576b\"],[0.6666666666666666,\"#ed7953\"],[0.7777777777777778,\"#fb9f3a\"],[0.8888888888888888,\"#fdca26\"],[1.0,\"#f0f921\"]],\"type\":\"heatmap\"}],\"histogram2dcontour\":[{\"colorbar\":{\"outlinewidth\":0,\"ticks\":\"\"},\"colorscale\":[[0.0,\"#0d0887\"],[0.1111111111111111,\"#46039f\"],[0.2222222222222222,\"#7201a8\"],[0.3333333333333333,\"#9c179e\"],[0.4444444444444444,\"#bd3786\"],[0.5555555555555556,\"#d8576b\"],[0.6666666666666666,\"#ed7953\"],[0.7777777777777778,\"#fb9f3a\"],[0.8888888888888888,\"#fdca26\"],[1.0,\"#f0f921\"]],\"type\":\"histogram2dcontour\"}],\"histogram2d\":[{\"colorbar\":{\"outlinewidth\":0,\"ticks\":\"\"},\"colorscale\":[[0.0,\"#0d0887\"],[0.1111111111111111,\"#46039f\"],[0.2222222222222222,\"#7201a8\"],[0.3333333333333333,\"#9c179e\"],[0.4444444444444444,\"#bd3786\"],[0.5555555555555556,\"#d8576b\"],[0.6666666666666666,\"#ed7953\"],[0.7777777777777778,\"#fb9f3a\"],[0.8888888888888888,\"#fdca26\"],[1.0,\"#f0f921\"]],\"type\":\"histogram2d\"}],\"histogram\":[{\"marker\":{\"pattern\":{\"fillmode\":\"overlay\",\"size\":10,\"solidity\":0.2}},\"type\":\"histogram\"}],\"mesh3d\":[{\"colorbar\":{\"outlinewidth\":0,\"ticks\":\"\"},\"type\":\"mesh3d\"}],\"parcoords\":[{\"line\":{\"colorbar\":{\"outlinewidth\":0,\"ticks\":\"\"}},\"type\":\"parcoords\"}],\"pie\":[{\"automargin\":true,\"type\":\"pie\"}],\"scatter3d\":[{\"line\":{\"colorbar\":{\"outlinewidth\":0,\"ticks\":\"\"}},\"marker\":{\"colorbar\":{\"outlinewidth\":0,\"ticks\":\"\"}},\"type\":\"scatter3d\"}],\"scattercarpet\":[{\"marker\":{\"colorbar\":{\"outlinewidth\":0,\"ticks\":\"\"}},\"type\":\"scattercarpet\"}],\"scattergeo\":[{\"marker\":{\"colorbar\":{\"outlinewidth\":0,\"ticks\":\"\"}},\"type\":\"scattergeo\"}],\"scattergl\":[{\"marker\":{\"colorbar\":{\"outlinewidth\":0,\"ticks\":\"\"}},\"type\":\"scattergl\"}],\"scattermapbox\":[{\"marker\":{\"colorbar\":{\"outlinewidth\":0,\"ticks\":\"\"}},\"type\":\"scattermapbox\"}],\"scatterpolargl\":[{\"marker\":{\"colorbar\":{\"outlinewidth\":0,\"ticks\":\"\"}},\"type\":\"scatterpolargl\"}],\"scatterpolar\":[{\"marker\":{\"colorbar\":{\"outlinewidth\":0,\"ticks\":\"\"}},\"type\":\"scatterpolar\"}],\"scatter\":[{\"fillpattern\":{\"fillmode\":\"overlay\",\"size\":10,\"solidity\":0.2},\"type\":\"scatter\"}],\"scatterternary\":[{\"marker\":{\"colorbar\":{\"outlinewidth\":0,\"ticks\":\"\"}},\"type\":\"scatterternary\"}],\"surface\":[{\"colorbar\":{\"outlinewidth\":0,\"ticks\":\"\"},\"colorscale\":[[0.0,\"#0d0887\"],[0.1111111111111111,\"#46039f\"],[0.2222222222222222,\"#7201a8\"],[0.3333333333333333,\"#9c179e\"],[0.4444444444444444,\"#bd3786\"],[0.5555555555555556,\"#d8576b\"],[0.6666666666666666,\"#ed7953\"],[0.7777777777777778,\"#fb9f3a\"],[0.8888888888888888,\"#fdca26\"],[1.0,\"#f0f921\"]],\"type\":\"surface\"}],\"table\":[{\"cells\":{\"fill\":{\"color\":\"#EBF0F8\"},\"line\":{\"color\":\"white\"}},\"header\":{\"fill\":{\"color\":\"#C8D4E3\"},\"line\":{\"color\":\"white\"}},\"type\":\"table\"}]},\"layout\":{\"annotationdefaults\":{\"arrowcolor\":\"#2a3f5f\",\"arrowhead\":0,\"arrowwidth\":1},\"autotypenumbers\":\"strict\",\"coloraxis\":{\"colorbar\":{\"outlinewidth\":0,\"ticks\":\"\"}},\"colorscale\":{\"diverging\":[[0,\"#8e0152\"],[0.1,\"#c51b7d\"],[0.2,\"#de77ae\"],[0.3,\"#f1b6da\"],[0.4,\"#fde0ef\"],[0.5,\"#f7f7f7\"],[0.6,\"#e6f5d0\"],[0.7,\"#b8e186\"],[0.8,\"#7fbc41\"],[0.9,\"#4d9221\"],[1,\"#276419\"]],\"sequential\":[[0.0,\"#0d0887\"],[0.1111111111111111,\"#46039f\"],[0.2222222222222222,\"#7201a8\"],[0.3333333333333333,\"#9c179e\"],[0.4444444444444444,\"#bd3786\"],[0.5555555555555556,\"#d8576b\"],[0.6666666666666666,\"#ed7953\"],[0.7777777777777778,\"#fb9f3a\"],[0.8888888888888888,\"#fdca26\"],[1.0,\"#f0f921\"]],\"sequentialminus\":[[0.0,\"#0d0887\"],[0.1111111111111111,\"#46039f\"],[0.2222222222222222,\"#7201a8\"],[0.3333333333333333,\"#9c179e\"],[0.4444444444444444,\"#bd3786\"],[0.5555555555555556,\"#d8576b\"],[0.6666666666666666,\"#ed7953\"],[0.7777777777777778,\"#fb9f3a\"],[0.8888888888888888,\"#fdca26\"],[1.0,\"#f0f921\"]]},\"colorway\":[\"#636efa\",\"#EF553B\",\"#00cc96\",\"#ab63fa\",\"#FFA15A\",\"#19d3f3\",\"#FF6692\",\"#B6E880\",\"#FF97FF\",\"#FECB52\"],\"font\":{\"color\":\"#2a3f5f\"},\"geo\":{\"bgcolor\":\"white\",\"lakecolor\":\"white\",\"landcolor\":\"#E5ECF6\",\"showlakes\":true,\"showland\":true,\"subunitcolor\":\"white\"},\"hoverlabel\":{\"align\":\"left\"},\"hovermode\":\"closest\",\"mapbox\":{\"style\":\"light\"},\"paper_bgcolor\":\"white\",\"plot_bgcolor\":\"#E5ECF6\",\"polar\":{\"angularaxis\":{\"gridcolor\":\"white\",\"linecolor\":\"white\",\"ticks\":\"\"},\"bgcolor\":\"#E5ECF6\",\"radialaxis\":{\"gridcolor\":\"white\",\"linecolor\":\"white\",\"ticks\":\"\"}},\"scene\":{\"xaxis\":{\"backgroundcolor\":\"#E5ECF6\",\"gridcolor\":\"white\",\"gridwidth\":2,\"linecolor\":\"white\",\"showbackground\":true,\"ticks\":\"\",\"zerolinecolor\":\"white\"},\"yaxis\":{\"backgroundcolor\":\"#E5ECF6\",\"gridcolor\":\"white\",\"gridwidth\":2,\"linecolor\":\"white\",\"showbackground\":true,\"ticks\":\"\",\"zerolinecolor\":\"white\"},\"zaxis\":{\"backgroundcolor\":\"#E5ECF6\",\"gridcolor\":\"white\",\"gridwidth\":2,\"linecolor\":\"white\",\"showbackground\":true,\"ticks\":\"\",\"zerolinecolor\":\"white\"}},\"shapedefaults\":{\"line\":{\"color\":\"#2a3f5f\"}},\"ternary\":{\"aaxis\":{\"gridcolor\":\"white\",\"linecolor\":\"white\",\"ticks\":\"\"},\"baxis\":{\"gridcolor\":\"white\",\"linecolor\":\"white\",\"ticks\":\"\"},\"bgcolor\":\"#E5ECF6\",\"caxis\":{\"gridcolor\":\"white\",\"linecolor\":\"white\",\"ticks\":\"\"}},\"title\":{\"x\":0.05},\"xaxis\":{\"automargin\":true,\"gridcolor\":\"white\",\"linecolor\":\"white\",\"ticks\":\"\",\"title\":{\"standoff\":15},\"zerolinecolor\":\"white\",\"zerolinewidth\":2},\"yaxis\":{\"automargin\":true,\"gridcolor\":\"white\",\"linecolor\":\"white\",\"ticks\":\"\",\"title\":{\"standoff\":15},\"zerolinecolor\":\"white\",\"zerolinewidth\":2}}},\"title\":{\"text\":\"Trust in Governance\"},\"updatemenus\":[{\"buttons\":[{\"args\":[\"geo.projection.type\",\"equirectangular\"],\"label\":\"equirectangular\",\"method\":\"relayout\"},{\"args\":[\"geo.projection.type\",\"mercator\"],\"label\":\"mercator\",\"method\":\"relayout\"},{\"args\":[\"geo.projection.type\",\"orthographic\"],\"label\":\"orthographic\",\"method\":\"relayout\"},{\"args\":[\"geo.projection.type\",\"natural earth\"],\"label\":\"natural earth\",\"method\":\"relayout\"},{\"args\":[\"geo.projection.type\",\"kavrayskiy7\"],\"label\":\"kavrayskiy7\",\"method\":\"relayout\"},{\"args\":[\"geo.projection.type\",\"miller\"],\"label\":\"miller\",\"method\":\"relayout\"},{\"args\":[\"geo.projection.type\",\"robinson\"],\"label\":\"robinson\",\"method\":\"relayout\"},{\"args\":[\"geo.projection.type\",\"eckert4\"],\"label\":\"eckert4\",\"method\":\"relayout\"},{\"args\":[\"geo.projection.type\",\"azimuthal equal area\"],\"label\":\"azimuthal equal area\",\"method\":\"relayout\"},{\"args\":[\"geo.projection.type\",\"azimuthal equidistant\"],\"label\":\"azimuthal equidistant\",\"method\":\"relayout\"},{\"args\":[\"geo.projection.type\",\"conic equal area\"],\"label\":\"conic equal area\",\"method\":\"relayout\"},{\"args\":[\"geo.projection.type\",\"conic conformal\"],\"label\":\"conic conformal\",\"method\":\"relayout\"},{\"args\":[\"geo.projection.type\",\"conic equidistant\"],\"label\":\"conic equidistant\",\"method\":\"relayout\"},{\"args\":[\"geo.projection.type\",\"gnomonic\"],\"label\":\"gnomonic\",\"method\":\"relayout\"},{\"args\":[\"geo.projection.type\",\"stereographic\"],\"label\":\"stereographic\",\"method\":\"relayout\"},{\"args\":[\"geo.projection.type\",\"mollweide\"],\"label\":\"mollweide\",\"method\":\"relayout\"},{\"args\":[\"geo.projection.type\",\"hammer\"],\"label\":\"hammer\",\"method\":\"relayout\"},{\"args\":[\"geo.projection.type\",\"transverse mercator\"],\"label\":\"transverse mercator\",\"method\":\"relayout\"},{\"args\":[\"geo.projection.type\",\"albers usa\"],\"label\":\"albers usa\",\"method\":\"relayout\"},{\"args\":[\"geo.projection.type\",\"winkel tripel\"],\"label\":\"winkel tripel\",\"method\":\"relayout\"}],\"x\":0.1,\"y\":0.8,\"yanchor\":\"top\"}]},                        {\"responsive\": true}                    ).then(function(){\n",
       "                            \n",
       "var gd = document.getElementById('7220b655-87a2-418a-9787-d77af56e87de');\n",
       "var x = new MutationObserver(function (mutations, observer) {{\n",
       "        var display = window.getComputedStyle(gd).display;\n",
       "        if (!display || display === 'none') {{\n",
       "            console.log([gd, 'removed!']);\n",
       "            Plotly.purge(gd);\n",
       "            observer.disconnect();\n",
       "        }}\n",
       "}});\n",
       "\n",
       "// Listen for the removal of the full notebook cells\n",
       "var notebookContainer = gd.closest('#notebook-container');\n",
       "if (notebookContainer) {{\n",
       "    x.observe(notebookContainer, {childList: true});\n",
       "}}\n",
       "\n",
       "// Listen for the clearing of the current output cell\n",
       "var outputEl = gd.closest('.output');\n",
       "if (outputEl) {{\n",
       "    x.observe(outputEl, {childList: true});\n",
       "}}\n",
       "\n",
       "                        })                };                });            </script>        </div>"
      ]
     },
     "metadata": {},
     "output_type": "display_data"
    }
   ],
   "source": [
    "trace1 = [go.Choropleth(\n",
    "               colorscale = 'Cividis',\n",
    "               locationmode = 'country names',\n",
    "               locations = df['Country'],\n",
    "               text = df['Country'], \n",
    "               z = df['Trust_govtcurruption'],\n",
    "               )]\n",
    "\n",
    "layout = dict(title = 'Trust in Governance',\n",
    "                  geo = dict(\n",
    "                      showframe = True,\n",
    "                      showocean = True,\n",
    "                      showlakes = True,\n",
    "                      showcoastlines = True,\n",
    "                      projection = dict(\n",
    "                          type = 'hammer'\n",
    "        )))\n",
    "\n",
    "\n",
    "projections = [ \"equirectangular\", \"mercator\", \"orthographic\", \"natural earth\",\"kavrayskiy7\", \n",
    "               \"miller\", \"robinson\", \"eckert4\", \"azimuthal equal area\",\"azimuthal equidistant\", \n",
    "               \"conic equal area\", \"conic conformal\", \"conic equidistant\", \"gnomonic\", \"stereographic\", \n",
    "               \"mollweide\", \"hammer\", \"transverse mercator\", \"albers usa\", \"winkel tripel\" ]\n",
    "\n",
    "buttons = [dict(args = ['geo.projection.type', y],\n",
    "           label = y, method = 'relayout') for y in projections]\n",
    "annot = list([ dict( x=0.1, y=0.8, text='Projection', yanchor='bottom', \n",
    "                    xref='paper', xanchor='right', showarrow=False )])\n",
    "\n",
    "\n",
    "# Update Layout Object\n",
    "\n",
    "layout[ 'updatemenus' ] = list([ dict( x=0.1, y=0.8, buttons=buttons, yanchor='top' )])\n",
    "layout[ 'annotations' ] = annot\n",
    "\n",
    "\n",
    "fig = go.Figure(data = trace1, layout = layout)\n",
    "py.iplot(fig)"
   ]
  },
  {
   "cell_type": "markdown",
   "id": "d3ae67a1",
   "metadata": {},
   "source": [
    "* Seems like there is no trust in government all round the world, except Norway, sweden, and Finland.\n",
    "\n",
    "* Canada Saudi Arabia, Germany, United Kingdom, Somalia, Ireland, and Austrlia are also having good trust in the Governance of their Countries."
   ]
  },
  {
   "cell_type": "code",
   "execution_count": 32,
   "id": "1d0d025a",
   "metadata": {},
   "outputs": [
    {
     "data": {
      "text/html": [
       "<div>\n",
       "<style scoped>\n",
       "    .dataframe tbody tr th:only-of-type {\n",
       "        vertical-align: middle;\n",
       "    }\n",
       "\n",
       "    .dataframe tbody tr th {\n",
       "        vertical-align: top;\n",
       "    }\n",
       "\n",
       "    .dataframe thead th {\n",
       "        text-align: right;\n",
       "    }\n",
       "</style>\n",
       "<table border=\"1\" class=\"dataframe\">\n",
       "  <thead>\n",
       "    <tr style=\"text-align: right;\">\n",
       "      <th></th>\n",
       "      <th>Country</th>\n",
       "      <th>Trust_govtcurruption</th>\n",
       "    </tr>\n",
       "  </thead>\n",
       "  <tbody>\n",
       "    <tr>\n",
       "      <th>153</th>\n",
       "      <td>Rwanda</td>\n",
       "      <td>0.55191</td>\n",
       "    </tr>\n",
       "    <tr>\n",
       "      <th>27</th>\n",
       "      <td>Qatar</td>\n",
       "      <td>0.52208</td>\n",
       "    </tr>\n",
       "    <tr>\n",
       "      <th>23</th>\n",
       "      <td>Singapore</td>\n",
       "      <td>0.49210</td>\n",
       "    </tr>\n",
       "    <tr>\n",
       "      <th>2</th>\n",
       "      <td>Denmark</td>\n",
       "      <td>0.48357</td>\n",
       "    </tr>\n",
       "    <tr>\n",
       "      <th>7</th>\n",
       "      <td>Sweden</td>\n",
       "      <td>0.43844</td>\n",
       "    </tr>\n",
       "    <tr>\n",
       "      <th>8</th>\n",
       "      <td>New Zealand</td>\n",
       "      <td>0.42922</td>\n",
       "    </tr>\n",
       "    <tr>\n",
       "      <th>0</th>\n",
       "      <td>Switzerland</td>\n",
       "      <td>0.41978</td>\n",
       "    </tr>\n",
       "    <tr>\n",
       "      <th>5</th>\n",
       "      <td>Finland</td>\n",
       "      <td>0.41372</td>\n",
       "    </tr>\n",
       "    <tr>\n",
       "      <th>90</th>\n",
       "      <td>Somaliland region</td>\n",
       "      <td>0.39928</td>\n",
       "    </tr>\n",
       "    <tr>\n",
       "      <th>19</th>\n",
       "      <td>United Arab Emirates</td>\n",
       "      <td>0.38583</td>\n",
       "    </tr>\n",
       "  </tbody>\n",
       "</table>\n",
       "</div>"
      ],
      "text/plain": [
       "                  Country  Trust_govtcurruption\n",
       "153                Rwanda               0.55191\n",
       "27                  Qatar               0.52208\n",
       "23              Singapore               0.49210\n",
       "2                 Denmark               0.48357\n",
       "7                  Sweden               0.43844\n",
       "8             New Zealand               0.42922\n",
       "0             Switzerland               0.41978\n",
       "5                 Finland               0.41372\n",
       "90      Somaliland region               0.39928\n",
       "19   United Arab Emirates               0.38583"
      ]
     },
     "execution_count": 32,
     "metadata": {},
     "output_type": "execute_result"
    }
   ],
   "source": [
    "#Top 10 Countries with Trust in Government\n",
    "\n",
    "df[['Country', 'Trust_govtcurruption']].sort_values(by = 'Trust_govtcurruption',\n",
    "                                                                     ascending = False).head(10)"
   ]
  },
  {
   "cell_type": "code",
   "execution_count": 33,
   "id": "235fb291",
   "metadata": {
    "scrolled": true
   },
   "outputs": [
    {
     "data": {
      "application/vnd.plotly.v1+json": {
       "config": {
        "linkText": "Export to plot.ly",
        "plotlyServerURL": "https://plot.ly",
        "showLink": false
       },
       "data": [
        {
         "colorscale": [
          [
           0,
           "rgb(0,0,255)"
          ],
          [
           0.1,
           "rgb(51,153,255)"
          ],
          [
           0.2,
           "rgb(102,204,255)"
          ],
          [
           0.3,
           "rgb(153,204,255)"
          ],
          [
           0.4,
           "rgb(204,204,255)"
          ],
          [
           0.5,
           "rgb(255,255,255)"
          ],
          [
           0.6,
           "rgb(255,204,255)"
          ],
          [
           0.7,
           "rgb(255,153,255)"
          ],
          [
           0.8,
           "rgb(255,102,204)"
          ],
          [
           0.9,
           "rgb(255,102,102)"
          ],
          [
           1,
           "rgb(255,0,0)"
          ]
         ],
         "locationmode": "country names",
         "locations": [
          "Switzerland",
          "Iceland",
          "Denmark",
          "Norway",
          "Canada",
          "Finland",
          "Netherlands",
          "Sweden",
          "New Zealand",
          "Australia",
          "Israel",
          "Costa Rica",
          "Austria",
          "Mexico",
          "United States",
          "Brazil",
          "Luxembourg",
          "Ireland",
          "Belgium",
          "United Arab Emirates",
          "United Kingdom",
          "Oman",
          "Venezuela",
          "Singapore",
          "Panama",
          "Germany",
          "Chile",
          "Qatar",
          "France",
          "Argentina",
          "Czech Republic",
          "Uruguay",
          "Colombia",
          "Thailand",
          "Saudi Arabia",
          "Spain",
          "Malta",
          "Taiwan",
          "Kuwait",
          "Suriname",
          "Trinidad and Tobago",
          "El Salvador",
          "Guatemala",
          "Uzbekistan",
          "Slovakia",
          "Japan",
          "South Korea",
          "Ecuador",
          "Bahrain",
          "Italy",
          "Bolivia",
          "Moldova",
          "Paraguay",
          "Kazakhstan",
          "Slovenia",
          "Lithuania",
          "Nicaragua",
          "Peru",
          "Belarus",
          "Poland",
          "Malaysia",
          "Croatia",
          "Libya",
          "Russia",
          "Jamaica",
          "North Cyprus",
          "Cyprus",
          "Algeria",
          "Kosovo",
          "Turkmenistan",
          "Mauritius",
          "Hong Kong",
          "Estonia",
          "Indonesia",
          "Vietnam",
          "Turkey",
          "Kyrgyzstan",
          "Nigeria",
          "Bhutan",
          "Azerbaijan",
          "Pakistan",
          "Jordan",
          "Montenegro",
          "China",
          "Zambia",
          "Romania",
          "Serbia",
          "Portugal",
          "Latvia",
          "Philippines",
          "Somaliland region",
          "Morocco",
          "Macedonia",
          "Mozambique",
          "Albania",
          "Bosnia and Herzegovina",
          "Lesotho",
          "Dominican Republic",
          "Laos",
          "Mongolia",
          "Swaziland",
          "Greece",
          "Lebanon",
          "Hungary",
          "Honduras",
          "Tajikistan",
          "Tunisia",
          "Palestinian Territories",
          "Bangladesh",
          "Iran",
          "Ukraine",
          "Iraq",
          "South Africa",
          "Ghana",
          "Zimbabwe",
          "Liberia",
          "India",
          "Sudan",
          "Haiti",
          "Congo (Kinshasa)",
          "Nepal",
          "Ethiopia",
          "Sierra Leone",
          "Mauritania",
          "Kenya",
          "Djibouti",
          "Armenia",
          "Botswana",
          "Myanmar",
          "Georgia",
          "Malawi",
          "Sri Lanka",
          "Cameroon",
          "Bulgaria",
          "Egypt",
          "Yemen",
          "Angola",
          "Mali",
          "Congo (Brazzaville)",
          "Comoros",
          "Uganda",
          "Senegal",
          "Gabon",
          "Niger",
          "Cambodia",
          "Tanzania",
          "Madagascar",
          "Central African Republic",
          "Chad",
          "Guinea",
          "Ivory Coast",
          "Burkina Faso",
          "Afghanistan",
          "Rwanda",
          "Benin",
          "Syria",
          "Burundi",
          "Togo"
         ],
         "text": [
          "Switzerland",
          "Iceland",
          "Denmark",
          "Norway",
          "Canada",
          "Finland",
          "Netherlands",
          "Sweden",
          "New Zealand",
          "Australia",
          "Israel",
          "Costa Rica",
          "Austria",
          "Mexico",
          "United States",
          "Brazil",
          "Luxembourg",
          "Ireland",
          "Belgium",
          "United Arab Emirates",
          "United Kingdom",
          "Oman",
          "Venezuela",
          "Singapore",
          "Panama",
          "Germany",
          "Chile",
          "Qatar",
          "France",
          "Argentina",
          "Czech Republic",
          "Uruguay",
          "Colombia",
          "Thailand",
          "Saudi Arabia",
          "Spain",
          "Malta",
          "Taiwan",
          "Kuwait",
          "Suriname",
          "Trinidad and Tobago",
          "El Salvador",
          "Guatemala",
          "Uzbekistan",
          "Slovakia",
          "Japan",
          "South Korea",
          "Ecuador",
          "Bahrain",
          "Italy",
          "Bolivia",
          "Moldova",
          "Paraguay",
          "Kazakhstan",
          "Slovenia",
          "Lithuania",
          "Nicaragua",
          "Peru",
          "Belarus",
          "Poland",
          "Malaysia",
          "Croatia",
          "Libya",
          "Russia",
          "Jamaica",
          "North Cyprus",
          "Cyprus",
          "Algeria",
          "Kosovo",
          "Turkmenistan",
          "Mauritius",
          "Hong Kong",
          "Estonia",
          "Indonesia",
          "Vietnam",
          "Turkey",
          "Kyrgyzstan",
          "Nigeria",
          "Bhutan",
          "Azerbaijan",
          "Pakistan",
          "Jordan",
          "Montenegro",
          "China",
          "Zambia",
          "Romania",
          "Serbia",
          "Portugal",
          "Latvia",
          "Philippines",
          "Somaliland region",
          "Morocco",
          "Macedonia",
          "Mozambique",
          "Albania",
          "Bosnia and Herzegovina",
          "Lesotho",
          "Dominican Republic",
          "Laos",
          "Mongolia",
          "Swaziland",
          "Greece",
          "Lebanon",
          "Hungary",
          "Honduras",
          "Tajikistan",
          "Tunisia",
          "Palestinian Territories",
          "Bangladesh",
          "Iran",
          "Ukraine",
          "Iraq",
          "South Africa",
          "Ghana",
          "Zimbabwe",
          "Liberia",
          "India",
          "Sudan",
          "Haiti",
          "Congo (Kinshasa)",
          "Nepal",
          "Ethiopia",
          "Sierra Leone",
          "Mauritania",
          "Kenya",
          "Djibouti",
          "Armenia",
          "Botswana",
          "Myanmar",
          "Georgia",
          "Malawi",
          "Sri Lanka",
          "Cameroon",
          "Bulgaria",
          "Egypt",
          "Yemen",
          "Angola",
          "Mali",
          "Congo (Brazzaville)",
          "Comoros",
          "Uganda",
          "Senegal",
          "Gabon",
          "Niger",
          "Cambodia",
          "Tanzania",
          "Madagascar",
          "Central African Republic",
          "Chad",
          "Guinea",
          "Ivory Coast",
          "Burkina Faso",
          "Afghanistan",
          "Rwanda",
          "Benin",
          "Syria",
          "Burundi",
          "Togo"
         ],
         "type": "choropleth",
         "z": [
          0.66557,
          0.62877,
          0.64938,
          0.66973,
          0.63297,
          0.64169,
          0.61576,
          0.6598,
          0.63938,
          0.65124,
          0.41319,
          0.63376,
          0.62433,
          0.48181,
          0.54604,
          0.49049,
          0.61583,
          0.61777,
          0.5845,
          0.64157,
          0.59625,
          0.63274,
          0.42908,
          0.54252,
          0.5421,
          0.61477,
          0.44132,
          0.6404,
          0.55011,
          0.44974,
          0.46364,
          0.60362,
          0.53466,
          0.55664,
          0.31048,
          0.45951,
          0.60365,
          0.3974,
          0.55499,
          0.59657,
          0.55884,
          0.4035,
          0.57733,
          0.65821,
          0.31751,
          0.49615,
          0.33208,
          0.48574,
          0.45492,
          0.26236,
          0.57414,
          0.32818,
          0.53899,
          0.51649,
          0.60855,
          0.21342,
          0.55475,
          0.41496,
          0.37938,
          0.53122,
          0.53024,
          0.25883,
          0.41668,
          0.36679,
          0.50442,
          0.49027,
          0.40672,
          0.28579,
          0.24749,
          0.4761,
          0.56066,
          0.59608,
          0.44888,
          0.46611,
          0.59444,
          0.22815,
          0.43477,
          0.34334,
          0.53206,
          0.3703,
          0.12102,
          0.40661,
          0.1826,
          0.51697,
          0.48827,
          0.35068,
          0.20107,
          0.51469,
          0.29671,
          0.62545,
          0.46582,
          0.41691,
          0.33457,
          0.34037,
          0.35733,
          0.09245,
          0.31767,
          0.57672,
          0.59591,
          0.43626,
          0.30658,
          0.07699,
          0.33916,
          0.32112,
          0.40148,
          0.47216,
          0.26268,
          0.24499,
          0.4082,
          0.30033,
          0.25123,
          0,
          0.33207,
          0.42342,
          0.25861,
          0.28531,
          0.39786,
          0.10081,
          0.24425,
          0.22605,
          0.38282,
          0.4345,
          0.4084,
          0.24232,
          0.42215,
          0.46074,
          0.19847,
          0.49495,
          0.44017,
          0.40577,
          0.43054,
          0.53726,
          0.49309,
          0.30587,
          0.17288,
          0.35571,
          0.10384,
          0.38857,
          0.41466,
          0.22917,
          0.45727,
          0.36772,
          0.31914,
          0.47692,
          0.66246,
          0.32878,
          0.19184,
          0.48879,
          0.23501,
          0.37725,
          0.46866,
          0.39493,
          0.23414,
          0.59201,
          0.4845,
          0.15684,
          0.1185,
          0.36453
         ]
        }
       ],
       "layout": {
        "annotations": [
         {
          "showarrow": false,
          "text": "Projection",
          "x": 0.1,
          "xanchor": "right",
          "xref": "paper",
          "y": 0.8,
          "yanchor": "bottom"
         }
        ],
        "geo": {
         "projection": {
          "type": "hammer"
         },
         "showcoastlines": true,
         "showframe": true,
         "showlakes": true,
         "showocean": true
        },
        "template": {
         "data": {
          "bar": [
           {
            "error_x": {
             "color": "#2a3f5f"
            },
            "error_y": {
             "color": "#2a3f5f"
            },
            "marker": {
             "line": {
              "color": "#E5ECF6",
              "width": 0.5
             },
             "pattern": {
              "fillmode": "overlay",
              "size": 10,
              "solidity": 0.2
             }
            },
            "type": "bar"
           }
          ],
          "barpolar": [
           {
            "marker": {
             "line": {
              "color": "#E5ECF6",
              "width": 0.5
             },
             "pattern": {
              "fillmode": "overlay",
              "size": 10,
              "solidity": 0.2
             }
            },
            "type": "barpolar"
           }
          ],
          "carpet": [
           {
            "aaxis": {
             "endlinecolor": "#2a3f5f",
             "gridcolor": "white",
             "linecolor": "white",
             "minorgridcolor": "white",
             "startlinecolor": "#2a3f5f"
            },
            "baxis": {
             "endlinecolor": "#2a3f5f",
             "gridcolor": "white",
             "linecolor": "white",
             "minorgridcolor": "white",
             "startlinecolor": "#2a3f5f"
            },
            "type": "carpet"
           }
          ],
          "choropleth": [
           {
            "colorbar": {
             "outlinewidth": 0,
             "ticks": ""
            },
            "type": "choropleth"
           }
          ],
          "contour": [
           {
            "colorbar": {
             "outlinewidth": 0,
             "ticks": ""
            },
            "colorscale": [
             [
              0,
              "#0d0887"
             ],
             [
              0.1111111111111111,
              "#46039f"
             ],
             [
              0.2222222222222222,
              "#7201a8"
             ],
             [
              0.3333333333333333,
              "#9c179e"
             ],
             [
              0.4444444444444444,
              "#bd3786"
             ],
             [
              0.5555555555555556,
              "#d8576b"
             ],
             [
              0.6666666666666666,
              "#ed7953"
             ],
             [
              0.7777777777777778,
              "#fb9f3a"
             ],
             [
              0.8888888888888888,
              "#fdca26"
             ],
             [
              1,
              "#f0f921"
             ]
            ],
            "type": "contour"
           }
          ],
          "contourcarpet": [
           {
            "colorbar": {
             "outlinewidth": 0,
             "ticks": ""
            },
            "type": "contourcarpet"
           }
          ],
          "heatmap": [
           {
            "colorbar": {
             "outlinewidth": 0,
             "ticks": ""
            },
            "colorscale": [
             [
              0,
              "#0d0887"
             ],
             [
              0.1111111111111111,
              "#46039f"
             ],
             [
              0.2222222222222222,
              "#7201a8"
             ],
             [
              0.3333333333333333,
              "#9c179e"
             ],
             [
              0.4444444444444444,
              "#bd3786"
             ],
             [
              0.5555555555555556,
              "#d8576b"
             ],
             [
              0.6666666666666666,
              "#ed7953"
             ],
             [
              0.7777777777777778,
              "#fb9f3a"
             ],
             [
              0.8888888888888888,
              "#fdca26"
             ],
             [
              1,
              "#f0f921"
             ]
            ],
            "type": "heatmap"
           }
          ],
          "heatmapgl": [
           {
            "colorbar": {
             "outlinewidth": 0,
             "ticks": ""
            },
            "colorscale": [
             [
              0,
              "#0d0887"
             ],
             [
              0.1111111111111111,
              "#46039f"
             ],
             [
              0.2222222222222222,
              "#7201a8"
             ],
             [
              0.3333333333333333,
              "#9c179e"
             ],
             [
              0.4444444444444444,
              "#bd3786"
             ],
             [
              0.5555555555555556,
              "#d8576b"
             ],
             [
              0.6666666666666666,
              "#ed7953"
             ],
             [
              0.7777777777777778,
              "#fb9f3a"
             ],
             [
              0.8888888888888888,
              "#fdca26"
             ],
             [
              1,
              "#f0f921"
             ]
            ],
            "type": "heatmapgl"
           }
          ],
          "histogram": [
           {
            "marker": {
             "pattern": {
              "fillmode": "overlay",
              "size": 10,
              "solidity": 0.2
             }
            },
            "type": "histogram"
           }
          ],
          "histogram2d": [
           {
            "colorbar": {
             "outlinewidth": 0,
             "ticks": ""
            },
            "colorscale": [
             [
              0,
              "#0d0887"
             ],
             [
              0.1111111111111111,
              "#46039f"
             ],
             [
              0.2222222222222222,
              "#7201a8"
             ],
             [
              0.3333333333333333,
              "#9c179e"
             ],
             [
              0.4444444444444444,
              "#bd3786"
             ],
             [
              0.5555555555555556,
              "#d8576b"
             ],
             [
              0.6666666666666666,
              "#ed7953"
             ],
             [
              0.7777777777777778,
              "#fb9f3a"
             ],
             [
              0.8888888888888888,
              "#fdca26"
             ],
             [
              1,
              "#f0f921"
             ]
            ],
            "type": "histogram2d"
           }
          ],
          "histogram2dcontour": [
           {
            "colorbar": {
             "outlinewidth": 0,
             "ticks": ""
            },
            "colorscale": [
             [
              0,
              "#0d0887"
             ],
             [
              0.1111111111111111,
              "#46039f"
             ],
             [
              0.2222222222222222,
              "#7201a8"
             ],
             [
              0.3333333333333333,
              "#9c179e"
             ],
             [
              0.4444444444444444,
              "#bd3786"
             ],
             [
              0.5555555555555556,
              "#d8576b"
             ],
             [
              0.6666666666666666,
              "#ed7953"
             ],
             [
              0.7777777777777778,
              "#fb9f3a"
             ],
             [
              0.8888888888888888,
              "#fdca26"
             ],
             [
              1,
              "#f0f921"
             ]
            ],
            "type": "histogram2dcontour"
           }
          ],
          "mesh3d": [
           {
            "colorbar": {
             "outlinewidth": 0,
             "ticks": ""
            },
            "type": "mesh3d"
           }
          ],
          "parcoords": [
           {
            "line": {
             "colorbar": {
              "outlinewidth": 0,
              "ticks": ""
             }
            },
            "type": "parcoords"
           }
          ],
          "pie": [
           {
            "automargin": true,
            "type": "pie"
           }
          ],
          "scatter": [
           {
            "fillpattern": {
             "fillmode": "overlay",
             "size": 10,
             "solidity": 0.2
            },
            "type": "scatter"
           }
          ],
          "scatter3d": [
           {
            "line": {
             "colorbar": {
              "outlinewidth": 0,
              "ticks": ""
             }
            },
            "marker": {
             "colorbar": {
              "outlinewidth": 0,
              "ticks": ""
             }
            },
            "type": "scatter3d"
           }
          ],
          "scattercarpet": [
           {
            "marker": {
             "colorbar": {
              "outlinewidth": 0,
              "ticks": ""
             }
            },
            "type": "scattercarpet"
           }
          ],
          "scattergeo": [
           {
            "marker": {
             "colorbar": {
              "outlinewidth": 0,
              "ticks": ""
             }
            },
            "type": "scattergeo"
           }
          ],
          "scattergl": [
           {
            "marker": {
             "colorbar": {
              "outlinewidth": 0,
              "ticks": ""
             }
            },
            "type": "scattergl"
           }
          ],
          "scattermapbox": [
           {
            "marker": {
             "colorbar": {
              "outlinewidth": 0,
              "ticks": ""
             }
            },
            "type": "scattermapbox"
           }
          ],
          "scatterpolar": [
           {
            "marker": {
             "colorbar": {
              "outlinewidth": 0,
              "ticks": ""
             }
            },
            "type": "scatterpolar"
           }
          ],
          "scatterpolargl": [
           {
            "marker": {
             "colorbar": {
              "outlinewidth": 0,
              "ticks": ""
             }
            },
            "type": "scatterpolargl"
           }
          ],
          "scatterternary": [
           {
            "marker": {
             "colorbar": {
              "outlinewidth": 0,
              "ticks": ""
             }
            },
            "type": "scatterternary"
           }
          ],
          "surface": [
           {
            "colorbar": {
             "outlinewidth": 0,
             "ticks": ""
            },
            "colorscale": [
             [
              0,
              "#0d0887"
             ],
             [
              0.1111111111111111,
              "#46039f"
             ],
             [
              0.2222222222222222,
              "#7201a8"
             ],
             [
              0.3333333333333333,
              "#9c179e"
             ],
             [
              0.4444444444444444,
              "#bd3786"
             ],
             [
              0.5555555555555556,
              "#d8576b"
             ],
             [
              0.6666666666666666,
              "#ed7953"
             ],
             [
              0.7777777777777778,
              "#fb9f3a"
             ],
             [
              0.8888888888888888,
              "#fdca26"
             ],
             [
              1,
              "#f0f921"
             ]
            ],
            "type": "surface"
           }
          ],
          "table": [
           {
            "cells": {
             "fill": {
              "color": "#EBF0F8"
             },
             "line": {
              "color": "white"
             }
            },
            "header": {
             "fill": {
              "color": "#C8D4E3"
             },
             "line": {
              "color": "white"
             }
            },
            "type": "table"
           }
          ]
         },
         "layout": {
          "annotationdefaults": {
           "arrowcolor": "#2a3f5f",
           "arrowhead": 0,
           "arrowwidth": 1
          },
          "autotypenumbers": "strict",
          "coloraxis": {
           "colorbar": {
            "outlinewidth": 0,
            "ticks": ""
           }
          },
          "colorscale": {
           "diverging": [
            [
             0,
             "#8e0152"
            ],
            [
             0.1,
             "#c51b7d"
            ],
            [
             0.2,
             "#de77ae"
            ],
            [
             0.3,
             "#f1b6da"
            ],
            [
             0.4,
             "#fde0ef"
            ],
            [
             0.5,
             "#f7f7f7"
            ],
            [
             0.6,
             "#e6f5d0"
            ],
            [
             0.7,
             "#b8e186"
            ],
            [
             0.8,
             "#7fbc41"
            ],
            [
             0.9,
             "#4d9221"
            ],
            [
             1,
             "#276419"
            ]
           ],
           "sequential": [
            [
             0,
             "#0d0887"
            ],
            [
             0.1111111111111111,
             "#46039f"
            ],
            [
             0.2222222222222222,
             "#7201a8"
            ],
            [
             0.3333333333333333,
             "#9c179e"
            ],
            [
             0.4444444444444444,
             "#bd3786"
            ],
            [
             0.5555555555555556,
             "#d8576b"
            ],
            [
             0.6666666666666666,
             "#ed7953"
            ],
            [
             0.7777777777777778,
             "#fb9f3a"
            ],
            [
             0.8888888888888888,
             "#fdca26"
            ],
            [
             1,
             "#f0f921"
            ]
           ],
           "sequentialminus": [
            [
             0,
             "#0d0887"
            ],
            [
             0.1111111111111111,
             "#46039f"
            ],
            [
             0.2222222222222222,
             "#7201a8"
            ],
            [
             0.3333333333333333,
             "#9c179e"
            ],
            [
             0.4444444444444444,
             "#bd3786"
            ],
            [
             0.5555555555555556,
             "#d8576b"
            ],
            [
             0.6666666666666666,
             "#ed7953"
            ],
            [
             0.7777777777777778,
             "#fb9f3a"
            ],
            [
             0.8888888888888888,
             "#fdca26"
            ],
            [
             1,
             "#f0f921"
            ]
           ]
          },
          "colorway": [
           "#636efa",
           "#EF553B",
           "#00cc96",
           "#ab63fa",
           "#FFA15A",
           "#19d3f3",
           "#FF6692",
           "#B6E880",
           "#FF97FF",
           "#FECB52"
          ],
          "font": {
           "color": "#2a3f5f"
          },
          "geo": {
           "bgcolor": "white",
           "lakecolor": "white",
           "landcolor": "#E5ECF6",
           "showlakes": true,
           "showland": true,
           "subunitcolor": "white"
          },
          "hoverlabel": {
           "align": "left"
          },
          "hovermode": "closest",
          "mapbox": {
           "style": "light"
          },
          "paper_bgcolor": "white",
          "plot_bgcolor": "#E5ECF6",
          "polar": {
           "angularaxis": {
            "gridcolor": "white",
            "linecolor": "white",
            "ticks": ""
           },
           "bgcolor": "#E5ECF6",
           "radialaxis": {
            "gridcolor": "white",
            "linecolor": "white",
            "ticks": ""
           }
          },
          "scene": {
           "xaxis": {
            "backgroundcolor": "#E5ECF6",
            "gridcolor": "white",
            "gridwidth": 2,
            "linecolor": "white",
            "showbackground": true,
            "ticks": "",
            "zerolinecolor": "white"
           },
           "yaxis": {
            "backgroundcolor": "#E5ECF6",
            "gridcolor": "white",
            "gridwidth": 2,
            "linecolor": "white",
            "showbackground": true,
            "ticks": "",
            "zerolinecolor": "white"
           },
           "zaxis": {
            "backgroundcolor": "#E5ECF6",
            "gridcolor": "white",
            "gridwidth": 2,
            "linecolor": "white",
            "showbackground": true,
            "ticks": "",
            "zerolinecolor": "white"
           }
          },
          "shapedefaults": {
           "line": {
            "color": "#2a3f5f"
           }
          },
          "ternary": {
           "aaxis": {
            "gridcolor": "white",
            "linecolor": "white",
            "ticks": ""
           },
           "baxis": {
            "gridcolor": "white",
            "linecolor": "white",
            "ticks": ""
           },
           "bgcolor": "#E5ECF6",
           "caxis": {
            "gridcolor": "white",
            "linecolor": "white",
            "ticks": ""
           }
          },
          "title": {
           "x": 0.05
          },
          "xaxis": {
           "automargin": true,
           "gridcolor": "white",
           "linecolor": "white",
           "ticks": "",
           "title": {
            "standoff": 15
           },
           "zerolinecolor": "white",
           "zerolinewidth": 2
          },
          "yaxis": {
           "automargin": true,
           "gridcolor": "white",
           "linecolor": "white",
           "ticks": "",
           "title": {
            "standoff": 15
           },
           "zerolinecolor": "white",
           "zerolinewidth": 2
          }
         }
        },
        "title": {
         "text": "Freedom Index"
        },
        "updatemenus": [
         {
          "buttons": [
           {
            "args": [
             "geo.projection.type",
             "equirectangular"
            ],
            "label": "equirectangular",
            "method": "relayout"
           },
           {
            "args": [
             "geo.projection.type",
             "mercator"
            ],
            "label": "mercator",
            "method": "relayout"
           },
           {
            "args": [
             "geo.projection.type",
             "orthographic"
            ],
            "label": "orthographic",
            "method": "relayout"
           },
           {
            "args": [
             "geo.projection.type",
             "natural earth"
            ],
            "label": "natural earth",
            "method": "relayout"
           },
           {
            "args": [
             "geo.projection.type",
             "kavrayskiy7"
            ],
            "label": "kavrayskiy7",
            "method": "relayout"
           },
           {
            "args": [
             "geo.projection.type",
             "miller"
            ],
            "label": "miller",
            "method": "relayout"
           },
           {
            "args": [
             "geo.projection.type",
             "robinson"
            ],
            "label": "robinson",
            "method": "relayout"
           },
           {
            "args": [
             "geo.projection.type",
             "eckert4"
            ],
            "label": "eckert4",
            "method": "relayout"
           },
           {
            "args": [
             "geo.projection.type",
             "azimuthal equal area"
            ],
            "label": "azimuthal equal area",
            "method": "relayout"
           },
           {
            "args": [
             "geo.projection.type",
             "azimuthal equidistant"
            ],
            "label": "azimuthal equidistant",
            "method": "relayout"
           },
           {
            "args": [
             "geo.projection.type",
             "conic equal area"
            ],
            "label": "conic equal area",
            "method": "relayout"
           },
           {
            "args": [
             "geo.projection.type",
             "conic conformal"
            ],
            "label": "conic conformal",
            "method": "relayout"
           },
           {
            "args": [
             "geo.projection.type",
             "conic equidistant"
            ],
            "label": "conic equidistant",
            "method": "relayout"
           },
           {
            "args": [
             "geo.projection.type",
             "gnomonic"
            ],
            "label": "gnomonic",
            "method": "relayout"
           },
           {
            "args": [
             "geo.projection.type",
             "stereographic"
            ],
            "label": "stereographic",
            "method": "relayout"
           },
           {
            "args": [
             "geo.projection.type",
             "mollweide"
            ],
            "label": "mollweide",
            "method": "relayout"
           },
           {
            "args": [
             "geo.projection.type",
             "hammer"
            ],
            "label": "hammer",
            "method": "relayout"
           },
           {
            "args": [
             "geo.projection.type",
             "transverse mercator"
            ],
            "label": "transverse mercator",
            "method": "relayout"
           },
           {
            "args": [
             "geo.projection.type",
             "albers usa"
            ],
            "label": "albers usa",
            "method": "relayout"
           },
           {
            "args": [
             "geo.projection.type",
             "winkel tripel"
            ],
            "label": "winkel tripel",
            "method": "relayout"
           }
          ],
          "x": 0.1,
          "y": 0.8,
          "yanchor": "top"
         }
        ]
       }
      },
      "text/html": [
       "<div>                            <div id=\"1573bb77-2428-4e43-b31e-7760638801f8\" class=\"plotly-graph-div\" style=\"height:525px; width:100%;\"></div>            <script type=\"text/javascript\">                require([\"plotly\"], function(Plotly) {                    window.PLOTLYENV=window.PLOTLYENV || {};                                    if (document.getElementById(\"1573bb77-2428-4e43-b31e-7760638801f8\")) {                    Plotly.newPlot(                        \"1573bb77-2428-4e43-b31e-7760638801f8\",                        [{\"colorscale\":[[0.0,\"rgb(0,0,255)\"],[0.1,\"rgb(51,153,255)\"],[0.2,\"rgb(102,204,255)\"],[0.3,\"rgb(153,204,255)\"],[0.4,\"rgb(204,204,255)\"],[0.5,\"rgb(255,255,255)\"],[0.6,\"rgb(255,204,255)\"],[0.7,\"rgb(255,153,255)\"],[0.8,\"rgb(255,102,204)\"],[0.9,\"rgb(255,102,102)\"],[1.0,\"rgb(255,0,0)\"]],\"locationmode\":\"country names\",\"locations\":[\"Switzerland\",\"Iceland\",\"Denmark\",\"Norway\",\"Canada\",\"Finland\",\"Netherlands\",\"Sweden\",\"New Zealand\",\"Australia\",\"Israel\",\"Costa Rica\",\"Austria\",\"Mexico\",\"United States\",\"Brazil\",\"Luxembourg\",\"Ireland\",\"Belgium\",\"United Arab Emirates\",\"United Kingdom\",\"Oman\",\"Venezuela\",\"Singapore\",\"Panama\",\"Germany\",\"Chile\",\"Qatar\",\"France\",\"Argentina\",\"Czech Republic\",\"Uruguay\",\"Colombia\",\"Thailand\",\"Saudi Arabia\",\"Spain\",\"Malta\",\"Taiwan\",\"Kuwait\",\"Suriname\",\"Trinidad and Tobago\",\"El Salvador\",\"Guatemala\",\"Uzbekistan\",\"Slovakia\",\"Japan\",\"South Korea\",\"Ecuador\",\"Bahrain\",\"Italy\",\"Bolivia\",\"Moldova\",\"Paraguay\",\"Kazakhstan\",\"Slovenia\",\"Lithuania\",\"Nicaragua\",\"Peru\",\"Belarus\",\"Poland\",\"Malaysia\",\"Croatia\",\"Libya\",\"Russia\",\"Jamaica\",\"North Cyprus\",\"Cyprus\",\"Algeria\",\"Kosovo\",\"Turkmenistan\",\"Mauritius\",\"Hong Kong\",\"Estonia\",\"Indonesia\",\"Vietnam\",\"Turkey\",\"Kyrgyzstan\",\"Nigeria\",\"Bhutan\",\"Azerbaijan\",\"Pakistan\",\"Jordan\",\"Montenegro\",\"China\",\"Zambia\",\"Romania\",\"Serbia\",\"Portugal\",\"Latvia\",\"Philippines\",\"Somaliland region\",\"Morocco\",\"Macedonia\",\"Mozambique\",\"Albania\",\"Bosnia and Herzegovina\",\"Lesotho\",\"Dominican Republic\",\"Laos\",\"Mongolia\",\"Swaziland\",\"Greece\",\"Lebanon\",\"Hungary\",\"Honduras\",\"Tajikistan\",\"Tunisia\",\"Palestinian Territories\",\"Bangladesh\",\"Iran\",\"Ukraine\",\"Iraq\",\"South Africa\",\"Ghana\",\"Zimbabwe\",\"Liberia\",\"India\",\"Sudan\",\"Haiti\",\"Congo (Kinshasa)\",\"Nepal\",\"Ethiopia\",\"Sierra Leone\",\"Mauritania\",\"Kenya\",\"Djibouti\",\"Armenia\",\"Botswana\",\"Myanmar\",\"Georgia\",\"Malawi\",\"Sri Lanka\",\"Cameroon\",\"Bulgaria\",\"Egypt\",\"Yemen\",\"Angola\",\"Mali\",\"Congo (Brazzaville)\",\"Comoros\",\"Uganda\",\"Senegal\",\"Gabon\",\"Niger\",\"Cambodia\",\"Tanzania\",\"Madagascar\",\"Central African Republic\",\"Chad\",\"Guinea\",\"Ivory Coast\",\"Burkina Faso\",\"Afghanistan\",\"Rwanda\",\"Benin\",\"Syria\",\"Burundi\",\"Togo\"],\"text\":[\"Switzerland\",\"Iceland\",\"Denmark\",\"Norway\",\"Canada\",\"Finland\",\"Netherlands\",\"Sweden\",\"New Zealand\",\"Australia\",\"Israel\",\"Costa Rica\",\"Austria\",\"Mexico\",\"United States\",\"Brazil\",\"Luxembourg\",\"Ireland\",\"Belgium\",\"United Arab Emirates\",\"United Kingdom\",\"Oman\",\"Venezuela\",\"Singapore\",\"Panama\",\"Germany\",\"Chile\",\"Qatar\",\"France\",\"Argentina\",\"Czech Republic\",\"Uruguay\",\"Colombia\",\"Thailand\",\"Saudi Arabia\",\"Spain\",\"Malta\",\"Taiwan\",\"Kuwait\",\"Suriname\",\"Trinidad and Tobago\",\"El Salvador\",\"Guatemala\",\"Uzbekistan\",\"Slovakia\",\"Japan\",\"South Korea\",\"Ecuador\",\"Bahrain\",\"Italy\",\"Bolivia\",\"Moldova\",\"Paraguay\",\"Kazakhstan\",\"Slovenia\",\"Lithuania\",\"Nicaragua\",\"Peru\",\"Belarus\",\"Poland\",\"Malaysia\",\"Croatia\",\"Libya\",\"Russia\",\"Jamaica\",\"North Cyprus\",\"Cyprus\",\"Algeria\",\"Kosovo\",\"Turkmenistan\",\"Mauritius\",\"Hong Kong\",\"Estonia\",\"Indonesia\",\"Vietnam\",\"Turkey\",\"Kyrgyzstan\",\"Nigeria\",\"Bhutan\",\"Azerbaijan\",\"Pakistan\",\"Jordan\",\"Montenegro\",\"China\",\"Zambia\",\"Romania\",\"Serbia\",\"Portugal\",\"Latvia\",\"Philippines\",\"Somaliland region\",\"Morocco\",\"Macedonia\",\"Mozambique\",\"Albania\",\"Bosnia and Herzegovina\",\"Lesotho\",\"Dominican Republic\",\"Laos\",\"Mongolia\",\"Swaziland\",\"Greece\",\"Lebanon\",\"Hungary\",\"Honduras\",\"Tajikistan\",\"Tunisia\",\"Palestinian Territories\",\"Bangladesh\",\"Iran\",\"Ukraine\",\"Iraq\",\"South Africa\",\"Ghana\",\"Zimbabwe\",\"Liberia\",\"India\",\"Sudan\",\"Haiti\",\"Congo (Kinshasa)\",\"Nepal\",\"Ethiopia\",\"Sierra Leone\",\"Mauritania\",\"Kenya\",\"Djibouti\",\"Armenia\",\"Botswana\",\"Myanmar\",\"Georgia\",\"Malawi\",\"Sri Lanka\",\"Cameroon\",\"Bulgaria\",\"Egypt\",\"Yemen\",\"Angola\",\"Mali\",\"Congo (Brazzaville)\",\"Comoros\",\"Uganda\",\"Senegal\",\"Gabon\",\"Niger\",\"Cambodia\",\"Tanzania\",\"Madagascar\",\"Central African Republic\",\"Chad\",\"Guinea\",\"Ivory Coast\",\"Burkina Faso\",\"Afghanistan\",\"Rwanda\",\"Benin\",\"Syria\",\"Burundi\",\"Togo\"],\"z\":[0.66557,0.62877,0.64938,0.66973,0.63297,0.64169,0.61576,0.6598,0.63938,0.65124,0.41319,0.63376,0.62433,0.48181,0.54604,0.49049,0.61583,0.61777,0.5845,0.64157,0.59625,0.63274,0.42908,0.54252,0.5421,0.61477,0.44132,0.6404,0.55011,0.44974,0.46364,0.60362,0.53466,0.55664,0.31048,0.45951,0.60365,0.3974,0.55499,0.59657,0.55884,0.4035,0.57733,0.65821,0.31751,0.49615,0.33208,0.48574,0.45492,0.26236,0.57414,0.32818,0.53899,0.51649,0.60855,0.21342,0.55475,0.41496,0.37938,0.53122,0.53024,0.25883,0.41668,0.36679,0.50442,0.49027,0.40672,0.28579,0.24749,0.4761,0.56066,0.59608,0.44888,0.46611,0.59444,0.22815,0.43477,0.34334,0.53206,0.3703,0.12102,0.40661,0.1826,0.51697,0.48827,0.35068,0.20107,0.51469,0.29671,0.62545,0.46582,0.41691,0.33457,0.34037,0.35733,0.09245,0.31767,0.57672,0.59591,0.43626,0.30658,0.07699,0.33916,0.32112,0.40148,0.47216,0.26268,0.24499,0.4082,0.30033,0.25123,0.0,0.33207,0.42342,0.25861,0.28531,0.39786,0.10081,0.24425,0.22605,0.38282,0.4345,0.4084,0.24232,0.42215,0.46074,0.19847,0.49495,0.44017,0.40577,0.43054,0.53726,0.49309,0.30587,0.17288,0.35571,0.10384,0.38857,0.41466,0.22917,0.45727,0.36772,0.31914,0.47692,0.66246,0.32878,0.19184,0.48879,0.23501,0.37725,0.46866,0.39493,0.23414,0.59201,0.4845,0.15684,0.1185,0.36453],\"type\":\"choropleth\"}],                        {\"annotations\":[{\"showarrow\":false,\"text\":\"Projection\",\"x\":0.1,\"xanchor\":\"right\",\"xref\":\"paper\",\"y\":0.8,\"yanchor\":\"bottom\"}],\"geo\":{\"projection\":{\"type\":\"hammer\"},\"showcoastlines\":true,\"showframe\":true,\"showlakes\":true,\"showocean\":true},\"template\":{\"data\":{\"barpolar\":[{\"marker\":{\"line\":{\"color\":\"#E5ECF6\",\"width\":0.5},\"pattern\":{\"fillmode\":\"overlay\",\"size\":10,\"solidity\":0.2}},\"type\":\"barpolar\"}],\"bar\":[{\"error_x\":{\"color\":\"#2a3f5f\"},\"error_y\":{\"color\":\"#2a3f5f\"},\"marker\":{\"line\":{\"color\":\"#E5ECF6\",\"width\":0.5},\"pattern\":{\"fillmode\":\"overlay\",\"size\":10,\"solidity\":0.2}},\"type\":\"bar\"}],\"carpet\":[{\"aaxis\":{\"endlinecolor\":\"#2a3f5f\",\"gridcolor\":\"white\",\"linecolor\":\"white\",\"minorgridcolor\":\"white\",\"startlinecolor\":\"#2a3f5f\"},\"baxis\":{\"endlinecolor\":\"#2a3f5f\",\"gridcolor\":\"white\",\"linecolor\":\"white\",\"minorgridcolor\":\"white\",\"startlinecolor\":\"#2a3f5f\"},\"type\":\"carpet\"}],\"choropleth\":[{\"colorbar\":{\"outlinewidth\":0,\"ticks\":\"\"},\"type\":\"choropleth\"}],\"contourcarpet\":[{\"colorbar\":{\"outlinewidth\":0,\"ticks\":\"\"},\"type\":\"contourcarpet\"}],\"contour\":[{\"colorbar\":{\"outlinewidth\":0,\"ticks\":\"\"},\"colorscale\":[[0.0,\"#0d0887\"],[0.1111111111111111,\"#46039f\"],[0.2222222222222222,\"#7201a8\"],[0.3333333333333333,\"#9c179e\"],[0.4444444444444444,\"#bd3786\"],[0.5555555555555556,\"#d8576b\"],[0.6666666666666666,\"#ed7953\"],[0.7777777777777778,\"#fb9f3a\"],[0.8888888888888888,\"#fdca26\"],[1.0,\"#f0f921\"]],\"type\":\"contour\"}],\"heatmapgl\":[{\"colorbar\":{\"outlinewidth\":0,\"ticks\":\"\"},\"colorscale\":[[0.0,\"#0d0887\"],[0.1111111111111111,\"#46039f\"],[0.2222222222222222,\"#7201a8\"],[0.3333333333333333,\"#9c179e\"],[0.4444444444444444,\"#bd3786\"],[0.5555555555555556,\"#d8576b\"],[0.6666666666666666,\"#ed7953\"],[0.7777777777777778,\"#fb9f3a\"],[0.8888888888888888,\"#fdca26\"],[1.0,\"#f0f921\"]],\"type\":\"heatmapgl\"}],\"heatmap\":[{\"colorbar\":{\"outlinewidth\":0,\"ticks\":\"\"},\"colorscale\":[[0.0,\"#0d0887\"],[0.1111111111111111,\"#46039f\"],[0.2222222222222222,\"#7201a8\"],[0.3333333333333333,\"#9c179e\"],[0.4444444444444444,\"#bd3786\"],[0.5555555555555556,\"#d8576b\"],[0.6666666666666666,\"#ed7953\"],[0.7777777777777778,\"#fb9f3a\"],[0.8888888888888888,\"#fdca26\"],[1.0,\"#f0f921\"]],\"type\":\"heatmap\"}],\"histogram2dcontour\":[{\"colorbar\":{\"outlinewidth\":0,\"ticks\":\"\"},\"colorscale\":[[0.0,\"#0d0887\"],[0.1111111111111111,\"#46039f\"],[0.2222222222222222,\"#7201a8\"],[0.3333333333333333,\"#9c179e\"],[0.4444444444444444,\"#bd3786\"],[0.5555555555555556,\"#d8576b\"],[0.6666666666666666,\"#ed7953\"],[0.7777777777777778,\"#fb9f3a\"],[0.8888888888888888,\"#fdca26\"],[1.0,\"#f0f921\"]],\"type\":\"histogram2dcontour\"}],\"histogram2d\":[{\"colorbar\":{\"outlinewidth\":0,\"ticks\":\"\"},\"colorscale\":[[0.0,\"#0d0887\"],[0.1111111111111111,\"#46039f\"],[0.2222222222222222,\"#7201a8\"],[0.3333333333333333,\"#9c179e\"],[0.4444444444444444,\"#bd3786\"],[0.5555555555555556,\"#d8576b\"],[0.6666666666666666,\"#ed7953\"],[0.7777777777777778,\"#fb9f3a\"],[0.8888888888888888,\"#fdca26\"],[1.0,\"#f0f921\"]],\"type\":\"histogram2d\"}],\"histogram\":[{\"marker\":{\"pattern\":{\"fillmode\":\"overlay\",\"size\":10,\"solidity\":0.2}},\"type\":\"histogram\"}],\"mesh3d\":[{\"colorbar\":{\"outlinewidth\":0,\"ticks\":\"\"},\"type\":\"mesh3d\"}],\"parcoords\":[{\"line\":{\"colorbar\":{\"outlinewidth\":0,\"ticks\":\"\"}},\"type\":\"parcoords\"}],\"pie\":[{\"automargin\":true,\"type\":\"pie\"}],\"scatter3d\":[{\"line\":{\"colorbar\":{\"outlinewidth\":0,\"ticks\":\"\"}},\"marker\":{\"colorbar\":{\"outlinewidth\":0,\"ticks\":\"\"}},\"type\":\"scatter3d\"}],\"scattercarpet\":[{\"marker\":{\"colorbar\":{\"outlinewidth\":0,\"ticks\":\"\"}},\"type\":\"scattercarpet\"}],\"scattergeo\":[{\"marker\":{\"colorbar\":{\"outlinewidth\":0,\"ticks\":\"\"}},\"type\":\"scattergeo\"}],\"scattergl\":[{\"marker\":{\"colorbar\":{\"outlinewidth\":0,\"ticks\":\"\"}},\"type\":\"scattergl\"}],\"scattermapbox\":[{\"marker\":{\"colorbar\":{\"outlinewidth\":0,\"ticks\":\"\"}},\"type\":\"scattermapbox\"}],\"scatterpolargl\":[{\"marker\":{\"colorbar\":{\"outlinewidth\":0,\"ticks\":\"\"}},\"type\":\"scatterpolargl\"}],\"scatterpolar\":[{\"marker\":{\"colorbar\":{\"outlinewidth\":0,\"ticks\":\"\"}},\"type\":\"scatterpolar\"}],\"scatter\":[{\"fillpattern\":{\"fillmode\":\"overlay\",\"size\":10,\"solidity\":0.2},\"type\":\"scatter\"}],\"scatterternary\":[{\"marker\":{\"colorbar\":{\"outlinewidth\":0,\"ticks\":\"\"}},\"type\":\"scatterternary\"}],\"surface\":[{\"colorbar\":{\"outlinewidth\":0,\"ticks\":\"\"},\"colorscale\":[[0.0,\"#0d0887\"],[0.1111111111111111,\"#46039f\"],[0.2222222222222222,\"#7201a8\"],[0.3333333333333333,\"#9c179e\"],[0.4444444444444444,\"#bd3786\"],[0.5555555555555556,\"#d8576b\"],[0.6666666666666666,\"#ed7953\"],[0.7777777777777778,\"#fb9f3a\"],[0.8888888888888888,\"#fdca26\"],[1.0,\"#f0f921\"]],\"type\":\"surface\"}],\"table\":[{\"cells\":{\"fill\":{\"color\":\"#EBF0F8\"},\"line\":{\"color\":\"white\"}},\"header\":{\"fill\":{\"color\":\"#C8D4E3\"},\"line\":{\"color\":\"white\"}},\"type\":\"table\"}]},\"layout\":{\"annotationdefaults\":{\"arrowcolor\":\"#2a3f5f\",\"arrowhead\":0,\"arrowwidth\":1},\"autotypenumbers\":\"strict\",\"coloraxis\":{\"colorbar\":{\"outlinewidth\":0,\"ticks\":\"\"}},\"colorscale\":{\"diverging\":[[0,\"#8e0152\"],[0.1,\"#c51b7d\"],[0.2,\"#de77ae\"],[0.3,\"#f1b6da\"],[0.4,\"#fde0ef\"],[0.5,\"#f7f7f7\"],[0.6,\"#e6f5d0\"],[0.7,\"#b8e186\"],[0.8,\"#7fbc41\"],[0.9,\"#4d9221\"],[1,\"#276419\"]],\"sequential\":[[0.0,\"#0d0887\"],[0.1111111111111111,\"#46039f\"],[0.2222222222222222,\"#7201a8\"],[0.3333333333333333,\"#9c179e\"],[0.4444444444444444,\"#bd3786\"],[0.5555555555555556,\"#d8576b\"],[0.6666666666666666,\"#ed7953\"],[0.7777777777777778,\"#fb9f3a\"],[0.8888888888888888,\"#fdca26\"],[1.0,\"#f0f921\"]],\"sequentialminus\":[[0.0,\"#0d0887\"],[0.1111111111111111,\"#46039f\"],[0.2222222222222222,\"#7201a8\"],[0.3333333333333333,\"#9c179e\"],[0.4444444444444444,\"#bd3786\"],[0.5555555555555556,\"#d8576b\"],[0.6666666666666666,\"#ed7953\"],[0.7777777777777778,\"#fb9f3a\"],[0.8888888888888888,\"#fdca26\"],[1.0,\"#f0f921\"]]},\"colorway\":[\"#636efa\",\"#EF553B\",\"#00cc96\",\"#ab63fa\",\"#FFA15A\",\"#19d3f3\",\"#FF6692\",\"#B6E880\",\"#FF97FF\",\"#FECB52\"],\"font\":{\"color\":\"#2a3f5f\"},\"geo\":{\"bgcolor\":\"white\",\"lakecolor\":\"white\",\"landcolor\":\"#E5ECF6\",\"showlakes\":true,\"showland\":true,\"subunitcolor\":\"white\"},\"hoverlabel\":{\"align\":\"left\"},\"hovermode\":\"closest\",\"mapbox\":{\"style\":\"light\"},\"paper_bgcolor\":\"white\",\"plot_bgcolor\":\"#E5ECF6\",\"polar\":{\"angularaxis\":{\"gridcolor\":\"white\",\"linecolor\":\"white\",\"ticks\":\"\"},\"bgcolor\":\"#E5ECF6\",\"radialaxis\":{\"gridcolor\":\"white\",\"linecolor\":\"white\",\"ticks\":\"\"}},\"scene\":{\"xaxis\":{\"backgroundcolor\":\"#E5ECF6\",\"gridcolor\":\"white\",\"gridwidth\":2,\"linecolor\":\"white\",\"showbackground\":true,\"ticks\":\"\",\"zerolinecolor\":\"white\"},\"yaxis\":{\"backgroundcolor\":\"#E5ECF6\",\"gridcolor\":\"white\",\"gridwidth\":2,\"linecolor\":\"white\",\"showbackground\":true,\"ticks\":\"\",\"zerolinecolor\":\"white\"},\"zaxis\":{\"backgroundcolor\":\"#E5ECF6\",\"gridcolor\":\"white\",\"gridwidth\":2,\"linecolor\":\"white\",\"showbackground\":true,\"ticks\":\"\",\"zerolinecolor\":\"white\"}},\"shapedefaults\":{\"line\":{\"color\":\"#2a3f5f\"}},\"ternary\":{\"aaxis\":{\"gridcolor\":\"white\",\"linecolor\":\"white\",\"ticks\":\"\"},\"baxis\":{\"gridcolor\":\"white\",\"linecolor\":\"white\",\"ticks\":\"\"},\"bgcolor\":\"#E5ECF6\",\"caxis\":{\"gridcolor\":\"white\",\"linecolor\":\"white\",\"ticks\":\"\"}},\"title\":{\"x\":0.05},\"xaxis\":{\"automargin\":true,\"gridcolor\":\"white\",\"linecolor\":\"white\",\"ticks\":\"\",\"title\":{\"standoff\":15},\"zerolinecolor\":\"white\",\"zerolinewidth\":2},\"yaxis\":{\"automargin\":true,\"gridcolor\":\"white\",\"linecolor\":\"white\",\"ticks\":\"\",\"title\":{\"standoff\":15},\"zerolinecolor\":\"white\",\"zerolinewidth\":2}}},\"title\":{\"text\":\"Freedom Index\"},\"updatemenus\":[{\"buttons\":[{\"args\":[\"geo.projection.type\",\"equirectangular\"],\"label\":\"equirectangular\",\"method\":\"relayout\"},{\"args\":[\"geo.projection.type\",\"mercator\"],\"label\":\"mercator\",\"method\":\"relayout\"},{\"args\":[\"geo.projection.type\",\"orthographic\"],\"label\":\"orthographic\",\"method\":\"relayout\"},{\"args\":[\"geo.projection.type\",\"natural earth\"],\"label\":\"natural earth\",\"method\":\"relayout\"},{\"args\":[\"geo.projection.type\",\"kavrayskiy7\"],\"label\":\"kavrayskiy7\",\"method\":\"relayout\"},{\"args\":[\"geo.projection.type\",\"miller\"],\"label\":\"miller\",\"method\":\"relayout\"},{\"args\":[\"geo.projection.type\",\"robinson\"],\"label\":\"robinson\",\"method\":\"relayout\"},{\"args\":[\"geo.projection.type\",\"eckert4\"],\"label\":\"eckert4\",\"method\":\"relayout\"},{\"args\":[\"geo.projection.type\",\"azimuthal equal area\"],\"label\":\"azimuthal equal area\",\"method\":\"relayout\"},{\"args\":[\"geo.projection.type\",\"azimuthal equidistant\"],\"label\":\"azimuthal equidistant\",\"method\":\"relayout\"},{\"args\":[\"geo.projection.type\",\"conic equal area\"],\"label\":\"conic equal area\",\"method\":\"relayout\"},{\"args\":[\"geo.projection.type\",\"conic conformal\"],\"label\":\"conic conformal\",\"method\":\"relayout\"},{\"args\":[\"geo.projection.type\",\"conic equidistant\"],\"label\":\"conic equidistant\",\"method\":\"relayout\"},{\"args\":[\"geo.projection.type\",\"gnomonic\"],\"label\":\"gnomonic\",\"method\":\"relayout\"},{\"args\":[\"geo.projection.type\",\"stereographic\"],\"label\":\"stereographic\",\"method\":\"relayout\"},{\"args\":[\"geo.projection.type\",\"mollweide\"],\"label\":\"mollweide\",\"method\":\"relayout\"},{\"args\":[\"geo.projection.type\",\"hammer\"],\"label\":\"hammer\",\"method\":\"relayout\"},{\"args\":[\"geo.projection.type\",\"transverse mercator\"],\"label\":\"transverse mercator\",\"method\":\"relayout\"},{\"args\":[\"geo.projection.type\",\"albers usa\"],\"label\":\"albers usa\",\"method\":\"relayout\"},{\"args\":[\"geo.projection.type\",\"winkel tripel\"],\"label\":\"winkel tripel\",\"method\":\"relayout\"}],\"x\":0.1,\"y\":0.8,\"yanchor\":\"top\"}]},                        {\"responsive\": true}                    ).then(function(){\n",
       "                            \n",
       "var gd = document.getElementById('1573bb77-2428-4e43-b31e-7760638801f8');\n",
       "var x = new MutationObserver(function (mutations, observer) {{\n",
       "        var display = window.getComputedStyle(gd).display;\n",
       "        if (!display || display === 'none') {{\n",
       "            console.log([gd, 'removed!']);\n",
       "            Plotly.purge(gd);\n",
       "            observer.disconnect();\n",
       "        }}\n",
       "}});\n",
       "\n",
       "// Listen for the removal of the full notebook cells\n",
       "var notebookContainer = gd.closest('#notebook-container');\n",
       "if (notebookContainer) {{\n",
       "    x.observe(notebookContainer, {childList: true});\n",
       "}}\n",
       "\n",
       "// Listen for the clearing of the current output cell\n",
       "var outputEl = gd.closest('.output');\n",
       "if (outputEl) {{\n",
       "    x.observe(outputEl, {childList: true});\n",
       "}}\n",
       "\n",
       "                        })                };                });            </script>        </div>"
      ]
     },
     "metadata": {},
     "output_type": "display_data"
    }
   ],
   "source": [
    "trace1 = [go.Choropleth(\n",
    "               colorscale = 'Picnic',\n",
    "               locationmode = 'country names',\n",
    "               locations = df['Country'],\n",
    "               text = df['Country'], \n",
    "               z = df['Freedom'],\n",
    "               )]\n",
    "\n",
    "layout = dict(title = 'Freedom Index',\n",
    "                  geo = dict(\n",
    "                      showframe = True,\n",
    "                      showocean = True,\n",
    "                      showlakes = True,\n",
    "                      showcoastlines = True,\n",
    "                      projection = dict(\n",
    "                          type = 'hammer'\n",
    "        )))\n",
    "\n",
    "\n",
    "projections = [ \"equirectangular\", \"mercator\", \"orthographic\", \"natural earth\",\"kavrayskiy7\", \n",
    "               \"miller\", \"robinson\", \"eckert4\", \"azimuthal equal area\",\"azimuthal equidistant\", \n",
    "               \"conic equal area\", \"conic conformal\", \"conic equidistant\", \"gnomonic\", \"stereographic\", \n",
    "               \"mollweide\", \"hammer\", \"transverse mercator\", \"albers usa\", \"winkel tripel\" ]\n",
    "\n",
    "buttons = [dict(args = ['geo.projection.type', y],\n",
    "           label = y, method = 'relayout') for y in projections]\n",
    "annot = list([ dict( x=0.1, y=0.8, text='Projection', yanchor='bottom', \n",
    "                    xref='paper', xanchor='right', showarrow=False )])\n",
    "\n",
    "\n",
    "# Update Layout Object\n",
    "\n",
    "layout[ 'updatemenus' ] = list([ dict( x=0.1, y=0.8, buttons=buttons, yanchor='top' )])\n",
    "layout[ 'annotations' ] = annot\n",
    "\n",
    "\n",
    "fig = go.Figure(data = trace1, layout = layout)\n",
    "py.iplot(fig)"
   ]
  },
  {
   "cell_type": "markdown",
   "id": "d3624a9d",
   "metadata": {},
   "source": [
    "* Seems like Canada, Austrelia and Europe are the best places on Earth to live. They have high scores throughout. In this case also They are the Winners.\n",
    "\n",
    "* Europe on Whole has a very high Freedom Index in comparison to other Coutries of the World.\n",
    "\n",
    "* African Countries such as Sudan and Angola are having the lowsest Freedom Index in the World."
   ]
  },
  {
   "cell_type": "code",
   "execution_count": 34,
   "id": "abbdb6ca",
   "metadata": {},
   "outputs": [
    {
     "data": {
      "text/html": [
       "<div>\n",
       "<style scoped>\n",
       "    .dataframe tbody tr th:only-of-type {\n",
       "        vertical-align: middle;\n",
       "    }\n",
       "\n",
       "    .dataframe tbody tr th {\n",
       "        vertical-align: top;\n",
       "    }\n",
       "\n",
       "    .dataframe thead th {\n",
       "        text-align: right;\n",
       "    }\n",
       "</style>\n",
       "<table border=\"1\" class=\"dataframe\">\n",
       "  <thead>\n",
       "    <tr style=\"text-align: right;\">\n",
       "      <th></th>\n",
       "      <th>Country</th>\n",
       "      <th>Freedom</th>\n",
       "    </tr>\n",
       "  </thead>\n",
       "  <tbody>\n",
       "    <tr>\n",
       "      <th>3</th>\n",
       "      <td>Norway</td>\n",
       "      <td>0.66973</td>\n",
       "    </tr>\n",
       "    <tr>\n",
       "      <th>0</th>\n",
       "      <td>Switzerland</td>\n",
       "      <td>0.66557</td>\n",
       "    </tr>\n",
       "    <tr>\n",
       "      <th>144</th>\n",
       "      <td>Cambodia</td>\n",
       "      <td>0.66246</td>\n",
       "    </tr>\n",
       "    <tr>\n",
       "      <th>7</th>\n",
       "      <td>Sweden</td>\n",
       "      <td>0.65980</td>\n",
       "    </tr>\n",
       "    <tr>\n",
       "      <th>43</th>\n",
       "      <td>Uzbekistan</td>\n",
       "      <td>0.65821</td>\n",
       "    </tr>\n",
       "    <tr>\n",
       "      <th>9</th>\n",
       "      <td>Australia</td>\n",
       "      <td>0.65124</td>\n",
       "    </tr>\n",
       "    <tr>\n",
       "      <th>2</th>\n",
       "      <td>Denmark</td>\n",
       "      <td>0.64938</td>\n",
       "    </tr>\n",
       "    <tr>\n",
       "      <th>5</th>\n",
       "      <td>Finland</td>\n",
       "      <td>0.64169</td>\n",
       "    </tr>\n",
       "    <tr>\n",
       "      <th>19</th>\n",
       "      <td>United Arab Emirates</td>\n",
       "      <td>0.64157</td>\n",
       "    </tr>\n",
       "    <tr>\n",
       "      <th>27</th>\n",
       "      <td>Qatar</td>\n",
       "      <td>0.64040</td>\n",
       "    </tr>\n",
       "  </tbody>\n",
       "</table>\n",
       "</div>"
      ],
      "text/plain": [
       "                  Country  Freedom\n",
       "3                  Norway  0.66973\n",
       "0             Switzerland  0.66557\n",
       "144              Cambodia  0.66246\n",
       "7                  Sweden  0.65980\n",
       "43             Uzbekistan  0.65821\n",
       "9               Australia  0.65124\n",
       "2                 Denmark  0.64938\n",
       "5                 Finland  0.64169\n",
       "19   United Arab Emirates  0.64157\n",
       "27                  Qatar  0.64040"
      ]
     },
     "execution_count": 34,
     "metadata": {},
     "output_type": "execute_result"
    }
   ],
   "source": [
    "df[['Country', 'Freedom']].sort_values(by = 'Freedom', ascending = False).head(10)"
   ]
  },
  {
   "cell_type": "code",
   "execution_count": 35,
   "id": "2c4de2d0",
   "metadata": {},
   "outputs": [
    {
     "data": {
      "application/vnd.plotly.v1+json": {
       "config": {
        "linkText": "Export to plot.ly",
        "plotlyServerURL": "https://plot.ly",
        "showLink": false
       },
       "data": [
        {
         "colorscale": [
          [
           0,
           "rgb(0,0,0)"
          ],
          [
           0.2,
           "rgb(30,0,100)"
          ],
          [
           0.4,
           "rgb(120,0,100)"
          ],
          [
           0.6,
           "rgb(160,90,0)"
          ],
          [
           0.8,
           "rgb(230,200,0)"
          ],
          [
           1,
           "rgb(255,250,220)"
          ]
         ],
         "locationmode": "country names",
         "locations": [
          "Switzerland",
          "Iceland",
          "Denmark",
          "Norway",
          "Canada",
          "Finland",
          "Netherlands",
          "Sweden",
          "New Zealand",
          "Australia",
          "Israel",
          "Costa Rica",
          "Austria",
          "Mexico",
          "United States",
          "Brazil",
          "Luxembourg",
          "Ireland",
          "Belgium",
          "United Arab Emirates",
          "United Kingdom",
          "Oman",
          "Venezuela",
          "Singapore",
          "Panama",
          "Germany",
          "Chile",
          "Qatar",
          "France",
          "Argentina",
          "Czech Republic",
          "Uruguay",
          "Colombia",
          "Thailand",
          "Saudi Arabia",
          "Spain",
          "Malta",
          "Taiwan",
          "Kuwait",
          "Suriname",
          "Trinidad and Tobago",
          "El Salvador",
          "Guatemala",
          "Uzbekistan",
          "Slovakia",
          "Japan",
          "South Korea",
          "Ecuador",
          "Bahrain",
          "Italy",
          "Bolivia",
          "Moldova",
          "Paraguay",
          "Kazakhstan",
          "Slovenia",
          "Lithuania",
          "Nicaragua",
          "Peru",
          "Belarus",
          "Poland",
          "Malaysia",
          "Croatia",
          "Libya",
          "Russia",
          "Jamaica",
          "North Cyprus",
          "Cyprus",
          "Algeria",
          "Kosovo",
          "Turkmenistan",
          "Mauritius",
          "Hong Kong",
          "Estonia",
          "Indonesia",
          "Vietnam",
          "Turkey",
          "Kyrgyzstan",
          "Nigeria",
          "Bhutan",
          "Azerbaijan",
          "Pakistan",
          "Jordan",
          "Montenegro",
          "China",
          "Zambia",
          "Romania",
          "Serbia",
          "Portugal",
          "Latvia",
          "Philippines",
          "Somaliland region",
          "Morocco",
          "Macedonia",
          "Mozambique",
          "Albania",
          "Bosnia and Herzegovina",
          "Lesotho",
          "Dominican Republic",
          "Laos",
          "Mongolia",
          "Swaziland",
          "Greece",
          "Lebanon",
          "Hungary",
          "Honduras",
          "Tajikistan",
          "Tunisia",
          "Palestinian Territories",
          "Bangladesh",
          "Iran",
          "Ukraine",
          "Iraq",
          "South Africa",
          "Ghana",
          "Zimbabwe",
          "Liberia",
          "India",
          "Sudan",
          "Haiti",
          "Congo (Kinshasa)",
          "Nepal",
          "Ethiopia",
          "Sierra Leone",
          "Mauritania",
          "Kenya",
          "Djibouti",
          "Armenia",
          "Botswana",
          "Myanmar",
          "Georgia",
          "Malawi",
          "Sri Lanka",
          "Cameroon",
          "Bulgaria",
          "Egypt",
          "Yemen",
          "Angola",
          "Mali",
          "Congo (Brazzaville)",
          "Comoros",
          "Uganda",
          "Senegal",
          "Gabon",
          "Niger",
          "Cambodia",
          "Tanzania",
          "Madagascar",
          "Central African Republic",
          "Chad",
          "Guinea",
          "Ivory Coast",
          "Burkina Faso",
          "Afghanistan",
          "Rwanda",
          "Benin",
          "Syria",
          "Burundi",
          "Togo"
         ],
         "text": [
          "Switzerland",
          "Iceland",
          "Denmark",
          "Norway",
          "Canada",
          "Finland",
          "Netherlands",
          "Sweden",
          "New Zealand",
          "Australia",
          "Israel",
          "Costa Rica",
          "Austria",
          "Mexico",
          "United States",
          "Brazil",
          "Luxembourg",
          "Ireland",
          "Belgium",
          "United Arab Emirates",
          "United Kingdom",
          "Oman",
          "Venezuela",
          "Singapore",
          "Panama",
          "Germany",
          "Chile",
          "Qatar",
          "France",
          "Argentina",
          "Czech Republic",
          "Uruguay",
          "Colombia",
          "Thailand",
          "Saudi Arabia",
          "Spain",
          "Malta",
          "Taiwan",
          "Kuwait",
          "Suriname",
          "Trinidad and Tobago",
          "El Salvador",
          "Guatemala",
          "Uzbekistan",
          "Slovakia",
          "Japan",
          "South Korea",
          "Ecuador",
          "Bahrain",
          "Italy",
          "Bolivia",
          "Moldova",
          "Paraguay",
          "Kazakhstan",
          "Slovenia",
          "Lithuania",
          "Nicaragua",
          "Peru",
          "Belarus",
          "Poland",
          "Malaysia",
          "Croatia",
          "Libya",
          "Russia",
          "Jamaica",
          "North Cyprus",
          "Cyprus",
          "Algeria",
          "Kosovo",
          "Turkmenistan",
          "Mauritius",
          "Hong Kong",
          "Estonia",
          "Indonesia",
          "Vietnam",
          "Turkey",
          "Kyrgyzstan",
          "Nigeria",
          "Bhutan",
          "Azerbaijan",
          "Pakistan",
          "Jordan",
          "Montenegro",
          "China",
          "Zambia",
          "Romania",
          "Serbia",
          "Portugal",
          "Latvia",
          "Philippines",
          "Somaliland region",
          "Morocco",
          "Macedonia",
          "Mozambique",
          "Albania",
          "Bosnia and Herzegovina",
          "Lesotho",
          "Dominican Republic",
          "Laos",
          "Mongolia",
          "Swaziland",
          "Greece",
          "Lebanon",
          "Hungary",
          "Honduras",
          "Tajikistan",
          "Tunisia",
          "Palestinian Territories",
          "Bangladesh",
          "Iran",
          "Ukraine",
          "Iraq",
          "South Africa",
          "Ghana",
          "Zimbabwe",
          "Liberia",
          "India",
          "Sudan",
          "Haiti",
          "Congo (Kinshasa)",
          "Nepal",
          "Ethiopia",
          "Sierra Leone",
          "Mauritania",
          "Kenya",
          "Djibouti",
          "Armenia",
          "Botswana",
          "Myanmar",
          "Georgia",
          "Malawi",
          "Sri Lanka",
          "Cameroon",
          "Bulgaria",
          "Egypt",
          "Yemen",
          "Angola",
          "Mali",
          "Congo (Brazzaville)",
          "Comoros",
          "Uganda",
          "Senegal",
          "Gabon",
          "Niger",
          "Cambodia",
          "Tanzania",
          "Madagascar",
          "Central African Republic",
          "Chad",
          "Guinea",
          "Ivory Coast",
          "Burkina Faso",
          "Afghanistan",
          "Rwanda",
          "Benin",
          "Syria",
          "Burundi",
          "Togo"
         ],
         "type": "choropleth",
         "z": [
          1,
          2,
          3,
          4,
          5,
          6,
          7,
          8,
          9,
          10,
          11,
          12,
          13,
          14,
          15,
          16,
          17,
          18,
          19,
          20,
          21,
          22,
          23,
          24,
          25,
          26,
          27,
          28,
          29,
          30,
          31,
          32,
          33,
          34,
          35,
          36,
          37,
          38,
          39,
          40,
          41,
          42,
          43,
          44,
          45,
          46,
          47,
          48,
          49,
          50,
          51,
          52,
          53,
          54,
          55,
          56,
          57,
          58,
          59,
          60,
          61,
          62,
          63,
          64,
          65,
          66,
          67,
          68,
          69,
          70,
          71,
          72,
          73,
          74,
          75,
          76,
          77,
          78,
          79,
          80,
          81,
          82,
          82,
          84,
          85,
          86,
          87,
          88,
          89,
          90,
          91,
          92,
          93,
          94,
          95,
          96,
          97,
          98,
          99,
          100,
          101,
          102,
          103,
          104,
          105,
          106,
          107,
          108,
          109,
          110,
          111,
          112,
          113,
          114,
          115,
          116,
          117,
          118,
          119,
          120,
          121,
          122,
          123,
          124,
          125,
          126,
          127,
          128,
          129,
          130,
          131,
          132,
          133,
          134,
          135,
          136,
          137,
          138,
          139,
          140,
          141,
          142,
          143,
          144,
          145,
          146,
          147,
          148,
          149,
          150,
          151,
          152,
          153,
          154,
          155,
          156,
          157,
          158
         ]
        }
       ],
       "layout": {
        "annotations": [
         {
          "showarrow": false,
          "text": "Projection",
          "x": 0.1,
          "xanchor": "right",
          "xref": "paper",
          "y": 0.8,
          "yanchor": "bottom"
         }
        ],
        "geo": {
         "projection": {
          "type": "hammer"
         },
         "showcoastlines": true,
         "showframe": true,
         "showlakes": true,
         "showocean": true
        },
        "template": {
         "data": {
          "bar": [
           {
            "error_x": {
             "color": "#2a3f5f"
            },
            "error_y": {
             "color": "#2a3f5f"
            },
            "marker": {
             "line": {
              "color": "#E5ECF6",
              "width": 0.5
             },
             "pattern": {
              "fillmode": "overlay",
              "size": 10,
              "solidity": 0.2
             }
            },
            "type": "bar"
           }
          ],
          "barpolar": [
           {
            "marker": {
             "line": {
              "color": "#E5ECF6",
              "width": 0.5
             },
             "pattern": {
              "fillmode": "overlay",
              "size": 10,
              "solidity": 0.2
             }
            },
            "type": "barpolar"
           }
          ],
          "carpet": [
           {
            "aaxis": {
             "endlinecolor": "#2a3f5f",
             "gridcolor": "white",
             "linecolor": "white",
             "minorgridcolor": "white",
             "startlinecolor": "#2a3f5f"
            },
            "baxis": {
             "endlinecolor": "#2a3f5f",
             "gridcolor": "white",
             "linecolor": "white",
             "minorgridcolor": "white",
             "startlinecolor": "#2a3f5f"
            },
            "type": "carpet"
           }
          ],
          "choropleth": [
           {
            "colorbar": {
             "outlinewidth": 0,
             "ticks": ""
            },
            "type": "choropleth"
           }
          ],
          "contour": [
           {
            "colorbar": {
             "outlinewidth": 0,
             "ticks": ""
            },
            "colorscale": [
             [
              0,
              "#0d0887"
             ],
             [
              0.1111111111111111,
              "#46039f"
             ],
             [
              0.2222222222222222,
              "#7201a8"
             ],
             [
              0.3333333333333333,
              "#9c179e"
             ],
             [
              0.4444444444444444,
              "#bd3786"
             ],
             [
              0.5555555555555556,
              "#d8576b"
             ],
             [
              0.6666666666666666,
              "#ed7953"
             ],
             [
              0.7777777777777778,
              "#fb9f3a"
             ],
             [
              0.8888888888888888,
              "#fdca26"
             ],
             [
              1,
              "#f0f921"
             ]
            ],
            "type": "contour"
           }
          ],
          "contourcarpet": [
           {
            "colorbar": {
             "outlinewidth": 0,
             "ticks": ""
            },
            "type": "contourcarpet"
           }
          ],
          "heatmap": [
           {
            "colorbar": {
             "outlinewidth": 0,
             "ticks": ""
            },
            "colorscale": [
             [
              0,
              "#0d0887"
             ],
             [
              0.1111111111111111,
              "#46039f"
             ],
             [
              0.2222222222222222,
              "#7201a8"
             ],
             [
              0.3333333333333333,
              "#9c179e"
             ],
             [
              0.4444444444444444,
              "#bd3786"
             ],
             [
              0.5555555555555556,
              "#d8576b"
             ],
             [
              0.6666666666666666,
              "#ed7953"
             ],
             [
              0.7777777777777778,
              "#fb9f3a"
             ],
             [
              0.8888888888888888,
              "#fdca26"
             ],
             [
              1,
              "#f0f921"
             ]
            ],
            "type": "heatmap"
           }
          ],
          "heatmapgl": [
           {
            "colorbar": {
             "outlinewidth": 0,
             "ticks": ""
            },
            "colorscale": [
             [
              0,
              "#0d0887"
             ],
             [
              0.1111111111111111,
              "#46039f"
             ],
             [
              0.2222222222222222,
              "#7201a8"
             ],
             [
              0.3333333333333333,
              "#9c179e"
             ],
             [
              0.4444444444444444,
              "#bd3786"
             ],
             [
              0.5555555555555556,
              "#d8576b"
             ],
             [
              0.6666666666666666,
              "#ed7953"
             ],
             [
              0.7777777777777778,
              "#fb9f3a"
             ],
             [
              0.8888888888888888,
              "#fdca26"
             ],
             [
              1,
              "#f0f921"
             ]
            ],
            "type": "heatmapgl"
           }
          ],
          "histogram": [
           {
            "marker": {
             "pattern": {
              "fillmode": "overlay",
              "size": 10,
              "solidity": 0.2
             }
            },
            "type": "histogram"
           }
          ],
          "histogram2d": [
           {
            "colorbar": {
             "outlinewidth": 0,
             "ticks": ""
            },
            "colorscale": [
             [
              0,
              "#0d0887"
             ],
             [
              0.1111111111111111,
              "#46039f"
             ],
             [
              0.2222222222222222,
              "#7201a8"
             ],
             [
              0.3333333333333333,
              "#9c179e"
             ],
             [
              0.4444444444444444,
              "#bd3786"
             ],
             [
              0.5555555555555556,
              "#d8576b"
             ],
             [
              0.6666666666666666,
              "#ed7953"
             ],
             [
              0.7777777777777778,
              "#fb9f3a"
             ],
             [
              0.8888888888888888,
              "#fdca26"
             ],
             [
              1,
              "#f0f921"
             ]
            ],
            "type": "histogram2d"
           }
          ],
          "histogram2dcontour": [
           {
            "colorbar": {
             "outlinewidth": 0,
             "ticks": ""
            },
            "colorscale": [
             [
              0,
              "#0d0887"
             ],
             [
              0.1111111111111111,
              "#46039f"
             ],
             [
              0.2222222222222222,
              "#7201a8"
             ],
             [
              0.3333333333333333,
              "#9c179e"
             ],
             [
              0.4444444444444444,
              "#bd3786"
             ],
             [
              0.5555555555555556,
              "#d8576b"
             ],
             [
              0.6666666666666666,
              "#ed7953"
             ],
             [
              0.7777777777777778,
              "#fb9f3a"
             ],
             [
              0.8888888888888888,
              "#fdca26"
             ],
             [
              1,
              "#f0f921"
             ]
            ],
            "type": "histogram2dcontour"
           }
          ],
          "mesh3d": [
           {
            "colorbar": {
             "outlinewidth": 0,
             "ticks": ""
            },
            "type": "mesh3d"
           }
          ],
          "parcoords": [
           {
            "line": {
             "colorbar": {
              "outlinewidth": 0,
              "ticks": ""
             }
            },
            "type": "parcoords"
           }
          ],
          "pie": [
           {
            "automargin": true,
            "type": "pie"
           }
          ],
          "scatter": [
           {
            "fillpattern": {
             "fillmode": "overlay",
             "size": 10,
             "solidity": 0.2
            },
            "type": "scatter"
           }
          ],
          "scatter3d": [
           {
            "line": {
             "colorbar": {
              "outlinewidth": 0,
              "ticks": ""
             }
            },
            "marker": {
             "colorbar": {
              "outlinewidth": 0,
              "ticks": ""
             }
            },
            "type": "scatter3d"
           }
          ],
          "scattercarpet": [
           {
            "marker": {
             "colorbar": {
              "outlinewidth": 0,
              "ticks": ""
             }
            },
            "type": "scattercarpet"
           }
          ],
          "scattergeo": [
           {
            "marker": {
             "colorbar": {
              "outlinewidth": 0,
              "ticks": ""
             }
            },
            "type": "scattergeo"
           }
          ],
          "scattergl": [
           {
            "marker": {
             "colorbar": {
              "outlinewidth": 0,
              "ticks": ""
             }
            },
            "type": "scattergl"
           }
          ],
          "scattermapbox": [
           {
            "marker": {
             "colorbar": {
              "outlinewidth": 0,
              "ticks": ""
             }
            },
            "type": "scattermapbox"
           }
          ],
          "scatterpolar": [
           {
            "marker": {
             "colorbar": {
              "outlinewidth": 0,
              "ticks": ""
             }
            },
            "type": "scatterpolar"
           }
          ],
          "scatterpolargl": [
           {
            "marker": {
             "colorbar": {
              "outlinewidth": 0,
              "ticks": ""
             }
            },
            "type": "scatterpolargl"
           }
          ],
          "scatterternary": [
           {
            "marker": {
             "colorbar": {
              "outlinewidth": 0,
              "ticks": ""
             }
            },
            "type": "scatterternary"
           }
          ],
          "surface": [
           {
            "colorbar": {
             "outlinewidth": 0,
             "ticks": ""
            },
            "colorscale": [
             [
              0,
              "#0d0887"
             ],
             [
              0.1111111111111111,
              "#46039f"
             ],
             [
              0.2222222222222222,
              "#7201a8"
             ],
             [
              0.3333333333333333,
              "#9c179e"
             ],
             [
              0.4444444444444444,
              "#bd3786"
             ],
             [
              0.5555555555555556,
              "#d8576b"
             ],
             [
              0.6666666666666666,
              "#ed7953"
             ],
             [
              0.7777777777777778,
              "#fb9f3a"
             ],
             [
              0.8888888888888888,
              "#fdca26"
             ],
             [
              1,
              "#f0f921"
             ]
            ],
            "type": "surface"
           }
          ],
          "table": [
           {
            "cells": {
             "fill": {
              "color": "#EBF0F8"
             },
             "line": {
              "color": "white"
             }
            },
            "header": {
             "fill": {
              "color": "#C8D4E3"
             },
             "line": {
              "color": "white"
             }
            },
            "type": "table"
           }
          ]
         },
         "layout": {
          "annotationdefaults": {
           "arrowcolor": "#2a3f5f",
           "arrowhead": 0,
           "arrowwidth": 1
          },
          "autotypenumbers": "strict",
          "coloraxis": {
           "colorbar": {
            "outlinewidth": 0,
            "ticks": ""
           }
          },
          "colorscale": {
           "diverging": [
            [
             0,
             "#8e0152"
            ],
            [
             0.1,
             "#c51b7d"
            ],
            [
             0.2,
             "#de77ae"
            ],
            [
             0.3,
             "#f1b6da"
            ],
            [
             0.4,
             "#fde0ef"
            ],
            [
             0.5,
             "#f7f7f7"
            ],
            [
             0.6,
             "#e6f5d0"
            ],
            [
             0.7,
             "#b8e186"
            ],
            [
             0.8,
             "#7fbc41"
            ],
            [
             0.9,
             "#4d9221"
            ],
            [
             1,
             "#276419"
            ]
           ],
           "sequential": [
            [
             0,
             "#0d0887"
            ],
            [
             0.1111111111111111,
             "#46039f"
            ],
            [
             0.2222222222222222,
             "#7201a8"
            ],
            [
             0.3333333333333333,
             "#9c179e"
            ],
            [
             0.4444444444444444,
             "#bd3786"
            ],
            [
             0.5555555555555556,
             "#d8576b"
            ],
            [
             0.6666666666666666,
             "#ed7953"
            ],
            [
             0.7777777777777778,
             "#fb9f3a"
            ],
            [
             0.8888888888888888,
             "#fdca26"
            ],
            [
             1,
             "#f0f921"
            ]
           ],
           "sequentialminus": [
            [
             0,
             "#0d0887"
            ],
            [
             0.1111111111111111,
             "#46039f"
            ],
            [
             0.2222222222222222,
             "#7201a8"
            ],
            [
             0.3333333333333333,
             "#9c179e"
            ],
            [
             0.4444444444444444,
             "#bd3786"
            ],
            [
             0.5555555555555556,
             "#d8576b"
            ],
            [
             0.6666666666666666,
             "#ed7953"
            ],
            [
             0.7777777777777778,
             "#fb9f3a"
            ],
            [
             0.8888888888888888,
             "#fdca26"
            ],
            [
             1,
             "#f0f921"
            ]
           ]
          },
          "colorway": [
           "#636efa",
           "#EF553B",
           "#00cc96",
           "#ab63fa",
           "#FFA15A",
           "#19d3f3",
           "#FF6692",
           "#B6E880",
           "#FF97FF",
           "#FECB52"
          ],
          "font": {
           "color": "#2a3f5f"
          },
          "geo": {
           "bgcolor": "white",
           "lakecolor": "white",
           "landcolor": "#E5ECF6",
           "showlakes": true,
           "showland": true,
           "subunitcolor": "white"
          },
          "hoverlabel": {
           "align": "left"
          },
          "hovermode": "closest",
          "mapbox": {
           "style": "light"
          },
          "paper_bgcolor": "white",
          "plot_bgcolor": "#E5ECF6",
          "polar": {
           "angularaxis": {
            "gridcolor": "white",
            "linecolor": "white",
            "ticks": ""
           },
           "bgcolor": "#E5ECF6",
           "radialaxis": {
            "gridcolor": "white",
            "linecolor": "white",
            "ticks": ""
           }
          },
          "scene": {
           "xaxis": {
            "backgroundcolor": "#E5ECF6",
            "gridcolor": "white",
            "gridwidth": 2,
            "linecolor": "white",
            "showbackground": true,
            "ticks": "",
            "zerolinecolor": "white"
           },
           "yaxis": {
            "backgroundcolor": "#E5ECF6",
            "gridcolor": "white",
            "gridwidth": 2,
            "linecolor": "white",
            "showbackground": true,
            "ticks": "",
            "zerolinecolor": "white"
           },
           "zaxis": {
            "backgroundcolor": "#E5ECF6",
            "gridcolor": "white",
            "gridwidth": 2,
            "linecolor": "white",
            "showbackground": true,
            "ticks": "",
            "zerolinecolor": "white"
           }
          },
          "shapedefaults": {
           "line": {
            "color": "#2a3f5f"
           }
          },
          "ternary": {
           "aaxis": {
            "gridcolor": "white",
            "linecolor": "white",
            "ticks": ""
           },
           "baxis": {
            "gridcolor": "white",
            "linecolor": "white",
            "ticks": ""
           },
           "bgcolor": "#E5ECF6",
           "caxis": {
            "gridcolor": "white",
            "linecolor": "white",
            "ticks": ""
           }
          },
          "title": {
           "x": 0.05
          },
          "xaxis": {
           "automargin": true,
           "gridcolor": "white",
           "linecolor": "white",
           "ticks": "",
           "title": {
            "standoff": 15
           },
           "zerolinecolor": "white",
           "zerolinewidth": 2
          },
          "yaxis": {
           "automargin": true,
           "gridcolor": "white",
           "linecolor": "white",
           "ticks": "",
           "title": {
            "standoff": 15
           },
           "zerolinecolor": "white",
           "zerolinewidth": 2
          }
         }
        },
        "title": {
         "text": "Happiness Rank"
        },
        "updatemenus": [
         {
          "buttons": [
           {
            "args": [
             "geo.projection.type",
             "equirectangular"
            ],
            "label": "equirectangular",
            "method": "relayout"
           },
           {
            "args": [
             "geo.projection.type",
             "mercator"
            ],
            "label": "mercator",
            "method": "relayout"
           },
           {
            "args": [
             "geo.projection.type",
             "orthographic"
            ],
            "label": "orthographic",
            "method": "relayout"
           },
           {
            "args": [
             "geo.projection.type",
             "natural earth"
            ],
            "label": "natural earth",
            "method": "relayout"
           },
           {
            "args": [
             "geo.projection.type",
             "kavrayskiy7"
            ],
            "label": "kavrayskiy7",
            "method": "relayout"
           },
           {
            "args": [
             "geo.projection.type",
             "miller"
            ],
            "label": "miller",
            "method": "relayout"
           },
           {
            "args": [
             "geo.projection.type",
             "robinson"
            ],
            "label": "robinson",
            "method": "relayout"
           },
           {
            "args": [
             "geo.projection.type",
             "eckert4"
            ],
            "label": "eckert4",
            "method": "relayout"
           },
           {
            "args": [
             "geo.projection.type",
             "azimuthal equal area"
            ],
            "label": "azimuthal equal area",
            "method": "relayout"
           },
           {
            "args": [
             "geo.projection.type",
             "azimuthal equidistant"
            ],
            "label": "azimuthal equidistant",
            "method": "relayout"
           },
           {
            "args": [
             "geo.projection.type",
             "conic equal area"
            ],
            "label": "conic equal area",
            "method": "relayout"
           },
           {
            "args": [
             "geo.projection.type",
             "conic conformal"
            ],
            "label": "conic conformal",
            "method": "relayout"
           },
           {
            "args": [
             "geo.projection.type",
             "conic equidistant"
            ],
            "label": "conic equidistant",
            "method": "relayout"
           },
           {
            "args": [
             "geo.projection.type",
             "gnomonic"
            ],
            "label": "gnomonic",
            "method": "relayout"
           },
           {
            "args": [
             "geo.projection.type",
             "stereographic"
            ],
            "label": "stereographic",
            "method": "relayout"
           },
           {
            "args": [
             "geo.projection.type",
             "mollweide"
            ],
            "label": "mollweide",
            "method": "relayout"
           },
           {
            "args": [
             "geo.projection.type",
             "hammer"
            ],
            "label": "hammer",
            "method": "relayout"
           },
           {
            "args": [
             "geo.projection.type",
             "transverse mercator"
            ],
            "label": "transverse mercator",
            "method": "relayout"
           },
           {
            "args": [
             "geo.projection.type",
             "albers usa"
            ],
            "label": "albers usa",
            "method": "relayout"
           },
           {
            "args": [
             "geo.projection.type",
             "winkel tripel"
            ],
            "label": "winkel tripel",
            "method": "relayout"
           }
          ],
          "x": 0.1,
          "y": 0.8,
          "yanchor": "top"
         }
        ]
       }
      },
      "text/html": [
       "<div>                            <div id=\"78c92f61-4882-4f02-9575-3fb21973d686\" class=\"plotly-graph-div\" style=\"height:525px; width:100%;\"></div>            <script type=\"text/javascript\">                require([\"plotly\"], function(Plotly) {                    window.PLOTLYENV=window.PLOTLYENV || {};                                    if (document.getElementById(\"78c92f61-4882-4f02-9575-3fb21973d686\")) {                    Plotly.newPlot(                        \"78c92f61-4882-4f02-9575-3fb21973d686\",                        [{\"colorscale\":[[0.0,\"rgb(0,0,0)\"],[0.2,\"rgb(30,0,100)\"],[0.4,\"rgb(120,0,100)\"],[0.6,\"rgb(160,90,0)\"],[0.8,\"rgb(230,200,0)\"],[1.0,\"rgb(255,250,220)\"]],\"locationmode\":\"country names\",\"locations\":[\"Switzerland\",\"Iceland\",\"Denmark\",\"Norway\",\"Canada\",\"Finland\",\"Netherlands\",\"Sweden\",\"New Zealand\",\"Australia\",\"Israel\",\"Costa Rica\",\"Austria\",\"Mexico\",\"United States\",\"Brazil\",\"Luxembourg\",\"Ireland\",\"Belgium\",\"United Arab Emirates\",\"United Kingdom\",\"Oman\",\"Venezuela\",\"Singapore\",\"Panama\",\"Germany\",\"Chile\",\"Qatar\",\"France\",\"Argentina\",\"Czech Republic\",\"Uruguay\",\"Colombia\",\"Thailand\",\"Saudi Arabia\",\"Spain\",\"Malta\",\"Taiwan\",\"Kuwait\",\"Suriname\",\"Trinidad and Tobago\",\"El Salvador\",\"Guatemala\",\"Uzbekistan\",\"Slovakia\",\"Japan\",\"South Korea\",\"Ecuador\",\"Bahrain\",\"Italy\",\"Bolivia\",\"Moldova\",\"Paraguay\",\"Kazakhstan\",\"Slovenia\",\"Lithuania\",\"Nicaragua\",\"Peru\",\"Belarus\",\"Poland\",\"Malaysia\",\"Croatia\",\"Libya\",\"Russia\",\"Jamaica\",\"North Cyprus\",\"Cyprus\",\"Algeria\",\"Kosovo\",\"Turkmenistan\",\"Mauritius\",\"Hong Kong\",\"Estonia\",\"Indonesia\",\"Vietnam\",\"Turkey\",\"Kyrgyzstan\",\"Nigeria\",\"Bhutan\",\"Azerbaijan\",\"Pakistan\",\"Jordan\",\"Montenegro\",\"China\",\"Zambia\",\"Romania\",\"Serbia\",\"Portugal\",\"Latvia\",\"Philippines\",\"Somaliland region\",\"Morocco\",\"Macedonia\",\"Mozambique\",\"Albania\",\"Bosnia and Herzegovina\",\"Lesotho\",\"Dominican Republic\",\"Laos\",\"Mongolia\",\"Swaziland\",\"Greece\",\"Lebanon\",\"Hungary\",\"Honduras\",\"Tajikistan\",\"Tunisia\",\"Palestinian Territories\",\"Bangladesh\",\"Iran\",\"Ukraine\",\"Iraq\",\"South Africa\",\"Ghana\",\"Zimbabwe\",\"Liberia\",\"India\",\"Sudan\",\"Haiti\",\"Congo (Kinshasa)\",\"Nepal\",\"Ethiopia\",\"Sierra Leone\",\"Mauritania\",\"Kenya\",\"Djibouti\",\"Armenia\",\"Botswana\",\"Myanmar\",\"Georgia\",\"Malawi\",\"Sri Lanka\",\"Cameroon\",\"Bulgaria\",\"Egypt\",\"Yemen\",\"Angola\",\"Mali\",\"Congo (Brazzaville)\",\"Comoros\",\"Uganda\",\"Senegal\",\"Gabon\",\"Niger\",\"Cambodia\",\"Tanzania\",\"Madagascar\",\"Central African Republic\",\"Chad\",\"Guinea\",\"Ivory Coast\",\"Burkina Faso\",\"Afghanistan\",\"Rwanda\",\"Benin\",\"Syria\",\"Burundi\",\"Togo\"],\"text\":[\"Switzerland\",\"Iceland\",\"Denmark\",\"Norway\",\"Canada\",\"Finland\",\"Netherlands\",\"Sweden\",\"New Zealand\",\"Australia\",\"Israel\",\"Costa Rica\",\"Austria\",\"Mexico\",\"United States\",\"Brazil\",\"Luxembourg\",\"Ireland\",\"Belgium\",\"United Arab Emirates\",\"United Kingdom\",\"Oman\",\"Venezuela\",\"Singapore\",\"Panama\",\"Germany\",\"Chile\",\"Qatar\",\"France\",\"Argentina\",\"Czech Republic\",\"Uruguay\",\"Colombia\",\"Thailand\",\"Saudi Arabia\",\"Spain\",\"Malta\",\"Taiwan\",\"Kuwait\",\"Suriname\",\"Trinidad and Tobago\",\"El Salvador\",\"Guatemala\",\"Uzbekistan\",\"Slovakia\",\"Japan\",\"South Korea\",\"Ecuador\",\"Bahrain\",\"Italy\",\"Bolivia\",\"Moldova\",\"Paraguay\",\"Kazakhstan\",\"Slovenia\",\"Lithuania\",\"Nicaragua\",\"Peru\",\"Belarus\",\"Poland\",\"Malaysia\",\"Croatia\",\"Libya\",\"Russia\",\"Jamaica\",\"North Cyprus\",\"Cyprus\",\"Algeria\",\"Kosovo\",\"Turkmenistan\",\"Mauritius\",\"Hong Kong\",\"Estonia\",\"Indonesia\",\"Vietnam\",\"Turkey\",\"Kyrgyzstan\",\"Nigeria\",\"Bhutan\",\"Azerbaijan\",\"Pakistan\",\"Jordan\",\"Montenegro\",\"China\",\"Zambia\",\"Romania\",\"Serbia\",\"Portugal\",\"Latvia\",\"Philippines\",\"Somaliland region\",\"Morocco\",\"Macedonia\",\"Mozambique\",\"Albania\",\"Bosnia and Herzegovina\",\"Lesotho\",\"Dominican Republic\",\"Laos\",\"Mongolia\",\"Swaziland\",\"Greece\",\"Lebanon\",\"Hungary\",\"Honduras\",\"Tajikistan\",\"Tunisia\",\"Palestinian Territories\",\"Bangladesh\",\"Iran\",\"Ukraine\",\"Iraq\",\"South Africa\",\"Ghana\",\"Zimbabwe\",\"Liberia\",\"India\",\"Sudan\",\"Haiti\",\"Congo (Kinshasa)\",\"Nepal\",\"Ethiopia\",\"Sierra Leone\",\"Mauritania\",\"Kenya\",\"Djibouti\",\"Armenia\",\"Botswana\",\"Myanmar\",\"Georgia\",\"Malawi\",\"Sri Lanka\",\"Cameroon\",\"Bulgaria\",\"Egypt\",\"Yemen\",\"Angola\",\"Mali\",\"Congo (Brazzaville)\",\"Comoros\",\"Uganda\",\"Senegal\",\"Gabon\",\"Niger\",\"Cambodia\",\"Tanzania\",\"Madagascar\",\"Central African Republic\",\"Chad\",\"Guinea\",\"Ivory Coast\",\"Burkina Faso\",\"Afghanistan\",\"Rwanda\",\"Benin\",\"Syria\",\"Burundi\",\"Togo\"],\"z\":[1,2,3,4,5,6,7,8,9,10,11,12,13,14,15,16,17,18,19,20,21,22,23,24,25,26,27,28,29,30,31,32,33,34,35,36,37,38,39,40,41,42,43,44,45,46,47,48,49,50,51,52,53,54,55,56,57,58,59,60,61,62,63,64,65,66,67,68,69,70,71,72,73,74,75,76,77,78,79,80,81,82,82,84,85,86,87,88,89,90,91,92,93,94,95,96,97,98,99,100,101,102,103,104,105,106,107,108,109,110,111,112,113,114,115,116,117,118,119,120,121,122,123,124,125,126,127,128,129,130,131,132,133,134,135,136,137,138,139,140,141,142,143,144,145,146,147,148,149,150,151,152,153,154,155,156,157,158],\"type\":\"choropleth\"}],                        {\"annotations\":[{\"showarrow\":false,\"text\":\"Projection\",\"x\":0.1,\"xanchor\":\"right\",\"xref\":\"paper\",\"y\":0.8,\"yanchor\":\"bottom\"}],\"geo\":{\"projection\":{\"type\":\"hammer\"},\"showcoastlines\":true,\"showframe\":true,\"showlakes\":true,\"showocean\":true},\"template\":{\"data\":{\"barpolar\":[{\"marker\":{\"line\":{\"color\":\"#E5ECF6\",\"width\":0.5},\"pattern\":{\"fillmode\":\"overlay\",\"size\":10,\"solidity\":0.2}},\"type\":\"barpolar\"}],\"bar\":[{\"error_x\":{\"color\":\"#2a3f5f\"},\"error_y\":{\"color\":\"#2a3f5f\"},\"marker\":{\"line\":{\"color\":\"#E5ECF6\",\"width\":0.5},\"pattern\":{\"fillmode\":\"overlay\",\"size\":10,\"solidity\":0.2}},\"type\":\"bar\"}],\"carpet\":[{\"aaxis\":{\"endlinecolor\":\"#2a3f5f\",\"gridcolor\":\"white\",\"linecolor\":\"white\",\"minorgridcolor\":\"white\",\"startlinecolor\":\"#2a3f5f\"},\"baxis\":{\"endlinecolor\":\"#2a3f5f\",\"gridcolor\":\"white\",\"linecolor\":\"white\",\"minorgridcolor\":\"white\",\"startlinecolor\":\"#2a3f5f\"},\"type\":\"carpet\"}],\"choropleth\":[{\"colorbar\":{\"outlinewidth\":0,\"ticks\":\"\"},\"type\":\"choropleth\"}],\"contourcarpet\":[{\"colorbar\":{\"outlinewidth\":0,\"ticks\":\"\"},\"type\":\"contourcarpet\"}],\"contour\":[{\"colorbar\":{\"outlinewidth\":0,\"ticks\":\"\"},\"colorscale\":[[0.0,\"#0d0887\"],[0.1111111111111111,\"#46039f\"],[0.2222222222222222,\"#7201a8\"],[0.3333333333333333,\"#9c179e\"],[0.4444444444444444,\"#bd3786\"],[0.5555555555555556,\"#d8576b\"],[0.6666666666666666,\"#ed7953\"],[0.7777777777777778,\"#fb9f3a\"],[0.8888888888888888,\"#fdca26\"],[1.0,\"#f0f921\"]],\"type\":\"contour\"}],\"heatmapgl\":[{\"colorbar\":{\"outlinewidth\":0,\"ticks\":\"\"},\"colorscale\":[[0.0,\"#0d0887\"],[0.1111111111111111,\"#46039f\"],[0.2222222222222222,\"#7201a8\"],[0.3333333333333333,\"#9c179e\"],[0.4444444444444444,\"#bd3786\"],[0.5555555555555556,\"#d8576b\"],[0.6666666666666666,\"#ed7953\"],[0.7777777777777778,\"#fb9f3a\"],[0.8888888888888888,\"#fdca26\"],[1.0,\"#f0f921\"]],\"type\":\"heatmapgl\"}],\"heatmap\":[{\"colorbar\":{\"outlinewidth\":0,\"ticks\":\"\"},\"colorscale\":[[0.0,\"#0d0887\"],[0.1111111111111111,\"#46039f\"],[0.2222222222222222,\"#7201a8\"],[0.3333333333333333,\"#9c179e\"],[0.4444444444444444,\"#bd3786\"],[0.5555555555555556,\"#d8576b\"],[0.6666666666666666,\"#ed7953\"],[0.7777777777777778,\"#fb9f3a\"],[0.8888888888888888,\"#fdca26\"],[1.0,\"#f0f921\"]],\"type\":\"heatmap\"}],\"histogram2dcontour\":[{\"colorbar\":{\"outlinewidth\":0,\"ticks\":\"\"},\"colorscale\":[[0.0,\"#0d0887\"],[0.1111111111111111,\"#46039f\"],[0.2222222222222222,\"#7201a8\"],[0.3333333333333333,\"#9c179e\"],[0.4444444444444444,\"#bd3786\"],[0.5555555555555556,\"#d8576b\"],[0.6666666666666666,\"#ed7953\"],[0.7777777777777778,\"#fb9f3a\"],[0.8888888888888888,\"#fdca26\"],[1.0,\"#f0f921\"]],\"type\":\"histogram2dcontour\"}],\"histogram2d\":[{\"colorbar\":{\"outlinewidth\":0,\"ticks\":\"\"},\"colorscale\":[[0.0,\"#0d0887\"],[0.1111111111111111,\"#46039f\"],[0.2222222222222222,\"#7201a8\"],[0.3333333333333333,\"#9c179e\"],[0.4444444444444444,\"#bd3786\"],[0.5555555555555556,\"#d8576b\"],[0.6666666666666666,\"#ed7953\"],[0.7777777777777778,\"#fb9f3a\"],[0.8888888888888888,\"#fdca26\"],[1.0,\"#f0f921\"]],\"type\":\"histogram2d\"}],\"histogram\":[{\"marker\":{\"pattern\":{\"fillmode\":\"overlay\",\"size\":10,\"solidity\":0.2}},\"type\":\"histogram\"}],\"mesh3d\":[{\"colorbar\":{\"outlinewidth\":0,\"ticks\":\"\"},\"type\":\"mesh3d\"}],\"parcoords\":[{\"line\":{\"colorbar\":{\"outlinewidth\":0,\"ticks\":\"\"}},\"type\":\"parcoords\"}],\"pie\":[{\"automargin\":true,\"type\":\"pie\"}],\"scatter3d\":[{\"line\":{\"colorbar\":{\"outlinewidth\":0,\"ticks\":\"\"}},\"marker\":{\"colorbar\":{\"outlinewidth\":0,\"ticks\":\"\"}},\"type\":\"scatter3d\"}],\"scattercarpet\":[{\"marker\":{\"colorbar\":{\"outlinewidth\":0,\"ticks\":\"\"}},\"type\":\"scattercarpet\"}],\"scattergeo\":[{\"marker\":{\"colorbar\":{\"outlinewidth\":0,\"ticks\":\"\"}},\"type\":\"scattergeo\"}],\"scattergl\":[{\"marker\":{\"colorbar\":{\"outlinewidth\":0,\"ticks\":\"\"}},\"type\":\"scattergl\"}],\"scattermapbox\":[{\"marker\":{\"colorbar\":{\"outlinewidth\":0,\"ticks\":\"\"}},\"type\":\"scattermapbox\"}],\"scatterpolargl\":[{\"marker\":{\"colorbar\":{\"outlinewidth\":0,\"ticks\":\"\"}},\"type\":\"scatterpolargl\"}],\"scatterpolar\":[{\"marker\":{\"colorbar\":{\"outlinewidth\":0,\"ticks\":\"\"}},\"type\":\"scatterpolar\"}],\"scatter\":[{\"fillpattern\":{\"fillmode\":\"overlay\",\"size\":10,\"solidity\":0.2},\"type\":\"scatter\"}],\"scatterternary\":[{\"marker\":{\"colorbar\":{\"outlinewidth\":0,\"ticks\":\"\"}},\"type\":\"scatterternary\"}],\"surface\":[{\"colorbar\":{\"outlinewidth\":0,\"ticks\":\"\"},\"colorscale\":[[0.0,\"#0d0887\"],[0.1111111111111111,\"#46039f\"],[0.2222222222222222,\"#7201a8\"],[0.3333333333333333,\"#9c179e\"],[0.4444444444444444,\"#bd3786\"],[0.5555555555555556,\"#d8576b\"],[0.6666666666666666,\"#ed7953\"],[0.7777777777777778,\"#fb9f3a\"],[0.8888888888888888,\"#fdca26\"],[1.0,\"#f0f921\"]],\"type\":\"surface\"}],\"table\":[{\"cells\":{\"fill\":{\"color\":\"#EBF0F8\"},\"line\":{\"color\":\"white\"}},\"header\":{\"fill\":{\"color\":\"#C8D4E3\"},\"line\":{\"color\":\"white\"}},\"type\":\"table\"}]},\"layout\":{\"annotationdefaults\":{\"arrowcolor\":\"#2a3f5f\",\"arrowhead\":0,\"arrowwidth\":1},\"autotypenumbers\":\"strict\",\"coloraxis\":{\"colorbar\":{\"outlinewidth\":0,\"ticks\":\"\"}},\"colorscale\":{\"diverging\":[[0,\"#8e0152\"],[0.1,\"#c51b7d\"],[0.2,\"#de77ae\"],[0.3,\"#f1b6da\"],[0.4,\"#fde0ef\"],[0.5,\"#f7f7f7\"],[0.6,\"#e6f5d0\"],[0.7,\"#b8e186\"],[0.8,\"#7fbc41\"],[0.9,\"#4d9221\"],[1,\"#276419\"]],\"sequential\":[[0.0,\"#0d0887\"],[0.1111111111111111,\"#46039f\"],[0.2222222222222222,\"#7201a8\"],[0.3333333333333333,\"#9c179e\"],[0.4444444444444444,\"#bd3786\"],[0.5555555555555556,\"#d8576b\"],[0.6666666666666666,\"#ed7953\"],[0.7777777777777778,\"#fb9f3a\"],[0.8888888888888888,\"#fdca26\"],[1.0,\"#f0f921\"]],\"sequentialminus\":[[0.0,\"#0d0887\"],[0.1111111111111111,\"#46039f\"],[0.2222222222222222,\"#7201a8\"],[0.3333333333333333,\"#9c179e\"],[0.4444444444444444,\"#bd3786\"],[0.5555555555555556,\"#d8576b\"],[0.6666666666666666,\"#ed7953\"],[0.7777777777777778,\"#fb9f3a\"],[0.8888888888888888,\"#fdca26\"],[1.0,\"#f0f921\"]]},\"colorway\":[\"#636efa\",\"#EF553B\",\"#00cc96\",\"#ab63fa\",\"#FFA15A\",\"#19d3f3\",\"#FF6692\",\"#B6E880\",\"#FF97FF\",\"#FECB52\"],\"font\":{\"color\":\"#2a3f5f\"},\"geo\":{\"bgcolor\":\"white\",\"lakecolor\":\"white\",\"landcolor\":\"#E5ECF6\",\"showlakes\":true,\"showland\":true,\"subunitcolor\":\"white\"},\"hoverlabel\":{\"align\":\"left\"},\"hovermode\":\"closest\",\"mapbox\":{\"style\":\"light\"},\"paper_bgcolor\":\"white\",\"plot_bgcolor\":\"#E5ECF6\",\"polar\":{\"angularaxis\":{\"gridcolor\":\"white\",\"linecolor\":\"white\",\"ticks\":\"\"},\"bgcolor\":\"#E5ECF6\",\"radialaxis\":{\"gridcolor\":\"white\",\"linecolor\":\"white\",\"ticks\":\"\"}},\"scene\":{\"xaxis\":{\"backgroundcolor\":\"#E5ECF6\",\"gridcolor\":\"white\",\"gridwidth\":2,\"linecolor\":\"white\",\"showbackground\":true,\"ticks\":\"\",\"zerolinecolor\":\"white\"},\"yaxis\":{\"backgroundcolor\":\"#E5ECF6\",\"gridcolor\":\"white\",\"gridwidth\":2,\"linecolor\":\"white\",\"showbackground\":true,\"ticks\":\"\",\"zerolinecolor\":\"white\"},\"zaxis\":{\"backgroundcolor\":\"#E5ECF6\",\"gridcolor\":\"white\",\"gridwidth\":2,\"linecolor\":\"white\",\"showbackground\":true,\"ticks\":\"\",\"zerolinecolor\":\"white\"}},\"shapedefaults\":{\"line\":{\"color\":\"#2a3f5f\"}},\"ternary\":{\"aaxis\":{\"gridcolor\":\"white\",\"linecolor\":\"white\",\"ticks\":\"\"},\"baxis\":{\"gridcolor\":\"white\",\"linecolor\":\"white\",\"ticks\":\"\"},\"bgcolor\":\"#E5ECF6\",\"caxis\":{\"gridcolor\":\"white\",\"linecolor\":\"white\",\"ticks\":\"\"}},\"title\":{\"x\":0.05},\"xaxis\":{\"automargin\":true,\"gridcolor\":\"white\",\"linecolor\":\"white\",\"ticks\":\"\",\"title\":{\"standoff\":15},\"zerolinecolor\":\"white\",\"zerolinewidth\":2},\"yaxis\":{\"automargin\":true,\"gridcolor\":\"white\",\"linecolor\":\"white\",\"ticks\":\"\",\"title\":{\"standoff\":15},\"zerolinecolor\":\"white\",\"zerolinewidth\":2}}},\"title\":{\"text\":\"Happiness Rank\"},\"updatemenus\":[{\"buttons\":[{\"args\":[\"geo.projection.type\",\"equirectangular\"],\"label\":\"equirectangular\",\"method\":\"relayout\"},{\"args\":[\"geo.projection.type\",\"mercator\"],\"label\":\"mercator\",\"method\":\"relayout\"},{\"args\":[\"geo.projection.type\",\"orthographic\"],\"label\":\"orthographic\",\"method\":\"relayout\"},{\"args\":[\"geo.projection.type\",\"natural earth\"],\"label\":\"natural earth\",\"method\":\"relayout\"},{\"args\":[\"geo.projection.type\",\"kavrayskiy7\"],\"label\":\"kavrayskiy7\",\"method\":\"relayout\"},{\"args\":[\"geo.projection.type\",\"miller\"],\"label\":\"miller\",\"method\":\"relayout\"},{\"args\":[\"geo.projection.type\",\"robinson\"],\"label\":\"robinson\",\"method\":\"relayout\"},{\"args\":[\"geo.projection.type\",\"eckert4\"],\"label\":\"eckert4\",\"method\":\"relayout\"},{\"args\":[\"geo.projection.type\",\"azimuthal equal area\"],\"label\":\"azimuthal equal area\",\"method\":\"relayout\"},{\"args\":[\"geo.projection.type\",\"azimuthal equidistant\"],\"label\":\"azimuthal equidistant\",\"method\":\"relayout\"},{\"args\":[\"geo.projection.type\",\"conic equal area\"],\"label\":\"conic equal area\",\"method\":\"relayout\"},{\"args\":[\"geo.projection.type\",\"conic conformal\"],\"label\":\"conic conformal\",\"method\":\"relayout\"},{\"args\":[\"geo.projection.type\",\"conic equidistant\"],\"label\":\"conic equidistant\",\"method\":\"relayout\"},{\"args\":[\"geo.projection.type\",\"gnomonic\"],\"label\":\"gnomonic\",\"method\":\"relayout\"},{\"args\":[\"geo.projection.type\",\"stereographic\"],\"label\":\"stereographic\",\"method\":\"relayout\"},{\"args\":[\"geo.projection.type\",\"mollweide\"],\"label\":\"mollweide\",\"method\":\"relayout\"},{\"args\":[\"geo.projection.type\",\"hammer\"],\"label\":\"hammer\",\"method\":\"relayout\"},{\"args\":[\"geo.projection.type\",\"transverse mercator\"],\"label\":\"transverse mercator\",\"method\":\"relayout\"},{\"args\":[\"geo.projection.type\",\"albers usa\"],\"label\":\"albers usa\",\"method\":\"relayout\"},{\"args\":[\"geo.projection.type\",\"winkel tripel\"],\"label\":\"winkel tripel\",\"method\":\"relayout\"}],\"x\":0.1,\"y\":0.8,\"yanchor\":\"top\"}]},                        {\"responsive\": true}                    ).then(function(){\n",
       "                            \n",
       "var gd = document.getElementById('78c92f61-4882-4f02-9575-3fb21973d686');\n",
       "var x = new MutationObserver(function (mutations, observer) {{\n",
       "        var display = window.getComputedStyle(gd).display;\n",
       "        if (!display || display === 'none') {{\n",
       "            console.log([gd, 'removed!']);\n",
       "            Plotly.purge(gd);\n",
       "            observer.disconnect();\n",
       "        }}\n",
       "}});\n",
       "\n",
       "// Listen for the removal of the full notebook cells\n",
       "var notebookContainer = gd.closest('#notebook-container');\n",
       "if (notebookContainer) {{\n",
       "    x.observe(notebookContainer, {childList: true});\n",
       "}}\n",
       "\n",
       "// Listen for the clearing of the current output cell\n",
       "var outputEl = gd.closest('.output');\n",
       "if (outputEl) {{\n",
       "    x.observe(outputEl, {childList: true});\n",
       "}}\n",
       "\n",
       "                        })                };                });            </script>        </div>"
      ]
     },
     "metadata": {},
     "output_type": "display_data"
    }
   ],
   "source": [
    "trace1 = [go.Choropleth(\n",
    "               colorscale = 'Electric',\n",
    "               locationmode = 'country names',\n",
    "               locations = df['Country'],\n",
    "               text = df['Country'], \n",
    "               z = df['Happiness_Rank'],\n",
    "               )]\n",
    "\n",
    "layout = dict(title = 'Happiness Rank',\n",
    "                  geo = dict(\n",
    "                      showframe = True,\n",
    "                      showocean = True,\n",
    "                      showlakes = True,\n",
    "                      showcoastlines = True,\n",
    "                      projection = dict(\n",
    "                          type = 'hammer'\n",
    "        )))\n",
    "\n",
    "\n",
    "projections = [ \"equirectangular\", \"mercator\", \"orthographic\", \"natural earth\",\"kavrayskiy7\", \n",
    "               \"miller\", \"robinson\", \"eckert4\", \"azimuthal equal area\",\"azimuthal equidistant\", \n",
    "               \"conic equal area\", \"conic conformal\", \"conic equidistant\", \"gnomonic\", \"stereographic\", \n",
    "               \"mollweide\", \"hammer\", \"transverse mercator\", \"albers usa\", \"winkel tripel\" ]\n",
    "\n",
    "buttons = [dict(args = ['geo.projection.type', y],\n",
    "           label = y, method = 'relayout') for y in projections]\n",
    "annot = list([ dict( x=0.1, y=0.8, text='Projection', yanchor='bottom', \n",
    "                    xref='paper', xanchor='right', showarrow=False )])\n",
    "\n",
    "\n",
    "# Update Layout Object\n",
    "\n",
    "layout[ 'updatemenus' ] = list([ dict( x=0.1, y=0.8, buttons=buttons, yanchor='top' )])\n",
    "layout[ 'annotations' ] = annot\n",
    "\n",
    "\n",
    "fig = go.Figure(data = trace1, layout = layout)\n",
    "py.iplot(fig)"
   ]
  },
  {
   "cell_type": "code",
   "execution_count": 36,
   "id": "c9a4ea10",
   "metadata": {},
   "outputs": [
    {
     "data": {
      "text/html": [
       "<div>\n",
       "<style scoped>\n",
       "    .dataframe tbody tr th:only-of-type {\n",
       "        vertical-align: middle;\n",
       "    }\n",
       "\n",
       "    .dataframe tbody tr th {\n",
       "        vertical-align: top;\n",
       "    }\n",
       "\n",
       "    .dataframe thead th {\n",
       "        text-align: right;\n",
       "    }\n",
       "</style>\n",
       "<table border=\"1\" class=\"dataframe\">\n",
       "  <thead>\n",
       "    <tr style=\"text-align: right;\">\n",
       "      <th></th>\n",
       "      <th>Country</th>\n",
       "      <th>Happiness_Rank</th>\n",
       "    </tr>\n",
       "  </thead>\n",
       "  <tbody>\n",
       "    <tr>\n",
       "      <th>0</th>\n",
       "      <td>Switzerland</td>\n",
       "      <td>1</td>\n",
       "    </tr>\n",
       "    <tr>\n",
       "      <th>1</th>\n",
       "      <td>Iceland</td>\n",
       "      <td>2</td>\n",
       "    </tr>\n",
       "    <tr>\n",
       "      <th>2</th>\n",
       "      <td>Denmark</td>\n",
       "      <td>3</td>\n",
       "    </tr>\n",
       "    <tr>\n",
       "      <th>3</th>\n",
       "      <td>Norway</td>\n",
       "      <td>4</td>\n",
       "    </tr>\n",
       "    <tr>\n",
       "      <th>4</th>\n",
       "      <td>Canada</td>\n",
       "      <td>5</td>\n",
       "    </tr>\n",
       "    <tr>\n",
       "      <th>5</th>\n",
       "      <td>Finland</td>\n",
       "      <td>6</td>\n",
       "    </tr>\n",
       "    <tr>\n",
       "      <th>6</th>\n",
       "      <td>Netherlands</td>\n",
       "      <td>7</td>\n",
       "    </tr>\n",
       "    <tr>\n",
       "      <th>7</th>\n",
       "      <td>Sweden</td>\n",
       "      <td>8</td>\n",
       "    </tr>\n",
       "    <tr>\n",
       "      <th>8</th>\n",
       "      <td>New Zealand</td>\n",
       "      <td>9</td>\n",
       "    </tr>\n",
       "    <tr>\n",
       "      <th>9</th>\n",
       "      <td>Australia</td>\n",
       "      <td>10</td>\n",
       "    </tr>\n",
       "  </tbody>\n",
       "</table>\n",
       "</div>"
      ],
      "text/plain": [
       "       Country  Happiness_Rank\n",
       "0  Switzerland               1\n",
       "1      Iceland               2\n",
       "2      Denmark               3\n",
       "3       Norway               4\n",
       "4       Canada               5\n",
       "5      Finland               6\n",
       "6  Netherlands               7\n",
       "7       Sweden               8\n",
       "8  New Zealand               9\n",
       "9    Australia              10"
      ]
     },
     "execution_count": 36,
     "metadata": {},
     "output_type": "execute_result"
    }
   ],
   "source": [
    "df[['Country','Happiness_Rank']].head(10)\n"
   ]
  },
  {
   "cell_type": "markdown",
   "id": "eac142b7",
   "metadata": {},
   "source": [
    "The whole investigation summarize the above data on happiness rank for the different counrties depending on the different aspects."
   ]
  },
  {
   "cell_type": "code",
   "execution_count": null,
   "id": "b70767ec",
   "metadata": {},
   "outputs": [],
   "source": []
  }
 ],
 "metadata": {
  "kernelspec": {
   "display_name": "Python 3 (ipykernel)",
   "language": "python",
   "name": "python3"
  },
  "language_info": {
   "codemirror_mode": {
    "name": "ipython",
    "version": 3
   },
   "file_extension": ".py",
   "mimetype": "text/x-python",
   "name": "python",
   "nbconvert_exporter": "python",
   "pygments_lexer": "ipython3",
   "version": "3.10.9"
  }
 },
 "nbformat": 4,
 "nbformat_minor": 5
}
