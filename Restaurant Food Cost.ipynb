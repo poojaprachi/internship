{
 "cells": [
  {
   "cell_type": "markdown",
   "id": "8632239e",
   "metadata": {},
   "source": [
    "# Restaurant Food Cost\n",
    "\n",
    "#### Project Description\n",
    "\n",
    "Who doesn’t love food? All of us must have craving for at least a few favourite food items, we may also have a few places where we like to get them, a restaurant which serves our favourite food the way we want it to be. But there is one factor that will make us reconsider having our favourite food from our favourite restaurant, the cost. Here in this hackathon, you will be predicting the cost of the food served by the restaurants across different cities in India. You will use your Data Science skills to investigate the factors that really affect the cost, and who knows maybe you will even gain some very interesting insights that might help you choose what to eat and from where.\n",
    "\n",
    "You are provided with following 2 files:\n",
    "1. train.csv : Use this dataset to train the model. This file contains all the details related to restaurant food cost as well as the target variable “cost”. You have to train your model using this file.\n",
    "2. test.csv : Use the trained model to predict the cost of a two person meal.\n",
    "\n",
    "#### Dataset Attributes\n",
    "* TITLE: The feature of the restaurant which can help identify what and for whom it is suitable for.\n",
    "* RESTAURANT_ID: A unique ID for each restaurant.\n",
    "* CUISINES: The variety of cuisines that the restaurant offers.\n",
    "* TIME: The open hours of the restaurant.\n",
    "* CITY: The city in which the restaurant is located.\n",
    "* LOCALITY: The locality of the restaurant.\n",
    "* RATING: The average rating of the restaurant by customers.\n",
    "* VOTES: The overall votes received by the restaurant.\n",
    "* COST: The average cost of a two-person meal.\n",
    "\n",
    "#### Dataset Link-\n",
    "•\thttps://github.com/FlipRoboTechnologies/ML-Datasets/tree/main/Restaurant%20Food%20Cost\n",
    "\n",
    "•\thttps://github.com/FlipRoboTechnologies/ML-Datasets/blob/main/Restaurant%20Food%20Cost/Data_Test.xlsx\n",
    "•\thttps://github.com/FlipRoboTechnologies/ML-Datasets/blob/main/Restaurant%20Food%20Cost/Data_Train.xlsx\n"
   ]
  },
  {
   "cell_type": "code",
   "execution_count": 2,
   "id": "8462e2f0",
   "metadata": {},
   "outputs": [],
   "source": [
    "import pandas as pd\n",
    "from sklearn.model_selection import train_test_split\n",
    "from sklearn.preprocessing import LabelEncoder, OneHotEncoder\n",
    "from sklearn.ensemble import RandomForestRegressor\n",
    "from sklearn.metrics import mean_squared_error\n",
    "from sklearn.compose import ColumnTransformer\n",
    "from sklearn.pipeline import Pipeline\n",
    "from sklearn.impute import SimpleImputer"
   ]
  },
  {
   "cell_type": "code",
   "execution_count": 4,
   "id": "6ecda540",
   "metadata": {},
   "outputs": [],
   "source": [
    "train_data = pd.read_excel(\"https://github.com/FlipRoboTechnologies/ML-Datasets/raw/main/Restaurant%20Food%20Cost/Data_Train.xlsx\")\n",
    "test_data = pd.read_excel(\"https://github.com/FlipRoboTechnologies/ML-Datasets/raw/main/Restaurant%20Food%20Cost/Data_Test.xlsx\")"
   ]
  },
  {
   "cell_type": "code",
   "execution_count": 15,
   "id": "56366546",
   "metadata": {},
   "outputs": [],
   "source": [
    "# Combine train and test data for preprocessing\n",
    "combined_data = pd.concat([train_data, test_data], ignore_index=True)"
   ]
  },
  {
   "cell_type": "code",
   "execution_count": 16,
   "id": "35b8b028",
   "metadata": {},
   "outputs": [],
   "source": [
    "# Drop unnecessary columns\n",
    "combined_data.drop(['RESTAURANT_ID', 'TIME'], axis=1, inplace=True)"
   ]
  },
  {
   "cell_type": "code",
   "execution_count": 17,
   "id": "066025a0",
   "metadata": {},
   "outputs": [],
   "source": [
    "# Handle missing values\n",
    "combined_data['RATING'].fillna('NEW', inplace=True)\n",
    "combined_data['VOTES'].fillna('0 votes', inplace=True)"
   ]
  },
  {
   "cell_type": "code",
   "execution_count": 18,
   "id": "8af05ca7",
   "metadata": {},
   "outputs": [],
   "source": [
    "# Ensure 'VOTES' column is of string type\n",
    "combined_data['VOTES'] = combined_data['VOTES'].astype(str)"
   ]
  },
  {
   "cell_type": "code",
   "execution_count": 19,
   "id": "a0476007",
   "metadata": {},
   "outputs": [],
   "source": [
    "# Extract numerical value from 'VOTES' column\n",
    "combined_data['VOTES'] = combined_data['VOTES'].str.extract('(\\d+)')"
   ]
  },
  {
   "cell_type": "code",
   "execution_count": 20,
   "id": "c97921d5",
   "metadata": {},
   "outputs": [],
   "source": [
    "# Convert 'VOTES' to float, handle errors with coerce\n",
    "combined_data['VOTES'] = pd.to_numeric(combined_data['VOTES'], errors='coerce')"
   ]
  },
  {
   "cell_type": "code",
   "execution_count": 22,
   "id": "e365e0d3",
   "metadata": {},
   "outputs": [],
   "source": [
    "# Encode categorical variables\n",
    "encoder = LabelEncoder()\n",
    "combined_data['TITLE'] = encoder.fit_transform(combined_data['TITLE'])\n",
    "combined_data['CUISINES'] = encoder.fit_transform(combined_data['CUISINES'])\n",
    "combined_data['CITY'] = encoder.fit_transform(combined_data['CITY'])\n",
    "combined_data['LOCALITY'] = encoder.fit_transform(combined_data['LOCALITY'])"
   ]
  },
  {
   "cell_type": "code",
   "execution_count": null,
   "id": "eb3081f8",
   "metadata": {},
   "outputs": [],
   "source": [
    "combined_data['RATING'] = combined_data['RATING'].apply(lambda x: float(x.split('/')[0]) if '/' in x else float(x))"
   ]
  },
  {
   "cell_type": "code",
   "execution_count": 24,
   "id": "af369edb",
   "metadata": {},
   "outputs": [],
   "source": [
    "# Split the data back into train and test sets\n",
    "train_processed = combined_data[:train_data.shape[0]]\n",
    "test_processed = combined_data[train_data.shape[0]:]\n",
    "\n",
    "# Split features and target variable\n",
    "X = train_processed.drop('COST', axis=1)\n",
    "y = train_processed['COST']\n",
    "\n",
    "# Split data into training and validation sets\n",
    "X_train, X_val, y_train, y_val = train_test_split(X, y, test_size=0.2, random_state=42)"
   ]
  },
  {
   "cell_type": "code",
   "execution_count": null,
   "id": "fd34bbb8",
   "metadata": {},
   "outputs": [],
   "source": [
    "# Define preprocessing for numerical and categorical features\n",
    "numerical_features = X.select_dtypes(include=['int64', 'float64']).columns\n",
    "numerical_transformer = SimpleImputer(strategy='mean')\n",
    "\n",
    "categorical_features = X.select_dtypes(include=['object']).columns\n",
    "categorical_transformer = Pipeline(steps=[\n",
    "    ('imputer', SimpleImputer(strategy='most_frequent')),\n",
    "    ('onehot', OneHotEncoder(handle_unknown='ignore'))\n",
    "])"
   ]
  },
  {
   "cell_type": "code",
   "execution_count": null,
   "id": "c2f8c8ed",
   "metadata": {},
   "outputs": [],
   "source": [
    "# Combine preprocessing steps\n",
    "preprocessor = ColumnTransformer(\n",
    "    transformers=[\n",
    "        ('num', numerical_transformer, numerical_features),\n",
    "        ('cat', categorical_transformer, categorical_features)\n",
    "    ])\n",
    "\n",
    "# Define the model\n",
    "model = RandomForestRegressor(n_estimators=100, random_state=42)"
   ]
  },
  {
   "cell_type": "code",
   "execution_count": null,
   "id": "3a2c1b80",
   "metadata": {},
   "outputs": [],
   "source": [
    "# Create and fit the pipeline\n",
    "pipeline = Pipeline(steps=[('preprocessor', preprocessor),\n",
    "                           ('model', model)])\n",
    "\n",
    "pipeline.fit(X_train, y_train)\n",
    "\n",
    "# Predict on validation set\n",
    "val_predictions = pipeline.predict(X_val)\n",
    "\n",
    "# Evaluate the model\n",
    "val_mse = mean_squared_error(y_val, val_predictions)\n",
    "val_rmse = val_mse ** 0.5\n",
    "print(f'Validation RMSE: {val_rmse}')\n",
    "\n",
    "# Make predictions on the test data\n",
    "test_predictions = pipeline.predict(test_processed)\n",
    "\n",
    "# Output predictions to a file\n",
    "output = pd.DataFrame({'COST': test_predictions})\n",
    "output.to_excel('predicted_costs.xlsx', index=False)\n"
   ]
  },
  {
   "cell_type": "code",
   "execution_count": null,
   "id": "5475d4f0",
   "metadata": {},
   "outputs": [],
   "source": []
  }
 ],
 "metadata": {
  "kernelspec": {
   "display_name": "Python 3 (ipykernel)",
   "language": "python",
   "name": "python3"
  },
  "language_info": {
   "codemirror_mode": {
    "name": "ipython",
    "version": 3
   },
   "file_extension": ".py",
   "mimetype": "text/x-python",
   "name": "python",
   "nbconvert_exporter": "python",
   "pygments_lexer": "ipython3",
   "version": "3.10.9"
  }
 },
 "nbformat": 4,
 "nbformat_minor": 5
}
